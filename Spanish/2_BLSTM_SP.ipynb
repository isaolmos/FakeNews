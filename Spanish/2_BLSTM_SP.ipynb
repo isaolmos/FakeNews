{
  "nbformat": 4,
  "nbformat_minor": 0,
  "metadata": {
    "accelerator": "GPU",
    "colab": {
      "name": "2_BLSTM_SP.ipynb",
      "provenance": [],
      "collapsed_sections": [],
      "machine_shape": "hm"
    },
    "kernelspec": {
      "display_name": "Python 3",
      "name": "python3"
    },
    "language_info": {
      "name": "python"
    }
  },
  "cells": [
    {
      "cell_type": "markdown",
      "metadata": {
        "id": "Hsg3AJM5755b"
      },
      "source": [
        "# KERAS + WORD EMBEDDINGS ~ SPANISH"
      ]
    },
    {
      "cell_type": "markdown",
      "source": [
        "**1. IMPORT LIBRARIES**"
      ],
      "metadata": {
        "id": "GWHj3-OWV1aB"
      }
    },
    {
      "cell_type": "code",
      "metadata": {
        "id": "93pbFgzf6PO4"
      },
      "source": [
        "%matplotlib inline\n",
        "import numpy as np\n",
        "import pandas as pd\n",
        "from nltk import word_tokenize\n",
        "from sklearn import preprocessing"
      ],
      "execution_count": null,
      "outputs": []
    },
    {
      "cell_type": "markdown",
      "source": [
        "**2. LOAD DATASET**"
      ],
      "metadata": {
        "id": "_QEjm7TDV_I1"
      }
    },
    {
      "cell_type": "code",
      "metadata": {
        "colab": {
          "base_uri": "https://localhost:8080/"
        },
        "id": "QzF_WZad6rTs",
        "outputId": "9f7300e9-4a77-45a0-a999-c9bbf182055e"
      },
      "source": [
        "from google.colab import drive\n",
        "drive.mount('/content/drive')"
      ],
      "execution_count": null,
      "outputs": [
        {
          "output_type": "stream",
          "name": "stdout",
          "text": [
            "Mounted at /content/drive\n"
          ]
        }
      ]
    },
    {
      "cell_type": "code",
      "metadata": {
        "id": "bB1mmnGMIG9k"
      },
      "source": [
        "data=pd.read_csv('/content/drive/MyDrive/thesiss/Spanish_merged_dataa.csv')"
      ],
      "execution_count": null,
      "outputs": []
    },
    {
      "cell_type": "code",
      "source": [
        "data"
      ],
      "metadata": {
        "colab": {
          "base_uri": "https://localhost:8080/",
          "height": 572
        },
        "id": "KceUwWECT_-z",
        "outputId": "b8f4cc1f-2615-4b12-81fb-1e50f8b0ad7e"
      },
      "execution_count": null,
      "outputs": [
        {
          "output_type": "execute_result",
          "data": {
            "text/html": [
              "\n",
              "  <div id=\"df-e4f5dab1-a234-46c8-bb97-0355b3ed3f30\">\n",
              "    <div class=\"colab-df-container\">\n",
              "      <div>\n",
              "<style scoped>\n",
              "    .dataframe tbody tr th:only-of-type {\n",
              "        vertical-align: middle;\n",
              "    }\n",
              "\n",
              "    .dataframe tbody tr th {\n",
              "        vertical-align: top;\n",
              "    }\n",
              "\n",
              "    .dataframe thead th {\n",
              "        text-align: right;\n",
              "    }\n",
              "</style>\n",
              "<table border=\"1\" class=\"dataframe\">\n",
              "  <thead>\n",
              "    <tr style=\"text-align: right;\">\n",
              "      <th></th>\n",
              "      <th>Unnamed: 0</th>\n",
              "      <th>Category</th>\n",
              "      <th>Text</th>\n",
              "      <th>clean_with_stopwords</th>\n",
              "      <th>final_clean</th>\n",
              "    </tr>\n",
              "  </thead>\n",
              "  <tbody>\n",
              "    <tr>\n",
              "      <th>0</th>\n",
              "      <td>0</td>\n",
              "      <td>1</td>\n",
              "      <td>RAE INCLUIRÁ LA PALABRA \"LADY\" EN EL DICCIONAR...</td>\n",
              "      <td>rae incluir el palabra lady en el diccionario ...</td>\n",
              "      <td>rae incluir palabra lady diccionario idioma es...</td>\n",
              "    </tr>\n",
              "    <tr>\n",
              "      <th>1</th>\n",
              "      <td>1</td>\n",
              "      <td>1</td>\n",
              "      <td>La palabra \"haiga\", aceptada por la RAE La Rea...</td>\n",
              "      <td>el palabra haigar aceptado por el rae el real ...</td>\n",
              "      <td>palabra haigar aceptado rae real academia leng...</td>\n",
              "    </tr>\n",
              "    <tr>\n",
              "      <th>2</th>\n",
              "      <td>2</td>\n",
              "      <td>1</td>\n",
              "      <td>YORDI ROSADO ESCRIBIRÁ Y DISEÑARÁ LOS NUEVOS L...</td>\n",
              "      <td>yordi rosado escribir y diseñar el nuevo libro...</td>\n",
              "      <td>yordi rosado escribir diseñar nuevo libro text...</td>\n",
              "    </tr>\n",
              "    <tr>\n",
              "      <th>3</th>\n",
              "      <td>3</td>\n",
              "      <td>0</td>\n",
              "      <td>UNAM capacitará a maestros para aprobar prueba...</td>\n",
              "      <td>unam capacitar a maestro para aprobar prueba p...</td>\n",
              "      <td>unam capacitar maestro aprobar prueba pis maxi...</td>\n",
              "    </tr>\n",
              "    <tr>\n",
              "      <th>4</th>\n",
              "      <td>4</td>\n",
              "      <td>1</td>\n",
              "      <td>Alerta: pretenden aprobar libros escolares con...</td>\n",
              "      <td>alerta pretender aprobar libro escolar con con...</td>\n",
              "      <td>alerta pretender aprobar libro escolar conteni...</td>\n",
              "    </tr>\n",
              "    <tr>\n",
              "      <th>...</th>\n",
              "      <td>...</td>\n",
              "      <td>...</td>\n",
              "      <td>...</td>\n",
              "      <td>...</td>\n",
              "      <td>...</td>\n",
              "    </tr>\n",
              "    <tr>\n",
              "      <th>2966</th>\n",
              "      <td>1995</td>\n",
              "      <td>0</td>\n",
              "      <td>El Consejo de Gobierno ha dado su visto bueno...</td>\n",
              "      <td>el consejo de gobierno haber dar su visto buen...</td>\n",
              "      <td>consejo gobierno haber dar visto bueno convoca...</td>\n",
              "    </tr>\n",
              "    <tr>\n",
              "      <th>2967</th>\n",
              "      <td>1996</td>\n",
              "      <td>0</td>\n",
              "      <td>Investigadores valencianos han desarrollado u...</td>\n",
              "      <td>investigador valenciano haber desarrollar uno ...</td>\n",
              "      <td>investigador valenciano haber desarrollar inno...</td>\n",
              "    </tr>\n",
              "    <tr>\n",
              "      <th>2968</th>\n",
              "      <td>1997</td>\n",
              "      <td>0</td>\n",
              "      <td>Los arrestados actuaban en coches y en establ...</td>\n",
              "      <td>el arrestado actuar en coche y en establecimie...</td>\n",
              "      <td>arrestado actuar coche establecimiento policia...</td>\n",
              "    </tr>\n",
              "    <tr>\n",
              "      <th>2969</th>\n",
              "      <td>1998</td>\n",
              "      <td>0</td>\n",
              "      <td>El Rey ha encargado este miércoles a Pedro Sá...</td>\n",
              "      <td>el rey haber encargar este miercoles a pedro s...</td>\n",
              "      <td>rey haber encargar miercoles pedro sanchez pre...</td>\n",
              "    </tr>\n",
              "    <tr>\n",
              "      <th>2970</th>\n",
              "      <td>1999</td>\n",
              "      <td>0</td>\n",
              "      <td>Las pruebas realizadas en el Centro Nacional ...</td>\n",
              "      <td>el prueba realizado en el centro nacional de m...</td>\n",
              "      <td>prueba realizado centro nacional microbiologia...</td>\n",
              "    </tr>\n",
              "  </tbody>\n",
              "</table>\n",
              "<p>2971 rows × 5 columns</p>\n",
              "</div>\n",
              "      <button class=\"colab-df-convert\" onclick=\"convertToInteractive('df-e4f5dab1-a234-46c8-bb97-0355b3ed3f30')\"\n",
              "              title=\"Convert this dataframe to an interactive table.\"\n",
              "              style=\"display:none;\">\n",
              "        \n",
              "  <svg xmlns=\"http://www.w3.org/2000/svg\" height=\"24px\"viewBox=\"0 0 24 24\"\n",
              "       width=\"24px\">\n",
              "    <path d=\"M0 0h24v24H0V0z\" fill=\"none\"/>\n",
              "    <path d=\"M18.56 5.44l.94 2.06.94-2.06 2.06-.94-2.06-.94-.94-2.06-.94 2.06-2.06.94zm-11 1L8.5 8.5l.94-2.06 2.06-.94-2.06-.94L8.5 2.5l-.94 2.06-2.06.94zm10 10l.94 2.06.94-2.06 2.06-.94-2.06-.94-.94-2.06-.94 2.06-2.06.94z\"/><path d=\"M17.41 7.96l-1.37-1.37c-.4-.4-.92-.59-1.43-.59-.52 0-1.04.2-1.43.59L10.3 9.45l-7.72 7.72c-.78.78-.78 2.05 0 2.83L4 21.41c.39.39.9.59 1.41.59.51 0 1.02-.2 1.41-.59l7.78-7.78 2.81-2.81c.8-.78.8-2.07 0-2.86zM5.41 20L4 18.59l7.72-7.72 1.47 1.35L5.41 20z\"/>\n",
              "  </svg>\n",
              "      </button>\n",
              "      \n",
              "  <style>\n",
              "    .colab-df-container {\n",
              "      display:flex;\n",
              "      flex-wrap:wrap;\n",
              "      gap: 12px;\n",
              "    }\n",
              "\n",
              "    .colab-df-convert {\n",
              "      background-color: #E8F0FE;\n",
              "      border: none;\n",
              "      border-radius: 50%;\n",
              "      cursor: pointer;\n",
              "      display: none;\n",
              "      fill: #1967D2;\n",
              "      height: 32px;\n",
              "      padding: 0 0 0 0;\n",
              "      width: 32px;\n",
              "    }\n",
              "\n",
              "    .colab-df-convert:hover {\n",
              "      background-color: #E2EBFA;\n",
              "      box-shadow: 0px 1px 2px rgba(60, 64, 67, 0.3), 0px 1px 3px 1px rgba(60, 64, 67, 0.15);\n",
              "      fill: #174EA6;\n",
              "    }\n",
              "\n",
              "    [theme=dark] .colab-df-convert {\n",
              "      background-color: #3B4455;\n",
              "      fill: #D2E3FC;\n",
              "    }\n",
              "\n",
              "    [theme=dark] .colab-df-convert:hover {\n",
              "      background-color: #434B5C;\n",
              "      box-shadow: 0px 1px 3px 1px rgba(0, 0, 0, 0.15);\n",
              "      filter: drop-shadow(0px 1px 2px rgba(0, 0, 0, 0.3));\n",
              "      fill: #FFFFFF;\n",
              "    }\n",
              "  </style>\n",
              "\n",
              "      <script>\n",
              "        const buttonEl =\n",
              "          document.querySelector('#df-e4f5dab1-a234-46c8-bb97-0355b3ed3f30 button.colab-df-convert');\n",
              "        buttonEl.style.display =\n",
              "          google.colab.kernel.accessAllowed ? 'block' : 'none';\n",
              "\n",
              "        async function convertToInteractive(key) {\n",
              "          const element = document.querySelector('#df-e4f5dab1-a234-46c8-bb97-0355b3ed3f30');\n",
              "          const dataTable =\n",
              "            await google.colab.kernel.invokeFunction('convertToInteractive',\n",
              "                                                     [key], {});\n",
              "          if (!dataTable) return;\n",
              "\n",
              "          const docLinkHtml = 'Like what you see? Visit the ' +\n",
              "            '<a target=\"_blank\" href=https://colab.research.google.com/notebooks/data_table.ipynb>data table notebook</a>'\n",
              "            + ' to learn more about interactive tables.';\n",
              "          element.innerHTML = '';\n",
              "          dataTable['output_type'] = 'display_data';\n",
              "          await google.colab.output.renderOutput(dataTable, element);\n",
              "          const docLink = document.createElement('div');\n",
              "          docLink.innerHTML = docLinkHtml;\n",
              "          element.appendChild(docLink);\n",
              "        }\n",
              "      </script>\n",
              "    </div>\n",
              "  </div>\n",
              "  "
            ],
            "text/plain": [
              "      Unnamed: 0  ...                                        final_clean\n",
              "0              0  ...  rae incluir palabra lady diccionario idioma es...\n",
              "1              1  ...  palabra haigar aceptado rae real academia leng...\n",
              "2              2  ...  yordi rosado escribir diseñar nuevo libro text...\n",
              "3              3  ...  unam capacitar maestro aprobar prueba pis maxi...\n",
              "4              4  ...  alerta pretender aprobar libro escolar conteni...\n",
              "...          ...  ...                                                ...\n",
              "2966        1995  ...  consejo gobierno haber dar visto bueno convoca...\n",
              "2967        1996  ...  investigador valenciano haber desarrollar inno...\n",
              "2968        1997  ...  arrestado actuar coche establecimiento policia...\n",
              "2969        1998  ...  rey haber encargar miercoles pedro sanchez pre...\n",
              "2970        1999  ...  prueba realizado centro nacional microbiologia...\n",
              "\n",
              "[2971 rows x 5 columns]"
            ]
          },
          "metadata": {},
          "execution_count": 4
        }
      ]
    },
    {
      "cell_type": "code",
      "metadata": {
        "id": "IzpwjWTGILww"
      },
      "source": [
        "data.drop(['Unnamed: 0'], axis=1, inplace=True)"
      ],
      "execution_count": null,
      "outputs": []
    },
    {
      "cell_type": "code",
      "metadata": {
        "colab": {
          "base_uri": "https://localhost:8080/"
        },
        "id": "K7QvI00skaZd",
        "outputId": "c7d4002b-6b52-42b6-935f-1d0b5eac1e85"
      },
      "source": [
        "data['final_clean'].isnull().sum()"
      ],
      "execution_count": null,
      "outputs": [
        {
          "output_type": "execute_result",
          "data": {
            "text/plain": [
              "0"
            ]
          },
          "metadata": {},
          "execution_count": 6
        }
      ]
    },
    {
      "cell_type": "code",
      "source": [
        "data['Category'].value_counts()"
      ],
      "metadata": {
        "colab": {
          "base_uri": "https://localhost:8080/"
        },
        "id": "TsGeRuZZfZSh",
        "outputId": "bcb606c9-9960-42ee-bf23-2b70a5706dae"
      },
      "execution_count": null,
      "outputs": [
        {
          "output_type": "execute_result",
          "data": {
            "text/plain": [
              "0    1491\n",
              "1    1480\n",
              "Name: Category, dtype: int64"
            ]
          },
          "metadata": {},
          "execution_count": 7
        }
      ]
    },
    {
      "cell_type": "markdown",
      "source": [
        "**3.TOKENIZATION**"
      ],
      "metadata": {
        "id": "6wVOmEPhfdwO"
      }
    },
    {
      "cell_type": "code",
      "metadata": {
        "colab": {
          "base_uri": "https://localhost:8080/"
        },
        "id": "TdGmaoceP7rE",
        "outputId": "06dbabc7-3b8b-49c9-efba-5c8b169fb92d"
      },
      "source": [
        "import nltk  # don't forget to do this step everytime in colab\n",
        "nltk.download('punkt')"
      ],
      "execution_count": null,
      "outputs": [
        {
          "output_type": "stream",
          "name": "stdout",
          "text": [
            "[nltk_data] Downloading package punkt to /root/nltk_data...\n",
            "[nltk_data]   Unzipping tokenizers/punkt.zip.\n"
          ]
        },
        {
          "output_type": "execute_result",
          "data": {
            "text/plain": [
              "True"
            ]
          },
          "metadata": {},
          "execution_count": 8
        }
      ]
    },
    {
      "cell_type": "code",
      "metadata": {
        "id": "cnHDKKi0P7t-"
      },
      "source": [
        "data['Text_tokenised'] = data['final_clean'].apply(word_tokenize)"
      ],
      "execution_count": null,
      "outputs": []
    },
    {
      "cell_type": "code",
      "metadata": {
        "id": "mu6MfP9qQTfc"
      },
      "source": [
        "data['length'] = data['Text_tokenised'].str.len()"
      ],
      "execution_count": null,
      "outputs": []
    },
    {
      "cell_type": "code",
      "metadata": {
        "id": "y76T6owJQTmd"
      },
      "source": [
        "maxlen = data['length'].max()"
      ],
      "execution_count": null,
      "outputs": []
    },
    {
      "cell_type": "code",
      "source": [
        "maxlen"
      ],
      "metadata": {
        "colab": {
          "base_uri": "https://localhost:8080/"
        },
        "id": "P57tEX3whGy9",
        "outputId": "64d8ac18-0643-4e13-e6eb-7de2ce3ad268"
      },
      "execution_count": null,
      "outputs": [
        {
          "output_type": "execute_result",
          "data": {
            "text/plain": [
              "1391"
            ]
          },
          "metadata": {},
          "execution_count": 12
        }
      ]
    },
    {
      "cell_type": "markdown",
      "metadata": {
        "id": "t0wTWkuFBO9P"
      },
      "source": [
        "***4. CREATE OWN WORD EMBEDDINGS***"
      ]
    },
    {
      "cell_type": "code",
      "metadata": {
        "id": "ubE2j0Ei9VtZ"
      },
      "source": [
        "from gensim.models import Word2Vec"
      ],
      "execution_count": null,
      "outputs": []
    },
    {
      "cell_type": "code",
      "metadata": {
        "id": "yJIOCohr9Ynq"
      },
      "source": [
        "# gensim needs a list of lists\n",
        "\n",
        "source_list= []\n",
        "for row in data['Text_tokenised']:\n",
        "    source_list.append(row)"
      ],
      "execution_count": null,
      "outputs": []
    },
    {
      "cell_type": "markdown",
      "metadata": {
        "id": "yqybZ2MhCDTN"
      },
      "source": [
        "**Set parameters**"
      ]
    },
    {
      "cell_type": "code",
      "metadata": {
        "colab": {
          "base_uri": "https://localhost:8080/"
        },
        "id": "EV6h3SU49cG1",
        "outputId": "39a531e8-c004-422a-b729-90c8836716f0"
      },
      "source": [
        "# check parameters here :https://radimrehurek.com/gensim/models/word2vec.html\n",
        "\n",
        "\n",
        "model = Word2Vec(source_list, size=300, window=2, sg=0, hs =1, sorted_vocab= 1)\n",
        "# summarize the loaded model\n",
        "print(model)"
      ],
      "execution_count": null,
      "outputs": [
        {
          "output_type": "stream",
          "name": "stdout",
          "text": [
            "Word2Vec(vocab=6245, size=300, alpha=0.025)\n"
          ]
        }
      ]
    },
    {
      "cell_type": "markdown",
      "metadata": {
        "id": "oshne6viCXAu"
      },
      "source": [
        "**Save model to .txt format**"
      ]
    },
    {
      "cell_type": "code",
      "metadata": {
        "id": "pvYfjUgJ9cJN"
      },
      "source": [
        "# it is saved now in txt format, binary=False turns it to a .bin\n",
        "\n",
        "model.wv.save_word2vec_format('spanish_wv.txt', binary=False)  "
      ],
      "execution_count": null,
      "outputs": []
    },
    {
      "cell_type": "code",
      "metadata": {
        "colab": {
          "base_uri": "https://localhost:8080/"
        },
        "id": "vCv2-nVf9cMx",
        "outputId": "b69e1b32-c97f-47c1-f3f7-b61f4e278bcf"
      },
      "source": [
        "# print the first few lines to check it out\n",
        "\n",
        "a_file = open(\"spanish_wv.txt\")\n",
        "number_of_lines = 4\n",
        "\n",
        "for i in range(number_of_lines):\n",
        "    line = a_file.readline()\n",
        "    print(line)"
      ],
      "execution_count": null,
      "outputs": [
        {
          "output_type": "stream",
          "name": "stdout",
          "text": [
            "6245 300\n",
            "\n",
            "ser 0.10153818 0.12661605 0.16080937 0.0009844686 0.21450384 0.04856365 -0.021166353 0.26905397 0.06658963 -0.16318412 -0.1625179 -0.027657846 0.14849472 0.11668578 -0.032390047 -0.09755139 0.12787439 0.0836408 -0.14761737 -0.119981185 -0.046740204 0.022147479 0.25771952 -0.38185284 0.06577132 -0.035139345 0.1649156 0.043565556 -0.08606051 0.0069543445 -0.031325873 -0.10707465 0.14548428 0.17075473 -0.11967901 -0.055153962 -0.084195636 -0.046661157 -0.002703477 0.12115153 0.2090461 0.35135922 -0.104126364 -0.02190879 -0.08783351 -0.22927238 0.11817537 -0.29852214 0.10319664 -0.06872168 0.08969848 -0.13781159 -0.17380236 0.26771414 -0.03901869 0.12763445 -0.072693415 0.26119867 0.08595239 0.045541428 0.1196441 0.20849925 -0.2577163 -0.1404626 -0.14976512 0.14875692 0.06234148 -0.18034248 0.27387536 -0.02973626 -0.23638207 -0.111907445 -0.14831416 -0.014239875 -0.18613344 -0.058386073 -0.15799987 0.18351741 0.35619786 -0.002015981 0.09150948 -0.06900603 0.0059258137 -0.04211401 -0.33756146 -0.24248107 0.15290858 0.08550335 0.05798392 0.087493494 0.18443947 0.07935724 -0.029510526 0.07279514 -0.18824051 -0.09738511 0.0034145338 0.17214774 -0.18100955 0.28047007 0.11874761 0.0035341762 -0.18737271 0.03984154 -0.049677413 -0.0017894112 -0.04239276 0.102446936 -0.03731339 -0.0733487 0.009745383 -0.25726315 -0.08470626 -0.29871035 -0.12142025 -0.18166925 0.09991303 0.103957035 0.07103615 -0.08739311 -0.15252675 -0.1610228 0.24597202 0.018326832 -0.022524852 0.12633938 0.043292135 -0.022027647 -0.03396508 0.09869876 -0.24598311 0.056395944 0.2804777 0.028845182 -0.14838655 -0.04301656 0.17784072 -0.18305695 -0.14357172 0.15690659 0.07167991 -0.17979483 -0.012584437 0.3488075 -0.095354944 0.16937317 -0.15944041 0.07870914 -0.18916467 -0.13880678 -0.015599602 -0.2502534 -0.07291044 0.28531262 0.03199107 -0.024784217 0.33147871 0.23216113 -0.044146724 -0.041022368 -0.01178377 0.09686392 0.29660234 -0.031272206 -0.23446718 0.08535777 0.07508766 -0.08119564 0.028644731 0.151135 0.15475821 -0.09079987 0.0011192437 0.13517936 -0.04486731 -0.109242104 -0.0492914 0.061503336 0.014464057 -0.09495419 0.13802321 0.18330209 -0.057729382 0.052657485 0.0853309 -0.15224819 -0.14542022 0.014393053 -0.064821966 -0.1290444 -0.1297941 0.06621691 0.08751027 -0.105149314 0.12687027 -0.22957781 -0.0549127 -0.038330607 -0.07866355 -0.103746325 0.05732708 0.32728347 -0.12753528 -0.124507695 0.15485263 0.037600968 0.24278043 0.13973564 0.24224162 -0.055738445 0.14731349 -0.14985918 -0.11557585 -0.15167567 -0.13199015 0.033642206 0.10392927 0.12846446 -0.099195726 -0.14067793 0.011419428 -0.040396307 0.06388367 0.10150822 -0.19480234 0.15249583 -0.13222079 0.22358929 -0.054185472 -0.1497746 0.23149335 0.008310579 -0.27314866 0.22393915 -0.033144187 0.077930525 -0.07182962 -0.3674849 0.06295006 0.027393304 -0.11653236 0.12325792 0.12645929 0.17595227 -0.21937327 0.11519464 0.07801791 -0.34667498 0.2566578 -0.20186394 0.074837126 -0.1568584 0.06901784 0.017761052 0.0765697 -0.031044831 0.36307257 0.13933656 -0.07603849 0.03774665 -0.103646934 0.09021099 0.088317536 0.0047708843 0.11711632 -0.08796897 0.1560554 0.11639383 -0.018893946 -0.03950839 -0.06255111 0.043328423 -0.24588671 0.2847917 0.34277016 0.024154063 -0.0079541365 0.12281383 -0.2087116 0.26203865 0.2532269 0.022576446 0.03692716 -0.027909884 0.22006023 -0.27939662 0.011080941 -0.10839051 -0.30735183 -0.59026766 -0.09236383 -0.13920182 -0.096037775 0.13074468 0.119289115 0.058319993 0.047380622 -0.21034056 -0.21442406 0.03195072\n",
            "\n",
            "haber 0.03957795 0.11065679 -0.060843583 -0.03312506 0.06929852 0.014117654 -0.15363622 0.39637965 0.14370807 -0.18069392 -0.13607629 0.039701037 0.19702911 -0.1259199 0.09796438 0.03765665 -0.03407282 0.11952065 -0.14237653 -0.14838439 -0.07969653 -0.13076517 0.061775777 -0.41024846 -0.095718235 -0.030817416 0.15545355 0.025832327 -0.07371985 -0.09725495 -0.05727758 -0.13059162 0.08215752 0.06589383 0.06000181 -0.19768925 0.023462618 0.08680349 -0.08649704 0.060331516 -0.07867602 0.27546287 -0.16673538 0.12277295 -0.06040508 -0.05328212 0.0769381 -0.21959102 0.18098573 -0.08386716 -0.08400917 -0.19576308 -0.11666737 0.15650521 -0.04828334 0.16146287 -0.19448899 0.1059865 0.1324738 -0.010155926 0.14182164 0.12701985 -0.22305919 -0.04610757 -0.21869598 0.07844836 0.10586327 -0.099720284 0.18072805 -0.0038554484 -0.101429455 -0.12914453 -0.11177422 0.036983293 -0.17484602 0.1275486 -0.112464204 0.2087349 0.20967208 0.12579344 0.059453283 -0.17380437 -0.13502277 0.011141799 -0.25763923 -0.2224916 0.36981705 0.08070145 -0.058931835 0.013045973 -0.0006812942 0.12443451 -0.14592221 -0.1477086 -0.011568878 0.042281803 -0.08172926 0.031569026 -0.19399783 0.15107845 0.11060306 -0.059638087 -0.09781679 0.077206194 -0.01519964 0.072870634 0.028315349 0.30952132 -0.08992588 0.02171121 -0.08111396 -0.2652762 -0.013619006 -0.105860315 -0.089294024 -0.09836689 -0.024672704 -0.06694169 0.029409612 -0.09066988 0.123528235 -0.029089004 0.14884466 0.027866507 0.03254802 0.1595846 0.0421121 -0.008033694 0.098972246 -0.09267597 -0.2750384 -0.10543096 0.14322379 0.14525071 -0.05339662 0.021903228 0.2240364 -0.025563018 0.0458311 0.14514147 0.2415821 -0.13223515 0.017194454 0.031527366 -0.07593103 0.08760927 -0.11641519 0.015475941 -0.16459171 -0.21791226 0.22075443 -0.13682623 -0.142687 0.1111697 -0.053029638 0.0003197034 0.06843728 0.06899962 -0.21722886 -0.10851266 -0.18070807 0.16443701 0.27813596 0.118305475 -0.3565239 0.040824406 0.19527479 0.06412811 -0.06457191 0.070203446 0.20668297 -0.12723969 -0.093142465 0.12289666 -0.022195464 -0.08320346 -0.18477835 -0.064521536 -0.09389139 -0.1023538 0.102620296 0.22225319 -0.06219132 0.12687755 0.08211663 -0.13771176 0.019038834 -0.07995191 -0.051875122 -0.19723167 -0.009938863 0.18014503 0.13445193 -0.20512448 0.08908335 -0.18744315 -0.17112671 0.095977485 -0.08480455 -0.1680548 0.048714608 0.16448514 0.09523022 0.014328076 0.060261875 -0.10012643 0.3754133 0.12791273 0.09344975 -0.082578376 0.1454403 -0.27111533 -0.0751023 -0.15587562 -0.31108424 0.050535806 -0.011925939 0.20871973 0.08551972 -0.22457738 0.046344224 0.01783227 0.038574345 0.14477667 -0.12453877 0.17053641 -0.22831671 0.09729252 0.06043228 -0.043039132 0.053778175 0.078494616 -0.22075178 -0.0065041143 0.021172429 0.08786801 -0.0011577558 -0.21289778 -0.022041598 0.011427169 0.028677538 0.14502764 -0.010279135 0.07549405 -0.10946766 0.12139759 0.118611604 -0.25869063 0.20185809 -0.15053058 -0.021153972 -0.18024415 0.027459808 0.08563627 0.12218355 -0.08814447 0.36950874 0.06958707 -0.057876006 -0.03778013 -0.025482284 0.1305198 0.22561271 -0.18925253 -0.015386321 -0.1658984 0.2058589 -0.083778076 -0.030728221 0.044922557 -0.11488317 -0.07200641 -0.23444301 0.119013034 0.32880828 0.069156304 -0.11716183 0.0062661204 -0.20220838 0.18275337 0.3799017 0.1378085 0.13652594 0.09345804 0.31575662 -0.28316078 0.032433648 0.06208139 -0.07925576 -0.39113796 0.028955095 -0.055287454 -0.13217686 0.11713227 0.058811877 0.025540084 0.028657747 -0.19036551 0.034837972 0.0169418\n",
            "\n",
            "mas 0.04963907 0.40636605 0.35169265 -0.20187724 0.09498639 -0.2589693 -0.1925207 0.3561388 0.26803797 -0.28587312 -0.43922898 0.0802855 0.14559779 -0.28985554 -0.23188855 -0.1635623 0.001465669 0.40488178 0.17522588 -0.04793462 0.19158776 -0.13560931 0.22221291 -0.44460532 -0.111209236 0.0014827442 0.2533232 0.0781521 -0.09634958 -0.34519365 0.113616124 0.0007981419 0.21605141 0.094099805 0.024002546 -0.4196928 -0.109239124 0.12918356 -0.049333684 -0.23382123 0.047674686 0.3040142 0.45104185 0.2934873 0.032072395 -0.12916699 0.106428914 -0.1148681 0.29647073 -0.32950702 0.33541918 -0.060511556 -0.16099437 0.3085545 -0.09426164 0.3746443 -0.09302967 0.19169036 0.14952402 0.09501935 0.21524996 0.12813184 -0.39069846 -0.06310242 -0.10659929 -0.080090724 0.22773501 0.14509836 0.38193417 0.17113091 -0.49509436 -0.105801076 -0.2229389 0.016877849 -0.39902368 0.15490985 -0.12252435 0.030283136 0.6745118 -0.15202983 0.053409196 -0.2569245 -0.14287367 -0.044184916 -0.19561808 -0.32651466 0.116315864 0.14307643 -0.017057808 -0.0050295754 0.0028320274 0.055230424 -0.27282214 0.07000328 -0.24393272 -0.24545948 -0.020402389 0.28099957 -0.076715514 0.22727454 0.021163583 0.097703665 -0.22216554 -0.19162448 -0.022671573 -0.28910267 -0.25373477 0.63127023 0.030071445 0.015175965 0.0006684267 -0.5306411 -0.05323318 -0.4804629 -0.046461497 -0.06350674 -0.23150961 0.16085911 0.074960954 0.07146037 0.0076270765 0.19043133 0.08661019 -0.033295743 0.21360265 0.3062962 -0.35749838 0.047945745 0.10413499 -0.2751989 -0.2020367 0.103252865 0.43363297 -0.34657022 0.2750186 0.08040637 -0.13074644 -0.15417679 0.083103165 0.38275948 0.28770968 -0.07469048 -0.03469746 0.36159316 -0.24316533 0.3874256 -0.2697643 0.06904813 -0.42842615 -0.3381549 0.4743489 0.13938475 0.030079115 0.25203842 0.18084338 -0.14300342 0.279129 0.06320137 -0.33851543 -0.55565345 -0.063971095 0.12120614 0.6768678 -0.07816423 -0.05315916 0.35354614 0.31977034 -0.08716685 0.050526 0.29798403 0.34304014 -0.3922095 -0.16080415 0.1892394 -0.2548677 -0.15090606 -0.24465188 0.069774956 0.006221159 -0.103879675 0.2342621 0.009546616 -0.061004095 0.024230182 0.006781739 -0.20366237 -0.1990397 0.014954915 0.0009482963 -0.0771475 0.25650492 -0.16043834 -0.18586667 0.052096784 0.21570916 -0.09921368 -0.16964036 -0.3120458 -0.15046763 -0.17934278 0.084433064 0.01664141 -0.22011106 -0.39805877 0.14050743 -0.06177569 0.19170144 0.05766941 0.11002583 -0.3243341 0.21441297 0.040004086 -0.24206258 -0.26347545 -0.06134123 0.044348873 0.06614738 -0.084479466 0.22952251 -0.2319659 -0.22852886 0.13906343 0.01578656 -0.2895234 0.020527327 0.21808659 -0.030159831 -0.07647029 0.04733523 0.13408798 0.47953066 0.099503115 -0.35557663 -0.029200006 -0.15576577 0.11467043 -0.29306495 -0.23830517 -0.16956654 -0.07625522 -0.3297131 0.23075886 0.062255546 0.0847995 0.05954455 0.21254838 0.25042605 -0.5269817 0.32383627 -0.14048822 -0.08275119 -0.36154917 0.28523543 0.012609227 0.26814866 -0.26384655 0.6085028 -0.0020672572 0.17009518 0.07051929 -0.0899009 0.044061005 0.24725021 -0.03295962 0.38907298 -0.29353598 0.2572748 0.034544285 0.2182792 0.14463723 -0.18598624 -0.06101436 -0.13629898 0.21864346 0.24991095 -0.007117741 0.26615164 0.11976389 -0.3296162 -0.013283539 0.22070317 -0.13108774 -0.09059061 0.31526512 -0.042997375 -0.34668338 -0.064031355 -0.36162567 -0.23254855 -0.4899504 0.02399832 -0.18232736 -0.0017139222 -0.021901317 -0.18424065 -0.015486187 0.36686167 0.0124111995 -0.45615172 -0.15938339\n",
            "\n"
          ]
        }
      ]
    },
    {
      "cell_type": "markdown",
      "metadata": {
        "id": "96av-zPbC2Qm"
      },
      "source": [
        "**Create a dictionary**"
      ]
    },
    {
      "cell_type": "code",
      "metadata": {
        "id": "HhqFX2aWlPhK"
      },
      "source": [
        "docs = data.final_clean.values\n",
        "labels = data.Category.values"
      ],
      "execution_count": null,
      "outputs": []
    },
    {
      "cell_type": "code",
      "metadata": {
        "id": "f3UbB6b3MdhN"
      },
      "source": [
        "from numpy import array\n",
        "from numpy import asarray\n",
        "from numpy import zeros\n",
        "from keras.preprocessing.text import Tokenizer\n",
        "from keras.preprocessing.sequence import pad_sequences\n",
        "from keras.models import Sequential\n",
        "from keras.layers import Dense\n",
        "from keras.layers import Flatten\n",
        "from keras.layers import Embedding\n",
        "from keras.layers import LSTM, Bidirectional\n",
        "from keras.layers import Activation\n",
        "\n",
        "# prepare tokenizer\n",
        "t = Tokenizer()\n",
        "t.fit_on_texts(docs)\n",
        "vocab_size = len(t.word_index) + 1  # I add one because it starts counting from 0"
      ],
      "execution_count": null,
      "outputs": []
    },
    {
      "cell_type": "code",
      "metadata": {
        "colab": {
          "base_uri": "https://localhost:8080/"
        },
        "id": "yDuUcfLGEZGk",
        "outputId": "9d8fd43d-2cc4-4ed1-f9cd-d8b7f15a4789"
      },
      "source": [
        "import itertools\n",
        "# see a slice of our dictionary\n",
        "dict(itertools.islice(t.word_index.items(), 10))"
      ],
      "execution_count": null,
      "outputs": [
        {
          "output_type": "execute_result",
          "data": {
            "text/plain": [
              "{'año': 7,\n",
              " 'dar': 10,\n",
              " 'decir': 8,\n",
              " 'haber': 2,\n",
              " 'hacer': 6,\n",
              " 'mas': 3,\n",
              " 'mexico': 9,\n",
              " 'poder': 5,\n",
              " 'ser': 1,\n",
              " 'tener': 4}"
            ]
          },
          "metadata": {},
          "execution_count": 20
        }
      ]
    },
    {
      "cell_type": "markdown",
      "metadata": {
        "id": "sCxVSZ4HC6h_"
      },
      "source": [
        "***5. SPLIT THE DATA***"
      ]
    },
    {
      "cell_type": "code",
      "metadata": {
        "id": "To4_1-bxMdjY"
      },
      "source": [
        "# divide the data into train/validate\n",
        "\n",
        "from sklearn.model_selection import train_test_split\n",
        "\n",
        "\n",
        "sentences_train, sentences_valid, y_train, y_valid = train_test_split(\n",
        "    docs, labels, test_size=0.20, random_state=1000)"
      ],
      "execution_count": null,
      "outputs": []
    },
    {
      "cell_type": "markdown",
      "source": [
        "***6. USE KERAS TOKENIZER TO CONVERT TRAIN AND VALID TO SEQUENCES***"
      ],
      "metadata": {
        "id": "g6pGlSyW8JTq"
      }
    },
    {
      "cell_type": "code",
      "metadata": {
        "id": "jy7ezLmdCPJB"
      },
      "source": [
        "X_train = t.texts_to_sequences(sentences_train)\n",
        "X_valid = t.texts_to_sequences(sentences_valid)"
      ],
      "execution_count": null,
      "outputs": []
    },
    {
      "cell_type": "code",
      "metadata": {
        "colab": {
          "base_uri": "https://localhost:8080/"
        },
        "id": "iL_IemuGCSwY",
        "outputId": "bf03dc0e-1900-43ef-c4e9-5ebbcc219fbc"
      },
      "source": [
        "print(sentences_train[2])\n",
        "print(X_train[2])"
      ],
      "execution_count": null,
      "outputs": [
        {
          "output_type": "stream",
          "name": "stdout",
          "text": [
            "tension espejo publico atravesar pequeño pantalla susanna griso pretender mantener debate ordenado educado mañana enero asesor equipo campaña donald trump españa roberto centeno haber poner faci\n",
            "[2501, 7201, 42, 2604, 279, 1649, 23372, 12593, 702, 178, 541, 4698, 6025, 315, 470, 1509, 79, 105, 372, 102, 76, 2136, 12408, 2, 60, 23373]\n"
          ]
        }
      ]
    },
    {
      "cell_type": "code",
      "metadata": {
        "colab": {
          "base_uri": "https://localhost:8080/"
        },
        "id": "UdX_6W9P-QzH",
        "outputId": "e65d1f84-178c-4b20-f5dd-c27699ba9303"
      },
      "source": [
        "X_train[0]  #each word is assinged an index"
      ],
      "execution_count": null,
      "outputs": [
        {
          "output_type": "execute_result",
          "data": {
            "text/plain": [
              "[349,\n",
              " 115,\n",
              " 1077,\n",
              " 123,\n",
              " 3101,\n",
              " 12388,\n",
              " 9106,\n",
              " 23316,\n",
              " 3864,\n",
              " 1974,\n",
              " 522,\n",
              " 23317,\n",
              " 5450,\n",
              " 5451,\n",
              " 6244,\n",
              " 7417,\n",
              " 23318]"
            ]
          },
          "metadata": {},
          "execution_count": 24
        }
      ]
    },
    {
      "cell_type": "markdown",
      "metadata": {
        "id": "ptZZD_qfDJg5"
      },
      "source": [
        "***7. POST-PADDING***"
      ]
    },
    {
      "cell_type": "code",
      "source": [
        "import nltk  # don't forget to do this step everytime in colab\n",
        "nltk.download('punkt')"
      ],
      "metadata": {
        "colab": {
          "base_uri": "https://localhost:8080/"
        },
        "id": "bPtf_5GJCV2g",
        "outputId": "4bcac9c2-e90a-4718-da30-13a472a98cb8"
      },
      "execution_count": null,
      "outputs": [
        {
          "output_type": "stream",
          "name": "stdout",
          "text": [
            "[nltk_data] Downloading package punkt to /root/nltk_data...\n",
            "[nltk_data]   Package punkt is already up-to-date!\n"
          ]
        },
        {
          "output_type": "execute_result",
          "data": {
            "text/plain": [
              "True"
            ]
          },
          "metadata": {},
          "execution_count": 25
        }
      ]
    },
    {
      "cell_type": "code",
      "metadata": {
        "colab": {
          "base_uri": "https://localhost:8080/"
        },
        "id": "oFB3nQDv-yiC",
        "outputId": "de2d37a7-46bb-41a3-8db1-e729da586163"
      },
      "source": [
        "# pad documents to a max length \n",
        "\n",
        "X_train = pad_sequences(X_train, padding='post', maxlen=maxlen)\n",
        "X_valid = pad_sequences(X_valid, padding='post', maxlen=maxlen)\n",
        "\n",
        "print(X_train[1, :])"
      ],
      "execution_count": null,
      "outputs": [
        {
          "output_type": "stream",
          "name": "stdout",
          "text": [
            "[  96 2236 1844 ...    0    0    0]\n"
          ]
        }
      ]
    },
    {
      "cell_type": "code",
      "metadata": {
        "colab": {
          "base_uri": "https://localhost:8080/"
        },
        "id": "Qfw5_qipHXsy",
        "outputId": "2c717e47-81d6-4142-99ef-9cbc60caed88"
      },
      "source": [
        "len(X_valid)"
      ],
      "execution_count": null,
      "outputs": [
        {
          "output_type": "execute_result",
          "data": {
            "text/plain": [
              "595"
            ]
          },
          "metadata": {},
          "execution_count": 27
        }
      ]
    },
    {
      "cell_type": "markdown",
      "metadata": {
        "id": "pGXR9eBDDPJQ"
      },
      "source": [
        "***8. LOAD THE WHOLE EMBEDDING INTO MEMORY***"
      ]
    },
    {
      "cell_type": "code",
      "metadata": {
        "colab": {
          "base_uri": "https://localhost:8080/"
        },
        "id": "Hs4m0eYp-ykb",
        "outputId": "95acface-6e47-403f-ceeb-9caa0e8bc7c4"
      },
      "source": [
        "# load the whole embedding into memory\n",
        "embeddings_index = dict()\n",
        "f = open('spanish_wv.txt')\n",
        "for line in f:\n",
        "\tvalues = line.split()\n",
        "\tword = values[0]\n",
        "\tcoefs = asarray(values[1:], dtype='float32')\n",
        "\tembeddings_index[word] = coefs\n",
        "f.close()\n",
        "print('Loaded %s word vectors.' % len(embeddings_index))\n"
      ],
      "execution_count": null,
      "outputs": [
        {
          "output_type": "stream",
          "name": "stdout",
          "text": [
            "Loaded 6246 word vectors.\n"
          ]
        }
      ]
    },
    {
      "cell_type": "markdown",
      "metadata": {
        "id": "mV0jzeKFDTgB"
      },
      "source": [
        "***9. CREATE A WEIGHT MATRIX FOR WORDS IN TRAINING ARTICLES***"
      ]
    },
    {
      "cell_type": "code",
      "metadata": {
        "id": "UWsMST_v-ymx"
      },
      "source": [
        "# create a weight matrix for words in training docs\n",
        "embedding_matrix = zeros((vocab_size, 300))  # create an empty numpy array which will be used as the embedding layer in our model with my dimensions 50 here\n",
        "for word, i in t.word_index.items():  # go through our vocab integers and words\n",
        "\tembedding_vector = embeddings_index.get(word)  # find the word in the pretrained word vectors\n",
        "\tif embedding_vector is not None:  # if it is  not empty put it in our embedding matrix\n",
        "\t\tembedding_matrix[i] = embedding_vector\n"
      ],
      "execution_count": null,
      "outputs": []
    },
    {
      "cell_type": "code",
      "metadata": {
        "colab": {
          "base_uri": "https://localhost:8080/"
        },
        "id": "bjvk7oPEAkpj",
        "outputId": "1277b463-de95-42ba-c02b-baff8da987eb"
      },
      "source": [
        "from collections import Counter\n",
        "Counter(y_valid)"
      ],
      "execution_count": null,
      "outputs": [
        {
          "output_type": "execute_result",
          "data": {
            "text/plain": [
              "Counter({0: 291, 1: 304})"
            ]
          },
          "metadata": {},
          "execution_count": 30
        }
      ]
    },
    {
      "cell_type": "markdown",
      "source": [
        "***10. BUILD THE MODEL***"
      ],
      "metadata": {
        "id": "aAD1dNQw8xde"
      }
    },
    {
      "cell_type": "code",
      "source": [
        "from keras.layers import Dropout\n",
        "from tensorflow.keras.optimizers import Adam,SGD\n",
        "\n",
        "model=Sequential()\n",
        "model.add(Embedding(vocab_size, 300, weights=[embedding_matrix], input_length=maxlen, trainable=False))\n",
        "model.add(Bidirectional(LSTM(100)))  # one BLSTM Layer with 100 neurons \n",
        "model.add(Dropout(0.3)) # DROPOUT LAYER\n",
        "model.add(Dense(32, activation='relu'))\n",
        "model.add(Dense(1, activation='sigmoid'))\n",
        "adam=Adam(learning_rate=0.0001)\n",
        "model.compile(adam, loss='binary_crossentropy',metrics=['accuracy'])\n",
        "print(model.summary())"
      ],
      "metadata": {
        "colab": {
          "base_uri": "https://localhost:8080/"
        },
        "id": "54SlE-f_ghjM",
        "outputId": "80fa470e-6603-4b27-8eca-a9b4ae4eea88"
      },
      "execution_count": null,
      "outputs": [
        {
          "output_type": "stream",
          "name": "stdout",
          "text": [
            "Model: \"sequential\"\n",
            "_________________________________________________________________\n",
            " Layer (type)                Output Shape              Param #   \n",
            "=================================================================\n",
            " embedding (Embedding)       (None, 1391, 300)         7335900   \n",
            "                                                                 \n",
            " bidirectional (Bidirectiona  (None, 200)              320800    \n",
            " l)                                                              \n",
            "                                                                 \n",
            " dropout (Dropout)           (None, 200)               0         \n",
            "                                                                 \n",
            " dense (Dense)               (None, 32)                6432      \n",
            "                                                                 \n",
            " dense_1 (Dense)             (None, 1)                 33        \n",
            "                                                                 \n",
            "=================================================================\n",
            "Total params: 7,663,165\n",
            "Trainable params: 327,265\n",
            "Non-trainable params: 7,335,900\n",
            "_________________________________________________________________\n",
            "None\n"
          ]
        }
      ]
    },
    {
      "cell_type": "markdown",
      "source": [
        "***11. TRAIN THE MODEL***"
      ],
      "metadata": {
        "id": "2lyt9r1U82Wm"
      }
    },
    {
      "cell_type": "code",
      "source": [
        "# fit the model on the whole data\n",
        "history = model.fit(X_train, y_train,\n",
        "                    epochs=50,\n",
        "                    verbose=True,\n",
        "                    validation_data=(X_valid, y_valid),\n",
        "                    batch_size=32)"
      ],
      "metadata": {
        "colab": {
          "base_uri": "https://localhost:8080/"
        },
        "id": "Ieto8hT0ghom",
        "outputId": "50f82a8b-63e9-4802-c2c0-48c959276e89"
      },
      "execution_count": null,
      "outputs": [
        {
          "output_type": "stream",
          "name": "stdout",
          "text": [
            "Epoch 1/50\n",
            "75/75 [==============================] - 34s 404ms/step - loss: 0.6932 - accuracy: 0.5130 - val_loss: 0.6907 - val_accuracy: 0.5546\n",
            "Epoch 2/50\n",
            "75/75 [==============================] - 29s 389ms/step - loss: 0.6890 - accuracy: 0.5522 - val_loss: 0.6859 - val_accuracy: 0.5664\n",
            "Epoch 3/50\n",
            "75/75 [==============================] - 29s 390ms/step - loss: 0.6679 - accuracy: 0.6195 - val_loss: 0.6484 - val_accuracy: 0.6487\n",
            "Epoch 4/50\n",
            "75/75 [==============================] - 29s 389ms/step - loss: 0.6672 - accuracy: 0.5943 - val_loss: 0.6834 - val_accuracy: 0.5546\n",
            "Epoch 5/50\n",
            "75/75 [==============================] - 29s 389ms/step - loss: 0.6634 - accuracy: 0.6279 - val_loss: 0.6630 - val_accuracy: 0.6437\n",
            "Epoch 6/50\n",
            "75/75 [==============================] - 29s 389ms/step - loss: 0.6430 - accuracy: 0.6519 - val_loss: 0.6504 - val_accuracy: 0.6487\n",
            "Epoch 7/50\n",
            "75/75 [==============================] - 29s 389ms/step - loss: 0.6307 - accuracy: 0.6658 - val_loss: 0.6437 - val_accuracy: 0.6521\n",
            "Epoch 8/50\n",
            "75/75 [==============================] - 29s 390ms/step - loss: 0.6275 - accuracy: 0.6557 - val_loss: 0.6366 - val_accuracy: 0.6605\n",
            "Epoch 9/50\n",
            "75/75 [==============================] - 29s 389ms/step - loss: 0.6255 - accuracy: 0.6553 - val_loss: 0.6390 - val_accuracy: 0.6622\n",
            "Epoch 10/50\n",
            "75/75 [==============================] - 29s 389ms/step - loss: 0.6203 - accuracy: 0.6684 - val_loss: 0.6368 - val_accuracy: 0.6605\n",
            "Epoch 11/50\n",
            "75/75 [==============================] - 29s 389ms/step - loss: 0.6281 - accuracy: 0.6519 - val_loss: 0.6327 - val_accuracy: 0.6571\n",
            "Epoch 12/50\n",
            "75/75 [==============================] - 29s 389ms/step - loss: 0.6181 - accuracy: 0.6658 - val_loss: 0.6356 - val_accuracy: 0.6672\n",
            "Epoch 13/50\n",
            "75/75 [==============================] - 29s 389ms/step - loss: 0.6214 - accuracy: 0.6684 - val_loss: 0.7311 - val_accuracy: 0.6034\n",
            "Epoch 14/50\n",
            "75/75 [==============================] - 29s 389ms/step - loss: 0.6576 - accuracy: 0.6359 - val_loss: 0.6459 - val_accuracy: 0.6454\n",
            "Epoch 15/50\n",
            "75/75 [==============================] - 29s 389ms/step - loss: 0.6346 - accuracy: 0.6519 - val_loss: 0.6315 - val_accuracy: 0.6588\n",
            "Epoch 16/50\n",
            "75/75 [==============================] - 29s 390ms/step - loss: 0.6184 - accuracy: 0.6684 - val_loss: 0.6517 - val_accuracy: 0.6252\n",
            "Epoch 17/50\n",
            "75/75 [==============================] - 29s 390ms/step - loss: 0.6193 - accuracy: 0.6671 - val_loss: 0.6277 - val_accuracy: 0.6672\n",
            "Epoch 18/50\n",
            "75/75 [==============================] - 29s 389ms/step - loss: 0.6121 - accuracy: 0.6780 - val_loss: 0.6508 - val_accuracy: 0.6454\n",
            "Epoch 19/50\n",
            "75/75 [==============================] - 29s 389ms/step - loss: 0.6128 - accuracy: 0.6789 - val_loss: 0.6367 - val_accuracy: 0.6622\n",
            "Epoch 20/50\n",
            "75/75 [==============================] - 29s 390ms/step - loss: 0.6095 - accuracy: 0.6789 - val_loss: 0.6336 - val_accuracy: 0.6689\n",
            "Epoch 21/50\n",
            "75/75 [==============================] - 29s 389ms/step - loss: 0.6152 - accuracy: 0.6789 - val_loss: 0.6391 - val_accuracy: 0.6538\n",
            "Epoch 22/50\n",
            "75/75 [==============================] - 29s 389ms/step - loss: 0.6129 - accuracy: 0.6625 - val_loss: 0.6410 - val_accuracy: 0.6605\n",
            "Epoch 23/50\n",
            "75/75 [==============================] - 29s 389ms/step - loss: 0.6066 - accuracy: 0.6793 - val_loss: 0.6398 - val_accuracy: 0.6655\n",
            "Epoch 24/50\n",
            "75/75 [==============================] - 29s 389ms/step - loss: 0.6075 - accuracy: 0.6742 - val_loss: 0.6372 - val_accuracy: 0.6639\n",
            "Epoch 25/50\n",
            "75/75 [==============================] - 29s 390ms/step - loss: 0.6037 - accuracy: 0.6801 - val_loss: 0.6371 - val_accuracy: 0.6706\n",
            "Epoch 26/50\n",
            "75/75 [==============================] - 29s 389ms/step - loss: 0.5983 - accuracy: 0.6890 - val_loss: 0.6346 - val_accuracy: 0.6773\n",
            "Epoch 27/50\n",
            "75/75 [==============================] - 29s 390ms/step - loss: 0.5977 - accuracy: 0.6873 - val_loss: 0.6348 - val_accuracy: 0.6807\n",
            "Epoch 28/50\n",
            "75/75 [==============================] - 29s 390ms/step - loss: 0.7130 - accuracy: 0.6073 - val_loss: 0.7539 - val_accuracy: 0.5193\n",
            "Epoch 29/50\n",
            "75/75 [==============================] - 29s 389ms/step - loss: 0.6841 - accuracy: 0.5724 - val_loss: 0.6823 - val_accuracy: 0.5580\n",
            "Epoch 30/50\n",
            "75/75 [==============================] - 29s 389ms/step - loss: 0.6685 - accuracy: 0.6145 - val_loss: 0.6779 - val_accuracy: 0.5815\n",
            "Epoch 31/50\n",
            "75/75 [==============================] - 29s 388ms/step - loss: 0.6617 - accuracy: 0.6128 - val_loss: 0.6730 - val_accuracy: 0.5916\n",
            "Epoch 32/50\n",
            "75/75 [==============================] - 29s 389ms/step - loss: 0.6500 - accuracy: 0.6267 - val_loss: 0.6587 - val_accuracy: 0.6252\n",
            "Epoch 33/50\n",
            "75/75 [==============================] - 29s 388ms/step - loss: 0.6262 - accuracy: 0.6629 - val_loss: 0.6300 - val_accuracy: 0.6790\n",
            "Epoch 34/50\n",
            "75/75 [==============================] - 29s 388ms/step - loss: 0.6112 - accuracy: 0.6696 - val_loss: 0.6249 - val_accuracy: 0.6689\n",
            "Epoch 35/50\n",
            "75/75 [==============================] - 29s 389ms/step - loss: 0.6378 - accuracy: 0.6486 - val_loss: 0.6315 - val_accuracy: 0.6588\n",
            "Epoch 36/50\n",
            "75/75 [==============================] - 29s 389ms/step - loss: 0.6235 - accuracy: 0.6587 - val_loss: 0.6439 - val_accuracy: 0.6319\n",
            "Epoch 37/50\n",
            "75/75 [==============================] - 29s 390ms/step - loss: 0.6281 - accuracy: 0.6540 - val_loss: 0.6399 - val_accuracy: 0.6555\n",
            "Epoch 38/50\n",
            "75/75 [==============================] - 29s 390ms/step - loss: 0.6095 - accuracy: 0.6734 - val_loss: 0.6465 - val_accuracy: 0.6471\n",
            "Epoch 39/50\n",
            "75/75 [==============================] - 29s 389ms/step - loss: 0.6063 - accuracy: 0.6810 - val_loss: 0.6539 - val_accuracy: 0.6471\n",
            "Epoch 40/50\n",
            "75/75 [==============================] - 29s 388ms/step - loss: 0.6097 - accuracy: 0.6726 - val_loss: 0.6317 - val_accuracy: 0.6622\n",
            "Epoch 41/50\n",
            "75/75 [==============================] - 29s 388ms/step - loss: 0.6086 - accuracy: 0.6776 - val_loss: 0.6313 - val_accuracy: 0.6689\n",
            "Epoch 42/50\n",
            "75/75 [==============================] - 29s 388ms/step - loss: 0.6095 - accuracy: 0.6763 - val_loss: 0.6357 - val_accuracy: 0.6672\n",
            "Epoch 43/50\n",
            "75/75 [==============================] - 29s 389ms/step - loss: 0.6049 - accuracy: 0.6785 - val_loss: 0.6334 - val_accuracy: 0.6689\n",
            "Epoch 44/50\n",
            "75/75 [==============================] - 29s 389ms/step - loss: 0.5974 - accuracy: 0.6940 - val_loss: 0.6255 - val_accuracy: 0.6756\n",
            "Epoch 45/50\n",
            "75/75 [==============================] - 29s 389ms/step - loss: 0.6059 - accuracy: 0.6793 - val_loss: 0.6505 - val_accuracy: 0.6672\n",
            "Epoch 46/50\n",
            "75/75 [==============================] - 29s 389ms/step - loss: 0.5973 - accuracy: 0.6898 - val_loss: 0.6243 - val_accuracy: 0.6739\n",
            "Epoch 47/50\n",
            "75/75 [==============================] - 29s 389ms/step - loss: 0.5989 - accuracy: 0.6856 - val_loss: 0.6318 - val_accuracy: 0.6739\n",
            "Epoch 48/50\n",
            "75/75 [==============================] - 29s 389ms/step - loss: 0.5950 - accuracy: 0.6995 - val_loss: 0.6714 - val_accuracy: 0.6420\n",
            "Epoch 49/50\n",
            "75/75 [==============================] - 29s 388ms/step - loss: 0.6228 - accuracy: 0.6629 - val_loss: 0.6275 - val_accuracy: 0.6689\n",
            "Epoch 50/50\n",
            "75/75 [==============================] - 29s 388ms/step - loss: 0.6016 - accuracy: 0.6747 - val_loss: 0.6228 - val_accuracy: 0.6756\n"
          ]
        }
      ]
    },
    {
      "cell_type": "markdown",
      "source": [
        "**GRAPHIC REPRESENTATION**"
      ],
      "metadata": {
        "id": "SVLGXbSdRyQH"
      }
    },
    {
      "cell_type": "code",
      "source": [
        "import matplotlib.pyplot as plt\n",
        "\n",
        "plt.plot(history.history['accuracy'])\n",
        "plt.plot(history.history['val_accuracy'])\n",
        "plt.title('Model accuracy')\n",
        "plt.ylabel('Accuracy')\n",
        "plt.xlabel('Epoch')\n",
        "plt.legend(['Train', 'Test'], loc='upper left')\n",
        "plt.show()\n",
        "\n",
        "plt.plot(history.history['loss'])\n",
        "plt.plot(history.history['val_loss'])\n",
        "plt.title('Model loss')\n",
        "plt.ylabel('Loss')\n",
        "plt.xlabel('Epoch')\n",
        "plt.legend(['Train', 'Test'], loc='upper right')\n",
        "plt.show()"
      ],
      "metadata": {
        "colab": {
          "base_uri": "https://localhost:8080/",
          "height": 573
        },
        "id": "XdRBsz5qKCkX",
        "outputId": "706bdf77-d806-4599-88cb-4b205f58613a"
      },
      "execution_count": null,
      "outputs": [
        {
          "output_type": "display_data",
          "data": {
            "image/png": "[encoded data removed]",
            "text/plain": [
              "<Figure size 432x288 with 1 Axes>"
            ]
          },
          "metadata": {
            "needs_background": "light"
          }
        },
        {
          "output_type": "display_data",
          "data": {
            "image/png": "[encoded data removed]",
            "text/plain": [
              "<Figure size 432x288 with 1 Axes>"
            ]
          },
          "metadata": {
            "needs_background": "light"
          }
        }
      ]
    },
    {
      "cell_type": "markdown",
      "source": [
        "**METRICS**"
      ],
      "metadata": {
        "id": "g0gFHZEGR1PC"
      }
    },
    {
      "cell_type": "code",
      "source": [
        "y_pred_valid=(model.predict(X_valid)>0.5).astype(int)"
      ],
      "metadata": {
        "id": "jnfi4z-OLTte"
      },
      "execution_count": null,
      "outputs": []
    },
    {
      "cell_type": "code",
      "source": [
        "from sklearn.metrics import classification_report, confusion_matrix\n",
        "print(classification_report(y_valid,y_pred_valid))"
      ],
      "metadata": {
        "colab": {
          "base_uri": "https://localhost:8080/"
        },
        "id": "jBxd5J9ELof7",
        "outputId": "97cc4330-91b4-4308-b1d7-ebf28821368d"
      },
      "execution_count": null,
      "outputs": [
        {
          "output_type": "stream",
          "name": "stdout",
          "text": [
            "              precision    recall  f1-score   support\n",
            "\n",
            "           0       0.68      0.66      0.67       291\n",
            "           1       0.69      0.71      0.70       304\n",
            "\n",
            "    accuracy                           0.69       595\n",
            "   macro avg       0.69      0.69      0.69       595\n",
            "weighted avg       0.69      0.69      0.69       595\n",
            "\n"
          ]
        }
      ]
    },
    {
      "cell_type": "code",
      "source": [
        "confusion_matrix(y_valid,y_pred_valid)\n"
      ],
      "metadata": {
        "colab": {
          "base_uri": "https://localhost:8080/"
        },
        "id": "YzS3tjdnLT0t",
        "outputId": "6f9f19f9-7029-4f9c-9bbf-8aff088254e5"
      },
      "execution_count": null,
      "outputs": [
        {
          "output_type": "execute_result",
          "data": {
            "text/plain": [
              "array([[193,  98],\n",
              "       [ 89, 215]])"
            ]
          },
          "metadata": {},
          "execution_count": 151
        }
      ]
    },
    {
      "cell_type": "markdown",
      "source": [
        "# **ATTEMPTING TO SOLVE OVERFITTING WITH L2 REGULARIZATION TECHNIQUES AND EARLY STOPPING**"
      ],
      "metadata": {
        "id": "PudBQftgje9K"
      }
    },
    {
      "cell_type": "markdown",
      "source": [
        "***CREATING EMBEDDINGS OF 100 DIMENSIONS***"
      ],
      "metadata": {
        "id": "PVOt35drr257"
      }
    },
    {
      "cell_type": "code",
      "metadata": {
        "colab": {
          "base_uri": "https://localhost:8080/"
        },
        "outputId": "eae0aa5d-0ef9-460c-8e16-039573195832",
        "id": "riFuSfi1rpPb"
      },
      "source": [
        "model2 = Word2Vec(source_list, size=100, window=2, sg=0, hs =1, sorted_vocab= 1)\n",
        "# summarize the loaded model\n",
        "print(model2)"
      ],
      "execution_count": null,
      "outputs": [
        {
          "output_type": "stream",
          "name": "stdout",
          "text": [
            "Word2Vec(vocab=6245, size=100, alpha=0.025)\n"
          ]
        }
      ]
    },
    {
      "cell_type": "code",
      "metadata": {
        "id": "Ocz_7U_SrpPc"
      },
      "source": [
        "# it is saved now in txt format, binary=False turns it to a .bin\n",
        "\n",
        "model2.wv.save_word2vec_format('spanish2_wv.txt', binary=False)  "
      ],
      "execution_count": null,
      "outputs": []
    },
    {
      "cell_type": "code",
      "metadata": {
        "colab": {
          "base_uri": "https://localhost:8080/"
        },
        "outputId": "6d68dd93-8400-4d28-c037-1570b4d6f139",
        "id": "n5kOEoJ5rpPd"
      },
      "source": [
        "# load the whole embedding into memory\n",
        "embeddings_index2 = dict()\n",
        "f = open('spanish2_wv.txt')\n",
        "for line in f:\n",
        "\tvalues = line.split()\n",
        "\tword = values[0]\n",
        "\tcoefs = asarray(values[1:], dtype='float32')\n",
        "\tembeddings_index[word] = coefs\n",
        "f.close()\n",
        "print('Loaded %s word vectors.' % len(embeddings_index2))\n"
      ],
      "execution_count": null,
      "outputs": [
        {
          "output_type": "stream",
          "name": "stdout",
          "text": [
            "Loaded 6246 word vectors.\n"
          ]
        }
      ]
    },
    {
      "cell_type": "code",
      "metadata": {
        "id": "zFNM6PRSrpPd"
      },
      "source": [
        "# create a weight matrix for words in training docs\n",
        "embedding_matrix2 = zeros((vocab_size, 100))  # create an empty numpy array which will be used as the embedding layer in our model with my dimensions 50 here\n",
        "for word, i in t.word_index.items():  # go through our vocab integers and words\n",
        "\tembedding_vector = embeddings_index2.get(word)  # find the word in the pretrained word vectors\n",
        "\tif embedding_vector is not None:  # if it is  not empty put it in our embedding matrix\n",
        "\t\tembedding_matrix2[i] = embedding_vector\n"
      ],
      "execution_count": null,
      "outputs": []
    },
    {
      "cell_type": "markdown",
      "source": [
        "**BUILDING THE SECOND MODEL WITH L2 REGULARIZATION**"
      ],
      "metadata": {
        "id": "Abn2vNuITgA-"
      }
    },
    {
      "cell_type": "code",
      "source": [
        "from keras.regularizers import l2\n",
        "\n",
        "import tensorflow as tf\n",
        "from keras.layers import Conv1D, MaxPooling1D, Embedding, Dropout\n",
        "from tensorflow.keras.optimizers import Adam,SGD\n",
        "\n",
        "model2 = tf.keras.Sequential([\n",
        "    tf.keras.layers.Embedding(vocab_size, 100, input_length=maxlen),\n",
        "    tf.keras.layers.Bidirectional(tf.keras.layers.LSTM(100)),\n",
        "    tf.keras.layers.Dropout(0.2),  \n",
        "    tf.keras.layers.Dense(32, activation='relu', kernel_regularizer=l2(0.01), bias_regularizer=l2(0.01)),\n",
        "    tf.keras.layers.Dropout(0.2),\n",
        "    tf.keras.layers.Dense(16, activation='relu'),\n",
        "    tf.keras.layers.Dense(1, activation='sigmoid')\n",
        "])\n",
        "\n",
        "adam=Adam(learning_rate=0.0001)\n",
        "model2.compile(optimizer=adam,\n",
        "               loss='binary_crossentropy',\n",
        "               metrics=['accuracy'])\n",
        "model2.summary()"
      ],
      "metadata": {
        "colab": {
          "base_uri": "https://localhost:8080/"
        },
        "id": "mJYO4iI5itjb",
        "outputId": "53325fa7-751a-40d7-c0d3-5b56696c6b01"
      },
      "execution_count": null,
      "outputs": [
        {
          "output_type": "stream",
          "name": "stdout",
          "text": [
            "Model: \"sequential_20\"\n",
            "_________________________________________________________________\n",
            " Layer (type)                Output Shape              Param #   \n",
            "=================================================================\n",
            " embedding_23 (Embedding)    (None, 1391, 100)         2445300   \n",
            "                                                                 \n",
            " bidirectional_20 (Bidirecti  (None, 200)              160800    \n",
            " onal)                                                           \n",
            "                                                                 \n",
            " dropout_26 (Dropout)        (None, 200)               0         \n",
            "                                                                 \n",
            " dense_45 (Dense)            (None, 32)                6432      \n",
            "                                                                 \n",
            " dropout_27 (Dropout)        (None, 32)                0         \n",
            "                                                                 \n",
            " dense_46 (Dense)            (None, 16)                528       \n",
            "                                                                 \n",
            " dense_47 (Dense)            (None, 1)                 17        \n",
            "                                                                 \n",
            "=================================================================\n",
            "Total params: 2,613,077\n",
            "Trainable params: 2,613,077\n",
            "Non-trainable params: 0\n",
            "_________________________________________________________________\n"
          ]
        }
      ]
    },
    {
      "cell_type": "markdown",
      "source": [
        "**TRAIN THE MODEL WITH EARLY STOPPING**"
      ],
      "metadata": {
        "id": "Z7vS-N1gTi_j"
      }
    },
    {
      "cell_type": "code",
      "source": [
        "from keras.callbacks import EarlyStopping  # THE MODEL IS STILL OVERFITTED\n",
        "es = EarlyStopping(monitor='val_loss', mode='min', verbose=1, patience=5) \n",
        "# fit the model on the whole data\n",
        "history2 = model2.fit(X_train, y_train,\n",
        "                    epochs=100,\n",
        "                    verbose=True,\n",
        "                    validation_data=(X_valid, y_valid),\n",
        "                    batch_size=128,\n",
        "                    callbacks=[es])# adding early stopping)"
      ],
      "metadata": {
        "colab": {
          "base_uri": "https://localhost:8080/"
        },
        "id": "D7N-k93ljVWF",
        "outputId": "ff94f045-4c13-4dad-a597-a1ecc6f4ed49"
      },
      "execution_count": null,
      "outputs": [
        {
          "output_type": "stream",
          "name": "stdout",
          "text": [
            "Epoch 1/100\n",
            "19/19 [==============================] - 15s 555ms/step - loss: 1.2412 - accuracy: 0.5042 - val_loss: 1.2307 - val_accuracy: 0.5681\n",
            "Epoch 2/100\n",
            "19/19 [==============================] - 9s 502ms/step - loss: 1.2216 - accuracy: 0.5278 - val_loss: 1.2117 - val_accuracy: 0.5227\n",
            "Epoch 3/100\n",
            "19/19 [==============================] - 9s 502ms/step - loss: 1.2029 - accuracy: 0.5307 - val_loss: 1.1933 - val_accuracy: 0.5529\n",
            "Epoch 4/100\n",
            "19/19 [==============================] - 9s 501ms/step - loss: 1.1838 - accuracy: 0.5682 - val_loss: 1.1751 - val_accuracy: 0.5244\n",
            "Epoch 5/100\n",
            "19/19 [==============================] - 9s 501ms/step - loss: 1.1650 - accuracy: 0.5484 - val_loss: 1.1569 - val_accuracy: 0.5496\n",
            "Epoch 6/100\n",
            "19/19 [==============================] - 9s 500ms/step - loss: 1.1444 - accuracy: 0.5787 - val_loss: 1.1372 - val_accuracy: 0.5765\n",
            "Epoch 7/100\n",
            "19/19 [==============================] - 9s 502ms/step - loss: 1.1184 - accuracy: 0.6987 - val_loss: 1.1701 - val_accuracy: 0.5193\n",
            "Epoch 8/100\n",
            "19/19 [==============================] - 9s 501ms/step - loss: 1.0958 - accuracy: 0.7668 - val_loss: 1.0975 - val_accuracy: 0.6151\n",
            "Epoch 9/100\n",
            "19/19 [==============================] - 9s 501ms/step - loss: 1.0688 - accuracy: 0.6890 - val_loss: 1.0786 - val_accuracy: 0.6655\n",
            "Epoch 10/100\n",
            "19/19 [==============================] - 9s 502ms/step - loss: 1.0403 - accuracy: 0.8047 - val_loss: 1.0584 - val_accuracy: 0.6723\n",
            "Epoch 11/100\n",
            "19/19 [==============================] - 9s 501ms/step - loss: 1.0031 - accuracy: 0.8068 - val_loss: 1.0337 - val_accuracy: 0.6840\n",
            "Epoch 12/100\n",
            "19/19 [==============================] - 9s 502ms/step - loss: 0.9513 - accuracy: 0.8354 - val_loss: 0.9998 - val_accuracy: 0.7143\n",
            "Epoch 13/100\n",
            "19/19 [==============================] - 9s 501ms/step - loss: 0.8711 - accuracy: 0.8535 - val_loss: 0.9640 - val_accuracy: 0.6487\n",
            "Epoch 14/100\n",
            "19/19 [==============================] - 9s 501ms/step - loss: 0.8046 - accuracy: 0.8527 - val_loss: 0.9287 - val_accuracy: 0.7445\n",
            "Epoch 15/100\n",
            "19/19 [==============================] - 9s 501ms/step - loss: 0.7374 - accuracy: 0.9078 - val_loss: 0.9355 - val_accuracy: 0.7076\n",
            "Epoch 16/100\n",
            "19/19 [==============================] - 9s 502ms/step - loss: 0.6571 - accuracy: 0.9289 - val_loss: 0.9625 - val_accuracy: 0.7429\n",
            "Epoch 17/100\n",
            "19/19 [==============================] - 9s 502ms/step - loss: 0.5814 - accuracy: 0.9491 - val_loss: 0.9160 - val_accuracy: 0.7613\n",
            "Epoch 18/100\n",
            "19/19 [==============================] - 9s 502ms/step - loss: 0.5178 - accuracy: 0.9634 - val_loss: 0.8975 - val_accuracy: 0.7462\n",
            "Epoch 19/100\n",
            "19/19 [==============================] - 9s 502ms/step - loss: 0.4754 - accuracy: 0.9684 - val_loss: 0.9136 - val_accuracy: 0.7462\n",
            "Epoch 20/100\n",
            "19/19 [==============================] - 9s 502ms/step - loss: 0.4355 - accuracy: 0.9760 - val_loss: 0.9645 - val_accuracy: 0.7496\n",
            "Epoch 21/100\n",
            "19/19 [==============================] - 9s 501ms/step - loss: 0.4462 - accuracy: 0.9575 - val_loss: 0.9375 - val_accuracy: 0.7445\n",
            "Epoch 22/100\n",
            "19/19 [==============================] - 9s 501ms/step - loss: 0.3935 - accuracy: 0.9840 - val_loss: 1.0036 - val_accuracy: 0.7580\n",
            "Epoch 00022: early stopping\n"
          ]
        }
      ]
    },
    {
      "cell_type": "markdown",
      "source": [
        "***12. GRAPHIC ILLUSTRATION***"
      ],
      "metadata": {
        "id": "l1xwO9ie86XA"
      }
    },
    {
      "cell_type": "code",
      "source": [
        "import matplotlib.pyplot as plt\n",
        "\n",
        "plt.plot(history2.history['accuracy'])\n",
        "plt.plot(history2.history['val_accuracy'])\n",
        "plt.title('Model accuracy')\n",
        "plt.ylabel('Accuracy')\n",
        "plt.xlabel('Epoch')\n",
        "plt.legend(['Train', 'Test'], loc='upper left')\n",
        "plt.show()\n",
        "\n",
        "plt.plot(history2.history['loss'])\n",
        "plt.plot(history2.history['val_loss'])\n",
        "plt.title('Model loss')\n",
        "plt.ylabel('Loss')\n",
        "plt.xlabel('Epoch')\n",
        "plt.legend(['Train', 'Test'], loc='upper right')\n",
        "plt.show()"
      ],
      "metadata": {
        "colab": {
          "base_uri": "https://localhost:8080/",
          "height": 573
        },
        "id": "_JIzBldrHl1-",
        "outputId": "9a3bd774-f88c-43a2-dc10-7dfc95d84205"
      },
      "execution_count": null,
      "outputs": [
        {
          "output_type": "display_data",
          "data": {
            "image/png": "[encoded data removed]",
            "text/plain": [
              "<Figure size 432x288 with 1 Axes>"
            ]
          },
          "metadata": {
            "needs_background": "light"
          }
        },
        {
          "output_type": "display_data",
          "data": {
            "image/png": "[encoded data removed]",
            "text/plain": [
              "<Figure size 432x288 with 1 Axes>"
            ]
          },
          "metadata": {
            "needs_background": "light"
          }
        }
      ]
    },
    {
      "cell_type": "markdown",
      "source": [
        "***13. METRICS***"
      ],
      "metadata": {
        "id": "IPGjXp7f9TIq"
      }
    },
    {
      "cell_type": "code",
      "source": [
        "y_pred_valid2=(model2.predict(X_valid)>0.5).astype(int)"
      ],
      "metadata": {
        "id": "bFXh2j_BcjAK"
      },
      "execution_count": null,
      "outputs": []
    },
    {
      "cell_type": "code",
      "source": [
        "from sklearn.metrics import classification_report, confusion_matrix\n",
        "print(classification_report(y_valid,y_pred_valid2))"
      ],
      "metadata": {
        "colab": {
          "base_uri": "https://localhost:8080/"
        },
        "id": "SEKnizhmCges",
        "outputId": "2c0fa1ba-0e82-4fe2-c175-694953a132e6"
      },
      "execution_count": null,
      "outputs": [
        {
          "output_type": "stream",
          "name": "stdout",
          "text": [
            "              precision    recall  f1-score   support\n",
            "\n",
            "           0       0.75      0.76      0.75       291\n",
            "           1       0.77      0.76      0.76       304\n",
            "\n",
            "    accuracy                           0.76       595\n",
            "   macro avg       0.76      0.76      0.76       595\n",
            "weighted avg       0.76      0.76      0.76       595\n",
            "\n"
          ]
        }
      ]
    },
    {
      "cell_type": "code",
      "source": [
        "confusion_matrix(y_valid,y_pred_valid2)"
      ],
      "metadata": {
        "colab": {
          "base_uri": "https://localhost:8080/"
        },
        "id": "IRFUJhHHLLeW",
        "outputId": "74cba22f-ab8b-4aaf-feaa-7c613976263c"
      },
      "execution_count": null,
      "outputs": [
        {
          "output_type": "execute_result",
          "data": {
            "text/plain": [
              "array([[221,  70],\n",
              "       [ 74, 230]])"
            ]
          },
          "metadata": {},
          "execution_count": 154
        }
      ]
    },
    {
      "cell_type": "code",
      "metadata": {
        "id": "1CUXEM1X6x-n"
      },
      "source": [
        "model2.save('model2.h5')"
      ],
      "execution_count": null,
      "outputs": []
    },
    {
      "cell_type": "code",
      "metadata": {
        "id": "rTK7Bw6QF15H"
      },
      "source": [
        "model3=load_model('model2.h5')"
      ],
      "execution_count": null,
      "outputs": []
    }
  ]
}