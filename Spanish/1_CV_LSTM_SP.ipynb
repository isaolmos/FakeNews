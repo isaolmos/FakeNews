{
  "nbformat": 4,
  "nbformat_minor": 0,
  "metadata": {
    "accelerator": "GPU",
    "colab": {
      "name": "1_CV_LSTM_SP.ipynb",
      "provenance": [],
      "collapsed_sections": [],
      "machine_shape": "hm"
    },
    "kernelspec": {
      "display_name": "Python 3",
      "language": "python",
      "name": "python3"
    },
    "language_info": {
      "codemirror_mode": {
        "name": "ipython",
        "version": 3
      },
      "file_extension": ".py",
      "mimetype": "text/x-python",
      "name": "python",
      "nbconvert_exporter": "python",
      "pygments_lexer": "ipython3",
      "version": "3.8.8"
    }
  },
  "cells": [
    {
      "cell_type": "markdown",
      "source": [
        "# **CV_LSTM**"
      ],
      "metadata": {
        "id": "ZpQgFPYa-6a-"
      }
    },
    {
      "cell_type": "markdown",
      "source": [
        "***1. IMPORT PACKAGES AND LIBRARIES***"
      ],
      "metadata": {
        "id": "i-fCyjLl-tM7"
      }
    },
    {
      "cell_type": "code",
      "metadata": {
        "id": "93pbFgzf6PO4"
      },
      "source": [
        "import pandas as pd\n",
        "from nltk import word_tokenize\n",
        "from collections import Counter"
      ],
      "execution_count": null,
      "outputs": []
    },
    {
      "cell_type": "markdown",
      "source": [
        "***2. LOAD DATASET***"
      ],
      "metadata": {
        "id": "5cAng_hX--5R"
      }
    },
    {
      "cell_type": "code",
      "source": [
        "from google.colab import drive\n",
        "drive.mount('/content/drive')"
      ],
      "metadata": {
        "id": "qS53ZOmAIMIp",
        "colab": {
          "base_uri": "https://localhost:8080/"
        },
        "outputId": "008e22f2-5b9a-4dd5-bd8e-e8e42066933a"
      },
      "execution_count": null,
      "outputs": [
        {
          "output_type": "stream",
          "name": "stdout",
          "text": [
            "Drive already mounted at /content/drive; to attempt to forcibly remount, call drive.mount(\"/content/drive\", force_remount=True).\n"
          ]
        }
      ]
    },
    {
      "cell_type": "code",
      "metadata": {
        "id": "bB1mmnGMIG9k"
      },
      "source": [
        "data=pd.read_csv('/content/drive/MyDrive/thesiss/Spanish_merged_dataa.csv')"
      ],
      "execution_count": null,
      "outputs": []
    },
    {
      "cell_type": "code",
      "source": [
        "data.drop(['Unnamed: 0','clean_with_stopwords', 'Text'], axis=1, inplace=True)"
      ],
      "metadata": {
        "id": "TLYRkUbfE0uN"
      },
      "execution_count": null,
      "outputs": []
    },
    {
      "cell_type": "code",
      "source": [
        "data"
      ],
      "metadata": {
        "colab": {
          "base_uri": "https://localhost:8080/",
          "height": 423
        },
        "id": "dlD5h1b4jiy0",
        "outputId": "7a33227b-d4ed-4808-c613-a583313a7ed6"
      },
      "execution_count": null,
      "outputs": [
        {
          "output_type": "execute_result",
          "data": {
            "text/html": [
              "\n",
              "  <div id=\"df-7e6eaa30-b16c-424f-a466-c785a3b2202a\">\n",
              "    <div class=\"colab-df-container\">\n",
              "      <div>\n",
              "<style scoped>\n",
              "    .dataframe tbody tr th:only-of-type {\n",
              "        vertical-align: middle;\n",
              "    }\n",
              "\n",
              "    .dataframe tbody tr th {\n",
              "        vertical-align: top;\n",
              "    }\n",
              "\n",
              "    .dataframe thead th {\n",
              "        text-align: right;\n",
              "    }\n",
              "</style>\n",
              "<table border=\"1\" class=\"dataframe\">\n",
              "  <thead>\n",
              "    <tr style=\"text-align: right;\">\n",
              "      <th></th>\n",
              "      <th>Category</th>\n",
              "      <th>final_clean</th>\n",
              "    </tr>\n",
              "  </thead>\n",
              "  <tbody>\n",
              "    <tr>\n",
              "      <th>0</th>\n",
              "      <td>1</td>\n",
              "      <td>rae incluir palabra lady diccionario idioma es...</td>\n",
              "    </tr>\n",
              "    <tr>\n",
              "      <th>1</th>\n",
              "      <td>1</td>\n",
              "      <td>palabra haigar aceptado rae real academia leng...</td>\n",
              "    </tr>\n",
              "    <tr>\n",
              "      <th>2</th>\n",
              "      <td>1</td>\n",
              "      <td>yordi rosado escribir diseñar nuevo libro text...</td>\n",
              "    </tr>\n",
              "    <tr>\n",
              "      <th>3</th>\n",
              "      <td>0</td>\n",
              "      <td>unam capacitar maestro aprobar prueba pis maxi...</td>\n",
              "    </tr>\n",
              "    <tr>\n",
              "      <th>4</th>\n",
              "      <td>1</td>\n",
              "      <td>alerta pretender aprobar libro escolar conteni...</td>\n",
              "    </tr>\n",
              "    <tr>\n",
              "      <th>...</th>\n",
              "      <td>...</td>\n",
              "      <td>...</td>\n",
              "    </tr>\n",
              "    <tr>\n",
              "      <th>2966</th>\n",
              "      <td>0</td>\n",
              "      <td>consejo gobierno haber dar visto bueno convoca...</td>\n",
              "    </tr>\n",
              "    <tr>\n",
              "      <th>2967</th>\n",
              "      <td>0</td>\n",
              "      <td>investigador valenciano haber desarrollar inno...</td>\n",
              "    </tr>\n",
              "    <tr>\n",
              "      <th>2968</th>\n",
              "      <td>0</td>\n",
              "      <td>arrestado actuar coche establecimiento policia...</td>\n",
              "    </tr>\n",
              "    <tr>\n",
              "      <th>2969</th>\n",
              "      <td>0</td>\n",
              "      <td>rey haber encargar miercoles pedro sanchez pre...</td>\n",
              "    </tr>\n",
              "    <tr>\n",
              "      <th>2970</th>\n",
              "      <td>0</td>\n",
              "      <td>prueba realizado centro nacional microbiologia...</td>\n",
              "    </tr>\n",
              "  </tbody>\n",
              "</table>\n",
              "<p>2971 rows × 2 columns</p>\n",
              "</div>\n",
              "      <button class=\"colab-df-convert\" onclick=\"convertToInteractive('df-7e6eaa30-b16c-424f-a466-c785a3b2202a')\"\n",
              "              title=\"Convert this dataframe to an interactive table.\"\n",
              "              style=\"display:none;\">\n",
              "        \n",
              "  <svg xmlns=\"http://www.w3.org/2000/svg\" height=\"24px\"viewBox=\"0 0 24 24\"\n",
              "       width=\"24px\">\n",
              "    <path d=\"M0 0h24v24H0V0z\" fill=\"none\"/>\n",
              "    <path d=\"M18.56 5.44l.94 2.06.94-2.06 2.06-.94-2.06-.94-.94-2.06-.94 2.06-2.06.94zm-11 1L8.5 8.5l.94-2.06 2.06-.94-2.06-.94L8.5 2.5l-.94 2.06-2.06.94zm10 10l.94 2.06.94-2.06 2.06-.94-2.06-.94-.94-2.06-.94 2.06-2.06.94z\"/><path d=\"M17.41 7.96l-1.37-1.37c-.4-.4-.92-.59-1.43-.59-.52 0-1.04.2-1.43.59L10.3 9.45l-7.72 7.72c-.78.78-.78 2.05 0 2.83L4 21.41c.39.39.9.59 1.41.59.51 0 1.02-.2 1.41-.59l7.78-7.78 2.81-2.81c.8-.78.8-2.07 0-2.86zM5.41 20L4 18.59l7.72-7.72 1.47 1.35L5.41 20z\"/>\n",
              "  </svg>\n",
              "      </button>\n",
              "      \n",
              "  <style>\n",
              "    .colab-df-container {\n",
              "      display:flex;\n",
              "      flex-wrap:wrap;\n",
              "      gap: 12px;\n",
              "    }\n",
              "\n",
              "    .colab-df-convert {\n",
              "      background-color: #E8F0FE;\n",
              "      border: none;\n",
              "      border-radius: 50%;\n",
              "      cursor: pointer;\n",
              "      display: none;\n",
              "      fill: #1967D2;\n",
              "      height: 32px;\n",
              "      padding: 0 0 0 0;\n",
              "      width: 32px;\n",
              "    }\n",
              "\n",
              "    .colab-df-convert:hover {\n",
              "      background-color: #E2EBFA;\n",
              "      box-shadow: 0px 1px 2px rgba(60, 64, 67, 0.3), 0px 1px 3px 1px rgba(60, 64, 67, 0.15);\n",
              "      fill: #174EA6;\n",
              "    }\n",
              "\n",
              "    [theme=dark] .colab-df-convert {\n",
              "      background-color: #3B4455;\n",
              "      fill: #D2E3FC;\n",
              "    }\n",
              "\n",
              "    [theme=dark] .colab-df-convert:hover {\n",
              "      background-color: #434B5C;\n",
              "      box-shadow: 0px 1px 3px 1px rgba(0, 0, 0, 0.15);\n",
              "      filter: drop-shadow(0px 1px 2px rgba(0, 0, 0, 0.3));\n",
              "      fill: #FFFFFF;\n",
              "    }\n",
              "  </style>\n",
              "\n",
              "      <script>\n",
              "        const buttonEl =\n",
              "          document.querySelector('#df-7e6eaa30-b16c-424f-a466-c785a3b2202a button.colab-df-convert');\n",
              "        buttonEl.style.display =\n",
              "          google.colab.kernel.accessAllowed ? 'block' : 'none';\n",
              "\n",
              "        async function convertToInteractive(key) {\n",
              "          const element = document.querySelector('#df-7e6eaa30-b16c-424f-a466-c785a3b2202a');\n",
              "          const dataTable =\n",
              "            await google.colab.kernel.invokeFunction('convertToInteractive',\n",
              "                                                     [key], {});\n",
              "          if (!dataTable) return;\n",
              "\n",
              "          const docLinkHtml = 'Like what you see? Visit the ' +\n",
              "            '<a target=\"_blank\" href=https://colab.research.google.com/notebooks/data_table.ipynb>data table notebook</a>'\n",
              "            + ' to learn more about interactive tables.';\n",
              "          element.innerHTML = '';\n",
              "          dataTable['output_type'] = 'display_data';\n",
              "          await google.colab.output.renderOutput(dataTable, element);\n",
              "          const docLink = document.createElement('div');\n",
              "          docLink.innerHTML = docLinkHtml;\n",
              "          element.appendChild(docLink);\n",
              "        }\n",
              "      </script>\n",
              "    </div>\n",
              "  </div>\n",
              "  "
            ],
            "text/plain": [
              "      Category                                        final_clean\n",
              "0            1  rae incluir palabra lady diccionario idioma es...\n",
              "1            1  palabra haigar aceptado rae real academia leng...\n",
              "2            1  yordi rosado escribir diseñar nuevo libro text...\n",
              "3            0  unam capacitar maestro aprobar prueba pis maxi...\n",
              "4            1  alerta pretender aprobar libro escolar conteni...\n",
              "...        ...                                                ...\n",
              "2966         0  consejo gobierno haber dar visto bueno convoca...\n",
              "2967         0  investigador valenciano haber desarrollar inno...\n",
              "2968         0  arrestado actuar coche establecimiento policia...\n",
              "2969         0  rey haber encargar miercoles pedro sanchez pre...\n",
              "2970         0  prueba realizado centro nacional microbiologia...\n",
              "\n",
              "[2971 rows x 2 columns]"
            ]
          },
          "metadata": {},
          "execution_count": 9
        }
      ]
    },
    {
      "cell_type": "markdown",
      "metadata": {
        "id": "S7Wfd_lNd1tZ"
      },
      "source": [
        "***3. CONVERT TO VECTORS***"
      ]
    },
    {
      "cell_type": "code",
      "metadata": {
        "colab": {
          "base_uri": "https://localhost:8080/"
        },
        "id": "K7QvI00skaZd",
        "outputId": "497f1e00-498a-41e8-dc6e-206b599488fe"
      },
      "source": [
        "data['final_clean'].isnull().sum()"
      ],
      "execution_count": null,
      "outputs": [
        {
          "output_type": "execute_result",
          "data": {
            "text/plain": [
              "0"
            ]
          },
          "metadata": {},
          "execution_count": 10
        }
      ]
    },
    {
      "cell_type": "code",
      "metadata": {
        "id": "TTcwqXK9IMtw"
      },
      "source": [
        "from sklearn.feature_extraction.text import CountVectorizer\n",
        "vectorizer=CountVectorizer(max_features=3000)\n",
        "output=vectorizer.fit_transform(data['final_clean'])"
      ],
      "execution_count": null,
      "outputs": []
    },
    {
      "cell_type": "code",
      "metadata": {
        "colab": {
          "base_uri": "https://localhost:8080/"
        },
        "id": "ULxW2HVuIxma",
        "outputId": "ca8419f0-22c1-4589-ccd4-81fec1859efd"
      },
      "source": [
        "output"
      ],
      "execution_count": null,
      "outputs": [
        {
          "output_type": "execute_result",
          "data": {
            "text/plain": [
              "<2971x3000 sparse matrix of type '<class 'numpy.int64'>'\n",
              "\twith 131035 stored elements in Compressed Sparse Row format>"
            ]
          },
          "metadata": {},
          "execution_count": 12
        }
      ]
    },
    {
      "cell_type": "markdown",
      "source": [
        "***4. SPLIT DATA***"
      ],
      "metadata": {
        "id": "Acn9bKqh_UJr"
      }
    },
    {
      "cell_type": "code",
      "metadata": {
        "id": "Ei-PmdLaLRxC"
      },
      "source": [
        "from sklearn.model_selection import train_test_split\n",
        "X_train,X_val,y_train,y_val=train_test_split(output.toarray(),data['Category'].values,test_size=0.2,random_state=0)"
      ],
      "execution_count": null,
      "outputs": []
    },
    {
      "cell_type": "markdown",
      "source": [
        "***5. BUILD THE MODEL***"
      ],
      "metadata": {
        "id": "yFcmwOBl_aZ0"
      }
    },
    {
      "cell_type": "code",
      "metadata": {
        "id": "nypwFnfvLqBi"
      },
      "source": [
        "#Creating the lstm model\n",
        "from keras.models import Sequential\n",
        "from keras.layers import Dense,Embedding, LSTM, RNN, Dropout\n",
        "import tensorflow as tf\n",
        "from keras.regularizers import l2\n",
        "from tensorflow.keras.optimizers import Adam,SGD\n",
        "\n",
        "model=Sequential()\n",
        "model.add(LSTM(500,input_shape=(1,3000), kernel_regularizer=l2(0.01)))\n",
        "model.add(Dense(32, activation='relu'))\n",
        "model.add(Dense(1, activation='sigmoid'))\n",
        "#Compiling the model\n",
        "adam=Adam(learning_rate=0.0001)\n",
        "model.compile(adam, loss='binary_crossentropy',metrics=['accuracy'])"
      ],
      "execution_count": null,
      "outputs": []
    },
    {
      "cell_type": "code",
      "metadata": {
        "colab": {
          "base_uri": "https://localhost:8080/"
        },
        "id": "Yc4jKQ-cLpxH",
        "outputId": "91bc10a5-a007-4487-fc66-fe6dbce081b1"
      },
      "source": [
        "model.summary()"
      ],
      "execution_count": null,
      "outputs": [
        {
          "output_type": "stream",
          "name": "stdout",
          "text": [
            "Model: \"sequential_2\"\n",
            "_________________________________________________________________\n",
            " Layer (type)                Output Shape              Param #   \n",
            "=================================================================\n",
            " lstm_2 (LSTM)               (None, 500)               7002000   \n",
            "                                                                 \n",
            " dense_4 (Dense)             (None, 32)                16032     \n",
            "                                                                 \n",
            " dense_5 (Dense)             (None, 1)                 33        \n",
            "                                                                 \n",
            "=================================================================\n",
            "Total params: 7,018,065\n",
            "Trainable params: 7,018,065\n",
            "Non-trainable params: 0\n",
            "_________________________________________________________________\n"
          ]
        }
      ]
    },
    {
      "cell_type": "markdown",
      "source": [
        "***6. RESHAPE AND TRAIN THE MODEL***"
      ],
      "metadata": {
        "id": "mQm40q4C_fba"
      }
    },
    {
      "cell_type": "code",
      "source": [
        "X_train_new=X_train.reshape(X_train.shape[0],1,X_train.shape[1])\n",
        "X_valid_new=X_val.reshape(X_val.shape[0],1,X_val.shape[1])\n",
        "history = model.fit(X_train_new,y_train,validation_data=(X_valid_new,y_val),epochs=15)"
      ],
      "metadata": {
        "colab": {
          "base_uri": "https://localhost:8080/"
        },
        "id": "BmH9uGaYQC9a",
        "outputId": "e453bea3-ce29-4270-e2d7-69aeaf18ff26"
      },
      "execution_count": null,
      "outputs": [
        {
          "output_type": "stream",
          "name": "stdout",
          "text": [
            "Epoch 1/15\n",
            "75/75 [==============================] - 4s 24ms/step - loss: 18.4203 - accuracy: 0.5888 - val_loss: 13.0199 - val_accuracy: 0.6622\n",
            "Epoch 2/15\n",
            "75/75 [==============================] - 1s 15ms/step - loss: 9.6127 - accuracy: 0.7075 - val_loss: 6.7458 - val_accuracy: 0.7277\n",
            "Epoch 3/15\n",
            "75/75 [==============================] - 1s 15ms/step - loss: 4.9716 - accuracy: 0.7542 - val_loss: 3.5220 - val_accuracy: 0.7513\n",
            "Epoch 4/15\n",
            "75/75 [==============================] - 1s 14ms/step - loss: 2.6228 - accuracy: 0.7673 - val_loss: 1.9423 - val_accuracy: 0.7563\n",
            "Epoch 5/15\n",
            "75/75 [==============================] - 1s 15ms/step - loss: 1.4865 - accuracy: 0.7908 - val_loss: 1.1988 - val_accuracy: 0.7731\n",
            "Epoch 6/15\n",
            "75/75 [==============================] - 1s 15ms/step - loss: 0.9558 - accuracy: 0.8127 - val_loss: 0.8717 - val_accuracy: 0.7714\n",
            "Epoch 7/15\n",
            "75/75 [==============================] - 1s 14ms/step - loss: 0.7145 - accuracy: 0.8321 - val_loss: 0.7307 - val_accuracy: 0.7782\n",
            "Epoch 8/15\n",
            "75/75 [==============================] - 1s 15ms/step - loss: 0.6011 - accuracy: 0.8506 - val_loss: 0.6766 - val_accuracy: 0.7731\n",
            "Epoch 9/15\n",
            "75/75 [==============================] - 1s 15ms/step - loss: 0.5418 - accuracy: 0.8615 - val_loss: 0.6531 - val_accuracy: 0.7714\n",
            "Epoch 10/15\n",
            "75/75 [==============================] - 1s 15ms/step - loss: 0.5065 - accuracy: 0.8742 - val_loss: 0.6467 - val_accuracy: 0.7681\n",
            "Epoch 11/15\n",
            "75/75 [==============================] - 1s 15ms/step - loss: 0.4769 - accuracy: 0.8872 - val_loss: 0.6459 - val_accuracy: 0.7714\n",
            "Epoch 12/15\n",
            "75/75 [==============================] - 1s 14ms/step - loss: 0.4564 - accuracy: 0.8948 - val_loss: 0.6573 - val_accuracy: 0.7731\n",
            "Epoch 13/15\n",
            "75/75 [==============================] - 1s 15ms/step - loss: 0.4365 - accuracy: 0.9045 - val_loss: 0.6522 - val_accuracy: 0.7748\n",
            "Epoch 14/15\n",
            "75/75 [==============================] - 1s 15ms/step - loss: 0.4213 - accuracy: 0.9087 - val_loss: 0.6720 - val_accuracy: 0.7580\n",
            "Epoch 15/15\n",
            "75/75 [==============================] - 1s 15ms/step - loss: 0.4017 - accuracy: 0.9217 - val_loss: 0.6725 - val_accuracy: 0.7664\n"
          ]
        }
      ]
    },
    {
      "cell_type": "markdown",
      "source": [
        "***7. PLOT THE ACCURACY AND LOSS***"
      ],
      "metadata": {
        "id": "o5DtlD-S_kQD"
      }
    },
    {
      "cell_type": "code",
      "source": [
        "import matplotlib.pyplot as plt  # it overfits after epoch 11, but starts to learn again after 14\n",
        "\n",
        "plt.plot(history.history['accuracy'])\n",
        "plt.plot(history.history['val_accuracy'])\n",
        "plt.title('Model accuracy')\n",
        "plt.ylabel('Accuracy')\n",
        "plt.xlabel('Epoch')\n",
        "plt.legend(['Train', 'Test'], loc='upper left')\n",
        "plt.show()\n",
        "\n",
        "plt.plot(history.history['loss'])\n",
        "plt.plot(history.history['val_loss'])\n",
        "plt.title('Model loss')\n",
        "plt.ylabel('Loss')\n",
        "plt.xlabel('Epoch')\n",
        "plt.legend(['Train', 'Test'], loc='upper right')\n",
        "plt.show()"
      ],
      "metadata": {
        "colab": {
          "base_uri": "https://localhost:8080/",
          "height": 573
        },
        "id": "vLU9DtxTQodx",
        "outputId": "8edd76e3-20af-4b68-f61f-c3286f0cb5c5"
      },
      "execution_count": null,
      "outputs": [
        {
          "output_type": "display_data",
          "data": {
            "image/png": "[encoded data removed]",
            "text/plain": [
              "<Figure size 432x288 with 1 Axes>"
            ]
          },
          "metadata": {
            "needs_background": "light"
          }
        },
        {
          "output_type": "display_data",
          "data": {
            "image/png": "[encoded data removed]",
            "text/plain": [
              "<Figure size 432x288 with 1 Axes>"
            ]
          },
          "metadata": {
            "needs_background": "light"
          }
        }
      ]
    },
    {
      "cell_type": "code",
      "metadata": {
        "colab": {
          "base_uri": "https://localhost:8080/"
        },
        "id": "iMr77wIlUgQy",
        "outputId": "55425a76-7d65-423d-cddd-ce791c86bb23"
      },
      "source": [
        "model.save('lstm_fr')\n",
        "loaded_model=tf.keras.models.load_model('lstm_fr')"
      ],
      "execution_count": null,
      "outputs": [
        {
          "output_type": "stream",
          "name": "stderr",
          "text": [
            "WARNING:absl:Found untraced functions such as lstm_cell_layer_call_fn, lstm_cell_layer_call_and_return_conditional_losses, lstm_cell_layer_call_fn, lstm_cell_layer_call_and_return_conditional_losses, lstm_cell_layer_call_and_return_conditional_losses while saving (showing 5 of 5). These functions will not be directly callable after loading.\n"
          ]
        },
        {
          "output_type": "stream",
          "name": "stdout",
          "text": [
            "INFO:tensorflow:Assets written to: lstm_fr/assets\n"
          ]
        },
        {
          "output_type": "stream",
          "name": "stderr",
          "text": [
            "INFO:tensorflow:Assets written to: lstm_fr/assets\n",
            "WARNING:absl:<keras.layers.recurrent.LSTMCell object at 0x7f45b0023dd0> has the same name 'LSTMCell' as a built-in Keras object. Consider renaming <class 'keras.layers.recurrent.LSTMCell'> to avoid naming conflicts when loading with `tf.keras.models.load_model`. If renaming is not possible, pass the object in the `custom_objects` parameter of the load function.\n"
          ]
        }
      ]
    },
    {
      "cell_type": "code",
      "source": [
        "from sklearn.metrics import classification_report, confusion_matrix"
      ],
      "metadata": {
        "id": "KNjA1OzaGuWj"
      },
      "execution_count": null,
      "outputs": []
    },
    {
      "cell_type": "code",
      "source": [
        "y_pred_valid=(model.predict(X_valid_new)>0.5).astype(int)"
      ],
      "metadata": {
        "id": "St7Y6h9UgmUy"
      },
      "execution_count": null,
      "outputs": []
    },
    {
      "cell_type": "code",
      "source": [
        "print(classification_report(y_val,y_pred_valid))"
      ],
      "metadata": {
        "id": "K7beDHT3gwW-",
        "colab": {
          "base_uri": "https://localhost:8080/"
        },
        "outputId": "07596c83-131f-4578-8d28-bfd7df4350f1"
      },
      "execution_count": null,
      "outputs": [
        {
          "output_type": "stream",
          "name": "stdout",
          "text": [
            "              precision    recall  f1-score   support\n",
            "\n",
            "           0       0.78      0.75      0.76       299\n",
            "           1       0.76      0.78      0.77       296\n",
            "\n",
            "    accuracy                           0.77       595\n",
            "   macro avg       0.77      0.77      0.77       595\n",
            "weighted avg       0.77      0.77      0.77       595\n",
            "\n"
          ]
        }
      ]
    },
    {
      "cell_type": "code",
      "source": [
        "confusion_matrix(y_val,y_pred_valid)"
      ],
      "metadata": {
        "colab": {
          "base_uri": "https://localhost:8080/"
        },
        "id": "Uxxd__UPGlH1",
        "outputId": "0fccd450-ea32-466b-dccb-3d278572eb7c"
      },
      "execution_count": null,
      "outputs": [
        {
          "output_type": "execute_result",
          "data": {
            "text/plain": [
              "array([[225,  74],\n",
              "       [ 65, 231]])"
            ]
          },
          "metadata": {},
          "execution_count": 32
        }
      ]
    },
    {
      "cell_type": "code",
      "source": [
        "loaded_model=tf.keras.models.load_model('/content/model1')"
      ],
      "metadata": {
        "id": "f5SNlxOZc-L1"
      },
      "execution_count": null,
      "outputs": []
    }
  ]
}