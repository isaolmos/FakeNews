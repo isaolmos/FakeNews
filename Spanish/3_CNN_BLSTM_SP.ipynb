{
  "nbformat": 4,
  "nbformat_minor": 0,
  "metadata": {
    "colab": {
      "name": "CNN_BLSTM_SP.ipynb",
      "provenance": [],
      "collapsed_sections": [],
      "machine_shape": "hm"
    },
    "kernelspec": {
      "name": "python3",
      "display_name": "Python 3"
    },
    "language_info": {
      "name": "python"
    },
    "accelerator": "GPU"
  },
  "cells": [
    {
      "cell_type": "markdown",
      "metadata": {
        "id": "NpNzg2mCz3v8"
      },
      "source": [
        "# **CNN+BLSTM**"
      ]
    },
    {
      "cell_type": "markdown",
      "metadata": {
        "id": "TaZ0rQsf0Be3"
      },
      "source": [
        "**IMPORT PACKAGES AND LIBRARIES**"
      ]
    },
    {
      "cell_type": "code",
      "metadata": {
        "id": "93pbFgzf6PO4"
      },
      "source": [
        "%matplotlib inline\n",
        "import numpy as np\n",
        "import os\n",
        "import pandas as pd\n",
        "from nltk import word_tokenize"
      ],
      "execution_count": null,
      "outputs": []
    },
    {
      "cell_type": "markdown",
      "metadata": {
        "id": "XuqvzXYZ0F0h"
      },
      "source": [
        "**LOAD DATASET**"
      ]
    },
    {
      "cell_type": "code",
      "metadata": {
        "colab": {
          "base_uri": "https://localhost:8080/"
        },
        "id": "QzF_WZad6rTs",
        "outputId": "011c0e74-5020-4d3b-efd4-d277ca73d322"
      },
      "source": [
        "from google.colab import drive\n",
        "drive.mount('/content/drive')"
      ],
      "execution_count": null,
      "outputs": [
        {
          "output_type": "stream",
          "name": "stdout",
          "text": [
            "Mounted at /content/drive\n"
          ]
        }
      ]
    },
    {
      "cell_type": "code",
      "metadata": {
        "id": "bB1mmnGMIG9k"
      },
      "source": [
        "data=pd.read_csv('/content/drive/MyDrive/thesiss/Spanish_merged_dataa.csv')"
      ],
      "execution_count": null,
      "outputs": []
    },
    {
      "cell_type": "code",
      "metadata": {
        "colab": {
          "base_uri": "https://localhost:8080/",
          "height": 659
        },
        "id": "7VGagvBo7i4i",
        "outputId": "e6ac55e1-dfb1-47c8-a12c-6b1ede6b52de"
      },
      "source": [
        "data"
      ],
      "execution_count": null,
      "outputs": [
        {
          "output_type": "execute_result",
          "data": {
            "text/html": [
              "\n",
              "  <div id=\"df-44775fe0-7dcf-44a9-887d-bd4242ed4c15\">\n",
              "    <div class=\"colab-df-container\">\n",
              "      <div>\n",
              "<style scoped>\n",
              "    .dataframe tbody tr th:only-of-type {\n",
              "        vertical-align: middle;\n",
              "    }\n",
              "\n",
              "    .dataframe tbody tr th {\n",
              "        vertical-align: top;\n",
              "    }\n",
              "\n",
              "    .dataframe thead th {\n",
              "        text-align: right;\n",
              "    }\n",
              "</style>\n",
              "<table border=\"1\" class=\"dataframe\">\n",
              "  <thead>\n",
              "    <tr style=\"text-align: right;\">\n",
              "      <th></th>\n",
              "      <th>Unnamed: 0</th>\n",
              "      <th>Category</th>\n",
              "      <th>Text</th>\n",
              "      <th>clean_with_stopwords</th>\n",
              "      <th>final_clean</th>\n",
              "    </tr>\n",
              "  </thead>\n",
              "  <tbody>\n",
              "    <tr>\n",
              "      <th>0</th>\n",
              "      <td>0</td>\n",
              "      <td>1</td>\n",
              "      <td>RAE INCLUIRÁ LA PALABRA \"LADY\" EN EL DICCIONAR...</td>\n",
              "      <td>rae incluir el palabra lady en el diccionario ...</td>\n",
              "      <td>rae incluir palabra lady diccionario idioma es...</td>\n",
              "    </tr>\n",
              "    <tr>\n",
              "      <th>1</th>\n",
              "      <td>1</td>\n",
              "      <td>1</td>\n",
              "      <td>La palabra \"haiga\", aceptada por la RAE La Rea...</td>\n",
              "      <td>el palabra haigar aceptado por el rae el real ...</td>\n",
              "      <td>palabra haigar aceptado rae real academia leng...</td>\n",
              "    </tr>\n",
              "    <tr>\n",
              "      <th>2</th>\n",
              "      <td>2</td>\n",
              "      <td>1</td>\n",
              "      <td>YORDI ROSADO ESCRIBIRÁ Y DISEÑARÁ LOS NUEVOS L...</td>\n",
              "      <td>yordi rosado escribir y diseñar el nuevo libro...</td>\n",
              "      <td>yordi rosado escribir diseñar nuevo libro text...</td>\n",
              "    </tr>\n",
              "    <tr>\n",
              "      <th>3</th>\n",
              "      <td>3</td>\n",
              "      <td>0</td>\n",
              "      <td>UNAM capacitará a maestros para aprobar prueba...</td>\n",
              "      <td>unam capacitar a maestro para aprobar prueba p...</td>\n",
              "      <td>unam capacitar maestro aprobar prueba pis maxi...</td>\n",
              "    </tr>\n",
              "    <tr>\n",
              "      <th>4</th>\n",
              "      <td>4</td>\n",
              "      <td>1</td>\n",
              "      <td>Alerta: pretenden aprobar libros escolares con...</td>\n",
              "      <td>alerta pretender aprobar libro escolar con con...</td>\n",
              "      <td>alerta pretender aprobar libro escolar conteni...</td>\n",
              "    </tr>\n",
              "    <tr>\n",
              "      <th>...</th>\n",
              "      <td>...</td>\n",
              "      <td>...</td>\n",
              "      <td>...</td>\n",
              "      <td>...</td>\n",
              "      <td>...</td>\n",
              "    </tr>\n",
              "    <tr>\n",
              "      <th>2966</th>\n",
              "      <td>1995</td>\n",
              "      <td>0</td>\n",
              "      <td>El Consejo de Gobierno ha dado su visto bueno...</td>\n",
              "      <td>el consejo de gobierno haber dar su visto buen...</td>\n",
              "      <td>consejo gobierno haber dar visto bueno convoca...</td>\n",
              "    </tr>\n",
              "    <tr>\n",
              "      <th>2967</th>\n",
              "      <td>1996</td>\n",
              "      <td>0</td>\n",
              "      <td>Investigadores valencianos han desarrollado u...</td>\n",
              "      <td>investigador valenciano haber desarrollar uno ...</td>\n",
              "      <td>investigador valenciano haber desarrollar inno...</td>\n",
              "    </tr>\n",
              "    <tr>\n",
              "      <th>2968</th>\n",
              "      <td>1997</td>\n",
              "      <td>0</td>\n",
              "      <td>Los arrestados actuaban en coches y en establ...</td>\n",
              "      <td>el arrestado actuar en coche y en establecimie...</td>\n",
              "      <td>arrestado actuar coche establecimiento policia...</td>\n",
              "    </tr>\n",
              "    <tr>\n",
              "      <th>2969</th>\n",
              "      <td>1998</td>\n",
              "      <td>0</td>\n",
              "      <td>El Rey ha encargado este miércoles a Pedro Sá...</td>\n",
              "      <td>el rey haber encargar este miercoles a pedro s...</td>\n",
              "      <td>rey haber encargar miercoles pedro sanchez pre...</td>\n",
              "    </tr>\n",
              "    <tr>\n",
              "      <th>2970</th>\n",
              "      <td>1999</td>\n",
              "      <td>0</td>\n",
              "      <td>Las pruebas realizadas en el Centro Nacional ...</td>\n",
              "      <td>el prueba realizado en el centro nacional de m...</td>\n",
              "      <td>prueba realizado centro nacional microbiologia...</td>\n",
              "    </tr>\n",
              "  </tbody>\n",
              "</table>\n",
              "<p>2971 rows × 5 columns</p>\n",
              "</div>\n",
              "      <button class=\"colab-df-convert\" onclick=\"convertToInteractive('df-44775fe0-7dcf-44a9-887d-bd4242ed4c15')\"\n",
              "              title=\"Convert this dataframe to an interactive table.\"\n",
              "              style=\"display:none;\">\n",
              "        \n",
              "  <svg xmlns=\"http://www.w3.org/2000/svg\" height=\"24px\"viewBox=\"0 0 24 24\"\n",
              "       width=\"24px\">\n",
              "    <path d=\"M0 0h24v24H0V0z\" fill=\"none\"/>\n",
              "    <path d=\"M18.56 5.44l.94 2.06.94-2.06 2.06-.94-2.06-.94-.94-2.06-.94 2.06-2.06.94zm-11 1L8.5 8.5l.94-2.06 2.06-.94-2.06-.94L8.5 2.5l-.94 2.06-2.06.94zm10 10l.94 2.06.94-2.06 2.06-.94-2.06-.94-.94-2.06-.94 2.06-2.06.94z\"/><path d=\"M17.41 7.96l-1.37-1.37c-.4-.4-.92-.59-1.43-.59-.52 0-1.04.2-1.43.59L10.3 9.45l-7.72 7.72c-.78.78-.78 2.05 0 2.83L4 21.41c.39.39.9.59 1.41.59.51 0 1.02-.2 1.41-.59l7.78-7.78 2.81-2.81c.8-.78.8-2.07 0-2.86zM5.41 20L4 18.59l7.72-7.72 1.47 1.35L5.41 20z\"/>\n",
              "  </svg>\n",
              "      </button>\n",
              "      \n",
              "  <style>\n",
              "    .colab-df-container {\n",
              "      display:flex;\n",
              "      flex-wrap:wrap;\n",
              "      gap: 12px;\n",
              "    }\n",
              "\n",
              "    .colab-df-convert {\n",
              "      background-color: #E8F0FE;\n",
              "      border: none;\n",
              "      border-radius: 50%;\n",
              "      cursor: pointer;\n",
              "      display: none;\n",
              "      fill: #1967D2;\n",
              "      height: 32px;\n",
              "      padding: 0 0 0 0;\n",
              "      width: 32px;\n",
              "    }\n",
              "\n",
              "    .colab-df-convert:hover {\n",
              "      background-color: #E2EBFA;\n",
              "      box-shadow: 0px 1px 2px rgba(60, 64, 67, 0.3), 0px 1px 3px 1px rgba(60, 64, 67, 0.15);\n",
              "      fill: #174EA6;\n",
              "    }\n",
              "\n",
              "    [theme=dark] .colab-df-convert {\n",
              "      background-color: #3B4455;\n",
              "      fill: #D2E3FC;\n",
              "    }\n",
              "\n",
              "    [theme=dark] .colab-df-convert:hover {\n",
              "      background-color: #434B5C;\n",
              "      box-shadow: 0px 1px 3px 1px rgba(0, 0, 0, 0.15);\n",
              "      filter: drop-shadow(0px 1px 2px rgba(0, 0, 0, 0.3));\n",
              "      fill: #FFFFFF;\n",
              "    }\n",
              "  </style>\n",
              "\n",
              "      <script>\n",
              "        const buttonEl =\n",
              "          document.querySelector('#df-44775fe0-7dcf-44a9-887d-bd4242ed4c15 button.colab-df-convert');\n",
              "        buttonEl.style.display =\n",
              "          google.colab.kernel.accessAllowed ? 'block' : 'none';\n",
              "\n",
              "        async function convertToInteractive(key) {\n",
              "          const element = document.querySelector('#df-44775fe0-7dcf-44a9-887d-bd4242ed4c15');\n",
              "          const dataTable =\n",
              "            await google.colab.kernel.invokeFunction('convertToInteractive',\n",
              "                                                     [key], {});\n",
              "          if (!dataTable) return;\n",
              "\n",
              "          const docLinkHtml = 'Like what you see? Visit the ' +\n",
              "            '<a target=\"_blank\" href=https://colab.research.google.com/notebooks/data_table.ipynb>data table notebook</a>'\n",
              "            + ' to learn more about interactive tables.';\n",
              "          element.innerHTML = '';\n",
              "          dataTable['output_type'] = 'display_data';\n",
              "          await google.colab.output.renderOutput(dataTable, element);\n",
              "          const docLink = document.createElement('div');\n",
              "          docLink.innerHTML = docLinkHtml;\n",
              "          element.appendChild(docLink);\n",
              "        }\n",
              "      </script>\n",
              "    </div>\n",
              "  </div>\n",
              "  "
            ],
            "text/plain": [
              "      Unnamed: 0  ...                                        final_clean\n",
              "0              0  ...  rae incluir palabra lady diccionario idioma es...\n",
              "1              1  ...  palabra haigar aceptado rae real academia leng...\n",
              "2              2  ...  yordi rosado escribir diseñar nuevo libro text...\n",
              "3              3  ...  unam capacitar maestro aprobar prueba pis maxi...\n",
              "4              4  ...  alerta pretender aprobar libro escolar conteni...\n",
              "...          ...  ...                                                ...\n",
              "2966        1995  ...  consejo gobierno haber dar visto bueno convoca...\n",
              "2967        1996  ...  investigador valenciano haber desarrollar inno...\n",
              "2968        1997  ...  arrestado actuar coche establecimiento policia...\n",
              "2969        1998  ...  rey haber encargar miercoles pedro sanchez pre...\n",
              "2970        1999  ...  prueba realizado centro nacional microbiologia...\n",
              "\n",
              "[2971 rows x 5 columns]"
            ]
          },
          "metadata": {},
          "execution_count": 4
        }
      ]
    },
    {
      "cell_type": "code",
      "metadata": {
        "id": "IzpwjWTGILww"
      },
      "source": [
        "data.drop(['Unnamed: 0', 'Text','clean_with_stopwords'], axis=1, inplace=True)  # Remove unnecessary columns"
      ],
      "execution_count": null,
      "outputs": []
    },
    {
      "cell_type": "code",
      "metadata": {
        "id": "z2sediQZMQd6"
      },
      "source": [
        "docs = data.final_clean.values\n",
        "labels = data.Category.values"
      ],
      "execution_count": null,
      "outputs": []
    },
    {
      "cell_type": "markdown",
      "metadata": {
        "id": "7HPwDqSP0e8N"
      },
      "source": [
        "**TOKENIZATION**"
      ]
    },
    {
      "cell_type": "code",
      "metadata": {
        "id": "f3UbB6b3MdhN"
      },
      "source": [
        "from numpy import zeros\n",
        "from keras.preprocessing.text import Tokenizer\n",
        "from keras.preprocessing.sequence import pad_sequences\n",
        "from keras.models import Sequential\n",
        "from keras.layers import Dense\n",
        "from keras.layers import Flatten\n",
        "from keras.layers import Embedding\n",
        "\n",
        "# prepare tokenizer\n",
        "t = Tokenizer()\n",
        "t.fit_on_texts(docs)\n",
        "vocab_size = len(t.word_index) + 1  # I add one because it starts counting from 0"
      ],
      "execution_count": null,
      "outputs": []
    },
    {
      "cell_type": "code",
      "metadata": {
        "colab": {
          "base_uri": "https://localhost:8080/"
        },
        "id": "TdGmaoceP7rE",
        "outputId": "506d45f1-ac4f-4aff-c5b7-df267599d0ce"
      },
      "source": [
        "import nltk  # don't forget to do this step everytime in colab\n",
        "nltk.download('punkt')"
      ],
      "execution_count": null,
      "outputs": [
        {
          "output_type": "stream",
          "name": "stdout",
          "text": [
            "[nltk_data] Downloading package punkt to /root/nltk_data...\n",
            "[nltk_data]   Unzipping tokenizers/punkt.zip.\n"
          ]
        },
        {
          "output_type": "execute_result",
          "data": {
            "text/plain": [
              "True"
            ]
          },
          "metadata": {},
          "execution_count": 10
        }
      ]
    },
    {
      "cell_type": "code",
      "metadata": {
        "id": "cnHDKKi0P7t-"
      },
      "source": [
        "data['Text_tokenised'] = data['final_clean'].apply(word_tokenize)"
      ],
      "execution_count": null,
      "outputs": []
    },
    {
      "cell_type": "code",
      "metadata": {
        "colab": {
          "base_uri": "https://localhost:8080/",
          "height": 206
        },
        "id": "QJJN8SYkP_9e",
        "outputId": "a36f337a-5a3c-4c86-bf07-521e0baebbdd"
      },
      "source": [
        "data.head()"
      ],
      "execution_count": null,
      "outputs": [
        {
          "output_type": "execute_result",
          "data": {
            "text/html": [
              "\n",
              "  <div id=\"df-d7687f67-6955-418d-bb95-fc43024bd814\">\n",
              "    <div class=\"colab-df-container\">\n",
              "      <div>\n",
              "<style scoped>\n",
              "    .dataframe tbody tr th:only-of-type {\n",
              "        vertical-align: middle;\n",
              "    }\n",
              "\n",
              "    .dataframe tbody tr th {\n",
              "        vertical-align: top;\n",
              "    }\n",
              "\n",
              "    .dataframe thead th {\n",
              "        text-align: right;\n",
              "    }\n",
              "</style>\n",
              "<table border=\"1\" class=\"dataframe\">\n",
              "  <thead>\n",
              "    <tr style=\"text-align: right;\">\n",
              "      <th></th>\n",
              "      <th>Category</th>\n",
              "      <th>final_clean</th>\n",
              "      <th>Text_tokenised</th>\n",
              "    </tr>\n",
              "  </thead>\n",
              "  <tbody>\n",
              "    <tr>\n",
              "      <th>0</th>\n",
              "      <td>1</td>\n",
              "      <td>rae incluir palabra lady diccionario idioma es...</td>\n",
              "      <td>[rae, incluir, palabra, lady, diccionario, idi...</td>\n",
              "    </tr>\n",
              "    <tr>\n",
              "      <th>1</th>\n",
              "      <td>1</td>\n",
              "      <td>palabra haigar aceptado rae real academia leng...</td>\n",
              "      <td>[palabra, haigar, aceptado, rae, real, academi...</td>\n",
              "    </tr>\n",
              "    <tr>\n",
              "      <th>2</th>\n",
              "      <td>1</td>\n",
              "      <td>yordi rosado escribir diseñar nuevo libro text...</td>\n",
              "      <td>[yordi, rosado, escribir, diseñar, nuevo, libr...</td>\n",
              "    </tr>\n",
              "    <tr>\n",
              "      <th>3</th>\n",
              "      <td>0</td>\n",
              "      <td>unam capacitar maestro aprobar prueba pis maxi...</td>\n",
              "      <td>[unam, capacitar, maestro, aprobar, prueba, pi...</td>\n",
              "    </tr>\n",
              "    <tr>\n",
              "      <th>4</th>\n",
              "      <td>1</td>\n",
              "      <td>alerta pretender aprobar libro escolar conteni...</td>\n",
              "      <td>[alerta, pretender, aprobar, libro, escolar, c...</td>\n",
              "    </tr>\n",
              "  </tbody>\n",
              "</table>\n",
              "</div>\n",
              "      <button class=\"colab-df-convert\" onclick=\"convertToInteractive('df-d7687f67-6955-418d-bb95-fc43024bd814')\"\n",
              "              title=\"Convert this dataframe to an interactive table.\"\n",
              "              style=\"display:none;\">\n",
              "        \n",
              "  <svg xmlns=\"http://www.w3.org/2000/svg\" height=\"24px\"viewBox=\"0 0 24 24\"\n",
              "       width=\"24px\">\n",
              "    <path d=\"M0 0h24v24H0V0z\" fill=\"none\"/>\n",
              "    <path d=\"M18.56 5.44l.94 2.06.94-2.06 2.06-.94-2.06-.94-.94-2.06-.94 2.06-2.06.94zm-11 1L8.5 8.5l.94-2.06 2.06-.94-2.06-.94L8.5 2.5l-.94 2.06-2.06.94zm10 10l.94 2.06.94-2.06 2.06-.94-2.06-.94-.94-2.06-.94 2.06-2.06.94z\"/><path d=\"M17.41 7.96l-1.37-1.37c-.4-.4-.92-.59-1.43-.59-.52 0-1.04.2-1.43.59L10.3 9.45l-7.72 7.72c-.78.78-.78 2.05 0 2.83L4 21.41c.39.39.9.59 1.41.59.51 0 1.02-.2 1.41-.59l7.78-7.78 2.81-2.81c.8-.78.8-2.07 0-2.86zM5.41 20L4 18.59l7.72-7.72 1.47 1.35L5.41 20z\"/>\n",
              "  </svg>\n",
              "      </button>\n",
              "      \n",
              "  <style>\n",
              "    .colab-df-container {\n",
              "      display:flex;\n",
              "      flex-wrap:wrap;\n",
              "      gap: 12px;\n",
              "    }\n",
              "\n",
              "    .colab-df-convert {\n",
              "      background-color: #E8F0FE;\n",
              "      border: none;\n",
              "      border-radius: 50%;\n",
              "      cursor: pointer;\n",
              "      display: none;\n",
              "      fill: #1967D2;\n",
              "      height: 32px;\n",
              "      padding: 0 0 0 0;\n",
              "      width: 32px;\n",
              "    }\n",
              "\n",
              "    .colab-df-convert:hover {\n",
              "      background-color: #E2EBFA;\n",
              "      box-shadow: 0px 1px 2px rgba(60, 64, 67, 0.3), 0px 1px 3px 1px rgba(60, 64, 67, 0.15);\n",
              "      fill: #174EA6;\n",
              "    }\n",
              "\n",
              "    [theme=dark] .colab-df-convert {\n",
              "      background-color: #3B4455;\n",
              "      fill: #D2E3FC;\n",
              "    }\n",
              "\n",
              "    [theme=dark] .colab-df-convert:hover {\n",
              "      background-color: #434B5C;\n",
              "      box-shadow: 0px 1px 3px 1px rgba(0, 0, 0, 0.15);\n",
              "      filter: drop-shadow(0px 1px 2px rgba(0, 0, 0, 0.3));\n",
              "      fill: #FFFFFF;\n",
              "    }\n",
              "  </style>\n",
              "\n",
              "      <script>\n",
              "        const buttonEl =\n",
              "          document.querySelector('#df-d7687f67-6955-418d-bb95-fc43024bd814 button.colab-df-convert');\n",
              "        buttonEl.style.display =\n",
              "          google.colab.kernel.accessAllowed ? 'block' : 'none';\n",
              "\n",
              "        async function convertToInteractive(key) {\n",
              "          const element = document.querySelector('#df-d7687f67-6955-418d-bb95-fc43024bd814');\n",
              "          const dataTable =\n",
              "            await google.colab.kernel.invokeFunction('convertToInteractive',\n",
              "                                                     [key], {});\n",
              "          if (!dataTable) return;\n",
              "\n",
              "          const docLinkHtml = 'Like what you see? Visit the ' +\n",
              "            '<a target=\"_blank\" href=https://colab.research.google.com/notebooks/data_table.ipynb>data table notebook</a>'\n",
              "            + ' to learn more about interactive tables.';\n",
              "          element.innerHTML = '';\n",
              "          dataTable['output_type'] = 'display_data';\n",
              "          await google.colab.output.renderOutput(dataTable, element);\n",
              "          const docLink = document.createElement('div');\n",
              "          docLink.innerHTML = docLinkHtml;\n",
              "          element.appendChild(docLink);\n",
              "        }\n",
              "      </script>\n",
              "    </div>\n",
              "  </div>\n",
              "  "
            ],
            "text/plain": [
              "   Category  ...                                     Text_tokenised\n",
              "0         1  ...  [rae, incluir, palabra, lady, diccionario, idi...\n",
              "1         1  ...  [palabra, haigar, aceptado, rae, real, academi...\n",
              "2         1  ...  [yordi, rosado, escribir, diseñar, nuevo, libr...\n",
              "3         0  ...  [unam, capacitar, maestro, aprobar, prueba, pi...\n",
              "4         1  ...  [alerta, pretender, aprobar, libro, escolar, c...\n",
              "\n",
              "[5 rows x 3 columns]"
            ]
          },
          "metadata": {},
          "execution_count": 12
        }
      ]
    },
    {
      "cell_type": "code",
      "metadata": {
        "id": "mu6MfP9qQTfc"
      },
      "source": [
        "data['length'] = data['Text_tokenised'].str.len()"
      ],
      "execution_count": null,
      "outputs": []
    },
    {
      "cell_type": "code",
      "metadata": {
        "id": "y76T6owJQTmd"
      },
      "source": [
        "maxlen = data['length'].max()"
      ],
      "execution_count": null,
      "outputs": []
    },
    {
      "cell_type": "code",
      "source": [
        "maxlen"
      ],
      "metadata": {
        "colab": {
          "base_uri": "https://localhost:8080/"
        },
        "id": "uaAKHg9-4yo-",
        "outputId": "3189c095-fabc-40db-e025-09afc6294b46"
      },
      "execution_count": null,
      "outputs": [
        {
          "output_type": "execute_result",
          "data": {
            "text/plain": [
              "1391"
            ]
          },
          "metadata": {},
          "execution_count": 16
        }
      ]
    },
    {
      "cell_type": "markdown",
      "metadata": {
        "id": "PMHploBZ0ia9"
      },
      "source": [
        "**SPLIT DATA INTO TRAIN AND VALIDATE SETS**"
      ]
    },
    {
      "cell_type": "code",
      "metadata": {
        "id": "To4_1-bxMdjY"
      },
      "source": [
        "# divide the data into train/validate\n",
        "\n",
        "from sklearn.model_selection import train_test_split\n",
        "\n",
        "\n",
        "sentences_train, sentences_valid, y_train, y_valid = train_test_split(\n",
        "    docs, labels, test_size=0.2, random_state=1000)"
      ],
      "execution_count": null,
      "outputs": []
    },
    {
      "cell_type": "code",
      "metadata": {
        "colab": {
          "base_uri": "https://localhost:8080/"
        },
        "id": "83DcxUGB6-ds",
        "outputId": "fec5c818-47f8-4ae3-e822-5f575bbfa0b9"
      },
      "source": [
        "sentences_train"
      ],
      "execution_count": null,
      "outputs": [
        {
          "output_type": "execute_result",
          "data": {
            "text/plain": [
              "array(['propuesta salir adelante voto erc junts comu guanyem ejecutar espera informe juridicocompartir facebookcompartir twitterotroscerrarcompartir linkedincompartir pinterestver comentariosguardarimprimirb',\n",
              "       'realizar paro facultad ciencia politica social unam estudiante protestar feminicidio acto acoso sexual reportar casa estudio realizar paro facultad ciencia politica social unam estudiante facultad ciencia politica social fcpys universidad nacional autonomo mexico unam tomar instalacion realizar paro hora protesta feminicidio acto acoso sexual reportar casa estudio pais primero hora viernes mujer facultad tomar control puerta plantel evitar trabajador academico estudiante poder ingresar comunicado universitaria señalar tras paro ayer jueves realizar mujer facultad filosofia letra tambien pararir actividad fcps argumentar universidad nacional ser cuna macho acosador violador protesta asesinato mujer dia registrar pais recordar caso lesvy berlin osorio joven aparecer muerto mayo costado instituto ingenieria ciudad universitario haber acusar novio haber asesinado hoy alzar voz rehusar temer rehusar obligarno nosotra mismo superar nunca deber haber suceder ser responsable violacion infringir normalizacion suso cuerpo territorio ejercer poder aceptarer mas regla cuero volver doblegar protocolo victimizar nosotra mientras proteger indicar universitaria llamar comunidad denunciar aquel personar acosar asegurar manifestacion tipo continuar dejar perder carpeta investigacion dejar acosarno alzar voz pasado lunes marzo tras toma instalacion escuela nacional preparatoriar estudiante denunciar profesor acoso sexual alumna autoridad plantel anunciar despido dicho academico',\n",
              "       'tension espejo publico atravesar pequeño pantalla susanna griso pretender mantener debate ordenado educado mañana enero asesor equipo campaña donald trump españa roberto centeno haber poner faci',\n",
              "       ...,\n",
              "       'lider podemitar andalucia teresa rodriguez haber volver hacer ridiculo parlament andaluz teresa rodriguez reivindicar califato omeya encima racista reyes catolicos teresa rodriguez demostrar ser proinmigracion insul',\n",
              "       'amlo romper silencio hablar olga breeskin acostar viejo parecer candidato presidencia andr manuel lopez obrador hacer fuerte polemico declaracion dejar asombrado luego ex vedette dar declaracion andr asegurar pagar servicio lopez obrador contar terrible momento vivir ser vincular reconocido ex vedette olga breskin ser falta respeto persona señora vincular manera tener esposa amo respeto tipo comentario generar bueno mas molesto candidato presidencia mexico señalo acostar viejo parecer travesti problema haber espantar varios seguidor pues haber hacer idea engañar esposa',\n",
              "       'detenido eyacular cafe jefa ultimo cuatro año'], dtype=object)"
            ]
          },
          "metadata": {},
          "execution_count": 18
        }
      ]
    },
    {
      "cell_type": "markdown",
      "metadata": {
        "id": "2RemNeir0pr9"
      },
      "source": [
        "**CONVERT TEXTS TO SEQUENCES**"
      ]
    },
    {
      "cell_type": "code",
      "metadata": {
        "colab": {
          "base_uri": "https://localhost:8080/"
        },
        "id": "CeqbMAw5Mdlq",
        "outputId": "eb078736-1d5b-402a-d861-2b0e29c028b9"
      },
      "source": [
        "# use keras tokenizer to turn train and valid to sequence\n",
        "\n",
        "\n",
        "X_train = t.texts_to_sequences(sentences_train)\n",
        "X_valid = t.texts_to_sequences(sentences_valid)\n",
        "\n",
        "\n",
        "print(sentences_train[2])\n",
        "print(X_train[2])"
      ],
      "execution_count": null,
      "outputs": [
        {
          "output_type": "stream",
          "name": "stdout",
          "text": [
            "tension espejo publico atravesar pequeño pantalla susanna griso pretender mantener debate ordenado educado mañana enero asesor equipo campaña donald trump españa roberto centeno haber poner faci\n",
            "[2501, 7201, 42, 2604, 279, 1649, 23372, 12593, 702, 178, 541, 4698, 6025, 315, 470, 1509, 79, 105, 372, 102, 76, 2136, 12408, 2, 60, 23373]\n"
          ]
        }
      ]
    },
    {
      "cell_type": "markdown",
      "metadata": {
        "id": "EhfWbaHN0r0h"
      },
      "source": [
        "**APPLY POST-PADDING**"
      ]
    },
    {
      "cell_type": "code",
      "metadata": {
        "colab": {
          "base_uri": "https://localhost:8080/"
        },
        "id": "tTe28qgrMQgI",
        "outputId": "8e4d48ce-e632-4024-94aa-efee97a936d0"
      },
      "source": [
        "# pad the short sequences\n",
        "X_train = pad_sequences(X_train, padding='post', maxlen=maxlen)\n",
        "X_valid = pad_sequences(X_valid, padding='post', maxlen=maxlen)\n",
        "\n",
        "print(X_train[1, :])"
      ],
      "execution_count": null,
      "outputs": [
        {
          "output_type": "stream",
          "name": "stdout",
          "text": [
            "[  96 2236 1844 ...    0    0    0]\n"
          ]
        }
      ]
    },
    {
      "cell_type": "markdown",
      "metadata": {
        "id": "5rUf8Fa20ulU"
      },
      "source": [
        "**EMBEDDING MATRIX**"
      ]
    },
    {
      "cell_type": "code",
      "metadata": {
        "id": "4tNTliaJMiR2"
      },
      "source": [
        "def create_embedding_matrix(filepath, word_index, embedding_dim):\n",
        "    vocab_size = len(word_index) + 1  # Adding again 1 because of reserved 0 index\n",
        "    embedding_matrix = np.zeros((vocab_size, embedding_dim))\n",
        "\n",
        "    with open(filepath, encoding='utf-8') as f:\n",
        "        for line in f:\n",
        "            word, *vector = line.split()\n",
        "            if word in word_index:\n",
        "                idx = word_index[word] \n",
        "                embedding_matrix[idx] = np.array(\n",
        "                    vector, dtype=np.float32)[:embedding_dim]\n",
        "\n",
        "    return embedding_matrix"
      ],
      "execution_count": null,
      "outputs": []
    },
    {
      "cell_type": "markdown",
      "metadata": {
        "id": "NYwoB_VU0yIX"
      },
      "source": [
        "**LOAD PRE-TRAINED WORD EMBEDDINGS**"
      ]
    },
    {
      "cell_type": "code",
      "metadata": {
        "id": "Hf0iPuKiMiUI"
      },
      "source": [
        "embedding_dim = 300\n",
        "embedding_matrix = create_embedding_matrix(\n",
        "        '/content/drive/MyDrive/thesiss/embeddings-l-model.vec',\n",
        "        t.word_index, embedding_dim)"
      ],
      "execution_count": null,
      "outputs": []
    },
    {
      "cell_type": "code",
      "source": [
        "# how many of the embedding vectors are nonzero\n",
        "\n",
        "nonzero_elements = np.count_nonzero(np.count_nonzero(embedding_matrix, axis=1))\n",
        "nonzero_elements / vocab_size"
      ],
      "metadata": {
        "colab": {
          "base_uri": "https://localhost:8080/"
        },
        "id": "OPY-5Pi-45FL",
        "outputId": "f526f5b0-7eba-4ff8-fa3d-8fc42e6d3115"
      },
      "execution_count": null,
      "outputs": [
        {
          "output_type": "execute_result",
          "data": {
            "text/plain": [
              "0.8522880628143786"
            ]
          },
          "metadata": {},
          "execution_count": 23
        }
      ]
    },
    {
      "cell_type": "markdown",
      "metadata": {
        "id": "qb1ysMWNV4g-"
      },
      "source": [
        "# **MODEL: CNN + BLSTM**"
      ]
    },
    {
      "cell_type": "markdown",
      "source": [
        "**BUILD THE MODEL**"
      ],
      "metadata": {
        "id": "QrcER6_p9dZH"
      }
    },
    {
      "cell_type": "code",
      "metadata": {
        "id": "VQgUSIbFtZSv"
      },
      "source": [
        "import tensorflow as tf\n",
        "from keras.layers import Conv1D, MaxPooling1D, Embedding, Dropout\n",
        "from tensorflow.keras.optimizers import Adam,SGD\n",
        "\n",
        "model1 = tf.keras.Sequential([\n",
        "    tf.keras.layers.Embedding(vocab_size, embedding_dim, input_length=maxlen),\n",
        "    tf.keras.layers.Dropout(0.1),\n",
        "    tf.keras.layers.Conv1D(64, 2, activation='relu'),\n",
        "    tf.keras.layers.MaxPooling1D(pool_size=4),\n",
        "    tf.keras.layers.Bidirectional(tf.keras.layers.LSTM(40, return_sequences=True)),\n",
        "    tf.keras.layers.Bidirectional(tf.keras.layers.LSTM(40)),\n",
        "    tf.keras.layers.Dropout(0.1),  \n",
        "    tf.keras.layers.Dense(32, activation='relu'),\n",
        "    tf.keras.layers.Dropout(0.1),  \n",
        "    tf.keras.layers.Dense(16, activation='relu'),\n",
        "    tf.keras.layers.Dense(1, activation='sigmoid')\n",
        "])\n",
        "\n",
        "adam=Adam(learning_rate=0.00001)\n",
        "model1.compile(optimizer=adam,\n",
        "               loss='binary_crossentropy',\n",
        "               metrics=['accuracy'])"
      ],
      "execution_count": null,
      "outputs": []
    },
    {
      "cell_type": "code",
      "metadata": {
        "colab": {
          "base_uri": "https://localhost:8080/"
        },
        "id": "BRY9aGUCwNJG",
        "outputId": "edcbca9a-9610-45ba-9cf4-8a3abb1ab06a"
      },
      "source": [
        "model1.summary()"
      ],
      "execution_count": null,
      "outputs": [
        {
          "output_type": "stream",
          "name": "stdout",
          "text": [
            "Model: \"sequential_6\"\n",
            "_________________________________________________________________\n",
            " Layer (type)                Output Shape              Param #   \n",
            "=================================================================\n",
            " embedding_7 (Embedding)     (None, 1357, 300)         7335900   \n",
            "                                                                 \n",
            " dropout_18 (Dropout)        (None, 1357, 300)         0         \n",
            "                                                                 \n",
            " conv1d_7 (Conv1D)           (None, 1356, 64)          38464     \n",
            "                                                                 \n",
            " max_pooling1d_7 (MaxPooling  (None, 339, 64)          0         \n",
            " 1D)                                                             \n",
            "                                                                 \n",
            " bidirectional_14 (Bidirecti  (None, 339, 80)          33600     \n",
            " onal)                                                           \n",
            "                                                                 \n",
            " bidirectional_15 (Bidirecti  (None, 80)               38720     \n",
            " onal)                                                           \n",
            "                                                                 \n",
            " dropout_19 (Dropout)        (None, 80)                0         \n",
            "                                                                 \n",
            " dense_18 (Dense)            (None, 32)                2592      \n",
            "                                                                 \n",
            " dropout_20 (Dropout)        (None, 32)                0         \n",
            "                                                                 \n",
            " dense_19 (Dense)            (None, 16)                528       \n",
            "                                                                 \n",
            " dense_20 (Dense)            (None, 1)                 17        \n",
            "                                                                 \n",
            "=================================================================\n",
            "Total params: 7,449,821\n",
            "Trainable params: 7,449,821\n",
            "Non-trainable params: 0\n",
            "_________________________________________________________________\n"
          ]
        }
      ]
    },
    {
      "cell_type": "markdown",
      "source": [
        "**TRAIN THE MODEL**"
      ],
      "metadata": {
        "id": "9TJi-3nG9feI"
      }
    },
    {
      "cell_type": "code",
      "source": [
        "history = model1.fit(X_train, y_train,\n",
        "                    epochs=25,\n",
        "                    verbose=True,\n",
        "                    validation_data=(X_valid, y_valid),\n",
        "                    batch_size=32)"
      ],
      "metadata": {
        "colab": {
          "base_uri": "https://localhost:8080/"
        },
        "id": "eNb1EIMT5MWd",
        "outputId": "6211f124-3adf-4e20-bc10-b93a64f70591"
      },
      "execution_count": null,
      "outputs": [
        {
          "output_type": "stream",
          "name": "stdout",
          "text": [
            "Epoch 1/25\n",
            "75/75 [==============================] - 12s 96ms/step - loss: 0.6931 - accuracy: 0.5051 - val_loss: 0.6932 - val_accuracy: 0.4992\n",
            "Epoch 2/25\n",
            "75/75 [==============================] - 5s 70ms/step - loss: 0.6931 - accuracy: 0.4983 - val_loss: 0.6932 - val_accuracy: 0.5059\n",
            "Epoch 3/25\n",
            "75/75 [==============================] - 5s 70ms/step - loss: 0.6931 - accuracy: 0.5042 - val_loss: 0.6931 - val_accuracy: 0.5076\n",
            "Epoch 4/25\n",
            "75/75 [==============================] - 5s 70ms/step - loss: 0.6930 - accuracy: 0.5114 - val_loss: 0.6930 - val_accuracy: 0.4958\n",
            "Epoch 5/25\n",
            "75/75 [==============================] - 5s 70ms/step - loss: 0.6928 - accuracy: 0.5130 - val_loss: 0.6930 - val_accuracy: 0.4941\n",
            "Epoch 6/25\n",
            "75/75 [==============================] - 5s 70ms/step - loss: 0.6927 - accuracy: 0.5375 - val_loss: 0.6929 - val_accuracy: 0.5109\n",
            "Epoch 7/25\n",
            "75/75 [==============================] - 5s 70ms/step - loss: 0.6925 - accuracy: 0.5421 - val_loss: 0.6928 - val_accuracy: 0.5496\n",
            "Epoch 8/25\n",
            "75/75 [==============================] - 5s 70ms/step - loss: 0.6922 - accuracy: 0.5627 - val_loss: 0.6928 - val_accuracy: 0.5513\n",
            "Epoch 9/25\n",
            "75/75 [==============================] - 5s 70ms/step - loss: 0.6918 - accuracy: 0.5884 - val_loss: 0.6925 - val_accuracy: 0.5328\n",
            "Epoch 10/25\n",
            "75/75 [==============================] - 5s 70ms/step - loss: 0.6916 - accuracy: 0.5867 - val_loss: 0.6924 - val_accuracy: 0.5681\n",
            "Epoch 11/25\n",
            "75/75 [==============================] - 5s 70ms/step - loss: 0.6910 - accuracy: 0.6242 - val_loss: 0.6922 - val_accuracy: 0.5849\n",
            "Epoch 12/25\n",
            "75/75 [==============================] - 5s 70ms/step - loss: 0.6903 - accuracy: 0.6334 - val_loss: 0.6919 - val_accuracy: 0.5866\n",
            "Epoch 13/25\n",
            "75/75 [==============================] - 5s 70ms/step - loss: 0.6896 - accuracy: 0.6629 - val_loss: 0.6916 - val_accuracy: 0.6067\n",
            "Epoch 14/25\n",
            "75/75 [==============================] - 5s 70ms/step - loss: 0.6888 - accuracy: 0.6923 - val_loss: 0.6913 - val_accuracy: 0.6218\n",
            "Epoch 15/25\n",
            "75/75 [==============================] - 5s 70ms/step - loss: 0.6876 - accuracy: 0.7100 - val_loss: 0.6908 - val_accuracy: 0.6471\n",
            "Epoch 16/25\n",
            "75/75 [==============================] - 5s 70ms/step - loss: 0.6861 - accuracy: 0.7479 - val_loss: 0.6903 - val_accuracy: 0.6555\n",
            "Epoch 17/25\n",
            "75/75 [==============================] - 5s 70ms/step - loss: 0.6843 - accuracy: 0.7790 - val_loss: 0.6896 - val_accuracy: 0.6840\n",
            "Epoch 18/25\n",
            "75/75 [==============================] - 5s 69ms/step - loss: 0.6824 - accuracy: 0.8022 - val_loss: 0.6887 - val_accuracy: 0.6790\n",
            "Epoch 19/25\n",
            "75/75 [==============================] - 5s 70ms/step - loss: 0.6791 - accuracy: 0.8249 - val_loss: 0.6875 - val_accuracy: 0.6538\n",
            "Epoch 20/25\n",
            "75/75 [==============================] - 5s 70ms/step - loss: 0.6762 - accuracy: 0.8418 - val_loss: 0.6861 - val_accuracy: 0.6840\n",
            "Epoch 21/25\n",
            "75/75 [==============================] - 5s 70ms/step - loss: 0.6715 - accuracy: 0.8565 - val_loss: 0.6840 - val_accuracy: 0.6958\n",
            "Epoch 22/25\n",
            "75/75 [==============================] - 5s 70ms/step - loss: 0.6650 - accuracy: 0.8653 - val_loss: 0.6813 - val_accuracy: 0.7092\n",
            "Epoch 23/25\n",
            "75/75 [==============================] - 5s 70ms/step - loss: 0.6567 - accuracy: 0.8767 - val_loss: 0.6774 - val_accuracy: 0.7143\n",
            "Epoch 24/25\n",
            "75/75 [==============================] - 5s 70ms/step - loss: 0.6438 - accuracy: 0.8847 - val_loss: 0.6712 - val_accuracy: 0.7126\n",
            "Epoch 25/25\n",
            "75/75 [==============================] - 5s 70ms/step - loss: 0.6222 - accuracy: 0.8923 - val_loss: 0.6595 - val_accuracy: 0.7176\n"
          ]
        }
      ]
    },
    {
      "cell_type": "markdown",
      "source": [
        "**GRAPHIC REPRESENTATION**"
      ],
      "metadata": {
        "id": "A-aGA4pA9hOM"
      }
    },
    {
      "cell_type": "code",
      "source": [
        "import matplotlib.pyplot as plt\n",
        "\n",
        "plt.plot(history.history['accuracy'])\n",
        "plt.plot(history.history['val_accuracy'])\n",
        "plt.title('Model accuracy')\n",
        "plt.ylabel('Accuracy')\n",
        "plt.xlabel('Epoch')\n",
        "plt.legend(['Train', 'Test'], loc='upper left')\n",
        "plt.show()\n",
        "\n",
        "plt.plot(history.history['loss'])\n",
        "plt.plot(history.history['val_loss'])\n",
        "plt.title('Model loss')\n",
        "plt.ylabel('Loss')\n",
        "plt.xlabel('Epoch')\n",
        "plt.legend(['Train', 'Test'], loc='upper right')\n",
        "plt.show()"
      ],
      "metadata": {
        "colab": {
          "base_uri": "https://localhost:8080/",
          "height": 573
        },
        "id": "h7zPcOvu6W1z",
        "outputId": "487b422d-6d12-4a06-fa48-40a54cdecb77"
      },
      "execution_count": null,
      "outputs": [
        {
          "output_type": "display_data",
          "data": {
            "image/png": "[encoded data removed]",
            "text/plain": [
              "<Figure size 432x288 with 1 Axes>"
            ]
          },
          "metadata": {
            "needs_background": "light"
          }
        },
        {
          "output_type": "display_data",
          "data": {
            "image/png": "[encoded data removed]",
            "text/plain": [
              "<Figure size 432x288 with 1 Axes>"
            ]
          },
          "metadata": {
            "needs_background": "light"
          }
        }
      ]
    },
    {
      "cell_type": "markdown",
      "source": [
        "**METRICS**"
      ],
      "metadata": {
        "id": "BCX2LovW-dp_"
      }
    },
    {
      "cell_type": "code",
      "source": [
        "y_pred_valid=(model1.predict(X_valid)>0.5).astype(int)"
      ],
      "metadata": {
        "id": "bFXh2j_BcjAK"
      },
      "execution_count": null,
      "outputs": []
    },
    {
      "cell_type": "code",
      "source": [
        "from sklearn.metrics import classification_report, confusion_matrix\n",
        "print(classification_report(y_valid,y_pred_valid))"
      ],
      "metadata": {
        "colab": {
          "base_uri": "https://localhost:8080/"
        },
        "id": "SEKnizhmCges",
        "outputId": "cdc28462-2a14-4efd-a3e2-acc1b1e5d2cc"
      },
      "execution_count": null,
      "outputs": [
        {
          "output_type": "stream",
          "name": "stdout",
          "text": [
            "              precision    recall  f1-score   support\n",
            "\n",
            "           0       0.70      0.74      0.72       291\n",
            "           1       0.73      0.70      0.72       304\n",
            "\n",
            "    accuracy                           0.72       595\n",
            "   macro avg       0.72      0.72      0.72       595\n",
            "weighted avg       0.72      0.72      0.72       595\n",
            "\n"
          ]
        }
      ]
    },
    {
      "cell_type": "code",
      "source": [
        "confusion_matrix(y_valid,y_pred_valid)"
      ],
      "metadata": {
        "colab": {
          "base_uri": "https://localhost:8080/"
        },
        "id": "IRFUJhHHLLeW",
        "outputId": "9bfcdc24-23b6-45e2-c666-d1b109d1bea0"
      },
      "execution_count": null,
      "outputs": [
        {
          "output_type": "execute_result",
          "data": {
            "text/plain": [
              "array([[214,  77],\n",
              "       [ 91, 213]])"
            ]
          },
          "metadata": {},
          "execution_count": 55
        }
      ]
    },
    {
      "cell_type": "markdown",
      "source": [
        "# **ATTEMPTING TO SOLVE OVERFITTING**"
      ],
      "metadata": {
        "id": "lTToagZg9kgy"
      }
    },
    {
      "cell_type": "code",
      "source": [
        "import tensorflow as tf\n",
        "from keras.layers import Conv1D, MaxPooling1D, Embedding, Dropout\n",
        "from tensorflow.keras.optimizers import Adam,SGD\n",
        "from keras.regularizers import l2\n",
        "\n",
        "model2 = tf.keras.Sequential([\n",
        "    tf.keras.layers.Embedding(vocab_size, embedding_dim, input_length=maxlen),\n",
        "    tf.keras.layers.Dropout(0.1),\n",
        "    tf.keras.layers.Conv1D(64, 2, activation='relu'),\n",
        "    tf.keras.layers.MaxPooling1D(pool_size=4),\n",
        "    tf.keras.layers.Bidirectional(tf.keras.layers.LSTM(40, return_sequences=True)),\n",
        "    tf.keras.layers.Bidirectional(tf.keras.layers.LSTM(40)),\n",
        "    tf.keras.layers.Dropout(0.1),  \n",
        "    tf.keras.layers.Dense(32, activation='relu', kernel_regularizer=l2(0.01), bias_regularizer=l2(0.01)),\n",
        "    tf.keras.layers.Dropout(0.1),  \n",
        "    tf.keras.layers.Dense(16, activation='relu'),\n",
        "    tf.keras.layers.Dense(1, activation='sigmoid')\n",
        "])\n",
        "\n",
        "adam=Adam(learning_rate=0.00001) # 1e-5\n",
        "model2.compile(optimizer=adam,\n",
        "               loss='binary_crossentropy',\n",
        "               metrics=['accuracy'])"
      ],
      "metadata": {
        "id": "Hz9zn6F-6cyE"
      },
      "execution_count": null,
      "outputs": []
    },
    {
      "cell_type": "code",
      "source": [
        "model2.summary()"
      ],
      "metadata": {
        "colab": {
          "base_uri": "https://localhost:8080/"
        },
        "id": "bqGhb3rA7HWi",
        "outputId": "5eb984b0-7e2e-4416-de56-ca3a9f8216f9"
      },
      "execution_count": null,
      "outputs": [
        {
          "output_type": "stream",
          "name": "stdout",
          "text": [
            "Model: \"sequential_11\"\n",
            "_________________________________________________________________\n",
            " Layer (type)                Output Shape              Param #   \n",
            "=================================================================\n",
            " embedding_12 (Embedding)    (None, 1357, 300)         7335900   \n",
            "                                                                 \n",
            " dropout_33 (Dropout)        (None, 1357, 300)         0         \n",
            "                                                                 \n",
            " conv1d_12 (Conv1D)          (None, 1356, 64)          38464     \n",
            "                                                                 \n",
            " max_pooling1d_12 (MaxPoolin  (None, 339, 64)          0         \n",
            " g1D)                                                            \n",
            "                                                                 \n",
            " bidirectional_24 (Bidirecti  (None, 339, 80)          33600     \n",
            " onal)                                                           \n",
            "                                                                 \n",
            " bidirectional_25 (Bidirecti  (None, 80)               38720     \n",
            " onal)                                                           \n",
            "                                                                 \n",
            " dropout_34 (Dropout)        (None, 80)                0         \n",
            "                                                                 \n",
            " dense_33 (Dense)            (None, 32)                2592      \n",
            "                                                                 \n",
            " dropout_35 (Dropout)        (None, 32)                0         \n",
            "                                                                 \n",
            " dense_34 (Dense)            (None, 16)                528       \n",
            "                                                                 \n",
            " dense_35 (Dense)            (None, 1)                 17        \n",
            "                                                                 \n",
            "=================================================================\n",
            "Total params: 7,449,821\n",
            "Trainable params: 7,449,821\n",
            "Non-trainable params: 0\n",
            "_________________________________________________________________\n"
          ]
        }
      ]
    },
    {
      "cell_type": "code",
      "metadata": {
        "id": "mbQ07l5l3G7Y",
        "colab": {
          "base_uri": "https://localhost:8080/"
        },
        "outputId": "65160697-ee9e-40e4-daec-ca21b7ed92e2"
      },
      "source": [
        "from keras.callbacks import EarlyStopping  # THE MODEL IS STILL OVERFITTED\n",
        "es = EarlyStopping(monitor='val_loss', mode='min', verbose=1, patience=5) \n",
        "# fit the model on the whole data\n",
        "history2 = model2.fit(X_train, y_train,\n",
        "                    epochs=50,\n",
        "                    verbose=True,\n",
        "                    validation_data=(X_valid, y_valid),\n",
        "                    batch_size=16,\n",
        "                    callbacks=[es])# adding early stopping)"
      ],
      "execution_count": null,
      "outputs": [
        {
          "output_type": "stream",
          "name": "stdout",
          "text": [
            "Epoch 1/50\n",
            "149/149 [==============================] - 16s 69ms/step - loss: 1.1550 - accuracy: 0.5042 - val_loss: 1.1507 - val_accuracy: 0.4891\n",
            "Epoch 2/50\n",
            "149/149 [==============================] - 9s 60ms/step - loss: 1.1460 - accuracy: 0.5063 - val_loss: 1.1420 - val_accuracy: 0.4891\n",
            "Epoch 3/50\n",
            "149/149 [==============================] - 9s 60ms/step - loss: 1.1375 - accuracy: 0.5093 - val_loss: 1.1335 - val_accuracy: 0.4891\n",
            "Epoch 4/50\n",
            "149/149 [==============================] - 9s 60ms/step - loss: 1.1290 - accuracy: 0.5063 - val_loss: 1.1252 - val_accuracy: 0.4891\n",
            "Epoch 5/50\n",
            "149/149 [==============================] - 9s 60ms/step - loss: 1.1204 - accuracy: 0.5038 - val_loss: 1.1170 - val_accuracy: 0.4891\n",
            "Epoch 6/50\n",
            "149/149 [==============================] - 9s 60ms/step - loss: 1.1121 - accuracy: 0.5118 - val_loss: 1.1089 - val_accuracy: 0.4891\n",
            "Epoch 7/50\n",
            "149/149 [==============================] - 9s 60ms/step - loss: 1.1039 - accuracy: 0.5101 - val_loss: 1.1009 - val_accuracy: 0.4891\n",
            "Epoch 8/50\n",
            "149/149 [==============================] - 9s 60ms/step - loss: 1.0959 - accuracy: 0.5143 - val_loss: 1.0930 - val_accuracy: 0.4891\n",
            "Epoch 9/50\n",
            "149/149 [==============================] - 9s 60ms/step - loss: 1.0876 - accuracy: 0.5122 - val_loss: 1.0852 - val_accuracy: 0.4891\n",
            "Epoch 10/50\n",
            "149/149 [==============================] - 9s 60ms/step - loss: 1.0796 - accuracy: 0.5152 - val_loss: 1.0776 - val_accuracy: 0.4891\n",
            "Epoch 11/50\n",
            "149/149 [==============================] - 9s 60ms/step - loss: 1.0715 - accuracy: 0.5194 - val_loss: 1.0700 - val_accuracy: 0.4891\n",
            "Epoch 12/50\n",
            "149/149 [==============================] - 9s 60ms/step - loss: 1.0635 - accuracy: 0.5130 - val_loss: 1.0625 - val_accuracy: 0.4891\n",
            "Epoch 13/50\n",
            "149/149 [==============================] - 9s 60ms/step - loss: 1.0551 - accuracy: 0.5215 - val_loss: 1.0549 - val_accuracy: 0.4908\n",
            "Epoch 14/50\n",
            "149/149 [==============================] - 9s 60ms/step - loss: 1.0467 - accuracy: 0.5160 - val_loss: 1.0473 - val_accuracy: 0.4908\n",
            "Epoch 15/50\n",
            "149/149 [==============================] - 9s 60ms/step - loss: 1.0377 - accuracy: 0.5253 - val_loss: 1.0395 - val_accuracy: 0.4975\n",
            "Epoch 16/50\n",
            "149/149 [==============================] - 9s 60ms/step - loss: 1.0274 - accuracy: 0.5471 - val_loss: 1.0316 - val_accuracy: 0.4941\n",
            "Epoch 17/50\n",
            "149/149 [==============================] - 9s 60ms/step - loss: 1.0158 - accuracy: 0.5324 - val_loss: 1.0224 - val_accuracy: 0.5361\n",
            "Epoch 18/50\n",
            "149/149 [==============================] - 9s 60ms/step - loss: 0.9999 - accuracy: 0.5981 - val_loss: 1.0119 - val_accuracy: 0.5092\n",
            "Epoch 19/50\n",
            "149/149 [==============================] - 9s 60ms/step - loss: 0.9716 - accuracy: 0.6065 - val_loss: 0.9932 - val_accuracy: 0.5580\n",
            "Epoch 20/50\n",
            "149/149 [==============================] - 9s 60ms/step - loss: 0.9389 - accuracy: 0.6936 - val_loss: 0.9807 - val_accuracy: 0.5681\n",
            "Epoch 21/50\n",
            "149/149 [==============================] - 9s 60ms/step - loss: 0.9112 - accuracy: 0.7184 - val_loss: 0.9768 - val_accuracy: 0.5630\n",
            "Epoch 22/50\n",
            "149/149 [==============================] - 9s 60ms/step - loss: 0.8848 - accuracy: 0.7336 - val_loss: 0.9697 - val_accuracy: 0.5899\n",
            "Epoch 23/50\n",
            "149/149 [==============================] - 9s 60ms/step - loss: 0.8587 - accuracy: 0.7622 - val_loss: 0.9562 - val_accuracy: 0.6975\n",
            "Epoch 24/50\n",
            "149/149 [==============================] - 9s 60ms/step - loss: 0.8302 - accuracy: 0.7917 - val_loss: 0.9431 - val_accuracy: 0.6739\n",
            "Epoch 25/50\n",
            "149/149 [==============================] - 9s 60ms/step - loss: 0.8029 - accuracy: 0.8375 - val_loss: 0.9368 - val_accuracy: 0.7395\n",
            "Epoch 26/50\n",
            "149/149 [==============================] - 9s 60ms/step - loss: 0.7741 - accuracy: 0.8388 - val_loss: 0.9297 - val_accuracy: 0.7479\n",
            "Epoch 27/50\n",
            "149/149 [==============================] - 9s 60ms/step - loss: 0.7444 - accuracy: 0.8649 - val_loss: 0.9350 - val_accuracy: 0.7025\n",
            "Epoch 28/50\n",
            "149/149 [==============================] - 9s 60ms/step - loss: 0.7558 - accuracy: 0.8527 - val_loss: 0.9377 - val_accuracy: 0.7227\n",
            "Epoch 29/50\n",
            "149/149 [==============================] - 9s 60ms/step - loss: 0.6741 - accuracy: 0.8948 - val_loss: 0.9290 - val_accuracy: 0.7176\n",
            "Epoch 30/50\n",
            "149/149 [==============================] - 9s 60ms/step - loss: 0.6309 - accuracy: 0.9276 - val_loss: 0.9152 - val_accuracy: 0.7647\n",
            "Epoch 31/50\n",
            "149/149 [==============================] - 9s 60ms/step - loss: 0.6561 - accuracy: 0.8893 - val_loss: 0.9644 - val_accuracy: 0.7496\n",
            "Epoch 32/50\n",
            "149/149 [==============================] - 9s 60ms/step - loss: 0.5811 - accuracy: 0.9432 - val_loss: 0.9223 - val_accuracy: 0.7597\n",
            "Epoch 33/50\n",
            "149/149 [==============================] - 9s 60ms/step - loss: 0.5407 - accuracy: 0.9541 - val_loss: 0.9103 - val_accuracy: 0.7580\n",
            "Epoch 34/50\n",
            "149/149 [==============================] - 9s 60ms/step - loss: 0.5030 - accuracy: 0.9680 - val_loss: 0.8988 - val_accuracy: 0.7563\n",
            "Epoch 35/50\n",
            "149/149 [==============================] - 9s 60ms/step - loss: 0.4983 - accuracy: 0.9638 - val_loss: 0.9176 - val_accuracy: 0.7647\n",
            "Epoch 36/50\n",
            "149/149 [==============================] - 9s 61ms/step - loss: 0.4538 - accuracy: 0.9794 - val_loss: 0.9007 - val_accuracy: 0.7613\n",
            "Epoch 37/50\n",
            "149/149 [==============================] - 9s 61ms/step - loss: 0.4333 - accuracy: 0.9769 - val_loss: 0.9148 - val_accuracy: 0.7613\n",
            "Epoch 38/50\n",
            "149/149 [==============================] - 9s 61ms/step - loss: 0.3985 - accuracy: 0.9832 - val_loss: 0.9079 - val_accuracy: 0.7731\n",
            "Epoch 39/50\n",
            "149/149 [==============================] - 9s 61ms/step - loss: 0.4283 - accuracy: 0.9529 - val_loss: 0.9208 - val_accuracy: 0.7630\n",
            "Epoch 00039: early stopping\n"
          ]
        }
      ]
    },
    {
      "cell_type": "code",
      "source": [
        "import matplotlib.pyplot as plt\n",
        "\n",
        "plt.plot(history2.history['accuracy'])\n",
        "plt.plot(history2.history['val_accuracy'])\n",
        "plt.title('Model accuracy')\n",
        "plt.ylabel('Accuracy')\n",
        "plt.xlabel('Epoch')\n",
        "plt.legend(['Train', 'Test'], loc='upper left')\n",
        "plt.show()\n",
        "\n",
        "plt.plot(history2.history['loss'])\n",
        "plt.plot(history2.history['val_loss'])\n",
        "plt.title('Model loss')\n",
        "plt.ylabel('Loss')\n",
        "plt.xlabel('Epoch')\n",
        "plt.legend(['Train', 'Test'], loc='upper right')\n",
        "plt.show()"
      ],
      "metadata": {
        "colab": {
          "base_uri": "https://localhost:8080/",
          "height": 573
        },
        "id": "pqlV3f_p-Rxz",
        "outputId": "f1fa14bf-3d8d-4e16-b6b0-b189915a45ba"
      },
      "execution_count": null,
      "outputs": [
        {
          "output_type": "display_data",
          "data": {
            "image/png": "[encoded data removed]",
            "text/plain": [
              "<Figure size 432x288 with 1 Axes>"
            ]
          },
          "metadata": {
            "needs_background": "light"
          }
        },
        {
          "output_type": "display_data",
          "data": {
            "image/png": "[encoded data removed]",
            "text/plain": [
              "<Figure size 432x288 with 1 Axes>"
            ]
          },
          "metadata": {
            "needs_background": "light"
          }
        }
      ]
    },
    {
      "cell_type": "markdown",
      "source": [
        "METRICS"
      ],
      "metadata": {
        "id": "vyzjCUul-oCd"
      }
    },
    {
      "cell_type": "code",
      "source": [
        "y_pred_valid2=(model2.predict(X_valid)>0.5).astype(int)"
      ],
      "metadata": {
        "id": "sWEyoIJO-sNi"
      },
      "execution_count": null,
      "outputs": []
    },
    {
      "cell_type": "code",
      "source": [
        "from sklearn.metrics import classification_report, confusion_matrix\n",
        "print(classification_report(y_valid,y_pred_valid2))"
      ],
      "metadata": {
        "colab": {
          "base_uri": "https://localhost:8080/"
        },
        "outputId": "9175d912-17b4-4347-e7ed-c2b2adbe7c11",
        "id": "aW6mfZCE-sNk"
      },
      "execution_count": null,
      "outputs": [
        {
          "output_type": "stream",
          "name": "stdout",
          "text": [
            "              precision    recall  f1-score   support\n",
            "\n",
            "           0       0.76      0.75      0.76       291\n",
            "           1       0.77      0.77      0.77       304\n",
            "\n",
            "    accuracy                           0.76       595\n",
            "   macro avg       0.76      0.76      0.76       595\n",
            "weighted avg       0.76      0.76      0.76       595\n",
            "\n"
          ]
        }
      ]
    },
    {
      "cell_type": "code",
      "source": [
        "confusion_matrix(y_valid,y_pred_valid2)"
      ],
      "metadata": {
        "colab": {
          "base_uri": "https://localhost:8080/"
        },
        "outputId": "3c282ecd-4ec6-4187-92ea-a55c2e2b5e5a",
        "id": "CNYwBMMC-sNl"
      },
      "execution_count": null,
      "outputs": [
        {
          "output_type": "execute_result",
          "data": {
            "text/plain": [
              "array([[219,  72],\n",
              "       [ 69, 235]])"
            ]
          },
          "metadata": {},
          "execution_count": 78
        }
      ]
    }
  ]
}