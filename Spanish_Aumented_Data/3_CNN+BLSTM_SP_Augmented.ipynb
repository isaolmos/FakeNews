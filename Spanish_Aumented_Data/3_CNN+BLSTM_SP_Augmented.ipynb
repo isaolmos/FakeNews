{
  "nbformat": 4,
  "nbformat_minor": 0,
  "metadata": {
    "colab": {
      "name": "3_CNN+BLSTM_SP_Augmented.ipynb",
      "provenance": [],
      "collapsed_sections": [],
      "machine_shape": "hm"
    },
    "kernelspec": {
      "name": "python3",
      "display_name": "Python 3"
    },
    "language_info": {
      "name": "python"
    },
    "accelerator": "GPU"
  },
  "cells": [
    {
      "cell_type": "markdown",
      "metadata": {
        "id": "NpNzg2mCz3v8"
      },
      "source": [
        "# **CNN + BLSTM MODEL**"
      ]
    },
    {
      "cell_type": "markdown",
      "metadata": {
        "id": "TaZ0rQsf0Be3"
      },
      "source": [
        "**IMPORT PACKAGES AND LIBRARIES**"
      ]
    },
    {
      "cell_type": "code",
      "metadata": {
        "id": "93pbFgzf6PO4"
      },
      "source": [
        "%matplotlib inline\n",
        "import numpy as np\n",
        "import pandas as pd\n",
        "from nltk import word_tokenize"
      ],
      "execution_count": null,
      "outputs": []
    },
    {
      "cell_type": "code",
      "source": [
        "from google.colab import drive\n",
        "drive.mount('/content/drive')"
      ],
      "metadata": {
        "colab": {
          "base_uri": "https://localhost:8080/"
        },
        "id": "oO8MWYvVgMBc",
        "outputId": "2996477f-d1fd-49ba-da90-4df826cca3a6"
      },
      "execution_count": null,
      "outputs": [
        {
          "output_type": "stream",
          "name": "stdout",
          "text": [
            "Mounted at /content/drive\n"
          ]
        }
      ]
    },
    {
      "cell_type": "markdown",
      "metadata": {
        "id": "XuqvzXYZ0F0h"
      },
      "source": [
        "**LOAD DATASET**"
      ]
    },
    {
      "cell_type": "code",
      "metadata": {
        "id": "bB1mmnGMIG9k"
      },
      "source": [
        "data=pd.read_csv('sp_translated.csv')"
      ],
      "execution_count": null,
      "outputs": []
    },
    {
      "cell_type": "code",
      "metadata": {
        "colab": {
          "base_uri": "https://localhost:8080/",
          "height": 424
        },
        "id": "7VGagvBo7i4i",
        "outputId": "a54e558e-030e-45a1-c810-cc4b9a89235d"
      },
      "source": [
        "data"
      ],
      "execution_count": null,
      "outputs": [
        {
          "output_type": "execute_result",
          "data": {
            "text/html": [
              "\n",
              "  <div id=\"df-bdfa4bdd-d22c-4a53-9cb8-3e959458aa57\">\n",
              "    <div class=\"colab-df-container\">\n",
              "      <div>\n",
              "<style scoped>\n",
              "    .dataframe tbody tr th:only-of-type {\n",
              "        vertical-align: middle;\n",
              "    }\n",
              "\n",
              "    .dataframe tbody tr th {\n",
              "        vertical-align: top;\n",
              "    }\n",
              "\n",
              "    .dataframe thead th {\n",
              "        text-align: right;\n",
              "    }\n",
              "</style>\n",
              "<table border=\"1\" class=\"dataframe\">\n",
              "  <thead>\n",
              "    <tr style=\"text-align: right;\">\n",
              "      <th></th>\n",
              "      <th>Unnamed: 0</th>\n",
              "      <th>Fake</th>\n",
              "      <th>final_clean</th>\n",
              "    </tr>\n",
              "  </thead>\n",
              "  <tbody>\n",
              "    <tr>\n",
              "      <th>0</th>\n",
              "      <td>0</td>\n",
              "      <td>0</td>\n",
              "      <td>intentar prender fuego espós ilesa gravemente ...</td>\n",
              "    </tr>\n",
              "    <tr>\n",
              "      <th>1</th>\n",
              "      <td>1</td>\n",
              "      <td>0</td>\n",
              "      <td>ese ser renaud vuelta escenario octubre acción...</td>\n",
              "    </tr>\n",
              "    <tr>\n",
              "      <th>2</th>\n",
              "      <td>2</td>\n",
              "      <td>0</td>\n",
              "      <td>traje rojo qué mensaje querer enviar hillary c...</td>\n",
              "    </tr>\n",
              "    <tr>\n",
              "      <th>3</th>\n",
              "      <td>3</td>\n",
              "      <td>0</td>\n",
              "      <td>footligar resultado octava jornada h octubre m...</td>\n",
              "    </tr>\n",
              "    <tr>\n",
              "      <th>4</th>\n",
              "      <td>4</td>\n",
              "      <td>0</td>\n",
              "      <td>suscríbete podcast poder suscribir él descarga...</td>\n",
              "    </tr>\n",
              "    <tr>\n",
              "      <th>...</th>\n",
              "      <td>...</td>\n",
              "      <td>...</td>\n",
              "      <td>...</td>\n",
              "    </tr>\n",
              "    <tr>\n",
              "      <th>2009</th>\n",
              "      <td>500</td>\n",
              "      <td>1</td>\n",
              "      <td>ministro salud agn buzyn pourt edad profesor g...</td>\n",
              "    </tr>\n",
              "    <tr>\n",
              "      <th>2010</th>\n",
              "      <td>501</td>\n",
              "      <td>1</td>\n",
              "      <td>asociación londres lucha contaminación transpo...</td>\n",
              "    </tr>\n",
              "    <tr>\n",
              "      <th>2011</th>\n",
              "      <td>502</td>\n",
              "      <td>1</td>\n",
              "      <td>psicólogo demostrar efecto beneficioso pérdida...</td>\n",
              "    </tr>\n",
              "    <tr>\n",
              "      <th>2012</th>\n",
              "      <td>503</td>\n",
              "      <td>1</td>\n",
              "      <td>ministro interior harto ver policía gendarme h...</td>\n",
              "    </tr>\n",
              "    <tr>\n",
              "      <th>2013</th>\n",
              "      <td>504</td>\n",
              "      <td>1</td>\n",
              "      <td>fin ramadar jueves ascensión lugar culto poder...</td>\n",
              "    </tr>\n",
              "  </tbody>\n",
              "</table>\n",
              "<p>2014 rows × 3 columns</p>\n",
              "</div>\n",
              "      <button class=\"colab-df-convert\" onclick=\"convertToInteractive('df-bdfa4bdd-d22c-4a53-9cb8-3e959458aa57')\"\n",
              "              title=\"Convert this dataframe to an interactive table.\"\n",
              "              style=\"display:none;\">\n",
              "        \n",
              "  <svg xmlns=\"http://www.w3.org/2000/svg\" height=\"24px\"viewBox=\"0 0 24 24\"\n",
              "       width=\"24px\">\n",
              "    <path d=\"M0 0h24v24H0V0z\" fill=\"none\"/>\n",
              "    <path d=\"M18.56 5.44l.94 2.06.94-2.06 2.06-.94-2.06-.94-.94-2.06-.94 2.06-2.06.94zm-11 1L8.5 8.5l.94-2.06 2.06-.94-2.06-.94L8.5 2.5l-.94 2.06-2.06.94zm10 10l.94 2.06.94-2.06 2.06-.94-2.06-.94-.94-2.06-.94 2.06-2.06.94z\"/><path d=\"M17.41 7.96l-1.37-1.37c-.4-.4-.92-.59-1.43-.59-.52 0-1.04.2-1.43.59L10.3 9.45l-7.72 7.72c-.78.78-.78 2.05 0 2.83L4 21.41c.39.39.9.59 1.41.59.51 0 1.02-.2 1.41-.59l7.78-7.78 2.81-2.81c.8-.78.8-2.07 0-2.86zM5.41 20L4 18.59l7.72-7.72 1.47 1.35L5.41 20z\"/>\n",
              "  </svg>\n",
              "      </button>\n",
              "      \n",
              "  <style>\n",
              "    .colab-df-container {\n",
              "      display:flex;\n",
              "      flex-wrap:wrap;\n",
              "      gap: 12px;\n",
              "    }\n",
              "\n",
              "    .colab-df-convert {\n",
              "      background-color: #E8F0FE;\n",
              "      border: none;\n",
              "      border-radius: 50%;\n",
              "      cursor: pointer;\n",
              "      display: none;\n",
              "      fill: #1967D2;\n",
              "      height: 32px;\n",
              "      padding: 0 0 0 0;\n",
              "      width: 32px;\n",
              "    }\n",
              "\n",
              "    .colab-df-convert:hover {\n",
              "      background-color: #E2EBFA;\n",
              "      box-shadow: 0px 1px 2px rgba(60, 64, 67, 0.3), 0px 1px 3px 1px rgba(60, 64, 67, 0.15);\n",
              "      fill: #174EA6;\n",
              "    }\n",
              "\n",
              "    [theme=dark] .colab-df-convert {\n",
              "      background-color: #3B4455;\n",
              "      fill: #D2E3FC;\n",
              "    }\n",
              "\n",
              "    [theme=dark] .colab-df-convert:hover {\n",
              "      background-color: #434B5C;\n",
              "      box-shadow: 0px 1px 3px 1px rgba(0, 0, 0, 0.15);\n",
              "      filter: drop-shadow(0px 1px 2px rgba(0, 0, 0, 0.3));\n",
              "      fill: #FFFFFF;\n",
              "    }\n",
              "  </style>\n",
              "\n",
              "      <script>\n",
              "        const buttonEl =\n",
              "          document.querySelector('#df-bdfa4bdd-d22c-4a53-9cb8-3e959458aa57 button.colab-df-convert');\n",
              "        buttonEl.style.display =\n",
              "          google.colab.kernel.accessAllowed ? 'block' : 'none';\n",
              "\n",
              "        async function convertToInteractive(key) {\n",
              "          const element = document.querySelector('#df-bdfa4bdd-d22c-4a53-9cb8-3e959458aa57');\n",
              "          const dataTable =\n",
              "            await google.colab.kernel.invokeFunction('convertToInteractive',\n",
              "                                                     [key], {});\n",
              "          if (!dataTable) return;\n",
              "\n",
              "          const docLinkHtml = 'Like what you see? Visit the ' +\n",
              "            '<a target=\"_blank\" href=https://colab.research.google.com/notebooks/data_table.ipynb>data table notebook</a>'\n",
              "            + ' to learn more about interactive tables.';\n",
              "          element.innerHTML = '';\n",
              "          dataTable['output_type'] = 'display_data';\n",
              "          await google.colab.output.renderOutput(dataTable, element);\n",
              "          const docLink = document.createElement('div');\n",
              "          docLink.innerHTML = docLinkHtml;\n",
              "          element.appendChild(docLink);\n",
              "        }\n",
              "      </script>\n",
              "    </div>\n",
              "  </div>\n",
              "  "
            ],
            "text/plain": [
              "      Unnamed: 0  Fake                                        final_clean\n",
              "0              0     0  intentar prender fuego espós ilesa gravemente ...\n",
              "1              1     0  ese ser renaud vuelta escenario octubre acción...\n",
              "2              2     0  traje rojo qué mensaje querer enviar hillary c...\n",
              "3              3     0  footligar resultado octava jornada h octubre m...\n",
              "4              4     0  suscríbete podcast poder suscribir él descarga...\n",
              "...          ...   ...                                                ...\n",
              "2009         500     1  ministro salud agn buzyn pourt edad profesor g...\n",
              "2010         501     1  asociación londres lucha contaminación transpo...\n",
              "2011         502     1  psicólogo demostrar efecto beneficioso pérdida...\n",
              "2012         503     1  ministro interior harto ver policía gendarme h...\n",
              "2013         504     1  fin ramadar jueves ascensión lugar culto poder...\n",
              "\n",
              "[2014 rows x 3 columns]"
            ]
          },
          "metadata": {},
          "execution_count": 4
        }
      ]
    },
    {
      "cell_type": "code",
      "source": [
        "data['Fake'].value_counts()"
      ],
      "metadata": {
        "colab": {
          "base_uri": "https://localhost:8080/"
        },
        "id": "e8ZCHomY91Ov",
        "outputId": "5d4dd151-4059-4832-c212-4d6eec995df8"
      },
      "execution_count": null,
      "outputs": [
        {
          "output_type": "execute_result",
          "data": {
            "text/plain": [
              "0    1509\n",
              "1     505\n",
              "Name: Fake, dtype: int64"
            ]
          },
          "metadata": {},
          "execution_count": 5
        }
      ]
    },
    {
      "cell_type": "code",
      "metadata": {
        "id": "z2sediQZMQd6"
      },
      "source": [
        "docs = data.final_clean.values\n",
        "labels = data.Fake.values"
      ],
      "execution_count": null,
      "outputs": []
    },
    {
      "cell_type": "code",
      "source": [
        "from collections import Counter\n",
        "Counter(labels)"
      ],
      "metadata": {
        "colab": {
          "base_uri": "https://localhost:8080/"
        },
        "id": "_KgKVrUI96ni",
        "outputId": "e7556dd8-b377-4c7d-fc98-fbdea2b061dc"
      },
      "execution_count": null,
      "outputs": [
        {
          "output_type": "execute_result",
          "data": {
            "text/plain": [
              "Counter({0: 1509, 1: 505})"
            ]
          },
          "metadata": {},
          "execution_count": 7
        }
      ]
    },
    {
      "cell_type": "markdown",
      "metadata": {
        "id": "7HPwDqSP0e8N"
      },
      "source": [
        "**TOKENIZATION**"
      ]
    },
    {
      "cell_type": "code",
      "metadata": {
        "id": "f3UbB6b3MdhN"
      },
      "source": [
        "from numpy import zeros\n",
        "from keras.preprocessing.text import Tokenizer\n",
        "from keras.preprocessing.sequence import pad_sequences\n",
        "from keras.models import Sequential\n",
        "from keras.layers import Dense\n",
        "from keras.layers import Flatten\n",
        "from keras.layers import Embedding\n",
        "\n",
        "# prepare tokenizer\n",
        "t = Tokenizer()\n",
        "t.fit_on_texts(docs)\n",
        "vocab_size = len(t.word_index) + 1  # I add one because it starts counting from 0"
      ],
      "execution_count": null,
      "outputs": []
    },
    {
      "cell_type": "code",
      "metadata": {
        "colab": {
          "base_uri": "https://localhost:8080/"
        },
        "id": "TdGmaoceP7rE",
        "outputId": "aff7d203-1a48-4cdc-fc15-3bf6ecd78422"
      },
      "source": [
        "import nltk  # don't forget to do this step everytime in colab\n",
        "nltk.download('punkt')"
      ],
      "execution_count": null,
      "outputs": [
        {
          "output_type": "stream",
          "name": "stdout",
          "text": [
            "[nltk_data] Downloading package punkt to /root/nltk_data...\n",
            "[nltk_data]   Unzipping tokenizers/punkt.zip.\n"
          ]
        },
        {
          "output_type": "execute_result",
          "data": {
            "text/plain": [
              "True"
            ]
          },
          "metadata": {},
          "execution_count": 9
        }
      ]
    },
    {
      "cell_type": "code",
      "metadata": {
        "id": "cnHDKKi0P7t-"
      },
      "source": [
        "data['Text_tokenised'] = data['final_clean'].apply(word_tokenize)"
      ],
      "execution_count": null,
      "outputs": []
    },
    {
      "cell_type": "code",
      "metadata": {
        "colab": {
          "base_uri": "https://localhost:8080/",
          "height": 206
        },
        "id": "QJJN8SYkP_9e",
        "outputId": "19fceacb-65b7-45d5-a179-4d2377701f00"
      },
      "source": [
        "data.head()"
      ],
      "execution_count": null,
      "outputs": [
        {
          "output_type": "execute_result",
          "data": {
            "text/html": [
              "\n",
              "  <div id=\"df-241043e4-51c8-4fb0-9959-f45c04d6a49c\">\n",
              "    <div class=\"colab-df-container\">\n",
              "      <div>\n",
              "<style scoped>\n",
              "    .dataframe tbody tr th:only-of-type {\n",
              "        vertical-align: middle;\n",
              "    }\n",
              "\n",
              "    .dataframe tbody tr th {\n",
              "        vertical-align: top;\n",
              "    }\n",
              "\n",
              "    .dataframe thead th {\n",
              "        text-align: right;\n",
              "    }\n",
              "</style>\n",
              "<table border=\"1\" class=\"dataframe\">\n",
              "  <thead>\n",
              "    <tr style=\"text-align: right;\">\n",
              "      <th></th>\n",
              "      <th>Unnamed: 0</th>\n",
              "      <th>Fake</th>\n",
              "      <th>final_clean</th>\n",
              "      <th>Text_tokenised</th>\n",
              "    </tr>\n",
              "  </thead>\n",
              "  <tbody>\n",
              "    <tr>\n",
              "      <th>0</th>\n",
              "      <td>0</td>\n",
              "      <td>0</td>\n",
              "      <td>intentar prender fuego espós ilesa gravemente ...</td>\n",
              "      <td>[intentar, prender, fuego, espós, ilesa, grave...</td>\n",
              "    </tr>\n",
              "    <tr>\n",
              "      <th>1</th>\n",
              "      <td>1</td>\n",
              "      <td>0</td>\n",
              "      <td>ese ser renaud vuelta escenario octubre acción...</td>\n",
              "      <td>[ese, ser, renaud, vuelta, escenario, octubre,...</td>\n",
              "    </tr>\n",
              "    <tr>\n",
              "      <th>2</th>\n",
              "      <td>2</td>\n",
              "      <td>0</td>\n",
              "      <td>traje rojo qué mensaje querer enviar hillary c...</td>\n",
              "      <td>[traje, rojo, qué, mensaje, querer, enviar, hi...</td>\n",
              "    </tr>\n",
              "    <tr>\n",
              "      <th>3</th>\n",
              "      <td>3</td>\n",
              "      <td>0</td>\n",
              "      <td>footligar resultado octava jornada h octubre m...</td>\n",
              "      <td>[footligar, resultado, octava, jornada, h, oct...</td>\n",
              "    </tr>\n",
              "    <tr>\n",
              "      <th>4</th>\n",
              "      <td>4</td>\n",
              "      <td>0</td>\n",
              "      <td>suscríbete podcast poder suscribir él descarga...</td>\n",
              "      <td>[suscríbete, podcast, poder, suscribir, él, de...</td>\n",
              "    </tr>\n",
              "  </tbody>\n",
              "</table>\n",
              "</div>\n",
              "      <button class=\"colab-df-convert\" onclick=\"convertToInteractive('df-241043e4-51c8-4fb0-9959-f45c04d6a49c')\"\n",
              "              title=\"Convert this dataframe to an interactive table.\"\n",
              "              style=\"display:none;\">\n",
              "        \n",
              "  <svg xmlns=\"http://www.w3.org/2000/svg\" height=\"24px\"viewBox=\"0 0 24 24\"\n",
              "       width=\"24px\">\n",
              "    <path d=\"M0 0h24v24H0V0z\" fill=\"none\"/>\n",
              "    <path d=\"M18.56 5.44l.94 2.06.94-2.06 2.06-.94-2.06-.94-.94-2.06-.94 2.06-2.06.94zm-11 1L8.5 8.5l.94-2.06 2.06-.94-2.06-.94L8.5 2.5l-.94 2.06-2.06.94zm10 10l.94 2.06.94-2.06 2.06-.94-2.06-.94-.94-2.06-.94 2.06-2.06.94z\"/><path d=\"M17.41 7.96l-1.37-1.37c-.4-.4-.92-.59-1.43-.59-.52 0-1.04.2-1.43.59L10.3 9.45l-7.72 7.72c-.78.78-.78 2.05 0 2.83L4 21.41c.39.39.9.59 1.41.59.51 0 1.02-.2 1.41-.59l7.78-7.78 2.81-2.81c.8-.78.8-2.07 0-2.86zM5.41 20L4 18.59l7.72-7.72 1.47 1.35L5.41 20z\"/>\n",
              "  </svg>\n",
              "      </button>\n",
              "      \n",
              "  <style>\n",
              "    .colab-df-container {\n",
              "      display:flex;\n",
              "      flex-wrap:wrap;\n",
              "      gap: 12px;\n",
              "    }\n",
              "\n",
              "    .colab-df-convert {\n",
              "      background-color: #E8F0FE;\n",
              "      border: none;\n",
              "      border-radius: 50%;\n",
              "      cursor: pointer;\n",
              "      display: none;\n",
              "      fill: #1967D2;\n",
              "      height: 32px;\n",
              "      padding: 0 0 0 0;\n",
              "      width: 32px;\n",
              "    }\n",
              "\n",
              "    .colab-df-convert:hover {\n",
              "      background-color: #E2EBFA;\n",
              "      box-shadow: 0px 1px 2px rgba(60, 64, 67, 0.3), 0px 1px 3px 1px rgba(60, 64, 67, 0.15);\n",
              "      fill: #174EA6;\n",
              "    }\n",
              "\n",
              "    [theme=dark] .colab-df-convert {\n",
              "      background-color: #3B4455;\n",
              "      fill: #D2E3FC;\n",
              "    }\n",
              "\n",
              "    [theme=dark] .colab-df-convert:hover {\n",
              "      background-color: #434B5C;\n",
              "      box-shadow: 0px 1px 3px 1px rgba(0, 0, 0, 0.15);\n",
              "      filter: drop-shadow(0px 1px 2px rgba(0, 0, 0, 0.3));\n",
              "      fill: #FFFFFF;\n",
              "    }\n",
              "  </style>\n",
              "\n",
              "      <script>\n",
              "        const buttonEl =\n",
              "          document.querySelector('#df-241043e4-51c8-4fb0-9959-f45c04d6a49c button.colab-df-convert');\n",
              "        buttonEl.style.display =\n",
              "          google.colab.kernel.accessAllowed ? 'block' : 'none';\n",
              "\n",
              "        async function convertToInteractive(key) {\n",
              "          const element = document.querySelector('#df-241043e4-51c8-4fb0-9959-f45c04d6a49c');\n",
              "          const dataTable =\n",
              "            await google.colab.kernel.invokeFunction('convertToInteractive',\n",
              "                                                     [key], {});\n",
              "          if (!dataTable) return;\n",
              "\n",
              "          const docLinkHtml = 'Like what you see? Visit the ' +\n",
              "            '<a target=\"_blank\" href=https://colab.research.google.com/notebooks/data_table.ipynb>data table notebook</a>'\n",
              "            + ' to learn more about interactive tables.';\n",
              "          element.innerHTML = '';\n",
              "          dataTable['output_type'] = 'display_data';\n",
              "          await google.colab.output.renderOutput(dataTable, element);\n",
              "          const docLink = document.createElement('div');\n",
              "          docLink.innerHTML = docLinkHtml;\n",
              "          element.appendChild(docLink);\n",
              "        }\n",
              "      </script>\n",
              "    </div>\n",
              "  </div>\n",
              "  "
            ],
            "text/plain": [
              "   Unnamed: 0  ...                                     Text_tokenised\n",
              "0           0  ...  [intentar, prender, fuego, espós, ilesa, grave...\n",
              "1           1  ...  [ese, ser, renaud, vuelta, escenario, octubre,...\n",
              "2           2  ...  [traje, rojo, qué, mensaje, querer, enviar, hi...\n",
              "3           3  ...  [footligar, resultado, octava, jornada, h, oct...\n",
              "4           4  ...  [suscríbete, podcast, poder, suscribir, él, de...\n",
              "\n",
              "[5 rows x 4 columns]"
            ]
          },
          "metadata": {},
          "execution_count": 11
        }
      ]
    },
    {
      "cell_type": "code",
      "metadata": {
        "id": "mu6MfP9qQTfc"
      },
      "source": [
        "data['length'] = data['Text_tokenised'].str.len()"
      ],
      "execution_count": null,
      "outputs": []
    },
    {
      "cell_type": "code",
      "metadata": {
        "id": "y76T6owJQTmd"
      },
      "source": [
        "maxlen = data['length'].max()"
      ],
      "execution_count": null,
      "outputs": []
    },
    {
      "cell_type": "code",
      "source": [
        "maxlen"
      ],
      "metadata": {
        "colab": {
          "base_uri": "https://localhost:8080/"
        },
        "id": "uaAKHg9-4yo-",
        "outputId": "9d514342-5cc7-49c7-c46a-f31563794563"
      },
      "execution_count": null,
      "outputs": [
        {
          "output_type": "execute_result",
          "data": {
            "text/plain": [
              "2806"
            ]
          },
          "metadata": {},
          "execution_count": 14
        }
      ]
    },
    {
      "cell_type": "markdown",
      "metadata": {
        "id": "PMHploBZ0ia9"
      },
      "source": [
        "**SPLIT DATA INTO TRAIN AND VALIDATE SETS**"
      ]
    },
    {
      "cell_type": "code",
      "metadata": {
        "id": "To4_1-bxMdjY"
      },
      "source": [
        "# divide the data into train/validate\n",
        "\n",
        "from sklearn.model_selection import train_test_split\n",
        "\n",
        "\n",
        "sentences_train, sentences_valid, y_train, y_valid = train_test_split(\n",
        "    docs, labels, test_size=0.2, random_state=1000)"
      ],
      "execution_count": null,
      "outputs": []
    },
    {
      "cell_type": "code",
      "source": [
        "Counter(labels)"
      ],
      "metadata": {
        "colab": {
          "base_uri": "https://localhost:8080/"
        },
        "id": "PUsITknz9tCH",
        "outputId": "f19aba69-f632-4a85-c7fc-4e5f60f1cceb"
      },
      "execution_count": null,
      "outputs": [
        {
          "output_type": "execute_result",
          "data": {
            "text/plain": [
              "Counter({0: 1509, 1: 505})"
            ]
          },
          "metadata": {},
          "execution_count": 16
        }
      ]
    },
    {
      "cell_type": "markdown",
      "metadata": {
        "id": "2RemNeir0pr9"
      },
      "source": [
        "**CONVERT TEXTS TO SEQUENCES**"
      ]
    },
    {
      "cell_type": "code",
      "metadata": {
        "colab": {
          "base_uri": "https://localhost:8080/"
        },
        "id": "CeqbMAw5Mdlq",
        "outputId": "0332207c-63f5-4e12-a626-600a0593f9b3"
      },
      "source": [
        "# use keras tokenizer to turn train and valid to sequence\n",
        "\n",
        "\n",
        "X_train = t.texts_to_sequences(sentences_train)\n",
        "X_valid = t.texts_to_sequences(sentences_valid)\n",
        "\n",
        "\n",
        "print(sentences_train[2])\n",
        "print(X_train[2])"
      ],
      "execution_count": null,
      "outputs": [
        {
          "output_type": "stream",
          "name": "stdout",
          "text": [
            "vieill charru montar carpa césped central park music celebrar aniversario festival organizar velado sábado nuevo york audiencia vieill charru aquí julio motivo aniversario festival alain robert sipar jérôme gicquel pradera kerampuilh carhaix prado central park nueva york celebrar estilo edición festival equipo vieill charrues dar paso velado organizado nuevo york sábado jerome trehorel jerometrehorel septiembre seducir público estadounidense festival bretón llevar maleta cantante m habitual praderar kerampuilh nizar dj the avener así dos grupo local celtic social club dúo krismenn alem mezcla beatbox canción tradicional bretona bretón hacer viaje loca idea organizar noche plowshar nuevo york nacer reunión mayo equipo festival bzh new york asociación británicos gran manzana por invitación él nuevo york presentar vieill charru parte fête bretagne festival especie historio éxito estadounidense pequeño fiesta organizado amigo corazón bretaña convertido año festival importante europa explicar jérôme tréhorel director general vieill charru lea también nuevo récord asistenciar edición vieill charru idea exportar festival bretón lado atlántico afianzar rápidamente el británico nuevo york poder venir celebrar edición carhaix bueno ir venir celebrar vieill charru central park indicar organizador sábado final día tanto gwen du deber césped famoso parque nueva york bretón hacer viaje palabra clave the old plow montar carpa césped central park\n",
            "[2933, 3266, 2861, 12988, 3156, 838, 2824, 4251, 685, 2468, 941, 633, 2101, 113, 11, 349, 487, 2933, 3266, 165, 423, 745, 2468, 941, 235, 1390, 313, 3098, 10579, 24897, 16261, 8455, 4225, 838, 2824, 888, 349, 685, 1439, 920, 941, 88, 2933, 9655, 33, 471, 2101, 1395, 11, 349, 113, 4281, 24898, 24899, 62, 2639, 84, 82, 941, 2964, 99, 4967, 926, 182, 1904, 24900, 16261, 1538, 10299, 390, 6219, 71, 9, 79, 339, 7521, 137, 327, 2822, 14979, 14980, 3243, 24901, 1176, 1736, 3970, 2964, 5, 485, 5872, 337, 633, 34, 24902, 11, 349, 2089, 311, 865, 88, 941, 15596, 1514, 349, 254, 9026, 40, 8713, 396, 2919, 1, 11, 349, 179, 2933, 3266, 42, 10717, 16262, 941, 1044, 3429, 315, 82, 59, 1098, 1395, 352, 761, 1163, 1138, 6, 941, 351, 160, 66, 3098, 24903, 221, 210, 2933, 3266, 282, 103, 11, 1033, 24904, 920, 2933, 3266, 337, 5164, 941, 2964, 201, 1930, 12989, 522, 18, 421, 11, 349, 3, 166, 685, 920, 8455, 499, 22, 166, 685, 2933, 3266, 838, 2824, 399, 2825, 113, 86, 15, 51, 12990, 401, 23, 3156, 497, 1366, 888, 349, 2964, 5, 485, 50, 91, 390, 8144, 24905, 2861, 12988, 3156, 838, 2824]\n"
          ]
        }
      ]
    },
    {
      "cell_type": "markdown",
      "metadata": {
        "id": "EhfWbaHN0r0h"
      },
      "source": [
        "**APPLY POST-PADDING**"
      ]
    },
    {
      "cell_type": "code",
      "metadata": {
        "colab": {
          "base_uri": "https://localhost:8080/"
        },
        "id": "tTe28qgrMQgI",
        "outputId": "af2f110d-a176-408a-9601-30edbcbedc78"
      },
      "source": [
        "# pad the short sequences\n",
        "X_train = pad_sequences(X_train, padding='post', maxlen=maxlen)\n",
        "X_valid = pad_sequences(X_valid, padding='post', maxlen=maxlen)\n",
        "\n",
        "print(X_train[1, :])"
      ],
      "execution_count": null,
      "outputs": [
        {
          "output_type": "stream",
          "name": "stdout",
          "text": [
            "[1854 1069  551 ...    0    0    0]\n"
          ]
        }
      ]
    },
    {
      "cell_type": "markdown",
      "metadata": {
        "id": "5rUf8Fa20ulU"
      },
      "source": [
        "**EMBEDDING MATRIX**"
      ]
    },
    {
      "cell_type": "code",
      "metadata": {
        "id": "4tNTliaJMiR2"
      },
      "source": [
        "def create_embedding_matrix(filepath, word_index, embedding_dim):\n",
        "    vocab_size = len(word_index) + 1  # Adding again 1 because of reserved 0 index\n",
        "    embedding_matrix = np.zeros((vocab_size, embedding_dim))\n",
        "\n",
        "    with open(filepath, encoding='utf-8') as f:\n",
        "        for line in f:\n",
        "            word, *vector = line.split()\n",
        "            if word in word_index:\n",
        "                idx = word_index[word] \n",
        "                embedding_matrix[idx] = np.array(\n",
        "                    vector, dtype=np.float32)[:embedding_dim]\n",
        "\n",
        "    return embedding_matrix"
      ],
      "execution_count": null,
      "outputs": []
    },
    {
      "cell_type": "markdown",
      "metadata": {
        "id": "NYwoB_VU0yIX"
      },
      "source": [
        "**LOAD PRE-TRAINED WORD EMBEDDINGS**"
      ]
    },
    {
      "cell_type": "code",
      "metadata": {
        "id": "Hf0iPuKiMiUI"
      },
      "source": [
        "embedding_dim = 300\n",
        "embedding_matrix = create_embedding_matrix(\n",
        "        '/content/drive/MyDrive/thesiss/embeddings-l-model.vec',\n",
        "        t.word_index, embedding_dim)"
      ],
      "execution_count": null,
      "outputs": []
    },
    {
      "cell_type": "code",
      "source": [
        "# how many of the embedding vectors are nonzero\n",
        "\n",
        "nonzero_elements = np.count_nonzero(np.count_nonzero(embedding_matrix, axis=1))\n",
        "nonzero_elements / vocab_size"
      ],
      "metadata": {
        "colab": {
          "base_uri": "https://localhost:8080/"
        },
        "id": "OPY-5Pi-45FL",
        "outputId": "58cb6478-5c28-4e93-d7b6-d3235591bd6d"
      },
      "execution_count": null,
      "outputs": [
        {
          "output_type": "execute_result",
          "data": {
            "text/plain": [
              "0.7747782491322792"
            ]
          },
          "metadata": {},
          "execution_count": 22
        }
      ]
    },
    {
      "cell_type": "markdown",
      "metadata": {
        "id": "qb1ysMWNV4g-"
      },
      "source": [
        "# **MODEL: CNN + BLSTM**"
      ]
    },
    {
      "cell_type": "markdown",
      "source": [
        "**BUILD THE MODEL**"
      ],
      "metadata": {
        "id": "QrcER6_p9dZH"
      }
    },
    {
      "cell_type": "code",
      "metadata": {
        "id": "VQgUSIbFtZSv"
      },
      "source": [
        "import tensorflow as tf\n",
        "from keras.layers import Conv1D, MaxPooling1D, Embedding, Dropout\n",
        "from tensorflow.keras.optimizers import Adam,SGD,RMSprop\n",
        "from keras.regularizers import l2\n",
        "\n",
        "model = tf.keras.Sequential([\n",
        "    tf.keras.layers.Embedding(vocab_size, embedding_dim, input_length=maxlen, trainable=True),\n",
        "    tf.keras.layers.Dropout(0.1),\n",
        "    tf.keras.layers.Conv1D(64, 2, activation='relu'),\n",
        "    tf.keras.layers.MaxPooling1D(pool_size=4),\n",
        "    tf.keras.layers.Bidirectional(tf.keras.layers.LSTM(40, return_sequences=True)),\n",
        "    tf.keras.layers.Bidirectional(tf.keras.layers.LSTM(40)),\n",
        "    tf.keras.layers.Dropout(0.1),  \n",
        "    tf.keras.layers.Dense(32, activation='relu', kernel_regularizer=l2(0.01), bias_regularizer=l2(0.01)),\n",
        "    tf.keras.layers.Dropout(0.1),  \n",
        "    tf.keras.layers.Dense(16, activation='relu'),\n",
        "    tf.keras.layers.Dense(1, activation='sigmoid')\n",
        "])\n",
        "\n",
        "adam=Adam(learning_rate=0.0001) \n",
        "model.compile(optimizer=adam, \n",
        "               loss='binary_crossentropy',\n",
        "               metrics=['accuracy'])"
      ],
      "execution_count": null,
      "outputs": []
    },
    {
      "cell_type": "code",
      "metadata": {
        "colab": {
          "base_uri": "https://localhost:8080/"
        },
        "id": "BRY9aGUCwNJG",
        "outputId": "674e5b50-5aca-48a2-df8f-3b6eebda72a7"
      },
      "source": [
        "model.summary()"
      ],
      "execution_count": null,
      "outputs": [
        {
          "output_type": "stream",
          "name": "stdout",
          "text": [
            "Model: \"sequential_4\"\n",
            "_________________________________________________________________\n",
            " Layer (type)                Output Shape              Param #   \n",
            "=================================================================\n",
            " embedding_4 (Embedding)     (None, 2806, 300)         10112700  \n",
            "                                                                 \n",
            " dropout_12 (Dropout)        (None, 2806, 300)         0         \n",
            "                                                                 \n",
            " conv1d_4 (Conv1D)           (None, 2805, 64)          38464     \n",
            "                                                                 \n",
            " max_pooling1d_4 (MaxPooling  (None, 701, 64)          0         \n",
            " 1D)                                                             \n",
            "                                                                 \n",
            " bidirectional_8 (Bidirectio  (None, 701, 80)          33600     \n",
            " nal)                                                            \n",
            "                                                                 \n",
            " bidirectional_9 (Bidirectio  (None, 80)               38720     \n",
            " nal)                                                            \n",
            "                                                                 \n",
            " dropout_13 (Dropout)        (None, 80)                0         \n",
            "                                                                 \n",
            " dense_12 (Dense)            (None, 32)                2592      \n",
            "                                                                 \n",
            " dropout_14 (Dropout)        (None, 32)                0         \n",
            "                                                                 \n",
            " dense_13 (Dense)            (None, 16)                528       \n",
            "                                                                 \n",
            " dense_14 (Dense)            (None, 1)                 17        \n",
            "                                                                 \n",
            "=================================================================\n",
            "Total params: 10,226,621\n",
            "Trainable params: 10,226,621\n",
            "Non-trainable params: 0\n",
            "_________________________________________________________________\n"
          ]
        }
      ]
    },
    {
      "cell_type": "markdown",
      "source": [
        "**TRAIN THE MODEL**"
      ],
      "metadata": {
        "id": "9TJi-3nG9feI"
      }
    },
    {
      "cell_type": "code",
      "source": [
        "Counter(y_train)"
      ],
      "metadata": {
        "colab": {
          "base_uri": "https://localhost:8080/"
        },
        "id": "pBfkoG_B-X-0",
        "outputId": "979f51c1-14e8-4f9e-c08f-d5e1995fd58e"
      },
      "execution_count": null,
      "outputs": [
        {
          "output_type": "execute_result",
          "data": {
            "text/plain": [
              "Counter({0: 1207, 1: 404})"
            ]
          },
          "metadata": {},
          "execution_count": 29
        }
      ]
    },
    {
      "cell_type": "code",
      "source": [
        "history = model.fit(X_train, y_train,\n",
        "                    epochs=20,\n",
        "                    verbose=True,\n",
        "                    validation_data=(X_valid, y_valid),\n",
        "                    batch_size=32)"
      ],
      "metadata": {
        "colab": {
          "base_uri": "https://localhost:8080/"
        },
        "id": "eNb1EIMT5MWd",
        "outputId": "f5293fd7-b4d3-4cfa-f098-7013bd174f5f"
      },
      "execution_count": null,
      "outputs": [
        {
          "output_type": "stream",
          "name": "stdout",
          "text": [
            "Epoch 1/20\n",
            "51/51 [==============================] - 13s 154ms/step - loss: 1.1123 - accuracy: 0.7486 - val_loss: 1.0500 - val_accuracy: 0.7494\n",
            "Epoch 2/20\n",
            "51/51 [==============================] - 7s 131ms/step - loss: 0.9931 - accuracy: 0.7492 - val_loss: 0.9521 - val_accuracy: 0.7494\n",
            "Epoch 3/20\n",
            "51/51 [==============================] - 7s 132ms/step - loss: 0.9109 - accuracy: 0.7492 - val_loss: 0.8461 - val_accuracy: 0.7494\n",
            "Epoch 4/20\n",
            "51/51 [==============================] - 7s 132ms/step - loss: 0.7140 - accuracy: 0.7759 - val_loss: 0.6346 - val_accuracy: 0.9032\n",
            "Epoch 5/20\n",
            "51/51 [==============================] - 7s 133ms/step - loss: 0.5501 - accuracy: 0.9721 - val_loss: 0.6004 - val_accuracy: 0.9429\n",
            "Epoch 6/20\n",
            "51/51 [==============================] - 7s 134ms/step - loss: 0.4872 - accuracy: 0.9739 - val_loss: 0.4667 - val_accuracy: 0.9553\n",
            "Epoch 7/20\n",
            "51/51 [==============================] - 7s 135ms/step - loss: 0.4002 - accuracy: 0.9919 - val_loss: 0.4735 - val_accuracy: 0.9653\n",
            "Epoch 8/20\n",
            "51/51 [==============================] - 7s 135ms/step - loss: 0.3525 - accuracy: 0.9994 - val_loss: 0.5079 - val_accuracy: 0.9553\n",
            "Epoch 9/20\n",
            "51/51 [==============================] - 7s 136ms/step - loss: 0.3237 - accuracy: 1.0000 - val_loss: 0.4338 - val_accuracy: 0.9702\n",
            "Epoch 10/20\n",
            "51/51 [==============================] - 7s 136ms/step - loss: 0.3022 - accuracy: 1.0000 - val_loss: 0.3874 - val_accuracy: 0.9752\n",
            "Epoch 11/20\n",
            "51/51 [==============================] - 7s 136ms/step - loss: 0.2826 - accuracy: 1.0000 - val_loss: 0.3751 - val_accuracy: 0.9727\n",
            "Epoch 12/20\n",
            "51/51 [==============================] - 7s 137ms/step - loss: 0.2645 - accuracy: 1.0000 - val_loss: 0.3496 - val_accuracy: 0.9777\n",
            "Epoch 13/20\n",
            "51/51 [==============================] - 7s 135ms/step - loss: 0.2486 - accuracy: 1.0000 - val_loss: 0.3323 - val_accuracy: 0.9777\n",
            "Epoch 14/20\n",
            "51/51 [==============================] - 7s 136ms/step - loss: 0.2334 - accuracy: 1.0000 - val_loss: 0.3078 - val_accuracy: 0.9826\n",
            "Epoch 15/20\n",
            "51/51 [==============================] - 7s 136ms/step - loss: 0.2190 - accuracy: 1.0000 - val_loss: 0.2832 - val_accuracy: 0.9851\n",
            "Epoch 16/20\n",
            "51/51 [==============================] - 7s 136ms/step - loss: 0.2057 - accuracy: 1.0000 - val_loss: 0.2667 - val_accuracy: 0.9876\n",
            "Epoch 17/20\n",
            "51/51 [==============================] - 7s 136ms/step - loss: 0.1929 - accuracy: 1.0000 - val_loss: 0.2555 - val_accuracy: 0.9876\n",
            "Epoch 18/20\n",
            "51/51 [==============================] - 7s 136ms/step - loss: 0.1814 - accuracy: 1.0000 - val_loss: 0.2449 - val_accuracy: 0.9876\n",
            "Epoch 19/20\n",
            "51/51 [==============================] - 7s 134ms/step - loss: 0.1691 - accuracy: 1.0000 - val_loss: 0.2348 - val_accuracy: 0.9876\n",
            "Epoch 20/20\n",
            "51/51 [==============================] - 7s 135ms/step - loss: 0.1582 - accuracy: 1.0000 - val_loss: 0.2251 - val_accuracy: 0.9876\n"
          ]
        }
      ]
    },
    {
      "cell_type": "code",
      "source": [
        "import matplotlib.pyplot as plt\n",
        "\n",
        "plt.plot(history.history['accuracy'])\n",
        "plt.plot(history.history['val_accuracy'])\n",
        "plt.title('Model accuracy')\n",
        "plt.ylabel('Accuracy')\n",
        "plt.xlabel('Epoch')\n",
        "plt.legend(['Train', 'Test'], loc='upper left')\n",
        "plt.show()\n",
        "\n",
        "plt.plot(history.history['loss'])\n",
        "plt.plot(history.history['val_loss'])\n",
        "plt.title('Model loss')\n",
        "plt.ylabel('Loss')\n",
        "plt.xlabel('Epoch')\n",
        "plt.legend(['Train', 'Test'], loc='upper right')\n",
        "plt.show()"
      ],
      "metadata": {
        "colab": {
          "base_uri": "https://localhost:8080/",
          "height": 573
        },
        "id": "ldhAjgtloyKa",
        "outputId": "cbd48fde-b986-400b-83ef-95b906a853d9"
      },
      "execution_count": null,
      "outputs": [
        {
          "output_type": "display_data",
          "data": {
            "image/png": "[encoded data removed]",
            "text/plain": [
              "<Figure size 432x288 with 1 Axes>"
            ]
          },
          "metadata": {
            "needs_background": "light"
          }
        },
        {
          "output_type": "display_data",
          "data": {
            "image/png": "[encoded data removed]",
            "text/plain": [
              "<Figure size 432x288 with 1 Axes>"
            ]
          },
          "metadata": {
            "needs_background": "light"
          }
        }
      ]
    },
    {
      "cell_type": "markdown",
      "source": [
        "**GRAPHIC REPRESENTATION**"
      ],
      "metadata": {
        "id": "A-aGA4pA9hOM"
      }
    },
    {
      "cell_type": "code",
      "source": [
        "Counter(y_train[:1000])"
      ],
      "metadata": {
        "colab": {
          "base_uri": "https://localhost:8080/"
        },
        "id": "yHFmM8wc-gvL",
        "outputId": "cd6f87e2-0820-4468-c748-4044fe91e93c"
      },
      "execution_count": null,
      "outputs": [
        {
          "output_type": "execute_result",
          "data": {
            "text/plain": [
              "Counter({0: 509, 1: 491})"
            ]
          },
          "metadata": {},
          "execution_count": 57
        }
      ]
    },
    {
      "cell_type": "markdown",
      "source": [
        "**METRICS**"
      ],
      "metadata": {
        "id": "cCm7laGjLyll"
      }
    },
    {
      "cell_type": "code",
      "source": [
        "y_pred_valid=(model.predict(X_valid)>0.5).astype(int)"
      ],
      "metadata": {
        "id": "z_c7zBqPLxBf"
      },
      "execution_count": null,
      "outputs": []
    },
    {
      "cell_type": "code",
      "source": [
        "from sklearn.metrics import classification_report, confusion_matrix\n",
        "print(classification_report(y_valid,y_pred_valid))"
      ],
      "metadata": {
        "colab": {
          "base_uri": "https://localhost:8080/"
        },
        "outputId": "27faa974-9247-4de0-9fa0-da82c6d50ce9",
        "id": "vhueS1FQLxBg"
      },
      "execution_count": null,
      "outputs": [
        {
          "output_type": "stream",
          "name": "stdout",
          "text": [
            "              precision    recall  f1-score   support\n",
            "\n",
            "           0       0.99      1.00      0.99       302\n",
            "           1       0.99      0.96      0.97       101\n",
            "\n",
            "    accuracy                           0.99       403\n",
            "   macro avg       0.99      0.98      0.98       403\n",
            "weighted avg       0.99      0.99      0.99       403\n",
            "\n"
          ]
        }
      ]
    },
    {
      "cell_type": "code",
      "source": [
        "confusion_matrix(y_valid,y_pred_valid)"
      ],
      "metadata": {
        "colab": {
          "base_uri": "https://localhost:8080/"
        },
        "outputId": "6c6c1bbc-8384-43e2-bbd9-075eddbd5df6",
        "id": "8HMq5yV3LxBh"
      },
      "execution_count": null,
      "outputs": [
        {
          "output_type": "execute_result",
          "data": {
            "text/plain": [
              "array([[301,   1],\n",
              "       [  4,  97]])"
            ]
          },
          "metadata": {},
          "execution_count": 46
        }
      ]
    }
  ]
}