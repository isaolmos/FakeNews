{
  "nbformat": 4,
  "nbformat_minor": 0,
  "metadata": {
    "accelerator": "GPU",
    "colab": {
      "name": "1_CV_LSTM_SP_Augmenteed.ipynb",
      "provenance": [],
      "collapsed_sections": [],
      "machine_shape": "hm"
    },
    "kernelspec": {
      "display_name": "Python 3",
      "language": "python",
      "name": "python3"
    },
    "language_info": {
      "codemirror_mode": {
        "name": "ipython",
        "version": 3
      },
      "file_extension": ".py",
      "mimetype": "text/x-python",
      "name": "python",
      "nbconvert_exporter": "python",
      "pygments_lexer": "ipython3",
      "version": "3.8.8"
    }
  },
  "cells": [
    {
      "cell_type": "markdown",
      "source": [
        "# **LSTM+CV**"
      ],
      "metadata": {
        "id": "ZpQgFPYa-6a-"
      }
    },
    {
      "cell_type": "markdown",
      "source": [
        "***1. IMPORT PACKAGES AND LIBRARIES***"
      ],
      "metadata": {
        "id": "i-fCyjLl-tM7"
      }
    },
    {
      "cell_type": "code",
      "metadata": {
        "id": "93pbFgzf6PO4"
      },
      "source": [
        "import pandas as pd\n",
        "from nltk import word_tokenize\n",
        "from collections import Counter"
      ],
      "execution_count": null,
      "outputs": []
    },
    {
      "cell_type": "markdown",
      "source": [
        "***2. LOAD DATASET***"
      ],
      "metadata": {
        "id": "5cAng_hX--5R"
      }
    },
    {
      "cell_type": "code",
      "source": [
        "from google.colab import drive\n",
        "drive.mount('/content/drive')"
      ],
      "metadata": {
        "id": "qS53ZOmAIMIp",
        "colab": {
          "base_uri": "https://localhost:8080/"
        },
        "outputId": "b2af7ad6-1ad6-4984-c03d-a1acffcf04c3"
      },
      "execution_count": null,
      "outputs": [
        {
          "output_type": "stream",
          "name": "stdout",
          "text": [
            "Mounted at /content/drive\n"
          ]
        }
      ]
    },
    {
      "cell_type": "code",
      "metadata": {
        "id": "bB1mmnGMIG9k"
      },
      "source": [
        "data=pd.read_csv('sp_translated.csv')"
      ],
      "execution_count": null,
      "outputs": []
    },
    {
      "cell_type": "code",
      "source": [
        "data"
      ],
      "metadata": {
        "colab": {
          "base_uri": "https://localhost:8080/",
          "height": 423
        },
        "id": "dlD5h1b4jiy0",
        "outputId": "719d1a26-c079-4533-f62c-018d00189e76"
      },
      "execution_count": null,
      "outputs": [
        {
          "output_type": "execute_result",
          "data": {
            "text/html": [
              "\n",
              "  <div id=\"df-5e5a9566-ba4e-4407-af08-2cdebf5d6204\">\n",
              "    <div class=\"colab-df-container\">\n",
              "      <div>\n",
              "<style scoped>\n",
              "    .dataframe tbody tr th:only-of-type {\n",
              "        vertical-align: middle;\n",
              "    }\n",
              "\n",
              "    .dataframe tbody tr th {\n",
              "        vertical-align: top;\n",
              "    }\n",
              "\n",
              "    .dataframe thead th {\n",
              "        text-align: right;\n",
              "    }\n",
              "</style>\n",
              "<table border=\"1\" class=\"dataframe\">\n",
              "  <thead>\n",
              "    <tr style=\"text-align: right;\">\n",
              "      <th></th>\n",
              "      <th>Unnamed: 0</th>\n",
              "      <th>Fake</th>\n",
              "      <th>final_clean</th>\n",
              "    </tr>\n",
              "  </thead>\n",
              "  <tbody>\n",
              "    <tr>\n",
              "      <th>0</th>\n",
              "      <td>0</td>\n",
              "      <td>0</td>\n",
              "      <td>intentar prender fuego espós ilesa gravemente ...</td>\n",
              "    </tr>\n",
              "    <tr>\n",
              "      <th>1</th>\n",
              "      <td>1</td>\n",
              "      <td>0</td>\n",
              "      <td>ese ser renaud vuelta escenario octubre acción...</td>\n",
              "    </tr>\n",
              "    <tr>\n",
              "      <th>2</th>\n",
              "      <td>2</td>\n",
              "      <td>0</td>\n",
              "      <td>traje rojo qué mensaje querer enviar hillary c...</td>\n",
              "    </tr>\n",
              "    <tr>\n",
              "      <th>3</th>\n",
              "      <td>3</td>\n",
              "      <td>0</td>\n",
              "      <td>footligar resultado octava jornada h octubre m...</td>\n",
              "    </tr>\n",
              "    <tr>\n",
              "      <th>4</th>\n",
              "      <td>4</td>\n",
              "      <td>0</td>\n",
              "      <td>suscríbete podcast poder suscribir él descarga...</td>\n",
              "    </tr>\n",
              "    <tr>\n",
              "      <th>...</th>\n",
              "      <td>...</td>\n",
              "      <td>...</td>\n",
              "      <td>...</td>\n",
              "    </tr>\n",
              "    <tr>\n",
              "      <th>5995</th>\n",
              "      <td>2966</td>\n",
              "      <td>0</td>\n",
              "      <td>consejo gobierno haber dar visto bueno convoca...</td>\n",
              "    </tr>\n",
              "    <tr>\n",
              "      <th>5996</th>\n",
              "      <td>2967</td>\n",
              "      <td>0</td>\n",
              "      <td>investigador valenciano haber desarrollar inno...</td>\n",
              "    </tr>\n",
              "    <tr>\n",
              "      <th>5997</th>\n",
              "      <td>2968</td>\n",
              "      <td>0</td>\n",
              "      <td>arrestado actuar coche establecimiento policia...</td>\n",
              "    </tr>\n",
              "    <tr>\n",
              "      <th>5998</th>\n",
              "      <td>2969</td>\n",
              "      <td>0</td>\n",
              "      <td>rey haber encargar miercol pedro sanchez prese...</td>\n",
              "    </tr>\n",
              "    <tr>\n",
              "      <th>5999</th>\n",
              "      <td>2970</td>\n",
              "      <td>0</td>\n",
              "      <td>prueba realizado centro nacional microbiologia...</td>\n",
              "    </tr>\n",
              "  </tbody>\n",
              "</table>\n",
              "<p>6000 rows × 3 columns</p>\n",
              "</div>\n",
              "      <button class=\"colab-df-convert\" onclick=\"convertToInteractive('df-5e5a9566-ba4e-4407-af08-2cdebf5d6204')\"\n",
              "              title=\"Convert this dataframe to an interactive table.\"\n",
              "              style=\"display:none;\">\n",
              "        \n",
              "  <svg xmlns=\"http://www.w3.org/2000/svg\" height=\"24px\"viewBox=\"0 0 24 24\"\n",
              "       width=\"24px\">\n",
              "    <path d=\"M0 0h24v24H0V0z\" fill=\"none\"/>\n",
              "    <path d=\"M18.56 5.44l.94 2.06.94-2.06 2.06-.94-2.06-.94-.94-2.06-.94 2.06-2.06.94zm-11 1L8.5 8.5l.94-2.06 2.06-.94-2.06-.94L8.5 2.5l-.94 2.06-2.06.94zm10 10l.94 2.06.94-2.06 2.06-.94-2.06-.94-.94-2.06-.94 2.06-2.06.94z\"/><path d=\"M17.41 7.96l-1.37-1.37c-.4-.4-.92-.59-1.43-.59-.52 0-1.04.2-1.43.59L10.3 9.45l-7.72 7.72c-.78.78-.78 2.05 0 2.83L4 21.41c.39.39.9.59 1.41.59.51 0 1.02-.2 1.41-.59l7.78-7.78 2.81-2.81c.8-.78.8-2.07 0-2.86zM5.41 20L4 18.59l7.72-7.72 1.47 1.35L5.41 20z\"/>\n",
              "  </svg>\n",
              "      </button>\n",
              "      \n",
              "  <style>\n",
              "    .colab-df-container {\n",
              "      display:flex;\n",
              "      flex-wrap:wrap;\n",
              "      gap: 12px;\n",
              "    }\n",
              "\n",
              "    .colab-df-convert {\n",
              "      background-color: #E8F0FE;\n",
              "      border: none;\n",
              "      border-radius: 50%;\n",
              "      cursor: pointer;\n",
              "      display: none;\n",
              "      fill: #1967D2;\n",
              "      height: 32px;\n",
              "      padding: 0 0 0 0;\n",
              "      width: 32px;\n",
              "    }\n",
              "\n",
              "    .colab-df-convert:hover {\n",
              "      background-color: #E2EBFA;\n",
              "      box-shadow: 0px 1px 2px rgba(60, 64, 67, 0.3), 0px 1px 3px 1px rgba(60, 64, 67, 0.15);\n",
              "      fill: #174EA6;\n",
              "    }\n",
              "\n",
              "    [theme=dark] .colab-df-convert {\n",
              "      background-color: #3B4455;\n",
              "      fill: #D2E3FC;\n",
              "    }\n",
              "\n",
              "    [theme=dark] .colab-df-convert:hover {\n",
              "      background-color: #434B5C;\n",
              "      box-shadow: 0px 1px 3px 1px rgba(0, 0, 0, 0.15);\n",
              "      filter: drop-shadow(0px 1px 2px rgba(0, 0, 0, 0.3));\n",
              "      fill: #FFFFFF;\n",
              "    }\n",
              "  </style>\n",
              "\n",
              "      <script>\n",
              "        const buttonEl =\n",
              "          document.querySelector('#df-5e5a9566-ba4e-4407-af08-2cdebf5d6204 button.colab-df-convert');\n",
              "        buttonEl.style.display =\n",
              "          google.colab.kernel.accessAllowed ? 'block' : 'none';\n",
              "\n",
              "        async function convertToInteractive(key) {\n",
              "          const element = document.querySelector('#df-5e5a9566-ba4e-4407-af08-2cdebf5d6204');\n",
              "          const dataTable =\n",
              "            await google.colab.kernel.invokeFunction('convertToInteractive',\n",
              "                                                     [key], {});\n",
              "          if (!dataTable) return;\n",
              "\n",
              "          const docLinkHtml = 'Like what you see? Visit the ' +\n",
              "            '<a target=\"_blank\" href=https://colab.research.google.com/notebooks/data_table.ipynb>data table notebook</a>'\n",
              "            + ' to learn more about interactive tables.';\n",
              "          element.innerHTML = '';\n",
              "          dataTable['output_type'] = 'display_data';\n",
              "          await google.colab.output.renderOutput(dataTable, element);\n",
              "          const docLink = document.createElement('div');\n",
              "          docLink.innerHTML = docLinkHtml;\n",
              "          element.appendChild(docLink);\n",
              "        }\n",
              "      </script>\n",
              "    </div>\n",
              "  </div>\n",
              "  "
            ],
            "text/plain": [
              "      Unnamed: 0  Fake                                        final_clean\n",
              "0              0     0  intentar prender fuego espós ilesa gravemente ...\n",
              "1              1     0  ese ser renaud vuelta escenario octubre acción...\n",
              "2              2     0  traje rojo qué mensaje querer enviar hillary c...\n",
              "3              3     0  footligar resultado octava jornada h octubre m...\n",
              "4              4     0  suscríbete podcast poder suscribir él descarga...\n",
              "...          ...   ...                                                ...\n",
              "5995        2966     0  consejo gobierno haber dar visto bueno convoca...\n",
              "5996        2967     0  investigador valenciano haber desarrollar inno...\n",
              "5997        2968     0  arrestado actuar coche establecimiento policia...\n",
              "5998        2969     0  rey haber encargar miercol pedro sanchez prese...\n",
              "5999        2970     0  prueba realizado centro nacional microbiologia...\n",
              "\n",
              "[6000 rows x 3 columns]"
            ]
          },
          "metadata": {},
          "execution_count": 3
        }
      ]
    },
    {
      "cell_type": "code",
      "source": [
        "data.drop(['Unnamed: 0'], axis=1, inplace=True)"
      ],
      "metadata": {
        "id": "TLYRkUbfE0uN"
      },
      "execution_count": null,
      "outputs": []
    },
    {
      "cell_type": "code",
      "metadata": {
        "colab": {
          "base_uri": "https://localhost:8080/"
        },
        "id": "K7QvI00skaZd",
        "outputId": "d6e2af6b-81c3-4d69-e5dc-c16aa21ba939"
      },
      "source": [
        "data['final_clean'].isnull().sum()"
      ],
      "execution_count": null,
      "outputs": [
        {
          "output_type": "execute_result",
          "data": {
            "text/plain": [
              "0"
            ]
          },
          "metadata": {},
          "execution_count": 6
        }
      ]
    },
    {
      "cell_type": "markdown",
      "metadata": {
        "id": "S7Wfd_lNd1tZ"
      },
      "source": [
        "***3. CONVERT TO VECTORS***"
      ]
    },
    {
      "cell_type": "code",
      "metadata": {
        "id": "TTcwqXK9IMtw"
      },
      "source": [
        "from sklearn.feature_extraction.text import CountVectorizer\n",
        "vectorizer=CountVectorizer(max_features=3000)\n",
        "output=vectorizer.fit_transform(data['final_clean'])"
      ],
      "execution_count": null,
      "outputs": []
    },
    {
      "cell_type": "code",
      "metadata": {
        "colab": {
          "base_uri": "https://localhost:8080/"
        },
        "id": "ULxW2HVuIxma",
        "outputId": "858f96b8-e2c4-459f-facd-45ab681492e9"
      },
      "source": [
        "output"
      ],
      "execution_count": null,
      "outputs": [
        {
          "output_type": "execute_result",
          "data": {
            "text/plain": [
              "<6000x3000 sparse matrix of type '<class 'numpy.int64'>'\n",
              "\twith 382511 stored elements in Compressed Sparse Row format>"
            ]
          },
          "metadata": {},
          "execution_count": 8
        }
      ]
    },
    {
      "cell_type": "markdown",
      "source": [
        "***4. SPLIT DATA***"
      ],
      "metadata": {
        "id": "Acn9bKqh_UJr"
      }
    },
    {
      "cell_type": "code",
      "metadata": {
        "id": "Ei-PmdLaLRxC"
      },
      "source": [
        "from sklearn.model_selection import train_test_split\n",
        "X_train,X_val,y_train,y_val=train_test_split(output.toarray(),data['Fake'].values,test_size=0.2,random_state=0)"
      ],
      "execution_count": null,
      "outputs": []
    },
    {
      "cell_type": "markdown",
      "source": [
        "***5. BUILD THE MODEL***"
      ],
      "metadata": {
        "id": "yFcmwOBl_aZ0"
      }
    },
    {
      "cell_type": "code",
      "metadata": {
        "id": "nypwFnfvLqBi"
      },
      "source": [
        "#Creating the lstm model\n",
        "from keras.models import Sequential\n",
        "from keras.layers import Dense,Embedding, LSTM, RNN, Dropout\n",
        "import tensorflow as tf\n",
        "from keras.regularizers import l2\n",
        "from tensorflow.keras.optimizers import Adam,SGD\n",
        "\n",
        "model=Sequential()\n",
        "model.add(LSTM(100,input_shape=(1,3000))) #Adding 100 lstm neurons in the layer\n",
        "model.add(Dropout(0.2))\n",
        "model.add(Dense(63, activation='relu',  kernel_regularizer=l2(0.01), bias_regularizer=l2(0.01)))\n",
        "model.add(Dropout(0.2))\n",
        "model.add(Dense(32, activation='relu', kernel_regularizer=l2(0.01), bias_regularizer=l2(0.01)))\n",
        "model.add(Dropout(0.2))\n",
        "model.add(Dense(8, activation='relu',  kernel_regularizer=l2(0.01), bias_regularizer=l2(0.01)))\n",
        "model.add(Dense(1, activation='sigmoid'))\n",
        "#Compiling the model\n",
        "adam=Adam(learning_rate=0.00001)\n",
        "model.compile(adam, loss='binary_crossentropy',metrics=['accuracy'])"
      ],
      "execution_count": null,
      "outputs": []
    },
    {
      "cell_type": "code",
      "metadata": {
        "colab": {
          "base_uri": "https://localhost:8080/"
        },
        "id": "Yc4jKQ-cLpxH",
        "outputId": "07853f6b-fd9a-44f4-de71-ea63edcd9643"
      },
      "source": [
        "model.summary()"
      ],
      "execution_count": null,
      "outputs": [
        {
          "output_type": "stream",
          "name": "stdout",
          "text": [
            "Model: \"sequential_7\"\n",
            "_________________________________________________________________\n",
            " Layer (type)                Output Shape              Param #   \n",
            "=================================================================\n",
            " lstm_7 (LSTM)               (None, 100)               1240400   \n",
            "                                                                 \n",
            " dropout_21 (Dropout)        (None, 100)               0         \n",
            "                                                                 \n",
            " dense_28 (Dense)            (None, 63)                6363      \n",
            "                                                                 \n",
            " dropout_22 (Dropout)        (None, 63)                0         \n",
            "                                                                 \n",
            " dense_29 (Dense)            (None, 32)                2048      \n",
            "                                                                 \n",
            " dropout_23 (Dropout)        (None, 32)                0         \n",
            "                                                                 \n",
            " dense_30 (Dense)            (None, 8)                 264       \n",
            "                                                                 \n",
            " dense_31 (Dense)            (None, 1)                 9         \n",
            "                                                                 \n",
            "=================================================================\n",
            "Total params: 1,249,084\n",
            "Trainable params: 1,249,084\n",
            "Non-trainable params: 0\n",
            "_________________________________________________________________\n"
          ]
        }
      ]
    },
    {
      "cell_type": "markdown",
      "source": [
        "***6. RESHAPE AND TRAIN THE MODEL***"
      ],
      "metadata": {
        "id": "mQm40q4C_fba"
      }
    },
    {
      "cell_type": "code",
      "source": [
        "X_train_new=X_train.reshape(X_train.shape[0],1,X_train.shape[1])"
      ],
      "metadata": {
        "id": "SELjbBIK3b4i"
      },
      "execution_count": null,
      "outputs": []
    },
    {
      "cell_type": "code",
      "source": [
        "X_train.shape"
      ],
      "metadata": {
        "colab": {
          "base_uri": "https://localhost:8080/"
        },
        "id": "lU42ZaUa3czi",
        "outputId": "92f8b021-4c99-46a8-a6a5-f70ad72f4ccf"
      },
      "execution_count": null,
      "outputs": [
        {
          "output_type": "execute_result",
          "data": {
            "text/plain": [
              "(4800, 3000)"
            ]
          },
          "metadata": {},
          "execution_count": 56
        }
      ]
    },
    {
      "cell_type": "code",
      "source": [
        "X_train_new.shape # convertir formato de la entrada a formato matriz (requerido por LSTM)"
      ],
      "metadata": {
        "colab": {
          "base_uri": "https://localhost:8080/"
        },
        "id": "M_U_elua3fYX",
        "outputId": "101d2b0e-e058-4f9f-c2f5-3ca4abada4fd"
      },
      "execution_count": null,
      "outputs": [
        {
          "output_type": "execute_result",
          "data": {
            "text/plain": [
              "(4800, 1, 3000)"
            ]
          },
          "metadata": {},
          "execution_count": 57
        }
      ]
    },
    {
      "cell_type": "code",
      "metadata": {
        "colab": {
          "base_uri": "https://localhost:8080/"
        },
        "id": "mMJWRooIM75o",
        "outputId": "20a44a91-d05a-4383-959b-db372dfdc6f0"
      },
      "source": [
        "X_train_new=X_train.reshape(X_train.shape[0],1,X_train.shape[1])\n",
        "X_valid_new=X_val.reshape(X_val.shape[0],1,X_val.shape[1])\n",
        "history = model.fit(X_train_new,y_train,validation_data=(X_valid_new,y_val),epochs=200)"
      ],
      "execution_count": null,
      "outputs": [
        {
          "output_type": "stream",
          "name": "stdout",
          "text": [
            "Epoch 1/200\n",
            "150/150 [==============================] - 3s 7ms/step - loss: 2.0077 - accuracy: 0.5188 - val_loss: 1.9930 - val_accuracy: 0.5825\n",
            "Epoch 2/200\n",
            "150/150 [==============================] - 1s 4ms/step - loss: 1.9809 - accuracy: 0.5323 - val_loss: 1.9671 - val_accuracy: 0.5925\n",
            "Epoch 3/200\n",
            "150/150 [==============================] - 1s 4ms/step - loss: 1.9547 - accuracy: 0.5579 - val_loss: 1.9412 - val_accuracy: 0.6167\n",
            "Epoch 4/200\n",
            "150/150 [==============================] - 1s 4ms/step - loss: 1.9284 - accuracy: 0.5829 - val_loss: 1.9152 - val_accuracy: 0.6533\n",
            "Epoch 5/200\n",
            "150/150 [==============================] - 1s 4ms/step - loss: 1.9022 - accuracy: 0.6085 - val_loss: 1.8888 - val_accuracy: 0.6883\n",
            "Epoch 6/200\n",
            "150/150 [==============================] - 1s 4ms/step - loss: 1.8754 - accuracy: 0.6410 - val_loss: 1.8619 - val_accuracy: 0.7125\n",
            "Epoch 7/200\n",
            "150/150 [==============================] - 1s 4ms/step - loss: 1.8491 - accuracy: 0.6548 - val_loss: 1.8344 - val_accuracy: 0.7342\n",
            "Epoch 8/200\n",
            "150/150 [==============================] - 1s 4ms/step - loss: 1.8214 - accuracy: 0.6875 - val_loss: 1.8066 - val_accuracy: 0.7583\n",
            "Epoch 9/200\n",
            "150/150 [==============================] - 1s 4ms/step - loss: 1.7932 - accuracy: 0.7048 - val_loss: 1.7781 - val_accuracy: 0.7700\n",
            "Epoch 10/200\n",
            "150/150 [==============================] - 1s 4ms/step - loss: 1.7648 - accuracy: 0.7148 - val_loss: 1.7496 - val_accuracy: 0.7725\n",
            "Epoch 11/200\n",
            "150/150 [==============================] - 1s 4ms/step - loss: 1.7368 - accuracy: 0.7348 - val_loss: 1.7205 - val_accuracy: 0.7783\n",
            "Epoch 12/200\n",
            "150/150 [==============================] - 1s 4ms/step - loss: 1.7048 - accuracy: 0.7569 - val_loss: 1.6907 - val_accuracy: 0.7833\n",
            "Epoch 13/200\n",
            "150/150 [==============================] - 1s 4ms/step - loss: 1.6756 - accuracy: 0.7625 - val_loss: 1.6607 - val_accuracy: 0.7900\n",
            "Epoch 14/200\n",
            "150/150 [==============================] - 1s 4ms/step - loss: 1.6465 - accuracy: 0.7748 - val_loss: 1.6304 - val_accuracy: 0.7925\n",
            "Epoch 15/200\n",
            "150/150 [==============================] - 1s 4ms/step - loss: 1.6140 - accuracy: 0.7763 - val_loss: 1.5998 - val_accuracy: 0.7975\n",
            "Epoch 16/200\n",
            "150/150 [==============================] - 1s 4ms/step - loss: 1.5829 - accuracy: 0.7844 - val_loss: 1.5697 - val_accuracy: 0.8008\n",
            "Epoch 17/200\n",
            "150/150 [==============================] - 1s 4ms/step - loss: 1.5543 - accuracy: 0.7890 - val_loss: 1.5402 - val_accuracy: 0.7992\n",
            "Epoch 18/200\n",
            "150/150 [==============================] - 1s 4ms/step - loss: 1.5248 - accuracy: 0.7950 - val_loss: 1.5108 - val_accuracy: 0.7975\n",
            "Epoch 19/200\n",
            "150/150 [==============================] - 1s 4ms/step - loss: 1.4961 - accuracy: 0.8058 - val_loss: 1.4822 - val_accuracy: 0.8000\n",
            "Epoch 20/200\n",
            "150/150 [==============================] - 1s 4ms/step - loss: 1.4645 - accuracy: 0.8140 - val_loss: 1.4541 - val_accuracy: 0.8042\n",
            "Epoch 21/200\n",
            "150/150 [==============================] - 1s 4ms/step - loss: 1.4359 - accuracy: 0.8142 - val_loss: 1.4271 - val_accuracy: 0.8067\n",
            "Epoch 22/200\n",
            "150/150 [==============================] - 1s 4ms/step - loss: 1.4078 - accuracy: 0.8133 - val_loss: 1.4009 - val_accuracy: 0.8075\n",
            "Epoch 23/200\n",
            "150/150 [==============================] - 1s 4ms/step - loss: 1.3816 - accuracy: 0.8219 - val_loss: 1.3754 - val_accuracy: 0.8100\n",
            "Epoch 24/200\n",
            "150/150 [==============================] - 1s 4ms/step - loss: 1.3561 - accuracy: 0.8273 - val_loss: 1.3508 - val_accuracy: 0.8075\n",
            "Epoch 25/200\n",
            "150/150 [==============================] - 1s 4ms/step - loss: 1.3310 - accuracy: 0.8196 - val_loss: 1.3272 - val_accuracy: 0.8108\n",
            "Epoch 26/200\n",
            "150/150 [==============================] - 1s 4ms/step - loss: 1.3063 - accuracy: 0.8354 - val_loss: 1.3042 - val_accuracy: 0.8133\n",
            "Epoch 27/200\n",
            "150/150 [==============================] - 1s 4ms/step - loss: 1.2804 - accuracy: 0.8350 - val_loss: 1.2819 - val_accuracy: 0.8117\n",
            "Epoch 28/200\n",
            "150/150 [==============================] - 1s 4ms/step - loss: 1.2620 - accuracy: 0.8323 - val_loss: 1.2605 - val_accuracy: 0.8133\n",
            "Epoch 29/200\n",
            "150/150 [==============================] - 1s 4ms/step - loss: 1.2387 - accuracy: 0.8315 - val_loss: 1.2398 - val_accuracy: 0.8158\n",
            "Epoch 30/200\n",
            "150/150 [==============================] - 1s 4ms/step - loss: 1.2173 - accuracy: 0.8404 - val_loss: 1.2200 - val_accuracy: 0.8150\n",
            "Epoch 31/200\n",
            "150/150 [==============================] - 1s 4ms/step - loss: 1.1968 - accuracy: 0.8400 - val_loss: 1.2008 - val_accuracy: 0.8183\n",
            "Epoch 32/200\n",
            "150/150 [==============================] - 1s 4ms/step - loss: 1.1754 - accuracy: 0.8419 - val_loss: 1.1820 - val_accuracy: 0.8158\n",
            "Epoch 33/200\n",
            "150/150 [==============================] - 1s 5ms/step - loss: 1.1550 - accuracy: 0.8448 - val_loss: 1.1637 - val_accuracy: 0.8158\n",
            "Epoch 34/200\n",
            "150/150 [==============================] - 1s 4ms/step - loss: 1.1368 - accuracy: 0.8423 - val_loss: 1.1462 - val_accuracy: 0.8192\n",
            "Epoch 35/200\n",
            "150/150 [==============================] - 1s 4ms/step - loss: 1.1133 - accuracy: 0.8583 - val_loss: 1.1287 - val_accuracy: 0.8217\n",
            "Epoch 36/200\n",
            "150/150 [==============================] - 1s 4ms/step - loss: 1.0985 - accuracy: 0.8460 - val_loss: 1.1124 - val_accuracy: 0.8233\n",
            "Epoch 37/200\n",
            "150/150 [==============================] - 1s 4ms/step - loss: 1.0766 - accuracy: 0.8575 - val_loss: 1.0961 - val_accuracy: 0.8233\n",
            "Epoch 38/200\n",
            "150/150 [==============================] - 1s 4ms/step - loss: 1.0624 - accuracy: 0.8533 - val_loss: 1.0803 - val_accuracy: 0.8242\n",
            "Epoch 39/200\n",
            "150/150 [==============================] - 1s 4ms/step - loss: 1.0470 - accuracy: 0.8560 - val_loss: 1.0645 - val_accuracy: 0.8258\n",
            "Epoch 40/200\n",
            "150/150 [==============================] - 1s 4ms/step - loss: 1.0282 - accuracy: 0.8612 - val_loss: 1.0495 - val_accuracy: 0.8258\n",
            "Epoch 41/200\n",
            "150/150 [==============================] - 1s 4ms/step - loss: 1.0109 - accuracy: 0.8667 - val_loss: 1.0348 - val_accuracy: 0.8258\n",
            "Epoch 42/200\n",
            "150/150 [==============================] - 1s 4ms/step - loss: 0.9967 - accuracy: 0.8625 - val_loss: 1.0210 - val_accuracy: 0.8267\n",
            "Epoch 43/200\n",
            "150/150 [==============================] - 1s 4ms/step - loss: 0.9816 - accuracy: 0.8673 - val_loss: 1.0072 - val_accuracy: 0.8267\n",
            "Epoch 44/200\n",
            "150/150 [==============================] - 1s 4ms/step - loss: 0.9672 - accuracy: 0.8625 - val_loss: 0.9932 - val_accuracy: 0.8292\n",
            "Epoch 45/200\n",
            "150/150 [==============================] - 1s 4ms/step - loss: 0.9530 - accuracy: 0.8702 - val_loss: 0.9801 - val_accuracy: 0.8292\n",
            "Epoch 46/200\n",
            "150/150 [==============================] - 1s 4ms/step - loss: 0.9373 - accuracy: 0.8671 - val_loss: 0.9682 - val_accuracy: 0.8308\n",
            "Epoch 47/200\n",
            "150/150 [==============================] - 1s 4ms/step - loss: 0.9234 - accuracy: 0.8660 - val_loss: 0.9549 - val_accuracy: 0.8333\n",
            "Epoch 48/200\n",
            "150/150 [==============================] - 1s 4ms/step - loss: 0.9083 - accuracy: 0.8773 - val_loss: 0.9428 - val_accuracy: 0.8367\n",
            "Epoch 49/200\n",
            "150/150 [==============================] - 1s 4ms/step - loss: 0.8913 - accuracy: 0.8796 - val_loss: 0.9308 - val_accuracy: 0.8375\n",
            "Epoch 50/200\n",
            "150/150 [==============================] - 1s 4ms/step - loss: 0.8832 - accuracy: 0.8790 - val_loss: 0.9193 - val_accuracy: 0.8367\n",
            "Epoch 51/200\n",
            "150/150 [==============================] - 1s 4ms/step - loss: 0.8683 - accuracy: 0.8804 - val_loss: 0.9080 - val_accuracy: 0.8367\n",
            "Epoch 52/200\n",
            "150/150 [==============================] - 1s 4ms/step - loss: 0.8536 - accuracy: 0.8879 - val_loss: 0.8975 - val_accuracy: 0.8383\n",
            "Epoch 53/200\n",
            "150/150 [==============================] - 1s 4ms/step - loss: 0.8425 - accuracy: 0.8777 - val_loss: 0.8863 - val_accuracy: 0.8375\n",
            "Epoch 54/200\n",
            "150/150 [==============================] - 1s 4ms/step - loss: 0.8314 - accuracy: 0.8838 - val_loss: 0.8758 - val_accuracy: 0.8383\n",
            "Epoch 55/200\n",
            "150/150 [==============================] - 1s 4ms/step - loss: 0.8151 - accuracy: 0.8879 - val_loss: 0.8650 - val_accuracy: 0.8400\n",
            "Epoch 56/200\n",
            "150/150 [==============================] - 1s 4ms/step - loss: 0.8055 - accuracy: 0.8888 - val_loss: 0.8555 - val_accuracy: 0.8417\n",
            "Epoch 57/200\n",
            "150/150 [==============================] - 1s 4ms/step - loss: 0.7949 - accuracy: 0.8913 - val_loss: 0.8454 - val_accuracy: 0.8425\n",
            "Epoch 58/200\n",
            "150/150 [==============================] - 1s 4ms/step - loss: 0.7810 - accuracy: 0.8913 - val_loss: 0.8356 - val_accuracy: 0.8442\n",
            "Epoch 59/200\n",
            "150/150 [==============================] - 1s 4ms/step - loss: 0.7723 - accuracy: 0.8948 - val_loss: 0.8264 - val_accuracy: 0.8450\n",
            "Epoch 60/200\n",
            "150/150 [==============================] - 1s 4ms/step - loss: 0.7581 - accuracy: 0.9002 - val_loss: 0.8169 - val_accuracy: 0.8450\n",
            "Epoch 61/200\n",
            "150/150 [==============================] - 1s 4ms/step - loss: 0.7482 - accuracy: 0.8960 - val_loss: 0.8072 - val_accuracy: 0.8458\n",
            "Epoch 62/200\n",
            "150/150 [==============================] - 1s 4ms/step - loss: 0.7389 - accuracy: 0.8994 - val_loss: 0.7988 - val_accuracy: 0.8450\n",
            "Epoch 63/200\n",
            "150/150 [==============================] - 1s 4ms/step - loss: 0.7282 - accuracy: 0.9019 - val_loss: 0.7904 - val_accuracy: 0.8458\n",
            "Epoch 64/200\n",
            "150/150 [==============================] - 1s 4ms/step - loss: 0.7169 - accuracy: 0.8996 - val_loss: 0.7819 - val_accuracy: 0.8492\n",
            "Epoch 65/200\n",
            "150/150 [==============================] - 1s 4ms/step - loss: 0.7077 - accuracy: 0.8992 - val_loss: 0.7729 - val_accuracy: 0.8525\n",
            "Epoch 66/200\n",
            "150/150 [==============================] - 1s 4ms/step - loss: 0.6968 - accuracy: 0.9029 - val_loss: 0.7652 - val_accuracy: 0.8500\n",
            "Epoch 67/200\n",
            "150/150 [==============================] - 1s 4ms/step - loss: 0.6879 - accuracy: 0.9023 - val_loss: 0.7572 - val_accuracy: 0.8517\n",
            "Epoch 68/200\n",
            "150/150 [==============================] - 1s 4ms/step - loss: 0.6789 - accuracy: 0.9065 - val_loss: 0.7496 - val_accuracy: 0.8533\n",
            "Epoch 69/200\n",
            "150/150 [==============================] - 1s 4ms/step - loss: 0.6675 - accuracy: 0.9098 - val_loss: 0.7423 - val_accuracy: 0.8542\n",
            "Epoch 70/200\n",
            "150/150 [==============================] - 1s 4ms/step - loss: 0.6598 - accuracy: 0.9067 - val_loss: 0.7354 - val_accuracy: 0.8542\n",
            "Epoch 71/200\n",
            "150/150 [==============================] - 1s 4ms/step - loss: 0.6501 - accuracy: 0.9108 - val_loss: 0.7271 - val_accuracy: 0.8533\n",
            "Epoch 72/200\n",
            "150/150 [==============================] - 1s 4ms/step - loss: 0.6410 - accuracy: 0.9140 - val_loss: 0.7201 - val_accuracy: 0.8525\n",
            "Epoch 73/200\n",
            "150/150 [==============================] - 1s 4ms/step - loss: 0.6333 - accuracy: 0.9125 - val_loss: 0.7134 - val_accuracy: 0.8533\n",
            "Epoch 74/200\n",
            "150/150 [==============================] - 1s 4ms/step - loss: 0.6216 - accuracy: 0.9133 - val_loss: 0.7067 - val_accuracy: 0.8542\n",
            "Epoch 75/200\n",
            "150/150 [==============================] - 1s 4ms/step - loss: 0.6137 - accuracy: 0.9194 - val_loss: 0.6997 - val_accuracy: 0.8542\n",
            "Epoch 76/200\n",
            "150/150 [==============================] - 1s 4ms/step - loss: 0.6070 - accuracy: 0.9160 - val_loss: 0.6931 - val_accuracy: 0.8542\n",
            "Epoch 77/200\n",
            "150/150 [==============================] - 1s 4ms/step - loss: 0.5972 - accuracy: 0.9231 - val_loss: 0.6876 - val_accuracy: 0.8558\n",
            "Epoch 78/200\n",
            "150/150 [==============================] - 1s 4ms/step - loss: 0.5922 - accuracy: 0.9169 - val_loss: 0.6815 - val_accuracy: 0.8558\n",
            "Epoch 79/200\n",
            "150/150 [==============================] - 1s 4ms/step - loss: 0.5825 - accuracy: 0.9171 - val_loss: 0.6753 - val_accuracy: 0.8558\n",
            "Epoch 80/200\n",
            "150/150 [==============================] - 1s 4ms/step - loss: 0.5766 - accuracy: 0.9179 - val_loss: 0.6691 - val_accuracy: 0.8550\n",
            "Epoch 81/200\n",
            "150/150 [==============================] - 1s 5ms/step - loss: 0.5704 - accuracy: 0.9192 - val_loss: 0.6637 - val_accuracy: 0.8550\n",
            "Epoch 82/200\n",
            "150/150 [==============================] - 1s 4ms/step - loss: 0.5617 - accuracy: 0.9194 - val_loss: 0.6572 - val_accuracy: 0.8542\n",
            "Epoch 83/200\n",
            "150/150 [==============================] - 1s 4ms/step - loss: 0.5568 - accuracy: 0.9206 - val_loss: 0.6528 - val_accuracy: 0.8542\n",
            "Epoch 84/200\n",
            "150/150 [==============================] - 1s 4ms/step - loss: 0.5468 - accuracy: 0.9219 - val_loss: 0.6470 - val_accuracy: 0.8542\n",
            "Epoch 85/200\n",
            "150/150 [==============================] - 1s 4ms/step - loss: 0.5388 - accuracy: 0.9252 - val_loss: 0.6416 - val_accuracy: 0.8542\n",
            "Epoch 86/200\n",
            "150/150 [==============================] - 1s 4ms/step - loss: 0.5336 - accuracy: 0.9256 - val_loss: 0.6359 - val_accuracy: 0.8550\n",
            "Epoch 87/200\n",
            "150/150 [==============================] - 1s 4ms/step - loss: 0.5263 - accuracy: 0.9262 - val_loss: 0.6315 - val_accuracy: 0.8550\n",
            "Epoch 88/200\n",
            "150/150 [==============================] - 1s 4ms/step - loss: 0.5185 - accuracy: 0.9298 - val_loss: 0.6272 - val_accuracy: 0.8542\n",
            "Epoch 89/200\n",
            "150/150 [==============================] - 1s 4ms/step - loss: 0.5127 - accuracy: 0.9296 - val_loss: 0.6222 - val_accuracy: 0.8517\n",
            "Epoch 90/200\n",
            "150/150 [==============================] - 1s 4ms/step - loss: 0.5062 - accuracy: 0.9298 - val_loss: 0.6170 - val_accuracy: 0.8542\n",
            "Epoch 91/200\n",
            "150/150 [==============================] - 1s 4ms/step - loss: 0.5020 - accuracy: 0.9312 - val_loss: 0.6131 - val_accuracy: 0.8525\n",
            "Epoch 92/200\n",
            "150/150 [==============================] - 1s 4ms/step - loss: 0.4934 - accuracy: 0.9321 - val_loss: 0.6089 - val_accuracy: 0.8550\n",
            "Epoch 93/200\n",
            "150/150 [==============================] - 1s 4ms/step - loss: 0.4899 - accuracy: 0.9352 - val_loss: 0.6046 - val_accuracy: 0.8533\n",
            "Epoch 94/200\n",
            "150/150 [==============================] - 1s 4ms/step - loss: 0.4811 - accuracy: 0.9356 - val_loss: 0.6013 - val_accuracy: 0.8542\n",
            "Epoch 95/200\n",
            "150/150 [==============================] - 1s 4ms/step - loss: 0.4762 - accuracy: 0.9310 - val_loss: 0.5978 - val_accuracy: 0.8542\n",
            "Epoch 96/200\n",
            "150/150 [==============================] - 1s 4ms/step - loss: 0.4708 - accuracy: 0.9352 - val_loss: 0.5929 - val_accuracy: 0.8567\n",
            "Epoch 97/200\n",
            "150/150 [==============================] - 1s 4ms/step - loss: 0.4667 - accuracy: 0.9360 - val_loss: 0.5891 - val_accuracy: 0.8558\n",
            "Epoch 98/200\n",
            "150/150 [==============================] - 1s 4ms/step - loss: 0.4607 - accuracy: 0.9373 - val_loss: 0.5855 - val_accuracy: 0.8567\n",
            "Epoch 99/200\n",
            "150/150 [==============================] - 1s 4ms/step - loss: 0.4561 - accuracy: 0.9400 - val_loss: 0.5814 - val_accuracy: 0.8575\n",
            "Epoch 100/200\n",
            "150/150 [==============================] - 1s 4ms/step - loss: 0.4490 - accuracy: 0.9375 - val_loss: 0.5788 - val_accuracy: 0.8575\n",
            "Epoch 101/200\n",
            "150/150 [==============================] - 1s 4ms/step - loss: 0.4461 - accuracy: 0.9392 - val_loss: 0.5743 - val_accuracy: 0.8592\n",
            "Epoch 102/200\n",
            "150/150 [==============================] - 1s 4ms/step - loss: 0.4395 - accuracy: 0.9379 - val_loss: 0.5720 - val_accuracy: 0.8575\n",
            "Epoch 103/200\n",
            "150/150 [==============================] - 1s 4ms/step - loss: 0.4345 - accuracy: 0.9425 - val_loss: 0.5689 - val_accuracy: 0.8583\n",
            "Epoch 104/200\n",
            "150/150 [==============================] - 1s 4ms/step - loss: 0.4302 - accuracy: 0.9398 - val_loss: 0.5654 - val_accuracy: 0.8567\n",
            "Epoch 105/200\n",
            "150/150 [==============================] - 1s 4ms/step - loss: 0.4251 - accuracy: 0.9377 - val_loss: 0.5624 - val_accuracy: 0.8567\n",
            "Epoch 106/200\n",
            "150/150 [==============================] - 1s 4ms/step - loss: 0.4209 - accuracy: 0.9456 - val_loss: 0.5602 - val_accuracy: 0.8575\n",
            "Epoch 107/200\n",
            "150/150 [==============================] - 1s 4ms/step - loss: 0.4168 - accuracy: 0.9425 - val_loss: 0.5560 - val_accuracy: 0.8592\n",
            "Epoch 108/200\n",
            "150/150 [==============================] - 1s 4ms/step - loss: 0.4135 - accuracy: 0.9402 - val_loss: 0.5533 - val_accuracy: 0.8583\n",
            "Epoch 109/200\n",
            "150/150 [==============================] - 1s 4ms/step - loss: 0.4072 - accuracy: 0.9473 - val_loss: 0.5515 - val_accuracy: 0.8583\n",
            "Epoch 110/200\n",
            "150/150 [==============================] - 1s 4ms/step - loss: 0.4040 - accuracy: 0.9448 - val_loss: 0.5487 - val_accuracy: 0.8583\n",
            "Epoch 111/200\n",
            "150/150 [==============================] - 1s 4ms/step - loss: 0.3991 - accuracy: 0.9442 - val_loss: 0.5460 - val_accuracy: 0.8583\n",
            "Epoch 112/200\n",
            "150/150 [==============================] - 1s 4ms/step - loss: 0.3936 - accuracy: 0.9475 - val_loss: 0.5439 - val_accuracy: 0.8583\n",
            "Epoch 113/200\n",
            "150/150 [==============================] - 1s 4ms/step - loss: 0.3922 - accuracy: 0.9465 - val_loss: 0.5411 - val_accuracy: 0.8583\n",
            "Epoch 114/200\n",
            "150/150 [==============================] - 1s 4ms/step - loss: 0.3879 - accuracy: 0.9479 - val_loss: 0.5398 - val_accuracy: 0.8592\n",
            "Epoch 115/200\n",
            "150/150 [==============================] - 1s 4ms/step - loss: 0.3834 - accuracy: 0.9508 - val_loss: 0.5365 - val_accuracy: 0.8567\n",
            "Epoch 116/200\n",
            "150/150 [==============================] - 1s 4ms/step - loss: 0.3791 - accuracy: 0.9485 - val_loss: 0.5348 - val_accuracy: 0.8575\n",
            "Epoch 117/200\n",
            "150/150 [==============================] - 1s 4ms/step - loss: 0.3746 - accuracy: 0.9517 - val_loss: 0.5319 - val_accuracy: 0.8592\n",
            "Epoch 118/200\n",
            "150/150 [==============================] - 1s 4ms/step - loss: 0.3716 - accuracy: 0.9506 - val_loss: 0.5322 - val_accuracy: 0.8583\n",
            "Epoch 119/200\n",
            "150/150 [==============================] - 1s 4ms/step - loss: 0.3678 - accuracy: 0.9529 - val_loss: 0.5300 - val_accuracy: 0.8592\n",
            "Epoch 120/200\n",
            "150/150 [==============================] - 1s 4ms/step - loss: 0.3680 - accuracy: 0.9479 - val_loss: 0.5266 - val_accuracy: 0.8592\n",
            "Epoch 121/200\n",
            "150/150 [==============================] - 1s 4ms/step - loss: 0.3607 - accuracy: 0.9533 - val_loss: 0.5254 - val_accuracy: 0.8600\n",
            "Epoch 122/200\n",
            "150/150 [==============================] - 1s 4ms/step - loss: 0.3569 - accuracy: 0.9523 - val_loss: 0.5246 - val_accuracy: 0.8592\n",
            "Epoch 123/200\n",
            "150/150 [==============================] - 1s 4ms/step - loss: 0.3564 - accuracy: 0.9529 - val_loss: 0.5240 - val_accuracy: 0.8575\n",
            "Epoch 124/200\n",
            "150/150 [==============================] - 1s 4ms/step - loss: 0.3530 - accuracy: 0.9533 - val_loss: 0.5209 - val_accuracy: 0.8608\n",
            "Epoch 125/200\n",
            "150/150 [==============================] - 1s 4ms/step - loss: 0.3477 - accuracy: 0.9575 - val_loss: 0.5189 - val_accuracy: 0.8617\n",
            "Epoch 126/200\n",
            "150/150 [==============================] - 1s 4ms/step - loss: 0.3470 - accuracy: 0.9498 - val_loss: 0.5179 - val_accuracy: 0.8617\n",
            "Epoch 127/200\n",
            "150/150 [==============================] - 1s 4ms/step - loss: 0.3440 - accuracy: 0.9565 - val_loss: 0.5174 - val_accuracy: 0.8592\n",
            "Epoch 128/200\n",
            "150/150 [==============================] - 1s 4ms/step - loss: 0.3394 - accuracy: 0.9608 - val_loss: 0.5161 - val_accuracy: 0.8617\n",
            "Epoch 129/200\n",
            "150/150 [==============================] - 1s 4ms/step - loss: 0.3376 - accuracy: 0.9546 - val_loss: 0.5148 - val_accuracy: 0.8625\n",
            "Epoch 130/200\n",
            "150/150 [==============================] - 1s 4ms/step - loss: 0.3379 - accuracy: 0.9525 - val_loss: 0.5133 - val_accuracy: 0.8642\n",
            "Epoch 131/200\n",
            "150/150 [==============================] - 1s 4ms/step - loss: 0.3321 - accuracy: 0.9569 - val_loss: 0.5134 - val_accuracy: 0.8617\n",
            "Epoch 132/200\n",
            "150/150 [==============================] - 1s 4ms/step - loss: 0.3308 - accuracy: 0.9571 - val_loss: 0.5103 - val_accuracy: 0.8650\n",
            "Epoch 133/200\n",
            "150/150 [==============================] - 1s 4ms/step - loss: 0.3281 - accuracy: 0.9585 - val_loss: 0.5099 - val_accuracy: 0.8633\n",
            "Epoch 134/200\n",
            "150/150 [==============================] - 1s 4ms/step - loss: 0.3243 - accuracy: 0.9598 - val_loss: 0.5102 - val_accuracy: 0.8625\n",
            "Epoch 135/200\n",
            "150/150 [==============================] - 1s 4ms/step - loss: 0.3231 - accuracy: 0.9571 - val_loss: 0.5089 - val_accuracy: 0.8650\n",
            "Epoch 136/200\n",
            "150/150 [==============================] - 1s 4ms/step - loss: 0.3199 - accuracy: 0.9581 - val_loss: 0.5067 - val_accuracy: 0.8617\n",
            "Epoch 137/200\n",
            "150/150 [==============================] - 1s 4ms/step - loss: 0.3174 - accuracy: 0.9585 - val_loss: 0.5059 - val_accuracy: 0.8625\n",
            "Epoch 138/200\n",
            "150/150 [==============================] - 1s 4ms/step - loss: 0.3143 - accuracy: 0.9585 - val_loss: 0.5066 - val_accuracy: 0.8617\n",
            "Epoch 139/200\n",
            "150/150 [==============================] - 1s 4ms/step - loss: 0.3128 - accuracy: 0.9602 - val_loss: 0.5065 - val_accuracy: 0.8617\n",
            "Epoch 140/200\n",
            "150/150 [==============================] - 1s 4ms/step - loss: 0.3093 - accuracy: 0.9646 - val_loss: 0.5054 - val_accuracy: 0.8625\n",
            "Epoch 141/200\n",
            "150/150 [==============================] - 1s 4ms/step - loss: 0.3071 - accuracy: 0.9627 - val_loss: 0.5052 - val_accuracy: 0.8633\n",
            "Epoch 142/200\n",
            "150/150 [==============================] - 1s 4ms/step - loss: 0.3086 - accuracy: 0.9581 - val_loss: 0.5047 - val_accuracy: 0.8625\n",
            "Epoch 143/200\n",
            "150/150 [==============================] - 1s 4ms/step - loss: 0.3031 - accuracy: 0.9610 - val_loss: 0.5045 - val_accuracy: 0.8625\n",
            "Epoch 144/200\n",
            "150/150 [==============================] - 1s 4ms/step - loss: 0.3002 - accuracy: 0.9617 - val_loss: 0.5023 - val_accuracy: 0.8617\n",
            "Epoch 145/200\n",
            "150/150 [==============================] - 1s 4ms/step - loss: 0.2983 - accuracy: 0.9623 - val_loss: 0.5020 - val_accuracy: 0.8642\n",
            "Epoch 146/200\n",
            "150/150 [==============================] - 1s 4ms/step - loss: 0.2940 - accuracy: 0.9665 - val_loss: 0.5027 - val_accuracy: 0.8633\n",
            "Epoch 147/200\n",
            "150/150 [==============================] - 1s 4ms/step - loss: 0.2937 - accuracy: 0.9646 - val_loss: 0.5015 - val_accuracy: 0.8642\n",
            "Epoch 148/200\n",
            "150/150 [==============================] - 1s 4ms/step - loss: 0.2929 - accuracy: 0.9658 - val_loss: 0.5017 - val_accuracy: 0.8642\n",
            "Epoch 149/200\n",
            "150/150 [==============================] - 1s 4ms/step - loss: 0.2908 - accuracy: 0.9650 - val_loss: 0.5012 - val_accuracy: 0.8642\n",
            "Epoch 150/200\n",
            "150/150 [==============================] - 1s 4ms/step - loss: 0.2903 - accuracy: 0.9633 - val_loss: 0.5018 - val_accuracy: 0.8642\n",
            "Epoch 151/200\n",
            "150/150 [==============================] - 1s 4ms/step - loss: 0.2877 - accuracy: 0.9669 - val_loss: 0.5010 - val_accuracy: 0.8658\n",
            "Epoch 152/200\n",
            "150/150 [==============================] - 1s 4ms/step - loss: 0.2836 - accuracy: 0.9681 - val_loss: 0.4997 - val_accuracy: 0.8667\n",
            "Epoch 153/200\n",
            "150/150 [==============================] - 1s 4ms/step - loss: 0.2848 - accuracy: 0.9652 - val_loss: 0.4997 - val_accuracy: 0.8675\n",
            "Epoch 154/200\n",
            "150/150 [==============================] - 1s 4ms/step - loss: 0.2828 - accuracy: 0.9648 - val_loss: 0.4983 - val_accuracy: 0.8658\n",
            "Epoch 155/200\n",
            "150/150 [==============================] - 1s 4ms/step - loss: 0.2802 - accuracy: 0.9652 - val_loss: 0.4984 - val_accuracy: 0.8650\n",
            "Epoch 156/200\n",
            "150/150 [==============================] - 1s 4ms/step - loss: 0.2789 - accuracy: 0.9654 - val_loss: 0.4990 - val_accuracy: 0.8658\n",
            "Epoch 157/200\n",
            "150/150 [==============================] - 1s 4ms/step - loss: 0.2772 - accuracy: 0.9663 - val_loss: 0.4987 - val_accuracy: 0.8650\n",
            "Epoch 158/200\n",
            "150/150 [==============================] - 1s 4ms/step - loss: 0.2750 - accuracy: 0.9688 - val_loss: 0.4999 - val_accuracy: 0.8642\n",
            "Epoch 159/200\n",
            "150/150 [==============================] - 1s 4ms/step - loss: 0.2730 - accuracy: 0.9673 - val_loss: 0.5001 - val_accuracy: 0.8642\n",
            "Epoch 160/200\n",
            "150/150 [==============================] - 1s 4ms/step - loss: 0.2729 - accuracy: 0.9696 - val_loss: 0.4989 - val_accuracy: 0.8642\n",
            "Epoch 161/200\n",
            "150/150 [==============================] - 1s 4ms/step - loss: 0.2678 - accuracy: 0.9706 - val_loss: 0.4987 - val_accuracy: 0.8658\n",
            "Epoch 162/200\n",
            "150/150 [==============================] - 1s 4ms/step - loss: 0.2700 - accuracy: 0.9685 - val_loss: 0.4976 - val_accuracy: 0.8667\n",
            "Epoch 163/200\n",
            "150/150 [==============================] - 1s 4ms/step - loss: 0.2646 - accuracy: 0.9719 - val_loss: 0.4977 - val_accuracy: 0.8658\n",
            "Epoch 164/200\n",
            "150/150 [==============================] - 1s 4ms/step - loss: 0.2641 - accuracy: 0.9723 - val_loss: 0.4979 - val_accuracy: 0.8650\n",
            "Epoch 165/200\n",
            "150/150 [==============================] - 1s 4ms/step - loss: 0.2631 - accuracy: 0.9721 - val_loss: 0.4990 - val_accuracy: 0.8658\n",
            "Epoch 166/200\n",
            "150/150 [==============================] - 1s 4ms/step - loss: 0.2631 - accuracy: 0.9692 - val_loss: 0.4993 - val_accuracy: 0.8658\n",
            "Epoch 167/200\n",
            "150/150 [==============================] - 1s 4ms/step - loss: 0.2616 - accuracy: 0.9725 - val_loss: 0.4981 - val_accuracy: 0.8642\n",
            "Epoch 168/200\n",
            "150/150 [==============================] - 1s 4ms/step - loss: 0.2591 - accuracy: 0.9723 - val_loss: 0.4986 - val_accuracy: 0.8675\n",
            "Epoch 169/200\n",
            "150/150 [==============================] - 1s 4ms/step - loss: 0.2573 - accuracy: 0.9717 - val_loss: 0.4993 - val_accuracy: 0.8675\n",
            "Epoch 170/200\n",
            "150/150 [==============================] - 1s 4ms/step - loss: 0.2587 - accuracy: 0.9690 - val_loss: 0.4981 - val_accuracy: 0.8658\n",
            "Epoch 171/200\n",
            "150/150 [==============================] - 1s 4ms/step - loss: 0.2570 - accuracy: 0.9692 - val_loss: 0.4969 - val_accuracy: 0.8625\n",
            "Epoch 172/200\n",
            "150/150 [==============================] - 1s 4ms/step - loss: 0.2528 - accuracy: 0.9742 - val_loss: 0.4969 - val_accuracy: 0.8625\n",
            "Epoch 173/200\n",
            "150/150 [==============================] - 1s 4ms/step - loss: 0.2567 - accuracy: 0.9704 - val_loss: 0.4957 - val_accuracy: 0.8650\n",
            "Epoch 174/200\n",
            "150/150 [==============================] - 1s 4ms/step - loss: 0.2506 - accuracy: 0.9750 - val_loss: 0.4957 - val_accuracy: 0.8642\n",
            "Epoch 175/200\n",
            "150/150 [==============================] - 1s 4ms/step - loss: 0.2512 - accuracy: 0.9731 - val_loss: 0.4968 - val_accuracy: 0.8650\n",
            "Epoch 176/200\n",
            "150/150 [==============================] - 1s 4ms/step - loss: 0.2484 - accuracy: 0.9729 - val_loss: 0.4974 - val_accuracy: 0.8642\n",
            "Epoch 177/200\n",
            "150/150 [==============================] - 1s 4ms/step - loss: 0.2470 - accuracy: 0.9752 - val_loss: 0.4978 - val_accuracy: 0.8642\n",
            "Epoch 178/200\n",
            "150/150 [==============================] - 1s 4ms/step - loss: 0.2472 - accuracy: 0.9744 - val_loss: 0.4978 - val_accuracy: 0.8642\n",
            "Epoch 179/200\n",
            "150/150 [==============================] - 1s 4ms/step - loss: 0.2440 - accuracy: 0.9742 - val_loss: 0.4988 - val_accuracy: 0.8633\n",
            "Epoch 180/200\n",
            "150/150 [==============================] - 1s 4ms/step - loss: 0.2439 - accuracy: 0.9762 - val_loss: 0.4992 - val_accuracy: 0.8650\n",
            "Epoch 181/200\n",
            "150/150 [==============================] - 1s 4ms/step - loss: 0.2436 - accuracy: 0.9769 - val_loss: 0.4990 - val_accuracy: 0.8617\n",
            "Epoch 182/200\n",
            "150/150 [==============================] - 1s 4ms/step - loss: 0.2423 - accuracy: 0.9746 - val_loss: 0.4995 - val_accuracy: 0.8625\n",
            "Epoch 183/200\n",
            "150/150 [==============================] - 1s 4ms/step - loss: 0.2403 - accuracy: 0.9754 - val_loss: 0.4999 - val_accuracy: 0.8633\n",
            "Epoch 184/200\n",
            "150/150 [==============================] - 1s 4ms/step - loss: 0.2386 - accuracy: 0.9723 - val_loss: 0.4997 - val_accuracy: 0.8617\n",
            "Epoch 185/200\n",
            "150/150 [==============================] - 1s 4ms/step - loss: 0.2381 - accuracy: 0.9737 - val_loss: 0.5003 - val_accuracy: 0.8592\n",
            "Epoch 186/200\n",
            "150/150 [==============================] - 1s 4ms/step - loss: 0.2357 - accuracy: 0.9781 - val_loss: 0.5002 - val_accuracy: 0.8608\n",
            "Epoch 187/200\n",
            "150/150 [==============================] - 1s 4ms/step - loss: 0.2353 - accuracy: 0.9769 - val_loss: 0.5014 - val_accuracy: 0.8600\n",
            "Epoch 188/200\n",
            "150/150 [==============================] - 1s 4ms/step - loss: 0.2363 - accuracy: 0.9767 - val_loss: 0.5026 - val_accuracy: 0.8592\n",
            "Epoch 189/200\n",
            "150/150 [==============================] - 1s 4ms/step - loss: 0.2340 - accuracy: 0.9760 - val_loss: 0.5016 - val_accuracy: 0.8592\n",
            "Epoch 190/200\n",
            "150/150 [==============================] - 1s 4ms/step - loss: 0.2352 - accuracy: 0.9762 - val_loss: 0.5018 - val_accuracy: 0.8592\n",
            "Epoch 191/200\n",
            "150/150 [==============================] - 1s 4ms/step - loss: 0.2323 - accuracy: 0.9767 - val_loss: 0.5030 - val_accuracy: 0.8583\n",
            "Epoch 192/200\n",
            "150/150 [==============================] - 1s 4ms/step - loss: 0.2313 - accuracy: 0.9790 - val_loss: 0.5028 - val_accuracy: 0.8592\n",
            "Epoch 193/200\n",
            "150/150 [==============================] - 1s 4ms/step - loss: 0.2282 - accuracy: 0.9781 - val_loss: 0.5035 - val_accuracy: 0.8575\n",
            "Epoch 194/200\n",
            "150/150 [==============================] - 1s 4ms/step - loss: 0.2299 - accuracy: 0.9765 - val_loss: 0.5034 - val_accuracy: 0.8558\n",
            "Epoch 195/200\n",
            "150/150 [==============================] - 1s 4ms/step - loss: 0.2275 - accuracy: 0.9812 - val_loss: 0.5045 - val_accuracy: 0.8567\n",
            "Epoch 196/200\n",
            "150/150 [==============================] - 1s 4ms/step - loss: 0.2265 - accuracy: 0.9794 - val_loss: 0.5037 - val_accuracy: 0.8575\n",
            "Epoch 197/200\n",
            "150/150 [==============================] - 1s 4ms/step - loss: 0.2252 - accuracy: 0.9812 - val_loss: 0.5039 - val_accuracy: 0.8575\n",
            "Epoch 198/200\n",
            "150/150 [==============================] - 1s 4ms/step - loss: 0.2233 - accuracy: 0.9810 - val_loss: 0.5041 - val_accuracy: 0.8575\n",
            "Epoch 199/200\n",
            "150/150 [==============================] - 1s 4ms/step - loss: 0.2206 - accuracy: 0.9817 - val_loss: 0.5045 - val_accuracy: 0.8567\n",
            "Epoch 200/200\n",
            "150/150 [==============================] - 1s 4ms/step - loss: 0.2255 - accuracy: 0.9758 - val_loss: 0.5043 - val_accuracy: 0.8558\n"
          ]
        }
      ]
    },
    {
      "cell_type": "markdown",
      "source": [
        "***7. PLOT THE ACCURACY AND LOSS***"
      ],
      "metadata": {
        "id": "o5DtlD-S_kQD"
      }
    },
    {
      "cell_type": "code",
      "metadata": {
        "id": "zFpTkazrM7q8",
        "colab": {
          "base_uri": "https://localhost:8080/",
          "height": 573
        },
        "outputId": "bab85c96-311c-49a3-bdae-95dae45f4418"
      },
      "source": [
        "import matplotlib.pyplot as plt  # it overfits after epoch 11, but starts to learn again after 14\n",
        "\n",
        "plt.plot(history.history['accuracy'])\n",
        "plt.plot(history.history['val_accuracy'])\n",
        "plt.title('Model accuracy')\n",
        "plt.ylabel('Accuracy')\n",
        "plt.xlabel('Epoch')\n",
        "plt.legend(['Train', 'Test'], loc='upper left')\n",
        "plt.show()\n",
        "\n",
        "plt.plot(history.history['loss'])\n",
        "plt.plot(history.history['val_loss'])\n",
        "plt.title('Model loss')\n",
        "plt.ylabel('Loss')\n",
        "plt.xlabel('Epoch')\n",
        "plt.legend(['Train', 'Test'], loc='upper right')\n",
        "plt.show()"
      ],
      "execution_count": null,
      "outputs": [
        {
          "output_type": "display_data",
          "data": {
            "image/png": "[encoded data removed]",
            "text/plain": [
              "<Figure size 432x288 with 1 Axes>"
            ]
          },
          "metadata": {
            "needs_background": "light"
          }
        },
        {
          "output_type": "display_data",
          "data": {
            "image/png": "[encoded data removed]",
            "text/plain": [
              "<Figure size 432x288 with 1 Axes>"
            ]
          },
          "metadata": {
            "needs_background": "light"
          }
        }
      ]
    },
    {
      "cell_type": "code",
      "metadata": {
        "colab": {
          "base_uri": "https://localhost:8080/"
        },
        "id": "iMr77wIlUgQy",
        "outputId": "55425a76-7d65-423d-cddd-ce791c86bb23"
      },
      "source": [
        "model.save('lstm_fr')\n",
        "loaded_model=tf.keras.models.load_model('lstm_fr')"
      ],
      "execution_count": null,
      "outputs": [
        {
          "output_type": "stream",
          "name": "stderr",
          "text": [
            "WARNING:absl:Found untraced functions such as lstm_cell_layer_call_fn, lstm_cell_layer_call_and_return_conditional_losses, lstm_cell_layer_call_fn, lstm_cell_layer_call_and_return_conditional_losses, lstm_cell_layer_call_and_return_conditional_losses while saving (showing 5 of 5). These functions will not be directly callable after loading.\n"
          ]
        },
        {
          "output_type": "stream",
          "name": "stdout",
          "text": [
            "INFO:tensorflow:Assets written to: lstm_fr/assets\n"
          ]
        },
        {
          "output_type": "stream",
          "name": "stderr",
          "text": [
            "INFO:tensorflow:Assets written to: lstm_fr/assets\n",
            "WARNING:absl:<keras.layers.recurrent.LSTMCell object at 0x7f45b0023dd0> has the same name 'LSTMCell' as a built-in Keras object. Consider renaming <class 'keras.layers.recurrent.LSTMCell'> to avoid naming conflicts when loading with `tf.keras.models.load_model`. If renaming is not possible, pass the object in the `custom_objects` parameter of the load function.\n"
          ]
        }
      ]
    },
    {
      "cell_type": "code",
      "source": [
        "from sklearn.metrics import classification_report, confusion_matrix"
      ],
      "metadata": {
        "id": "KNjA1OzaGuWj"
      },
      "execution_count": null,
      "outputs": []
    },
    {
      "cell_type": "code",
      "source": [
        "y_pred_valid=(model.predict(X_valid_new)>0.5).astype(int)"
      ],
      "metadata": {
        "id": "St7Y6h9UgmUy"
      },
      "execution_count": null,
      "outputs": []
    },
    {
      "cell_type": "code",
      "source": [
        "print(classification_report(y_val,y_pred_valid))"
      ],
      "metadata": {
        "id": "K7beDHT3gwW-",
        "colab": {
          "base_uri": "https://localhost:8080/"
        },
        "outputId": "23986afa-fe1f-4531-dbfe-29252e98a2ca"
      },
      "execution_count": null,
      "outputs": [
        {
          "output_type": "stream",
          "name": "stdout",
          "text": [
            "              precision    recall  f1-score   support\n",
            "\n",
            "           0       0.86      0.84      0.85       586\n",
            "           1       0.85      0.87      0.86       614\n",
            "\n",
            "    accuracy                           0.86      1200\n",
            "   macro avg       0.86      0.86      0.86      1200\n",
            "weighted avg       0.86      0.86      0.86      1200\n",
            "\n"
          ]
        }
      ]
    },
    {
      "cell_type": "code",
      "source": [
        "confusion_matrix(y_val,y_pred_valid)"
      ],
      "metadata": {
        "colab": {
          "base_uri": "https://localhost:8080/"
        },
        "id": "Uxxd__UPGlH1",
        "outputId": "7f176b6b-ade5-4448-b7d4-cf83ef7b9d9a"
      },
      "execution_count": null,
      "outputs": [
        {
          "output_type": "execute_result",
          "data": {
            "text/plain": [
              "array([[495,  91],\n",
              "       [ 82, 532]])"
            ]
          },
          "metadata": {},
          "execution_count": 63
        }
      ]
    },
    {
      "cell_type": "code",
      "source": [
        "loaded_model=tf.keras.models.load_model('/content/model1')"
      ],
      "metadata": {
        "id": "f5SNlxOZc-L1"
      },
      "execution_count": null,
      "outputs": []
    }
  ]
}