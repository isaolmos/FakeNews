{
  "nbformat": 4,
  "nbformat_minor": 0,
  "metadata": {
    "colab": {
      "name": "2_BLSTM_SP_Augmented.ipynb",
      "provenance": [],
      "machine_shape": "hm",
      "collapsed_sections": []
    },
    "kernelspec": {
      "name": "python3",
      "display_name": "Python 3"
    },
    "language_info": {
      "name": "python"
    },
    "accelerator": "GPU"
  },
  "cells": [
    {
      "cell_type": "markdown",
      "source": [
        "**1. IMPORT LIBRARIES**"
      ],
      "metadata": {
        "id": "2M5AUEnyuSdj"
      }
    },
    {
      "cell_type": "code",
      "source": [
        "%matplotlib inline\n",
        "import numpy as np\n",
        "import pandas as pd\n",
        "from nltk import word_tokenize"
      ],
      "metadata": {
        "id": "oE0_LYwll6pF"
      },
      "execution_count": null,
      "outputs": []
    },
    {
      "cell_type": "markdown",
      "source": [
        "**2. LOAD DATASET**"
      ],
      "metadata": {
        "id": "iD55tGt1uVHY"
      }
    },
    {
      "cell_type": "code",
      "source": [
        "data = pd.read_csv('sp_translated.csv')"
      ],
      "metadata": {
        "id": "NU0X26Oal6su"
      },
      "execution_count": null,
      "outputs": []
    },
    {
      "cell_type": "markdown",
      "source": [
        "**3. TOKENIZATION**"
      ],
      "metadata": {
        "id": "LBV0D_B2uXGs"
      }
    },
    {
      "cell_type": "code",
      "metadata": {
        "colab": {
          "base_uri": "https://localhost:8080/"
        },
        "id": "O7-5k1rtDeZj",
        "outputId": "36074fda-d094-4af3-af42-d2201dc28612"
      },
      "source": [
        "import nltk  # don't forget to do this step everytime in colab\n",
        "nltk.download('punkt')"
      ],
      "execution_count": null,
      "outputs": [
        {
          "output_type": "stream",
          "name": "stdout",
          "text": [
            "[nltk_data] Downloading package punkt to /root/nltk_data...\n",
            "[nltk_data]   Unzipping tokenizers/punkt.zip.\n"
          ]
        },
        {
          "output_type": "execute_result",
          "data": {
            "text/plain": [
              "True"
            ]
          },
          "metadata": {},
          "execution_count": 3
        }
      ]
    },
    {
      "cell_type": "code",
      "metadata": {
        "id": "BECX9z7fDecj"
      },
      "source": [
        "data['Text_tokenised'] = data['final_clean'].apply(word_tokenize)"
      ],
      "execution_count": null,
      "outputs": []
    },
    {
      "cell_type": "markdown",
      "metadata": {
        "id": "t0wTWkuFBO9P"
      },
      "source": [
        "**4. CREATE OWN WORD EMBEDDINGS**"
      ]
    },
    {
      "cell_type": "code",
      "metadata": {
        "id": "7Y8GVKfwDkbN"
      },
      "source": [
        "from gensim.models import Word2Vec"
      ],
      "execution_count": null,
      "outputs": []
    },
    {
      "cell_type": "code",
      "metadata": {
        "id": "CAN-bu8EDkkk"
      },
      "source": [
        "source_list= []\n",
        "for row in data['Text_tokenised']:\n",
        "    source_list.append(row)"
      ],
      "execution_count": null,
      "outputs": []
    },
    {
      "cell_type": "markdown",
      "metadata": {
        "id": "yqybZ2MhCDTN"
      },
      "source": [
        "**Set parameters**"
      ]
    },
    {
      "cell_type": "code",
      "metadata": {
        "colab": {
          "base_uri": "https://localhost:8080/"
        },
        "id": "1hXgk8vvD3ye",
        "outputId": "809891d0-50f9-4c4d-9a4f-e83cd9ee7862"
      },
      "source": [
        "model = Word2Vec(source_list, size=300, window=2, sg=0, hs =1, sorted_vocab= 1)\n",
        "# summarize the loaded model\n",
        "print(model)"
      ],
      "execution_count": null,
      "outputs": [
        {
          "output_type": "stream",
          "name": "stdout",
          "text": [
            "Word2Vec(vocab=14832, size=300, alpha=0.025)\n"
          ]
        }
      ]
    },
    {
      "cell_type": "markdown",
      "metadata": {
        "id": "oshne6viCXAu"
      },
      "source": [
        "**Save model to .txt format**"
      ]
    },
    {
      "cell_type": "code",
      "metadata": {
        "id": "tiRJ1YESD30n"
      },
      "source": [
        "model.wv.save_word2vec_format('spanish_wv.txt', binary=False)  # binary=False turns it to a .bin"
      ],
      "execution_count": null,
      "outputs": []
    },
    {
      "cell_type": "code",
      "metadata": {
        "colab": {
          "base_uri": "https://localhost:8080/"
        },
        "id": "2dvYvUuqD34J",
        "outputId": "ddeb84c4-da6a-4397-e4f7-149376f9f21b"
      },
      "source": [
        "# print the first few lines to check it out\n",
        "\n",
        "a_file = open(\"spanish_wv.txt\")\n",
        "number_of_lines = 4\n",
        "\n",
        "for i in range(number_of_lines):\n",
        "    line = a_file.readline()\n",
        "    print(line)"
      ],
      "execution_count": null,
      "outputs": [
        {
          "output_type": "stream",
          "name": "stdout",
          "text": [
            "14832 300\n",
            "\n",
            "ser 0.42901218 0.26419142 -0.30335584 -0.001050419 -0.26705787 -0.29602608 -0.08789363 -0.14788754 -0.22400741 -0.47360298 0.22132127 -0.0036134173 -0.074400984 0.063394256 -0.22855712 -0.51356965 -0.25366652 0.06175258 -0.4548032 0.19920842 -0.07096427 0.38088593 0.3602033 0.64936906 -0.122976534 0.015763558 0.40630093 -0.07647424 0.08673173 -0.42679825 -0.49776143 -0.51575667 0.11671314 0.2940461 0.38045081 -0.5101691 0.3507162 0.43731245 -0.056673743 0.3515425 -0.5001004 0.49367362 -0.38759625 -0.15572572 0.12132092 0.030579494 -0.08877814 -0.3826284 -0.6407746 -0.05508152 0.25368196 0.29245698 0.36897573 -0.23354222 0.62161 0.24564601 -0.09676414 0.38756472 -0.1836933 0.1668235 -0.4932714 0.23834094 0.2081495 -0.25651324 -0.1867685 -0.07057227 0.31621554 0.17141268 -0.6215968 0.16549985 0.19363923 0.44074413 -0.08015173 0.1537472 0.3550003 -0.11228214 -0.09211891 -0.17885868 0.37688175 -0.40664306 -0.3409852 -0.2946083 -0.31629997 0.09508711 0.05383221 0.13941646 -0.04814953 -0.021236598 -0.50074136 -0.1496636 0.265955 -0.020005718 0.05517885 0.2541919 0.24979778 -0.62464267 0.04032006 -0.14900537 0.36499596 -0.5756923 -0.83051646 0.6623251 0.105943374 -0.2697792 -0.031916723 -0.38560817 0.19022065 0.25629687 -0.19498023 0.067253746 -0.17069872 0.30140138 -0.23727706 -0.21582042 0.09636668 0.18206382 -0.14282115 -0.40717328 -0.53576446 -0.859878 0.13404283 -0.37804645 0.20792867 -0.027190913 0.16080351 -0.18091327 0.07485107 -0.3091227 -0.059503403 -0.1825095 0.1544604 -0.41109785 0.1487633 -0.09303491 0.75704867 0.46359503 0.59091616 0.07482265 -0.13606463 0.6223824 0.17507954 0.3925915 -0.069732666 0.46881822 0.079179846 0.4774338 0.3534623 0.10439808 0.3488366 0.3272899 0.5904664 -0.17433149 -0.1301252 -0.037154417 0.3582134 0.0747835 0.14335652 -0.12411405 0.30283502 -0.26204616 0.10317185 -0.51148415 -0.43101582 0.8815262 -0.3950668 -0.030655954 0.5843412 0.1617401 0.36696193 -0.37960917 0.0495077 -0.10380011 -0.11434096 -0.24037264 0.15013547 -0.03664177 0.23828842 0.017924054 0.16435623 0.17552766 0.26838666 -0.06320459 0.5972306 -0.08716533 -0.20152175 -0.16675496 -0.0785446 -0.387834 -0.014960111 0.08010376 -0.04376657 -0.12161014 -0.05111753 -0.27303487 -0.01128561 -0.48166764 -0.25721422 -0.11978621 0.462792 -0.29988292 -0.025196787 0.59100777 0.37944013 0.3392867 -0.02036509 -0.12368918 -0.03838198 -0.50260556 0.32848507 0.44367787 0.3453258 0.4823016 0.17112398 0.4469214 -0.03995553 0.4299696 -0.3983243 -0.016497672 -0.009829608 -0.8174753 -0.11912554 -0.34860423 0.29579133 -0.20328644 -0.021182166 0.48082104 -0.3545609 -0.08000588 0.16628157 0.15887007 -0.26873872 0.019813182 0.40868792 0.5072448 0.13744925 0.14435127 -0.30861673 -0.31399098 -0.05589351 0.22441734 0.12998365 -0.21743125 -0.32763165 0.07553838 0.19543561 0.50026256 0.7581339 -0.2506029 -0.24053383 -0.035951287 -0.17484328 0.15625842 -0.17641829 0.054217607 -0.059173238 0.13415971 -0.3497969 -0.19944339 -0.20488495 0.026351055 0.25081515 0.5463929 -0.16929045 -0.014219721 -0.054299966 -0.18349604 -0.08007909 0.11501162 0.14654008 -0.019650292 -0.06507361 0.37150162 0.27868977 -0.21671571 -0.16700181 0.032763645 1.050058 0.032405056 -0.15375827 -0.1414801 0.25518653 -0.07412591 -0.13198933 0.37516338 0.1201403 -0.10346582 -0.2855802 -0.38518724 -0.5896133 -0.15884934 -0.8325488 0.319436 -0.596602 -0.23156317 0.22684267 0.85681945 0.17095591 -0.122381754 -0.37809166 -0.040570892\n",
            "\n",
            "haber 0.4835232 -0.52043474 -0.49940315 -0.5203932 0.3408845 0.21631978 0.41534293 0.017734155 -0.56519115 -0.22700132 0.6027546 0.6629279 -0.07311503 -0.2573957 -0.47122627 -0.6618348 -0.7086055 0.25837627 0.05284635 0.32480353 0.52796865 0.05761927 0.9789094 0.43918806 0.350839 -0.055483405 0.3469792 0.20463386 0.09849101 -0.31389892 -0.52203065 -0.6493339 0.2636813 -0.29619 -0.004347372 -0.2533303 -0.058490258 -0.017124958 -0.11911617 0.57125616 -0.5692102 0.21361026 -0.018058883 -0.089419775 0.21321812 -0.017631536 0.100286715 -0.27774733 -0.29910243 -0.11613156 -0.0033247664 -0.5010872 0.22149125 -0.50810885 0.3636643 0.52717286 0.20850258 0.48809642 -0.24091446 0.10622646 -0.27564412 0.14421643 0.14794692 0.022172501 0.17471248 -0.04260233 0.189247 0.28133354 -0.50797784 0.06525323 -0.174764 0.25423113 -0.040557817 -0.041612927 0.11983385 -0.05884962 -0.24134493 0.42282704 -0.050459743 0.32657573 0.34183252 0.27449924 -0.7846757 0.12979712 0.1839218 0.5445079 -0.18380737 -0.0007925616 -0.15547419 -0.1874402 -0.5646027 0.1897145 -0.09330181 0.60288435 0.22116302 -0.16034858 -0.043621458 0.10554125 0.23878966 -0.25705448 -0.45878118 0.6697543 0.31264332 -0.08200403 -0.25544912 0.34517103 -0.028135994 0.2540386 -0.12806097 -0.6664918 -0.010014049 -0.16959722 0.031362943 -0.11653609 -0.046618957 0.2963074 -0.1987989 -0.3077551 -0.07660399 -0.26096016 0.22511351 -0.64422345 0.07991192 0.3841606 0.30451453 -0.39981464 0.029182147 0.17618963 -0.035791937 -0.14021929 -0.3126765 -0.42267388 0.4180964 -0.596797 0.43924913 -0.17301716 0.45444188 0.25816602 0.42755556 0.1916336 0.09829387 0.5829808 -0.19391891 0.5200695 0.14742656 0.50508803 0.103764035 -0.41801953 0.06423887 0.4798226 0.63149273 -0.5042413 0.15555866 0.108011045 -0.13456042 -0.13716078 -0.0533576 -0.29745322 -0.20562145 -0.09728114 -0.36581668 -0.5635836 -0.06323246 0.7951828 -0.17585357 0.029594071 0.74741805 -0.018276257 -0.6541735 -0.8394544 -0.3256875 -0.40707412 0.18176731 -0.48910108 0.4218513 -0.2653991 0.008705676 -0.5983473 0.13843459 -0.40580618 0.5063848 -0.37077355 0.49072078 0.4420253 0.018548401 -0.20006226 -0.6559072 0.2499511 0.38086802 0.5372176 0.30899933 -0.16078083 -0.3019747 -0.29731676 -0.16472709 -0.5009769 -0.13772066 0.19941846 0.4887166 0.17140962 0.43508914 0.1348198 0.10263347 -0.1872962 -0.29423952 -0.13986443 -0.24492952 -0.3049798 0.16665952 -0.2300108 -0.15161021 0.6815106 0.26001284 0.13993528 -0.09930442 0.36863264 -0.14010078 -0.40012836 -0.22308199 -0.5640573 -0.257224 -0.42214796 0.013236391 -0.57139224 0.1431361 -0.122377 0.106671154 -0.050615616 0.3795061 -0.5485321 -0.008553855 -0.28417203 0.5057411 0.35884702 -0.15704907 0.46361402 0.17339033 -0.10593198 0.19100507 0.18831743 -0.4778327 0.05403808 0.38288912 -0.29132256 -0.2497778 0.63285327 0.78607017 0.198106 -0.4345909 -0.3759348 0.23620902 -0.4899428 -0.60174 -0.09165795 -0.032735478 -0.19480783 -0.2995069 -0.34085405 0.25767922 0.5546629 0.036755916 0.2123141 0.13548167 0.031695075 0.20399012 -0.19352444 -0.48469833 -0.170562 0.13531847 0.046760723 -0.07182371 0.043263346 -0.15653022 -0.5388238 -0.47722507 -0.14733374 -0.23638162 0.14223568 -0.37969893 -0.34753683 -0.25682715 -0.105128504 -0.25836086 -0.0687956 0.34106776 0.15813412 0.38626307 -0.30015647 -0.7145533 -0.5895876 -0.48020902 -0.01731571 -0.40294406 -0.041796546 -0.12779579 -0.20779018 -0.0022755614 -0.08495298 -0.47222584 -0.25319138\n",
            "\n",
            "poder 0.064648874 -0.43626904 -0.03272671 -0.12473923 0.3345437 0.24431336 -0.15923443 0.14102583 -0.08751678 -0.56266934 0.16982822 0.2244729 -0.03227142 -0.19904047 -0.13962251 -0.11319515 -0.16687506 0.032982286 0.24916318 0.06945801 0.5102485 0.08222417 0.48352662 0.055837072 -0.09799745 -0.5496298 -0.26869494 -0.16932397 -0.11144542 -0.58059376 -0.22709407 -0.38562873 0.103325106 -0.3150091 -0.2476831 0.07595548 -0.259198 -0.37168553 -0.08930639 0.6619757 0.23478594 -0.086667344 -0.45903876 -0.4389207 0.19548985 -0.16559915 0.22475636 -0.07993121 -0.29259875 -0.082445376 0.13877675 -0.048811834 0.28383505 -0.12118338 0.33207163 0.4067719 -0.115706295 -0.0890586 -0.25116125 -0.32776496 -0.21278891 0.24781945 -0.015132221 -0.14206038 0.6222193 -0.672087 0.20098813 0.18629615 -0.1683991 0.2314879 0.1630997 0.065688014 -0.41580454 -0.1600842 -0.09081324 0.23103106 -0.1987431 0.21080963 0.08067243 0.39021692 0.046232637 0.36969343 -0.7397107 0.078949764 -0.051401466 0.26530674 0.17471415 -0.08612007 -0.22110148 -0.28184518 -0.23152305 0.008635957 -0.10218573 0.66060865 0.16019253 0.30955073 0.2148259 0.40858454 0.05289682 -0.29507858 -0.24876262 0.436209 0.30344707 0.19095793 0.08355083 0.25233012 -0.5013578 0.651586 0.011842905 -0.65837324 0.31400695 -0.087966174 0.43480885 0.008254474 -0.16831328 0.32283267 -0.31099662 0.054369416 -0.02590535 -0.18280177 0.06817219 -0.2457511 0.1442799 0.108908564 0.2397682 -0.43473074 0.08056185 -0.010451712 0.21282227 0.057854097 -0.08686867 -0.07888781 0.4971415 -0.3548157 0.12702407 0.12668663 0.26457265 -0.33494285 0.37397143 -0.24023192 0.06863815 -0.06755153 0.12450073 0.2766655 0.07821704 0.5370033 0.6740886 0.14565916 0.25519156 0.37190124 0.3005628 0.10886951 0.6308063 -0.1908678 -0.3033167 -0.226414 0.035581872 -0.35693014 -0.13426197 0.061554324 -0.4100175 -0.5784189 0.091224544 0.38530737 -0.15391661 -0.11009665 0.57905626 -0.47663447 -0.50619113 -0.6690457 -0.5806931 -0.43384978 0.37497383 -0.6118488 0.37093017 0.1271991 -0.008219145 -0.31827372 0.40493852 0.13396123 -0.1037603 -0.12471299 0.28354508 0.19211687 -0.050191883 -0.36792806 -0.107152775 0.7241936 0.388576 0.20826702 0.33522052 0.025866646 0.18858652 -0.1907742 -0.018602133 -0.2975046 -0.7993338 0.38221666 0.45119068 -0.0124616735 -0.19246267 0.26801932 0.062546134 -0.12767619 0.31553844 -0.25356472 -0.39727354 -0.014897034 -0.01648765 0.17142394 -0.10026711 0.6246521 0.17338859 -0.061034262 -0.17371929 0.17735612 -0.60515684 -0.09744011 -0.4838152 -0.026479997 -0.53385794 0.005847267 0.30461037 -0.3785727 -0.016119892 -0.25730392 0.27069354 0.09163007 0.054365527 -0.25406805 0.076767504 -0.17480922 0.30632964 -0.012821439 0.20812708 0.37001732 0.24537335 0.12618628 -0.082719155 0.17811799 0.12371914 0.18706071 0.13704757 -0.16034296 -0.09564712 0.15208694 0.08892505 0.20417675 -0.43751183 -0.099427715 0.18971695 -0.5490661 -0.11713067 -0.012693062 -0.37218487 -0.20277368 -0.43270934 -0.5329649 0.21455552 -0.10710118 -0.013963719 -0.071488604 -0.2875103 0.3083974 0.5219968 0.026500195 -0.024362836 -0.4437701 0.23674323 0.1978959 0.18216154 0.043947592 0.08725726 -0.3412638 -0.0027197008 -0.13317682 0.11319474 -0.005026752 -0.6847302 0.11709868 -0.047476698 -0.07132651 0.14180997 -0.2753096 -0.09249928 0.17995228 0.50564146 -0.24843784 0.2840496 -0.35473254 0.14117791 0.14936002 -0.08318023 0.29555178 0.13356179 0.21821178 0.05505746 0.30589125 -0.3622421 -0.31880635\n",
            "\n"
          ]
        }
      ]
    },
    {
      "cell_type": "markdown",
      "metadata": {
        "id": "96av-zPbC2Qm"
      },
      "source": [
        "**Create a dictionary**"
      ]
    },
    {
      "cell_type": "code",
      "metadata": {
        "id": "z2sediQZMQd6"
      },
      "source": [
        "docs = data.final_clean.values\n",
        "labels = data.Fake.values"
      ],
      "execution_count": null,
      "outputs": []
    },
    {
      "cell_type": "code",
      "metadata": {
        "id": "f3UbB6b3MdhN"
      },
      "source": [
        "from numpy import array\n",
        "from numpy import asarray\n",
        "from numpy import zeros\n",
        "from keras.preprocessing.text import Tokenizer\n",
        "from keras.preprocessing.sequence import pad_sequences\n",
        "from keras.models import Sequential\n",
        "from keras.layers import Dense\n",
        "from keras.layers import Flatten\n",
        "from keras.layers import Embedding\n",
        "from keras.layers import LSTM, Bidirectional\n",
        "from keras.layers import Activation\n",
        "\n",
        "# prepare tokenizer\n",
        "t = Tokenizer()\n",
        "t.fit_on_texts(docs)\n",
        "vocab_size = len(t.word_index) + 1  # I add one because it starts counting from 0"
      ],
      "execution_count": null,
      "outputs": []
    },
    {
      "cell_type": "code",
      "metadata": {
        "colab": {
          "base_uri": "https://localhost:8080/"
        },
        "id": "yDuUcfLGEZGk",
        "outputId": "083801c9-0ca1-4cbe-8c4b-c5d03584713d"
      },
      "source": [
        "import itertools\n",
        "# see a slice of our dictionary\n",
        "dict(itertools.islice(t.word_index.items(), 10))"
      ],
      "execution_count": null,
      "outputs": [
        {
          "output_type": "execute_result",
          "data": {
            "text/plain": [
              "{'año': 8,\n",
              " 'decir': 7,\n",
              " 'haber': 2,\n",
              " 'hacer': 6,\n",
              " 'nuevo': 9,\n",
              " 'poder': 3,\n",
              " 'primero': 10,\n",
              " 'ser': 1,\n",
              " 'tener': 4,\n",
              " 'él': 5}"
            ]
          },
          "metadata": {},
          "execution_count": 12
        }
      ]
    },
    {
      "cell_type": "markdown",
      "metadata": {
        "id": "sCxVSZ4HC6h_"
      },
      "source": [
        "***5. SPLIT THE DATA***"
      ]
    },
    {
      "cell_type": "code",
      "metadata": {
        "id": "To4_1-bxMdjY"
      },
      "source": [
        "# divide the data into train/validate\n",
        "\n",
        "from sklearn.model_selection import train_test_split\n",
        "\n",
        "\n",
        "sentences_train, sentences_valid, y_train, y_valid = train_test_split(\n",
        "    docs, labels, test_size=0.20, random_state=1000)"
      ],
      "execution_count": null,
      "outputs": []
    },
    {
      "cell_type": "markdown",
      "source": [
        "***6. USE KERAS TOKENIZER TO CONVERT TRAIN AND VALID TO SEQUENCES***"
      ],
      "metadata": {
        "id": "g6pGlSyW8JTq"
      }
    },
    {
      "cell_type": "code",
      "metadata": {
        "colab": {
          "base_uri": "https://localhost:8080/"
        },
        "id": "CeqbMAw5Mdlq",
        "outputId": "a4a99193-9eb1-4efb-b7c1-a1e5e9b48e11"
      },
      "source": [
        "X_train = t.texts_to_sequences(sentences_train)\n",
        "X_valid = t.texts_to_sequences(sentences_valid)\n",
        "\n",
        "\n",
        "print(sentences_train[2])\n",
        "print(X_train[2])"
      ],
      "execution_count": null,
      "outputs": [
        {
          "output_type": "stream",
          "name": "stdout",
          "text": [
            "vei ois grito pues ser africo ser coloniaalemania mujer haber ser violar individuo violacion perpetrado manada inmigrante europa contar millon ocultar cifra real ocultar v\n",
            "[53656, 53657, 2093, 446, 1, 14752, 1, 29839, 39, 2, 1, 1631, 2980, 3466, 13804, 9235, 757, 230, 98, 215, 1773, 1225, 223, 1773, 4553]\n"
          ]
        }
      ]
    },
    {
      "cell_type": "markdown",
      "metadata": {
        "id": "ptZZD_qfDJg5"
      },
      "source": [
        "***7. POST-PADDING***"
      ]
    },
    {
      "cell_type": "markdown",
      "source": [
        "**Obtain the maximum length of each text**"
      ],
      "metadata": {
        "id": "bJH7TgGJ8ZpJ"
      }
    },
    {
      "cell_type": "code",
      "metadata": {
        "id": "lj_yvhKyDOYv"
      },
      "source": [
        "data['length'] = data['Text_tokenised'].str.len()"
      ],
      "execution_count": null,
      "outputs": []
    },
    {
      "cell_type": "code",
      "metadata": {
        "id": "LsEBHRt9d5Zh"
      },
      "source": [
        "maxlen = data['length'].max()"
      ],
      "execution_count": null,
      "outputs": []
    },
    {
      "cell_type": "code",
      "source": [
        "maxlen"
      ],
      "metadata": {
        "colab": {
          "base_uri": "https://localhost:8080/"
        },
        "id": "7k4oDg02ZH4j",
        "outputId": "71a1afaf-2110-48ae-c66d-12af64120ec4"
      },
      "execution_count": null,
      "outputs": [
        {
          "output_type": "execute_result",
          "data": {
            "text/plain": [
              "2806"
            ]
          },
          "metadata": {},
          "execution_count": 17
        }
      ]
    },
    {
      "cell_type": "markdown",
      "source": [
        "**Pad short sequences**"
      ],
      "metadata": {
        "id": "Q_ghuheY8giK"
      }
    },
    {
      "cell_type": "code",
      "metadata": {
        "colab": {
          "base_uri": "https://localhost:8080/"
        },
        "id": "tTe28qgrMQgI",
        "outputId": "11b2bb17-df93-4d17-932f-06a93e6324cd"
      },
      "source": [
        "X_train = pad_sequences(X_train, padding='post', maxlen=maxlen)\n",
        "X_valid = pad_sequences(X_valid, padding='post', maxlen=maxlen)\n",
        "\n",
        "print(X_train[1, :])"
      ],
      "execution_count": null,
      "outputs": [
        {
          "output_type": "stream",
          "name": "stdout",
          "text": [
            "[ 2153 20089   138 ...     0     0     0]\n"
          ]
        }
      ]
    },
    {
      "cell_type": "markdown",
      "metadata": {
        "id": "pGXR9eBDDPJQ"
      },
      "source": [
        "***8. LOAD THE WHOLE EMBEDDING INTO MEMORY***"
      ]
    },
    {
      "cell_type": "code",
      "metadata": {
        "colab": {
          "base_uri": "https://localhost:8080/"
        },
        "id": "4tNTliaJMiR2",
        "outputId": "cd4f8db7-cab1-4aee-b1e7-8df7d92ff241"
      },
      "source": [
        "embeddings_index = dict()\n",
        "f = open('spanish_wv.txt')\n",
        "for line in f:\n",
        "\tvalues = line.split()\n",
        "\tword = values[0]\n",
        "\tcoefs = asarray(values[1:], dtype='float32')\n",
        "\tembeddings_index[word] = coefs\n",
        "f.close()\n",
        "print('Loaded %s word vectors.' % len(embeddings_index))"
      ],
      "execution_count": null,
      "outputs": [
        {
          "output_type": "stream",
          "name": "stdout",
          "text": [
            "Loaded 14833 word vectors.\n"
          ]
        }
      ]
    },
    {
      "cell_type": "markdown",
      "metadata": {
        "id": "mV0jzeKFDTgB"
      },
      "source": [
        "***9. CREATE A WEIGHT MATRIX FOR WORDS IN TRAINING ARTICLES***"
      ]
    },
    {
      "cell_type": "code",
      "metadata": {
        "id": "M7v_pRnHE4oY"
      },
      "source": [
        "embedding_matrix = zeros((vocab_size, 300))  # create an empty numpy array which will be used as the embedding layer in our model with my dimensions 50 here\n",
        "for word, i in t.word_index.items():  # go through our vocab integers and words\n",
        "\tembedding_vector = embeddings_index.get(word)  # find the word in the pretrained word vectors\n",
        "\tif embedding_vector is not None:  # if it is  not empty put it in our embedding matrix\n",
        "\t\tembedding_matrix[i] = embedding_vector\n"
      ],
      "execution_count": null,
      "outputs": []
    },
    {
      "cell_type": "markdown",
      "source": [
        "***10. BUILD THE MODEL***"
      ],
      "metadata": {
        "id": "aAD1dNQw8xde"
      }
    },
    {
      "cell_type": "code",
      "source": [
        "from keras.layers import Dropout\n",
        "from tensorflow.keras.optimizers import Adam,SGD\n",
        "\n",
        "model=Sequential()\n",
        "model.add(Embedding(vocab_size, 300, weights=[embedding_matrix], input_length=maxlen, trainable=False))\n",
        "model.add(Bidirectional(LSTM(100)))  # one BLSTM Layer with 100 neurons \n",
        "model.add(Dropout(0.3)) # DROPOUT LAYER\n",
        "model.add(Dense(32, activation='sigmoid'))\n",
        "model.add(Dense(1, activation='sigmoid'))\n",
        "adam=Adam(learning_rate=0.001)\n",
        "model.compile(adam, loss='binary_crossentropy',metrics=['accuracy'])\n",
        "print(model.summary())"
      ],
      "metadata": {
        "colab": {
          "base_uri": "https://localhost:8080/"
        },
        "id": "P6Ot8Rs8XuKv",
        "outputId": "550d989b-89e8-440a-a1a8-00e844ff6180"
      },
      "execution_count": null,
      "outputs": [
        {
          "output_type": "stream",
          "name": "stdout",
          "text": [
            "Model: \"sequential_2\"\n",
            "_________________________________________________________________\n",
            " Layer (type)                Output Shape              Param #   \n",
            "=================================================================\n",
            " embedding_2 (Embedding)     (None, 2806, 300)         16179900  \n",
            "                                                                 \n",
            " bidirectional_2 (Bidirectio  (None, 200)              320800    \n",
            " nal)                                                            \n",
            "                                                                 \n",
            " dropout_2 (Dropout)         (None, 200)               0         \n",
            "                                                                 \n",
            " dense_4 (Dense)             (None, 32)                6432      \n",
            "                                                                 \n",
            " dense_5 (Dense)             (None, 1)                 33        \n",
            "                                                                 \n",
            "=================================================================\n",
            "Total params: 16,507,165\n",
            "Trainable params: 327,265\n",
            "Non-trainable params: 16,179,900\n",
            "_________________________________________________________________\n",
            "None\n"
          ]
        }
      ]
    },
    {
      "cell_type": "markdown",
      "source": [
        "**11. TRAIN THE MODEL**"
      ],
      "metadata": {
        "id": "_FpeZZkyYKJV"
      }
    },
    {
      "cell_type": "code",
      "source": [
        "# fit the model on the whole data\n",
        "history = model.fit(X_train, y_train,\n",
        "                    epochs=12,\n",
        "                    verbose=True,\n",
        "                    validation_data=(X_valid, y_valid),\n",
        "                    batch_size=32)"
      ],
      "metadata": {
        "colab": {
          "base_uri": "https://localhost:8080/"
        },
        "id": "Bjg3sqXUIZim",
        "outputId": "9694c818-0e9d-462d-ac7f-bd84e5994390"
      },
      "execution_count": null,
      "outputs": [
        {
          "output_type": "stream",
          "name": "stdout",
          "text": [
            "Epoch 1/12\n",
            "150/150 [==============================] - 52s 308ms/step - loss: 0.5086 - accuracy: 0.7356 - val_loss: 0.4349 - val_accuracy: 0.7750\n",
            "Epoch 2/12\n",
            "150/150 [==============================] - 45s 302ms/step - loss: 0.4478 - accuracy: 0.7856 - val_loss: 0.4115 - val_accuracy: 0.7983\n",
            "Epoch 3/12\n",
            "150/150 [==============================] - 45s 302ms/step - loss: 0.3950 - accuracy: 0.8142 - val_loss: 0.3944 - val_accuracy: 0.8117\n",
            "Epoch 4/12\n",
            "150/150 [==============================] - 45s 302ms/step - loss: 0.4058 - accuracy: 0.8071 - val_loss: 0.3976 - val_accuracy: 0.8158\n",
            "Epoch 5/12\n",
            "150/150 [==============================] - 45s 302ms/step - loss: 0.3528 - accuracy: 0.8335 - val_loss: 0.3715 - val_accuracy: 0.8225\n",
            "Epoch 6/12\n",
            "150/150 [==============================] - 45s 302ms/step - loss: 0.3621 - accuracy: 0.8375 - val_loss: 0.4033 - val_accuracy: 0.8292\n",
            "Epoch 7/12\n",
            "150/150 [==============================] - 45s 302ms/step - loss: 0.3164 - accuracy: 0.8610 - val_loss: 0.3760 - val_accuracy: 0.8192\n",
            "Epoch 8/12\n",
            "150/150 [==============================] - 45s 302ms/step - loss: 0.2837 - accuracy: 0.8723 - val_loss: 0.3279 - val_accuracy: 0.8508\n",
            "Epoch 9/12\n",
            "150/150 [==============================] - 45s 302ms/step - loss: 0.2599 - accuracy: 0.8848 - val_loss: 0.3437 - val_accuracy: 0.8483\n",
            "Epoch 10/12\n",
            "150/150 [==============================] - 45s 301ms/step - loss: 0.2332 - accuracy: 0.9008 - val_loss: 0.3791 - val_accuracy: 0.8358\n",
            "Epoch 11/12\n",
            "150/150 [==============================] - 45s 302ms/step - loss: 0.2135 - accuracy: 0.9127 - val_loss: 0.3584 - val_accuracy: 0.8533\n",
            "Epoch 12/12\n",
            "150/150 [==============================] - 45s 301ms/step - loss: 0.1755 - accuracy: 0.9306 - val_loss: 0.3723 - val_accuracy: 0.8483\n"
          ]
        }
      ]
    },
    {
      "cell_type": "markdown",
      "source": [
        "**12. GRAPHIC REPRESENTATION**"
      ],
      "metadata": {
        "id": "B0oIid1FYNiA"
      }
    },
    {
      "cell_type": "code",
      "source": [
        "import matplotlib.pyplot as plt\n",
        "\n",
        "plt.plot(history.history['accuracy'])\n",
        "plt.plot(history.history['val_accuracy'])\n",
        "plt.title('Model accuracy')\n",
        "plt.ylabel('Accuracy')\n",
        "plt.xlabel('Epoch')\n",
        "plt.legend(['Train', 'Test'], loc='upper left')\n",
        "plt.show()\n",
        "\n",
        "plt.plot(history.history['loss'])\n",
        "plt.plot(history.history['val_loss'])\n",
        "plt.title('Model loss')\n",
        "plt.ylabel('Loss')\n",
        "plt.xlabel('Epoch')\n",
        "plt.legend(['Train', 'Test'], loc='upper right')\n",
        "plt.show()"
      ],
      "metadata": {
        "colab": {
          "base_uri": "https://localhost:8080/",
          "height": 573
        },
        "outputId": "dbcd73b4-0bc8-459c-873d-9c64b831b394",
        "id": "VU6_Vmczou8K"
      },
      "execution_count": null,
      "outputs": [
        {
          "output_type": "display_data",
          "data": {
            "image/png": "[encoded data removed]",
            "text/plain": [
              "<Figure size 432x288 with 1 Axes>"
            ]
          },
          "metadata": {
            "needs_background": "light"
          }
        },
        {
          "output_type": "display_data",
          "data": {
            "image/png": "[encoded data removed]",
            "text/plain": [
              "<Figure size 432x288 with 1 Axes>"
            ]
          },
          "metadata": {
            "needs_background": "light"
          }
        }
      ]
    },
    {
      "cell_type": "markdown",
      "source": [
        "***13. METRICS***"
      ],
      "metadata": {
        "id": "2lyt9r1U82Wm"
      }
    },
    {
      "cell_type": "code",
      "source": [
        "y_pred_valid=(model.predict(X_valid)>0.5).astype(int)"
      ],
      "metadata": {
        "id": "bFXh2j_BcjAK"
      },
      "execution_count": null,
      "outputs": []
    },
    {
      "cell_type": "code",
      "source": [
        "from sklearn.metrics import classification_report, confusion_matrix\n",
        "print(classification_report(y_valid,y_pred_valid))"
      ],
      "metadata": {
        "colab": {
          "base_uri": "https://localhost:8080/"
        },
        "id": "17JknmNZz2CO",
        "outputId": "41941a7f-eb51-434a-86c3-52d28139b868"
      },
      "execution_count": null,
      "outputs": [
        {
          "output_type": "stream",
          "name": "stdout",
          "text": [
            "              precision    recall  f1-score   support\n",
            "\n",
            "           0       0.82      0.89      0.85       589\n",
            "           1       0.88      0.81      0.84       611\n",
            "\n",
            "    accuracy                           0.85      1200\n",
            "   macro avg       0.85      0.85      0.85      1200\n",
            "weighted avg       0.85      0.85      0.85      1200\n",
            "\n"
          ]
        }
      ]
    },
    {
      "cell_type": "code",
      "source": [
        "confusion_matrix(y_valid,y_pred_valid)"
      ],
      "metadata": {
        "colab": {
          "base_uri": "https://localhost:8080/"
        },
        "id": "4ab4Vyi3Yhbr",
        "outputId": "a9ee446a-c9d6-424f-b908-6813beb6b75b"
      },
      "execution_count": null,
      "outputs": [
        {
          "output_type": "execute_result",
          "data": {
            "text/plain": [
              "array([[524,  65],\n",
              "       [117, 494]])"
            ]
          },
          "metadata": {},
          "execution_count": 51
        }
      ]
    }
  ]
}