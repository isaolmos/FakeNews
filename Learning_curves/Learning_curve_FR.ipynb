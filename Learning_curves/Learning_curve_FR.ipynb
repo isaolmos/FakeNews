{
  "nbformat": 4,
  "nbformat_minor": 0,
  "metadata": {
    "colab": {
      "name": "Learning_curve_FR.ipynb",
      "provenance": [],
      "collapsed_sections": [],
      "machine_shape": "hm"
    },
    "kernelspec": {
      "name": "python3",
      "display_name": "Python 3"
    },
    "language_info": {
      "name": "python"
    },
    "accelerator": "GPU"
  },
  "cells": [
    {
      "cell_type": "code",
      "execution_count": null,
      "metadata": {
        "id": "omMcDmfUk549"
      },
      "outputs": [],
      "source": [
        ""
      ]
    },
    {
      "cell_type": "markdown",
      "metadata": {
        "id": "NpNzg2mCz3v8"
      },
      "source": [
        "# **HYBRID CNN + BLSTM MODEL WITH PRE-TRAINED WORD EMBEDDINGS**"
      ]
    },
    {
      "cell_type": "markdown",
      "metadata": {
        "id": "TaZ0rQsf0Be3"
      },
      "source": [
        "**IMPORT MODULES**"
      ]
    },
    {
      "cell_type": "code",
      "metadata": {
        "id": "93pbFgzf6PO4"
      },
      "source": [
        "%matplotlib inline\n",
        "import numpy as np\n",
        "import pandas as pd\n",
        "from nltk import word_tokenize"
      ],
      "execution_count": null,
      "outputs": []
    },
    {
      "cell_type": "code",
      "source": [
        "from google.colab import drive\n",
        "drive.mount('/content/drive')"
      ],
      "metadata": {
        "colab": {
          "base_uri": "https://localhost:8080/"
        },
        "id": "oO8MWYvVgMBc",
        "outputId": "a74a3a8b-3a0f-4276-f0f1-cedd0010b290"
      },
      "execution_count": null,
      "outputs": [
        {
          "output_type": "stream",
          "name": "stdout",
          "text": [
            "Mounted at /content/drive\n"
          ]
        }
      ]
    },
    {
      "cell_type": "markdown",
      "metadata": {
        "id": "XuqvzXYZ0F0h"
      },
      "source": [
        "**LOAD DATASET**"
      ]
    },
    {
      "cell_type": "code",
      "metadata": {
        "id": "bB1mmnGMIG9k"
      },
      "source": [
        "data=pd.read_csv('/content/drive/MyDrive/thesiss/French.csv')"
      ],
      "execution_count": null,
      "outputs": []
    },
    {
      "cell_type": "code",
      "metadata": {
        "colab": {
          "base_uri": "https://localhost:8080/",
          "height": 641
        },
        "id": "7VGagvBo7i4i",
        "outputId": "bcedb211-472c-46a1-fad3-313c778f88cf"
      },
      "source": [
        "data"
      ],
      "execution_count": null,
      "outputs": [
        {
          "output_type": "execute_result",
          "data": {
            "text/html": [
              "\n",
              "  <div id=\"df-7be63c27-f978-45af-8f30-523a5b67a44c\">\n",
              "    <div class=\"colab-df-container\">\n",
              "      <div>\n",
              "<style scoped>\n",
              "    .dataframe tbody tr th:only-of-type {\n",
              "        vertical-align: middle;\n",
              "    }\n",
              "\n",
              "    .dataframe tbody tr th {\n",
              "        vertical-align: top;\n",
              "    }\n",
              "\n",
              "    .dataframe thead th {\n",
              "        text-align: right;\n",
              "    }\n",
              "</style>\n",
              "<table border=\"1\" class=\"dataframe\">\n",
              "  <thead>\n",
              "    <tr style=\"text-align: right;\">\n",
              "      <th></th>\n",
              "      <th>Fake</th>\n",
              "      <th>text</th>\n",
              "      <th>clean_with_stopwords</th>\n",
              "      <th>final_clean</th>\n",
              "    </tr>\n",
              "  </thead>\n",
              "  <tbody>\n",
              "    <tr>\n",
              "      <th>0</th>\n",
              "      <td>0</td>\n",
              "      <td>Il tente d'incendier sa femme : elle est indem...</td>\n",
              "      <td>il tente de incendier son femme lui être indem...</td>\n",
              "      <td>tente incendier femme indemne gravement bruler...</td>\n",
              "    </tr>\n",
              "    <tr>\n",
              "      <th>1</th>\n",
              "      <td>0</td>\n",
              "      <td>Ça y est, Renaud a fait son retour sur scène !...</td>\n",
              "      <td>cela y être renaud avoir faire son retour sur ...</td>\n",
              "      <td>etre renaud avoir faire retour scene octobre a...</td>\n",
              "    </tr>\n",
              "    <tr>\n",
              "      <th>2</th>\n",
              "      <td>0</td>\n",
              "      <td>Avec son tailleur rouge, quel message a voulu ...</td>\n",
              "      <td>avec son tailleur rouge quel message avoir vou...</td>\n",
              "      <td>tailleur rouge message avoir vouloir envoyer h...</td>\n",
              "    </tr>\n",
              "    <tr>\n",
              "      <th>3</th>\n",
              "      <td>0</td>\n",
              "      <td>Foot-Ligue 1 : tous les résultats de la 8ème j...</td>\n",
              "      <td>foot ligue tout le résultat de le èm journée h...</td>\n",
              "      <td>foot ligue tout resultat eme journee octobre m...</td>\n",
              "    </tr>\n",
              "    <tr>\n",
              "      <th>4</th>\n",
              "      <td>0</td>\n",
              "      <td>× S'abonner au podcast \\nVous pouvez vous abon...</td>\n",
              "      <td>se abonner au podcast vous pouvoir vous abonne...</td>\n",
              "      <td>abonner podcast pouvoir abonner telechargement...</td>\n",
              "    </tr>\n",
              "    <tr>\n",
              "      <th>...</th>\n",
              "      <td>...</td>\n",
              "      <td>...</td>\n",
              "      <td>...</td>\n",
              "      <td>...</td>\n",
              "    </tr>\n",
              "    <tr>\n",
              "      <th>27811</th>\n",
              "      <td>1</td>\n",
              "      <td>97% de Libanaises refaites : L’ONU demande au ...</td>\n",
              "      <td>pourcent de libanais refaire l onu demande au ...</td>\n",
              "      <td>pourcent libanais refaire onu demande liban ar...</td>\n",
              "    </tr>\n",
              "    <tr>\n",
              "      <th>27812</th>\n",
              "      <td>1</td>\n",
              "      <td>Un réfugié syrien humilie et empêche une famil...</td>\n",
              "      <td>un réfugié syrien humilier et empêche un famil...</td>\n",
              "      <td>refugier syrien humilier empeche famill rom tr...</td>\n",
              "    </tr>\n",
              "    <tr>\n",
              "      <th>27813</th>\n",
              "      <td>1</td>\n",
              "      <td>Mehdi Meklat lance une banane à Christiane Tau...</td>\n",
              "      <td>mehdi meklat lance un banane à christiane taub...</td>\n",
              "      <td>mehdi meklat lance banane christiane taubira a...</td>\n",
              "    </tr>\n",
              "    <tr>\n",
              "      <th>27814</th>\n",
              "      <td>1</td>\n",
              "      <td>En visite en Afghanistan, Marine Le Pen refuse...</td>\n",
              "      <td>en visite en afghanistan marine le pen refuse ...</td>\n",
              "      <td>visite afghanistan marine pen refuse participe...</td>\n",
              "    </tr>\n",
              "    <tr>\n",
              "      <th>27815</th>\n",
              "      <td>1</td>\n",
              "      <td>Insolite : il supprime 50 000 tweets en une nu...</td>\n",
              "      <td>insolite il supprime tweet en un nuit c être d...</td>\n",
              "      <td>insolite supprime nuit etre nuire vendredi sam...</td>\n",
              "    </tr>\n",
              "  </tbody>\n",
              "</table>\n",
              "<p>27816 rows × 4 columns</p>\n",
              "</div>\n",
              "      <button class=\"colab-df-convert\" onclick=\"convertToInteractive('df-7be63c27-f978-45af-8f30-523a5b67a44c')\"\n",
              "              title=\"Convert this dataframe to an interactive table.\"\n",
              "              style=\"display:none;\">\n",
              "        \n",
              "  <svg xmlns=\"http://www.w3.org/2000/svg\" height=\"24px\"viewBox=\"0 0 24 24\"\n",
              "       width=\"24px\">\n",
              "    <path d=\"M0 0h24v24H0V0z\" fill=\"none\"/>\n",
              "    <path d=\"M18.56 5.44l.94 2.06.94-2.06 2.06-.94-2.06-.94-.94-2.06-.94 2.06-2.06.94zm-11 1L8.5 8.5l.94-2.06 2.06-.94-2.06-.94L8.5 2.5l-.94 2.06-2.06.94zm10 10l.94 2.06.94-2.06 2.06-.94-2.06-.94-.94-2.06-.94 2.06-2.06.94z\"/><path d=\"M17.41 7.96l-1.37-1.37c-.4-.4-.92-.59-1.43-.59-.52 0-1.04.2-1.43.59L10.3 9.45l-7.72 7.72c-.78.78-.78 2.05 0 2.83L4 21.41c.39.39.9.59 1.41.59.51 0 1.02-.2 1.41-.59l7.78-7.78 2.81-2.81c.8-.78.8-2.07 0-2.86zM5.41 20L4 18.59l7.72-7.72 1.47 1.35L5.41 20z\"/>\n",
              "  </svg>\n",
              "      </button>\n",
              "      \n",
              "  <style>\n",
              "    .colab-df-container {\n",
              "      display:flex;\n",
              "      flex-wrap:wrap;\n",
              "      gap: 12px;\n",
              "    }\n",
              "\n",
              "    .colab-df-convert {\n",
              "      background-color: #E8F0FE;\n",
              "      border: none;\n",
              "      border-radius: 50%;\n",
              "      cursor: pointer;\n",
              "      display: none;\n",
              "      fill: #1967D2;\n",
              "      height: 32px;\n",
              "      padding: 0 0 0 0;\n",
              "      width: 32px;\n",
              "    }\n",
              "\n",
              "    .colab-df-convert:hover {\n",
              "      background-color: #E2EBFA;\n",
              "      box-shadow: 0px 1px 2px rgba(60, 64, 67, 0.3), 0px 1px 3px 1px rgba(60, 64, 67, 0.15);\n",
              "      fill: #174EA6;\n",
              "    }\n",
              "\n",
              "    [theme=dark] .colab-df-convert {\n",
              "      background-color: #3B4455;\n",
              "      fill: #D2E3FC;\n",
              "    }\n",
              "\n",
              "    [theme=dark] .colab-df-convert:hover {\n",
              "      background-color: #434B5C;\n",
              "      box-shadow: 0px 1px 3px 1px rgba(0, 0, 0, 0.15);\n",
              "      filter: drop-shadow(0px 1px 2px rgba(0, 0, 0, 0.3));\n",
              "      fill: #FFFFFF;\n",
              "    }\n",
              "  </style>\n",
              "\n",
              "      <script>\n",
              "        const buttonEl =\n",
              "          document.querySelector('#df-7be63c27-f978-45af-8f30-523a5b67a44c button.colab-df-convert');\n",
              "        buttonEl.style.display =\n",
              "          google.colab.kernel.accessAllowed ? 'block' : 'none';\n",
              "\n",
              "        async function convertToInteractive(key) {\n",
              "          const element = document.querySelector('#df-7be63c27-f978-45af-8f30-523a5b67a44c');\n",
              "          const dataTable =\n",
              "            await google.colab.kernel.invokeFunction('convertToInteractive',\n",
              "                                                     [key], {});\n",
              "          if (!dataTable) return;\n",
              "\n",
              "          const docLinkHtml = 'Like what you see? Visit the ' +\n",
              "            '<a target=\"_blank\" href=https://colab.research.google.com/notebooks/data_table.ipynb>data table notebook</a>'\n",
              "            + ' to learn more about interactive tables.';\n",
              "          element.innerHTML = '';\n",
              "          dataTable['output_type'] = 'display_data';\n",
              "          await google.colab.output.renderOutput(dataTable, element);\n",
              "          const docLink = document.createElement('div');\n",
              "          docLink.innerHTML = docLinkHtml;\n",
              "          element.appendChild(docLink);\n",
              "        }\n",
              "      </script>\n",
              "    </div>\n",
              "  </div>\n",
              "  "
            ],
            "text/plain": [
              "       Fake  ...                                        final_clean\n",
              "0         0  ...  tente incendier femme indemne gravement bruler...\n",
              "1         0  ...  etre renaud avoir faire retour scene octobre a...\n",
              "2         0  ...  tailleur rouge message avoir vouloir envoyer h...\n",
              "3         0  ...  foot ligue tout resultat eme journee octobre m...\n",
              "4         0  ...  abonner podcast pouvoir abonner telechargement...\n",
              "...     ...  ...                                                ...\n",
              "27811     1  ...  pourcent libanais refaire onu demande liban ar...\n",
              "27812     1  ...  refugier syrien humilier empeche famill rom tr...\n",
              "27813     1  ...  mehdi meklat lance banane christiane taubira a...\n",
              "27814     1  ...  visite afghanistan marine pen refuse participe...\n",
              "27815     1  ...  insolite supprime nuit etre nuire vendredi sam...\n",
              "\n",
              "[27816 rows x 4 columns]"
            ]
          },
          "metadata": {},
          "execution_count": 4
        }
      ]
    },
    {
      "cell_type": "code",
      "source": [
        "data['Fake'].value_counts()"
      ],
      "metadata": {
        "colab": {
          "base_uri": "https://localhost:8080/"
        },
        "id": "e8ZCHomY91Ov",
        "outputId": "b77dedf5-362e-42df-fa62-d348784bc158"
      },
      "execution_count": null,
      "outputs": [
        {
          "output_type": "execute_result",
          "data": {
            "text/plain": [
              "1    14487\n",
              "0    13329\n",
              "Name: Fake, dtype: int64"
            ]
          },
          "metadata": {},
          "execution_count": 5
        }
      ]
    },
    {
      "cell_type": "code",
      "metadata": {
        "id": "z2sediQZMQd6"
      },
      "source": [
        "docs = data.final_clean.values\n",
        "labels = data.Fake.values"
      ],
      "execution_count": null,
      "outputs": []
    },
    {
      "cell_type": "code",
      "source": [
        "from collections import Counter\n",
        "Counter(labels)"
      ],
      "metadata": {
        "colab": {
          "base_uri": "https://localhost:8080/"
        },
        "id": "_KgKVrUI96ni",
        "outputId": "20c5e10f-5d2d-4d3a-a7df-0bad21e3c7fa"
      },
      "execution_count": null,
      "outputs": [
        {
          "output_type": "execute_result",
          "data": {
            "text/plain": [
              "Counter({0: 13329, 1: 14487})"
            ]
          },
          "metadata": {},
          "execution_count": 7
        }
      ]
    },
    {
      "cell_type": "markdown",
      "metadata": {
        "id": "7HPwDqSP0e8N"
      },
      "source": [
        "**TOKENIZATION**"
      ]
    },
    {
      "cell_type": "code",
      "metadata": {
        "id": "f3UbB6b3MdhN"
      },
      "source": [
        "from numpy import zeros\n",
        "from keras.preprocessing.text import Tokenizer\n",
        "from keras.preprocessing.sequence import pad_sequences\n",
        "from keras.models import Sequential\n",
        "from keras.layers import Dense\n",
        "from keras.layers import Flatten\n",
        "from keras.layers import Embedding\n",
        "\n",
        "# prepare tokenizer\n",
        "t = Tokenizer()\n",
        "t.fit_on_texts(docs)\n",
        "vocab_size = len(t.word_index) + 1  # I add one because it starts counting from 0"
      ],
      "execution_count": null,
      "outputs": []
    },
    {
      "cell_type": "code",
      "metadata": {
        "colab": {
          "base_uri": "https://localhost:8080/"
        },
        "id": "TdGmaoceP7rE",
        "outputId": "4d2e074f-a0ef-4ab5-9994-25955d8e3eb5"
      },
      "source": [
        "import nltk  # don't forget to do this step everytime in colab\n",
        "nltk.download('punkt')"
      ],
      "execution_count": null,
      "outputs": [
        {
          "output_type": "stream",
          "name": "stdout",
          "text": [
            "[nltk_data] Downloading package punkt to /root/nltk_data...\n",
            "[nltk_data]   Unzipping tokenizers/punkt.zip.\n"
          ]
        },
        {
          "output_type": "execute_result",
          "data": {
            "text/plain": [
              "True"
            ]
          },
          "metadata": {},
          "execution_count": 9
        }
      ]
    },
    {
      "cell_type": "code",
      "metadata": {
        "id": "cnHDKKi0P7t-"
      },
      "source": [
        "data['Text_tokenised'] = data['final_clean'].apply(word_tokenize)"
      ],
      "execution_count": null,
      "outputs": []
    },
    {
      "cell_type": "code",
      "metadata": {
        "colab": {
          "base_uri": "https://localhost:8080/",
          "height": 337
        },
        "id": "QJJN8SYkP_9e",
        "outputId": "93e70c97-992b-404f-ff41-18bc984026c6"
      },
      "source": [
        "data.head()"
      ],
      "execution_count": null,
      "outputs": [
        {
          "output_type": "execute_result",
          "data": {
            "text/html": [
              "\n",
              "  <div id=\"df-e1b910a5-c584-4e26-9754-5f0131be4084\">\n",
              "    <div class=\"colab-df-container\">\n",
              "      <div>\n",
              "<style scoped>\n",
              "    .dataframe tbody tr th:only-of-type {\n",
              "        vertical-align: middle;\n",
              "    }\n",
              "\n",
              "    .dataframe tbody tr th {\n",
              "        vertical-align: top;\n",
              "    }\n",
              "\n",
              "    .dataframe thead th {\n",
              "        text-align: right;\n",
              "    }\n",
              "</style>\n",
              "<table border=\"1\" class=\"dataframe\">\n",
              "  <thead>\n",
              "    <tr style=\"text-align: right;\">\n",
              "      <th></th>\n",
              "      <th>Fake</th>\n",
              "      <th>text</th>\n",
              "      <th>clean_with_stopwords</th>\n",
              "      <th>final_clean</th>\n",
              "      <th>Text_tokenised</th>\n",
              "    </tr>\n",
              "  </thead>\n",
              "  <tbody>\n",
              "    <tr>\n",
              "      <th>0</th>\n",
              "      <td>0</td>\n",
              "      <td>Il tente d'incendier sa femme : elle est indem...</td>\n",
              "      <td>il tente de incendier son femme lui être indem...</td>\n",
              "      <td>tente incendier femme indemne gravement bruler...</td>\n",
              "      <td>[tente, incendier, femme, indemne, gravement, ...</td>\n",
              "    </tr>\n",
              "    <tr>\n",
              "      <th>1</th>\n",
              "      <td>0</td>\n",
              "      <td>Ça y est, Renaud a fait son retour sur scène !...</td>\n",
              "      <td>cela y être renaud avoir faire son retour sur ...</td>\n",
              "      <td>etre renaud avoir faire retour scene octobre a...</td>\n",
              "      <td>[etre, renaud, avoir, faire, retour, scene, oc...</td>\n",
              "    </tr>\n",
              "    <tr>\n",
              "      <th>2</th>\n",
              "      <td>0</td>\n",
              "      <td>Avec son tailleur rouge, quel message a voulu ...</td>\n",
              "      <td>avec son tailleur rouge quel message avoir vou...</td>\n",
              "      <td>tailleur rouge message avoir vouloir envoyer h...</td>\n",
              "      <td>[tailleur, rouge, message, avoir, vouloir, env...</td>\n",
              "    </tr>\n",
              "    <tr>\n",
              "      <th>3</th>\n",
              "      <td>0</td>\n",
              "      <td>Foot-Ligue 1 : tous les résultats de la 8ème j...</td>\n",
              "      <td>foot ligue tout le résultat de le èm journée h...</td>\n",
              "      <td>foot ligue tout resultat eme journee octobre m...</td>\n",
              "      <td>[foot, ligue, tout, resultat, eme, journee, oc...</td>\n",
              "    </tr>\n",
              "    <tr>\n",
              "      <th>4</th>\n",
              "      <td>0</td>\n",
              "      <td>× S'abonner au podcast \\nVous pouvez vous abon...</td>\n",
              "      <td>se abonner au podcast vous pouvoir vous abonne...</td>\n",
              "      <td>abonner podcast pouvoir abonner telechargement...</td>\n",
              "      <td>[abonner, podcast, pouvoir, abonner, telecharg...</td>\n",
              "    </tr>\n",
              "  </tbody>\n",
              "</table>\n",
              "</div>\n",
              "      <button class=\"colab-df-convert\" onclick=\"convertToInteractive('df-e1b910a5-c584-4e26-9754-5f0131be4084')\"\n",
              "              title=\"Convert this dataframe to an interactive table.\"\n",
              "              style=\"display:none;\">\n",
              "        \n",
              "  <svg xmlns=\"http://www.w3.org/2000/svg\" height=\"24px\"viewBox=\"0 0 24 24\"\n",
              "       width=\"24px\">\n",
              "    <path d=\"M0 0h24v24H0V0z\" fill=\"none\"/>\n",
              "    <path d=\"M18.56 5.44l.94 2.06.94-2.06 2.06-.94-2.06-.94-.94-2.06-.94 2.06-2.06.94zm-11 1L8.5 8.5l.94-2.06 2.06-.94-2.06-.94L8.5 2.5l-.94 2.06-2.06.94zm10 10l.94 2.06.94-2.06 2.06-.94-2.06-.94-.94-2.06-.94 2.06-2.06.94z\"/><path d=\"M17.41 7.96l-1.37-1.37c-.4-.4-.92-.59-1.43-.59-.52 0-1.04.2-1.43.59L10.3 9.45l-7.72 7.72c-.78.78-.78 2.05 0 2.83L4 21.41c.39.39.9.59 1.41.59.51 0 1.02-.2 1.41-.59l7.78-7.78 2.81-2.81c.8-.78.8-2.07 0-2.86zM5.41 20L4 18.59l7.72-7.72 1.47 1.35L5.41 20z\"/>\n",
              "  </svg>\n",
              "      </button>\n",
              "      \n",
              "  <style>\n",
              "    .colab-df-container {\n",
              "      display:flex;\n",
              "      flex-wrap:wrap;\n",
              "      gap: 12px;\n",
              "    }\n",
              "\n",
              "    .colab-df-convert {\n",
              "      background-color: #E8F0FE;\n",
              "      border: none;\n",
              "      border-radius: 50%;\n",
              "      cursor: pointer;\n",
              "      display: none;\n",
              "      fill: #1967D2;\n",
              "      height: 32px;\n",
              "      padding: 0 0 0 0;\n",
              "      width: 32px;\n",
              "    }\n",
              "\n",
              "    .colab-df-convert:hover {\n",
              "      background-color: #E2EBFA;\n",
              "      box-shadow: 0px 1px 2px rgba(60, 64, 67, 0.3), 0px 1px 3px 1px rgba(60, 64, 67, 0.15);\n",
              "      fill: #174EA6;\n",
              "    }\n",
              "\n",
              "    [theme=dark] .colab-df-convert {\n",
              "      background-color: #3B4455;\n",
              "      fill: #D2E3FC;\n",
              "    }\n",
              "\n",
              "    [theme=dark] .colab-df-convert:hover {\n",
              "      background-color: #434B5C;\n",
              "      box-shadow: 0px 1px 3px 1px rgba(0, 0, 0, 0.15);\n",
              "      filter: drop-shadow(0px 1px 2px rgba(0, 0, 0, 0.3));\n",
              "      fill: #FFFFFF;\n",
              "    }\n",
              "  </style>\n",
              "\n",
              "      <script>\n",
              "        const buttonEl =\n",
              "          document.querySelector('#df-e1b910a5-c584-4e26-9754-5f0131be4084 button.colab-df-convert');\n",
              "        buttonEl.style.display =\n",
              "          google.colab.kernel.accessAllowed ? 'block' : 'none';\n",
              "\n",
              "        async function convertToInteractive(key) {\n",
              "          const element = document.querySelector('#df-e1b910a5-c584-4e26-9754-5f0131be4084');\n",
              "          const dataTable =\n",
              "            await google.colab.kernel.invokeFunction('convertToInteractive',\n",
              "                                                     [key], {});\n",
              "          if (!dataTable) return;\n",
              "\n",
              "          const docLinkHtml = 'Like what you see? Visit the ' +\n",
              "            '<a target=\"_blank\" href=https://colab.research.google.com/notebooks/data_table.ipynb>data table notebook</a>'\n",
              "            + ' to learn more about interactive tables.';\n",
              "          element.innerHTML = '';\n",
              "          dataTable['output_type'] = 'display_data';\n",
              "          await google.colab.output.renderOutput(dataTable, element);\n",
              "          const docLink = document.createElement('div');\n",
              "          docLink.innerHTML = docLinkHtml;\n",
              "          element.appendChild(docLink);\n",
              "        }\n",
              "      </script>\n",
              "    </div>\n",
              "  </div>\n",
              "  "
            ],
            "text/plain": [
              "   Fake  ...                                     Text_tokenised\n",
              "0     0  ...  [tente, incendier, femme, indemne, gravement, ...\n",
              "1     0  ...  [etre, renaud, avoir, faire, retour, scene, oc...\n",
              "2     0  ...  [tailleur, rouge, message, avoir, vouloir, env...\n",
              "3     0  ...  [foot, ligue, tout, resultat, eme, journee, oc...\n",
              "4     0  ...  [abonner, podcast, pouvoir, abonner, telecharg...\n",
              "\n",
              "[5 rows x 5 columns]"
            ]
          },
          "metadata": {},
          "execution_count": 11
        }
      ]
    },
    {
      "cell_type": "code",
      "metadata": {
        "id": "mu6MfP9qQTfc"
      },
      "source": [
        "data['length'] = data['Text_tokenised'].str.len()"
      ],
      "execution_count": null,
      "outputs": []
    },
    {
      "cell_type": "code",
      "metadata": {
        "id": "y76T6owJQTmd"
      },
      "source": [
        "maxlen = data['length'].max()"
      ],
      "execution_count": null,
      "outputs": []
    },
    {
      "cell_type": "code",
      "source": [
        "maxlen"
      ],
      "metadata": {
        "colab": {
          "base_uri": "https://localhost:8080/"
        },
        "id": "uaAKHg9-4yo-",
        "outputId": "be4329df-0de9-442c-c6c8-c6e6dbba37b1"
      },
      "execution_count": null,
      "outputs": [
        {
          "output_type": "execute_result",
          "data": {
            "text/plain": [
              "3521"
            ]
          },
          "metadata": {},
          "execution_count": 14
        }
      ]
    },
    {
      "cell_type": "markdown",
      "metadata": {
        "id": "PMHploBZ0ia9"
      },
      "source": [
        "**SPLIT DATA INTO TRAIN AND VALIDATE SETS**"
      ]
    },
    {
      "cell_type": "code",
      "metadata": {
        "id": "To4_1-bxMdjY"
      },
      "source": [
        "# divide the data into train/validate\n",
        "\n",
        "from sklearn.model_selection import train_test_split\n",
        "\n",
        "\n",
        "sentences_train, sentences_valid, y_train, y_valid = train_test_split(\n",
        "    docs, labels, test_size=0.2, random_state=1000)"
      ],
      "execution_count": null,
      "outputs": []
    },
    {
      "cell_type": "code",
      "source": [
        "Counter(labels)"
      ],
      "metadata": {
        "colab": {
          "base_uri": "https://localhost:8080/"
        },
        "id": "PUsITknz9tCH",
        "outputId": "b3f1554a-6257-4a0c-c864-e1839ce5e87f"
      },
      "execution_count": null,
      "outputs": [
        {
          "output_type": "execute_result",
          "data": {
            "text/plain": [
              "Counter({0: 13329, 1: 14487})"
            ]
          },
          "metadata": {},
          "execution_count": 16
        }
      ]
    },
    {
      "cell_type": "markdown",
      "metadata": {
        "id": "2RemNeir0pr9"
      },
      "source": [
        "**CONVERT TEXTS TO SEQUENCES**"
      ]
    },
    {
      "cell_type": "code",
      "metadata": {
        "colab": {
          "base_uri": "https://localhost:8080/"
        },
        "id": "CeqbMAw5Mdlq",
        "outputId": "84775b45-a486-4773-8b9e-c6db424776f8"
      },
      "source": [
        "# use keras tokenizer to turn train and valid to sequence\n",
        "\n",
        "\n",
        "X_train = t.texts_to_sequences(sentences_train)\n",
        "X_valid = t.texts_to_sequences(sentences_valid)\n",
        "\n",
        "\n",
        "print(sentences_train[2])\n",
        "print(X_train[2])"
      ],
      "execution_count": null,
      "outputs": [
        {
          "output_type": "stream",
          "name": "stdout",
          "text": [
            "jessica leeds ancien femme affaire lieu avion date debut anner accusation comme pieuvr mains partout source new york time rachel crook trentain receptionniste epoque lieu sortie ascenseur trump tower new york date accusation apres avoir simplement faire connaissance echanger poigne main avoir embrasser directement bouche source new york time jill harth travailler concours beaute lieu mar avoir lago domaine trump florid date janvier accusation admirer decoration seul chose souvenir ensuite etre pousse contre mur mettre main partout moi source new york time mindy mcgillivray assistant photograph lieu mar avoir lago domaine trump florid date janvier accusation etre plutot pelotage appuye plus simple attouchement etre tres pres centre fesse etre abasourdir source palm beach post natasha stoynoff collaborer magazine peopl lieu mar avoir lago domaine trump florid date decembre accusation trump avoir fermer porte derriere nous retourner espace quelque seconde train plaquer contre mur enfoncer langue gorge source magazine peopl cassandra searle ancien miss washington lieu concours miss etatsuni date accusation vouloir probablement racont histoire epoque quand peloter continuellement fesse invitait chambre hotel source page rapporter yahoo temple taggart mcdowell ancien miss utah lieu concours miss usa shreveport louisiane date accusation etre moment etre retourner vers moi avoir donner accolade avoir embrasser bouche source nbc news trump enfonce crise avocat magnat immobilier rendre public lettr adressee new york time exiger journal retir articl infonder diffamatoire reproduire allegation malintentionnee malgre dementis formel rapide nouveau accusation nouveau emballer machine mediatique effet devastateur augmenter repetition nombre responsable republicain definitivement perdre espoir voir maison blanc face candidat democrate hillary clinton martel desormais message barrer rout donald trump devoir moral femme pouvoir stopper trump affirme elle avoir egalement recevoir jeudi voler bois vert michell obama parti auquel appartenir democrate republicain independant aucun femme merit etre traiter facon personne merite genre injure assieger tout part donald trump continuer jeudi affirmer attaque orchestrer clinton leur allie chez medier mal faire endredi dernier publication video lequel entendre trublion republicain dire mot machiste misogyne avoir declencher tempet contexte nouveau accusation tourner boucle medias americain risquer peser lourd donald trump sujetaccuser agression sexuel assieger tout part trump tente enrayer chute\n",
            "[6601, 23156, 95, 73, 139, 194, 507, 554, 143, 1517, 2025, 7, 5826, 3262, 947, 256, 433, 798, 1747, 9789, 47547, 11170, 14190, 720, 194, 705, 7035, 149, 10631, 433, 798, 554, 2025, 9, 1, 735, 4, 1667, 1973, 6316, 285, 1, 3895, 756, 1770, 256, 433, 798, 1747, 14958, 108355, 330, 1807, 2365, 194, 5421, 1, 12664, 843, 149, 2578, 554, 429, 2025, 6113, 5536, 92, 136, 993, 312, 2, 10176, 32, 871, 23, 285, 947, 297, 256, 433, 798, 1747, 41076, 55418, 4471, 9249, 194, 5421, 1, 12664, 843, 149, 2578, 554, 429, 2025, 2, 418, 108356, 11324, 3, 398, 11151, 2, 19, 151, 203, 2452, 2, 56488, 256, 6994, 9812, 1105, 28690, 108357, 7028, 1333, 3454, 194, 5421, 1, 12664, 843, 149, 2578, 554, 400, 2025, 149, 1, 1108, 338, 649, 161, 1830, 749, 45, 1475, 323, 11067, 32, 871, 4822, 1217, 4099, 256, 1333, 3454, 19343, 55419, 95, 1645, 1359, 194, 1807, 1645, 489, 554, 2025, 43, 1455, 921, 195, 720, 53, 21845, 18381, 2452, 70143, 944, 874, 256, 572, 1537, 5695, 8345, 55417, 62504, 95, 1645, 14276, 194, 1807, 1645, 1909, 108358, 23614, 554, 2025, 2, 167, 2, 1830, 148, 297, 1, 102, 15471, 1, 3895, 1770, 256, 8964, 3125, 149, 10390, 611, 575, 6328, 1579, 125, 96, 6065, 12334, 433, 798, 1747, 2149, 424, 13020, 5462, 27323, 17783, 2785, 8626, 108359, 336, 38029, 3586, 1358, 11, 2025, 11, 6387, 1222, 1990, 100, 7049, 984, 4838, 232, 333, 475, 1628, 320, 1204, 22, 230, 525, 115, 111, 1140, 763, 547, 7047, 268, 539, 8063, 1468, 274, 149, 12, 1851, 73, 6, 3947, 149, 1099, 693, 1, 74, 202, 365, 842, 2145, 899, 5697, 1295, 807, 2948, 1915, 1140, 475, 1551, 109, 73, 35378, 2, 1054, 359, 46, 2215, 455, 8554, 7538, 5, 168, 274, 149, 405, 365, 472, 657, 6192, 547, 35, 4742, 86, 208, 275, 4, 48179, 27, 1264, 147, 180, 301, 13029, 475, 21, 328, 12281, 11132, 1, 1942, 4604, 1916, 11, 2025, 571, 3383, 2405, 91, 1561, 2598, 1410, 274, 149, 108360, 1092, 733, 7538, 5, 168, 149, 1443, 9345, 1824]\n"
          ]
        }
      ]
    },
    {
      "cell_type": "markdown",
      "metadata": {
        "id": "EhfWbaHN0r0h"
      },
      "source": [
        "**APPLY POST-PADDING**"
      ]
    },
    {
      "cell_type": "code",
      "metadata": {
        "colab": {
          "base_uri": "https://localhost:8080/"
        },
        "id": "tTe28qgrMQgI",
        "outputId": "f4cfbc7d-2e23-49d8-e814-8eafc32e0932"
      },
      "source": [
        "# pad the short sequences\n",
        "X_train = pad_sequences(X_train, padding='post', maxlen=maxlen)\n",
        "X_valid = pad_sequences(X_valid, padding='post', maxlen=maxlen)\n",
        "\n",
        "print(X_train[1, :])"
      ],
      "execution_count": null,
      "outputs": [
        {
          "output_type": "stream",
          "name": "stdout",
          "text": [
            "[16082 16244   344 ...     0     0     0]\n"
          ]
        }
      ]
    },
    {
      "cell_type": "markdown",
      "metadata": {
        "id": "5rUf8Fa20ulU"
      },
      "source": [
        "**EMBEDDING MATRIX**"
      ]
    },
    {
      "cell_type": "code",
      "metadata": {
        "id": "4tNTliaJMiR2"
      },
      "source": [
        "def create_embedding_matrix(filepath, word_index, embedding_dim):\n",
        "    vocab_size = len(word_index) + 1  # Adding again 1 because of reserved 0 index\n",
        "    embedding_matrix = np.zeros((vocab_size, embedding_dim))\n",
        "\n",
        "    with open(filepath, encoding='utf-8') as f:\n",
        "        for line in f:\n",
        "            word, *vector = line.split()\n",
        "            if word in word_index:\n",
        "                idx = word_index[word] \n",
        "                embedding_matrix[idx] = np.array(\n",
        "                    vector, dtype=np.float32)[:embedding_dim]\n",
        "\n",
        "    return embedding_matrix"
      ],
      "execution_count": null,
      "outputs": []
    },
    {
      "cell_type": "markdown",
      "metadata": {
        "id": "NYwoB_VU0yIX"
      },
      "source": [
        "**LOAD PRE-TRAINED WORD EMBEDDINGS**"
      ]
    },
    {
      "cell_type": "code",
      "metadata": {
        "id": "Hf0iPuKiMiUI"
      },
      "source": [
        "embedding_dim = 300\n",
        "embedding_matrix = create_embedding_matrix(\n",
        "        '/content/drive/MyDrive/thesiss/embeddings-l-model.vec',\n",
        "        t.word_index, embedding_dim)"
      ],
      "execution_count": null,
      "outputs": []
    },
    {
      "cell_type": "code",
      "source": [
        "# how many of the embedding vectors are nonzero\n",
        "\n",
        "nonzero_elements = np.count_nonzero(np.count_nonzero(embedding_matrix, axis=1))\n",
        "nonzero_elements / vocab_size"
      ],
      "metadata": {
        "colab": {
          "base_uri": "https://localhost:8080/"
        },
        "id": "6H1SHhbDgmfd",
        "outputId": "365c96a8-0fbf-456b-8a08-a3348db22e80"
      },
      "execution_count": null,
      "outputs": [
        {
          "output_type": "execute_result",
          "data": {
            "text/plain": [
              "0.38649636663545983"
            ]
          },
          "metadata": {},
          "execution_count": 21
        }
      ]
    },
    {
      "cell_type": "code",
      "source": [
        "# how many of the embedding vectors are nonzero\n",
        "\n",
        "nonzero_elements = np.count_nonzero(np.count_nonzero(embedding_matrix, axis=1))\n",
        "nonzero_elements / vocab_size"
      ],
      "metadata": {
        "colab": {
          "base_uri": "https://localhost:8080/"
        },
        "id": "OPY-5Pi-45FL",
        "outputId": "57a07510-88d6-41b5-a52e-c08f22492e68"
      },
      "execution_count": null,
      "outputs": [
        {
          "output_type": "execute_result",
          "data": {
            "text/plain": [
              "0.38649636663545983"
            ]
          },
          "metadata": {},
          "execution_count": 22
        }
      ]
    },
    {
      "cell_type": "markdown",
      "metadata": {
        "id": "qb1ysMWNV4g-"
      },
      "source": [
        "# **MODEL: CNN + BLSTM**"
      ]
    },
    {
      "cell_type": "markdown",
      "source": [
        "**BUILD THE MODEL**"
      ],
      "metadata": {
        "id": "QrcER6_p9dZH"
      }
    },
    {
      "cell_type": "code",
      "source": [
        "import tensorflow as tf\n",
        "from keras.models import Sequential\n",
        "from keras import layers\n",
        "import tensorflow as tf\n",
        "from keras.layers import Conv1D, MaxPooling1D, Embedding, Dropout\n",
        "from tensorflow.keras.optimizers import Adam,SGD\n",
        "\n",
        "def create_model(vocab_size,embedding_dim,maxlen):\n",
        "    model = tf.keras.Sequential([\n",
        "        tf.keras.layers.Embedding(vocab_size, embedding_dim, input_length=maxlen, trainable=True),\n",
        "        tf.keras.layers.Dropout(0.1),\n",
        "        tf.keras.layers.Conv1D(64, 2, activation='relu'),\n",
        "        tf.keras.layers.MaxPooling1D(pool_size=4),\n",
        "        tf.keras.layers.Bidirectional(tf.keras.layers.LSTM(40, return_sequences=True)),\n",
        "        tf.keras.layers.Bidirectional(tf.keras.layers.LSTM(40)),\n",
        "        tf.keras.layers.Dropout(0.1),  \n",
        "        tf.keras.layers.Dense(32, activation='relu'),\n",
        "        tf.keras.layers.Dropout(0.1),  \n",
        "        tf.keras.layers.Dense(16, activation='relu'),\n",
        "        tf.keras.layers.Dense(1, activation='sigmoid')\n",
        "    ])\n",
        "\n",
        "    adam=Adam(learning_rate=0.001)\n",
        "    model.compile(optimizer=adam, \n",
        "                  loss='binary_crossentropy',\n",
        "                  metrics=['accuracy'])\n",
        "    return model"
      ],
      "metadata": {
        "id": "BiasBqaB_Ji9"
      },
      "execution_count": null,
      "outputs": []
    },
    {
      "cell_type": "code",
      "source": [
        "slice_size = [5000, 10000, 15000, 20000, 27815]\n",
        "\n",
        "accuracies = []\n",
        "\n",
        "for n_samples in slice_size:\n",
        "    \n",
        "    X_train_red=X_train[:n_samples]\n",
        "    y_train_red=y_train[:n_samples]\n",
        "    model=create_model(vocab_size,embedding_dim,maxlen)\n",
        "    print('Number of samples: ',n_samples)\n",
        "    history = model.fit(X_train_red, y_train_red,\n",
        "                    epochs=5,\n",
        "                    verbose=True,\n",
        "                    validation_data=(X_valid, y_valid),\n",
        "                    batch_size=500)\n",
        "\n",
        "   \n",
        "    loss, acc = model.evaluate(X_valid, y_valid)\n",
        "    accuracies.append(round(acc, 3))\n",
        "    \n"
      ],
      "metadata": {
        "colab": {
          "base_uri": "https://localhost:8080/"
        },
        "id": "o3vVTl5e8joM",
        "outputId": "17f47ee9-a021-4e88-bb2b-4a9f34594255"
      },
      "execution_count": null,
      "outputs": [
        {
          "output_type": "stream",
          "name": "stdout",
          "text": [
            "Number of samples:  5000\n",
            "Epoch 1/5\n",
            "10/10 [==============================] - 26s 1s/step - loss: 0.6847 - accuracy: 0.5780 - val_loss: 0.6545 - val_accuracy: 0.7378\n",
            "Epoch 2/5\n",
            "10/10 [==============================] - 8s 840ms/step - loss: 0.5484 - accuracy: 0.7874 - val_loss: 0.4046 - val_accuracy: 0.8386\n",
            "Epoch 3/5\n",
            "10/10 [==============================] - 8s 843ms/step - loss: 0.2293 - accuracy: 0.9256 - val_loss: 0.2319 - val_accuracy: 0.9159\n",
            "Epoch 4/5\n",
            "10/10 [==============================] - 8s 838ms/step - loss: 0.0595 - accuracy: 0.9848 - val_loss: 0.2659 - val_accuracy: 0.9331\n",
            "Epoch 5/5\n",
            "10/10 [==============================] - 8s 835ms/step - loss: 0.0141 - accuracy: 0.9972 - val_loss: 0.2901 - val_accuracy: 0.9373\n",
            "174/174 [==============================] - 14s 79ms/step - loss: 0.2901 - accuracy: 0.9373\n",
            "Number of samples:  10000\n",
            "Epoch 1/5\n",
            "20/20 [==============================] - 23s 829ms/step - loss: 0.6634 - accuracy: 0.6234 - val_loss: 0.5379 - val_accuracy: 0.7978\n",
            "Epoch 2/5\n",
            "20/20 [==============================] - 15s 738ms/step - loss: 0.2924 - accuracy: 0.8958 - val_loss: 0.1747 - val_accuracy: 0.9366\n",
            "Epoch 3/5\n",
            "20/20 [==============================] - 14s 732ms/step - loss: 0.0600 - accuracy: 0.9835 - val_loss: 0.1650 - val_accuracy: 0.9536\n",
            "Epoch 4/5\n",
            "20/20 [==============================] - 15s 737ms/step - loss: 0.0108 - accuracy: 0.9978 - val_loss: 0.2066 - val_accuracy: 0.9535\n",
            "Epoch 5/5\n",
            "20/20 [==============================] - 15s 731ms/step - loss: 0.0059 - accuracy: 0.9984 - val_loss: 0.2157 - val_accuracy: 0.9547\n",
            "174/174 [==============================] - 14s 79ms/step - loss: 0.2157 - accuracy: 0.9547\n",
            "Number of samples:  15000\n",
            "Epoch 1/5\n",
            "30/30 [==============================] - 30s 762ms/step - loss: 0.5371 - accuracy: 0.7385 - val_loss: 0.2058 - val_accuracy: 0.9288\n",
            "Epoch 2/5\n",
            "30/30 [==============================] - 21s 698ms/step - loss: 0.1020 - accuracy: 0.9679 - val_loss: 0.1609 - val_accuracy: 0.9459\n",
            "Epoch 3/5\n",
            "30/30 [==============================] - 21s 695ms/step - loss: 0.0290 - accuracy: 0.9926 - val_loss: 0.1585 - val_accuracy: 0.9570\n",
            "Epoch 4/5\n",
            "30/30 [==============================] - 21s 696ms/step - loss: 0.0108 - accuracy: 0.9975 - val_loss: 0.2013 - val_accuracy: 0.9560\n",
            "Epoch 5/5\n",
            "30/30 [==============================] - 21s 700ms/step - loss: 0.0045 - accuracy: 0.9989 - val_loss: 0.2141 - val_accuracy: 0.9581\n",
            "174/174 [==============================] - 14s 78ms/step - loss: 0.2141 - accuracy: 0.9581\n",
            "Number of samples:  20000\n",
            "Epoch 1/5\n",
            "40/40 [==============================] - 36s 731ms/step - loss: 0.5508 - accuracy: 0.7366 - val_loss: 0.2177 - val_accuracy: 0.9319\n",
            "Epoch 2/5\n",
            "40/40 [==============================] - 27s 680ms/step - loss: 0.1156 - accuracy: 0.9647 - val_loss: 0.1061 - val_accuracy: 0.9650\n",
            "Epoch 3/5\n",
            "40/40 [==============================] - 27s 686ms/step - loss: 0.0278 - accuracy: 0.9929 - val_loss: 0.1344 - val_accuracy: 0.9603\n",
            "Epoch 4/5\n",
            "40/40 [==============================] - 27s 679ms/step - loss: 0.0106 - accuracy: 0.9979 - val_loss: 0.1503 - val_accuracy: 0.9673\n",
            "Epoch 5/5\n",
            "40/40 [==============================] - 27s 686ms/step - loss: 0.0041 - accuracy: 0.9994 - val_loss: 0.1739 - val_accuracy: 0.9676\n",
            "174/174 [==============================] - 14s 79ms/step - loss: 0.1739 - accuracy: 0.9676\n",
            "Number of samples:  27815\n",
            "Epoch 1/5\n",
            "45/45 [==============================] - 40s 717ms/step - loss: 0.4472 - accuracy: 0.7851 - val_loss: 0.1583 - val_accuracy: 0.9459\n",
            "Epoch 2/5\n",
            "45/45 [==============================] - 30s 678ms/step - loss: 0.0842 - accuracy: 0.9754 - val_loss: 0.1091 - val_accuracy: 0.9641\n",
            "Epoch 3/5\n",
            "45/45 [==============================] - 30s 671ms/step - loss: 0.0206 - accuracy: 0.9953 - val_loss: 0.1116 - val_accuracy: 0.9653\n",
            "Epoch 4/5\n",
            "45/45 [==============================] - 30s 675ms/step - loss: 0.0048 - accuracy: 0.9991 - val_loss: 0.1330 - val_accuracy: 0.9666\n",
            "Epoch 5/5\n",
            "45/45 [==============================] - 30s 675ms/step - loss: 0.0019 - accuracy: 0.9998 - val_loss: 0.1570 - val_accuracy: 0.9676\n",
            "174/174 [==============================] - 13s 77ms/step - loss: 0.1570 - accuracy: 0.9676\n"
          ]
        }
      ]
    },
    {
      "cell_type": "code",
      "source": [
        "import matplotlib.pyplot as plt\n",
        "plt.plot(slice_size,accuracies)\n",
        "plt.title('Model accuracy')\n",
        "plt.ylabel('Accuracy')\n",
        "plt.xlabel('Number of samples')\n",
        "plt.show()"
      ],
      "metadata": {
        "colab": {
          "base_uri": "https://localhost:8080/",
          "height": 295
        },
        "id": "8ULZutSs__-n",
        "outputId": "d3398553-644e-4a91-a589-65f881f24f1d"
      },
      "execution_count": null,
      "outputs": [
        {
          "output_type": "display_data",
          "data": {
            "image/png": "[encoded data removed]",
            "text/plain": [
              "<Figure size 432x288 with 1 Axes>"
            ]
          },
          "metadata": {
            "needs_background": "light"
          }
        }
      ]
    },
    {
      "cell_type": "code",
      "source": [
        ""
      ],
      "metadata": {
        "id": "OMceQeFBpF1n"
      },
      "execution_count": null,
      "outputs": []
    }
  ]
}