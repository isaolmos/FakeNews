{
  "nbformat": 4,
  "nbformat_minor": 0,
  "metadata": {
    "colab": {
      "name": "Learning_curve2.ipynb",
      "provenance": [],
      "collapsed_sections": [],
      "machine_shape": "hm"
    },
    "kernelspec": {
      "name": "python3",
      "display_name": "Python 3"
    },
    "language_info": {
      "name": "python"
    },
    "accelerator": "GPU"
  },
  "cells": [
    {
      "cell_type": "markdown",
      "metadata": {
        "id": "NpNzg2mCz3v8"
      },
      "source": [
        "# **CNN+BLSTM MODEL**"
      ]
    },
    {
      "cell_type": "markdown",
      "metadata": {
        "id": "TaZ0rQsf0Be3"
      },
      "source": [
        "**IMPORT MODULES**"
      ]
    },
    {
      "cell_type": "code",
      "metadata": {
        "id": "93pbFgzf6PO4"
      },
      "source": [
        "%matplotlib inline\n",
        "import numpy as np\n",
        "import pandas as pd\n",
        "from nltk import word_tokenize"
      ],
      "execution_count": null,
      "outputs": []
    },
    {
      "cell_type": "code",
      "source": [
        "from google.colab import drive\n",
        "drive.mount('/content/drive')"
      ],
      "metadata": {
        "colab": {
          "base_uri": "https://localhost:8080/"
        },
        "id": "oO8MWYvVgMBc",
        "outputId": "e63447e7-9210-4fc6-a1cf-52a8003da8c7"
      },
      "execution_count": null,
      "outputs": [
        {
          "output_type": "stream",
          "name": "stdout",
          "text": [
            "Mounted at /content/drive\n"
          ]
        }
      ]
    },
    {
      "cell_type": "markdown",
      "metadata": {
        "id": "XuqvzXYZ0F0h"
      },
      "source": [
        "**LOAD DATASET**"
      ]
    },
    {
      "cell_type": "code",
      "metadata": {
        "id": "bB1mmnGMIG9k"
      },
      "source": [
        "data=pd.read_csv('sp_translated.csv')"
      ],
      "execution_count": null,
      "outputs": []
    },
    {
      "cell_type": "code",
      "metadata": {
        "colab": {
          "base_uri": "https://localhost:8080/",
          "height": 424
        },
        "id": "7VGagvBo7i4i",
        "outputId": "13801a95-ebdc-4eb8-fc42-077ab8f4aeb7"
      },
      "source": [
        "data"
      ],
      "execution_count": null,
      "outputs": [
        {
          "output_type": "execute_result",
          "data": {
            "text/html": [
              "\n",
              "  <div id=\"df-1ab3da98-6ab8-4f48-94d9-6c26ae5e7b3c\">\n",
              "    <div class=\"colab-df-container\">\n",
              "      <div>\n",
              "<style scoped>\n",
              "    .dataframe tbody tr th:only-of-type {\n",
              "        vertical-align: middle;\n",
              "    }\n",
              "\n",
              "    .dataframe tbody tr th {\n",
              "        vertical-align: top;\n",
              "    }\n",
              "\n",
              "    .dataframe thead th {\n",
              "        text-align: right;\n",
              "    }\n",
              "</style>\n",
              "<table border=\"1\" class=\"dataframe\">\n",
              "  <thead>\n",
              "    <tr style=\"text-align: right;\">\n",
              "      <th></th>\n",
              "      <th>Unnamed: 0</th>\n",
              "      <th>Fake</th>\n",
              "      <th>final_clean</th>\n",
              "    </tr>\n",
              "  </thead>\n",
              "  <tbody>\n",
              "    <tr>\n",
              "      <th>0</th>\n",
              "      <td>0</td>\n",
              "      <td>0</td>\n",
              "      <td>intentar prender fuego espós ilesa gravemente ...</td>\n",
              "    </tr>\n",
              "    <tr>\n",
              "      <th>1</th>\n",
              "      <td>1</td>\n",
              "      <td>0</td>\n",
              "      <td>ese ser renaud vuelta escenario octubre acción...</td>\n",
              "    </tr>\n",
              "    <tr>\n",
              "      <th>2</th>\n",
              "      <td>2</td>\n",
              "      <td>0</td>\n",
              "      <td>traje rojo qué mensaje querer enviar hillary c...</td>\n",
              "    </tr>\n",
              "    <tr>\n",
              "      <th>3</th>\n",
              "      <td>3</td>\n",
              "      <td>0</td>\n",
              "      <td>footligar resultado octava jornada h octubre m...</td>\n",
              "    </tr>\n",
              "    <tr>\n",
              "      <th>4</th>\n",
              "      <td>4</td>\n",
              "      <td>0</td>\n",
              "      <td>suscríbete podcast poder suscribir él descarga...</td>\n",
              "    </tr>\n",
              "    <tr>\n",
              "      <th>...</th>\n",
              "      <td>...</td>\n",
              "      <td>...</td>\n",
              "      <td>...</td>\n",
              "    </tr>\n",
              "    <tr>\n",
              "      <th>5995</th>\n",
              "      <td>2966</td>\n",
              "      <td>0</td>\n",
              "      <td>consejo gobierno haber dar visto bueno convoca...</td>\n",
              "    </tr>\n",
              "    <tr>\n",
              "      <th>5996</th>\n",
              "      <td>2967</td>\n",
              "      <td>0</td>\n",
              "      <td>investigador valenciano haber desarrollar inno...</td>\n",
              "    </tr>\n",
              "    <tr>\n",
              "      <th>5997</th>\n",
              "      <td>2968</td>\n",
              "      <td>0</td>\n",
              "      <td>arrestado actuar coche establecimiento policia...</td>\n",
              "    </tr>\n",
              "    <tr>\n",
              "      <th>5998</th>\n",
              "      <td>2969</td>\n",
              "      <td>0</td>\n",
              "      <td>rey haber encargar miercol pedro sanchez prese...</td>\n",
              "    </tr>\n",
              "    <tr>\n",
              "      <th>5999</th>\n",
              "      <td>2970</td>\n",
              "      <td>0</td>\n",
              "      <td>prueba realizado centro nacional microbiologia...</td>\n",
              "    </tr>\n",
              "  </tbody>\n",
              "</table>\n",
              "<p>6000 rows × 3 columns</p>\n",
              "</div>\n",
              "      <button class=\"colab-df-convert\" onclick=\"convertToInteractive('df-1ab3da98-6ab8-4f48-94d9-6c26ae5e7b3c')\"\n",
              "              title=\"Convert this dataframe to an interactive table.\"\n",
              "              style=\"display:none;\">\n",
              "        \n",
              "  <svg xmlns=\"http://www.w3.org/2000/svg\" height=\"24px\"viewBox=\"0 0 24 24\"\n",
              "       width=\"24px\">\n",
              "    <path d=\"M0 0h24v24H0V0z\" fill=\"none\"/>\n",
              "    <path d=\"M18.56 5.44l.94 2.06.94-2.06 2.06-.94-2.06-.94-.94-2.06-.94 2.06-2.06.94zm-11 1L8.5 8.5l.94-2.06 2.06-.94-2.06-.94L8.5 2.5l-.94 2.06-2.06.94zm10 10l.94 2.06.94-2.06 2.06-.94-2.06-.94-.94-2.06-.94 2.06-2.06.94z\"/><path d=\"M17.41 7.96l-1.37-1.37c-.4-.4-.92-.59-1.43-.59-.52 0-1.04.2-1.43.59L10.3 9.45l-7.72 7.72c-.78.78-.78 2.05 0 2.83L4 21.41c.39.39.9.59 1.41.59.51 0 1.02-.2 1.41-.59l7.78-7.78 2.81-2.81c.8-.78.8-2.07 0-2.86zM5.41 20L4 18.59l7.72-7.72 1.47 1.35L5.41 20z\"/>\n",
              "  </svg>\n",
              "      </button>\n",
              "      \n",
              "  <style>\n",
              "    .colab-df-container {\n",
              "      display:flex;\n",
              "      flex-wrap:wrap;\n",
              "      gap: 12px;\n",
              "    }\n",
              "\n",
              "    .colab-df-convert {\n",
              "      background-color: #E8F0FE;\n",
              "      border: none;\n",
              "      border-radius: 50%;\n",
              "      cursor: pointer;\n",
              "      display: none;\n",
              "      fill: #1967D2;\n",
              "      height: 32px;\n",
              "      padding: 0 0 0 0;\n",
              "      width: 32px;\n",
              "    }\n",
              "\n",
              "    .colab-df-convert:hover {\n",
              "      background-color: #E2EBFA;\n",
              "      box-shadow: 0px 1px 2px rgba(60, 64, 67, 0.3), 0px 1px 3px 1px rgba(60, 64, 67, 0.15);\n",
              "      fill: #174EA6;\n",
              "    }\n",
              "\n",
              "    [theme=dark] .colab-df-convert {\n",
              "      background-color: #3B4455;\n",
              "      fill: #D2E3FC;\n",
              "    }\n",
              "\n",
              "    [theme=dark] .colab-df-convert:hover {\n",
              "      background-color: #434B5C;\n",
              "      box-shadow: 0px 1px 3px 1px rgba(0, 0, 0, 0.15);\n",
              "      filter: drop-shadow(0px 1px 2px rgba(0, 0, 0, 0.3));\n",
              "      fill: #FFFFFF;\n",
              "    }\n",
              "  </style>\n",
              "\n",
              "      <script>\n",
              "        const buttonEl =\n",
              "          document.querySelector('#df-1ab3da98-6ab8-4f48-94d9-6c26ae5e7b3c button.colab-df-convert');\n",
              "        buttonEl.style.display =\n",
              "          google.colab.kernel.accessAllowed ? 'block' : 'none';\n",
              "\n",
              "        async function convertToInteractive(key) {\n",
              "          const element = document.querySelector('#df-1ab3da98-6ab8-4f48-94d9-6c26ae5e7b3c');\n",
              "          const dataTable =\n",
              "            await google.colab.kernel.invokeFunction('convertToInteractive',\n",
              "                                                     [key], {});\n",
              "          if (!dataTable) return;\n",
              "\n",
              "          const docLinkHtml = 'Like what you see? Visit the ' +\n",
              "            '<a target=\"_blank\" href=https://colab.research.google.com/notebooks/data_table.ipynb>data table notebook</a>'\n",
              "            + ' to learn more about interactive tables.';\n",
              "          element.innerHTML = '';\n",
              "          dataTable['output_type'] = 'display_data';\n",
              "          await google.colab.output.renderOutput(dataTable, element);\n",
              "          const docLink = document.createElement('div');\n",
              "          docLink.innerHTML = docLinkHtml;\n",
              "          element.appendChild(docLink);\n",
              "        }\n",
              "      </script>\n",
              "    </div>\n",
              "  </div>\n",
              "  "
            ],
            "text/plain": [
              "      Unnamed: 0  Fake                                        final_clean\n",
              "0              0     0  intentar prender fuego espós ilesa gravemente ...\n",
              "1              1     0  ese ser renaud vuelta escenario octubre acción...\n",
              "2              2     0  traje rojo qué mensaje querer enviar hillary c...\n",
              "3              3     0  footligar resultado octava jornada h octubre m...\n",
              "4              4     0  suscríbete podcast poder suscribir él descarga...\n",
              "...          ...   ...                                                ...\n",
              "5995        2966     0  consejo gobierno haber dar visto bueno convoca...\n",
              "5996        2967     0  investigador valenciano haber desarrollar inno...\n",
              "5997        2968     0  arrestado actuar coche establecimiento policia...\n",
              "5998        2969     0  rey haber encargar miercol pedro sanchez prese...\n",
              "5999        2970     0  prueba realizado centro nacional microbiologia...\n",
              "\n",
              "[6000 rows x 3 columns]"
            ]
          },
          "metadata": {},
          "execution_count": 4
        }
      ]
    },
    {
      "cell_type": "code",
      "source": [
        "data['Fake'].value_counts()"
      ],
      "metadata": {
        "colab": {
          "base_uri": "https://localhost:8080/"
        },
        "id": "e8ZCHomY91Ov",
        "outputId": "f593b420-7b13-44ae-a7e5-f4d0852c2e5d"
      },
      "execution_count": null,
      "outputs": [
        {
          "output_type": "execute_result",
          "data": {
            "text/plain": [
              "1    3000\n",
              "0    3000\n",
              "Name: Fake, dtype: int64"
            ]
          },
          "metadata": {},
          "execution_count": 5
        }
      ]
    },
    {
      "cell_type": "code",
      "metadata": {
        "id": "z2sediQZMQd6"
      },
      "source": [
        "docs = data.final_clean.values\n",
        "labels = data.Fake.values"
      ],
      "execution_count": null,
      "outputs": []
    },
    {
      "cell_type": "code",
      "source": [
        "from collections import Counter\n",
        "Counter(labels)"
      ],
      "metadata": {
        "colab": {
          "base_uri": "https://localhost:8080/"
        },
        "id": "_KgKVrUI96ni",
        "outputId": "a8da437d-95f2-473a-9522-08e8ef46d896"
      },
      "execution_count": null,
      "outputs": [
        {
          "output_type": "execute_result",
          "data": {
            "text/plain": [
              "Counter({0: 3000, 1: 3000})"
            ]
          },
          "metadata": {},
          "execution_count": 7
        }
      ]
    },
    {
      "cell_type": "markdown",
      "metadata": {
        "id": "7HPwDqSP0e8N"
      },
      "source": [
        "**TOKENIZATION**"
      ]
    },
    {
      "cell_type": "code",
      "metadata": {
        "id": "f3UbB6b3MdhN"
      },
      "source": [
        "from numpy import zeros\n",
        "from keras.preprocessing.text import Tokenizer\n",
        "from keras.preprocessing.sequence import pad_sequences\n",
        "from keras.models import Sequential\n",
        "from keras.layers import Dense\n",
        "from keras.layers import Flatten\n",
        "from keras.layers import Embedding\n",
        "\n",
        "# prepare tokenizer\n",
        "t = Tokenizer()\n",
        "t.fit_on_texts(docs)\n",
        "vocab_size = len(t.word_index) + 1  # I add one because it starts counting from 0"
      ],
      "execution_count": null,
      "outputs": []
    },
    {
      "cell_type": "code",
      "metadata": {
        "colab": {
          "base_uri": "https://localhost:8080/"
        },
        "id": "TdGmaoceP7rE",
        "outputId": "899054c4-8527-4a5f-f090-73730a5fdb0c"
      },
      "source": [
        "import nltk  # don't forget to do this step everytime in colab\n",
        "nltk.download('punkt')"
      ],
      "execution_count": null,
      "outputs": [
        {
          "output_type": "stream",
          "name": "stdout",
          "text": [
            "[nltk_data] Downloading package punkt to /root/nltk_data...\n",
            "[nltk_data]   Unzipping tokenizers/punkt.zip.\n"
          ]
        },
        {
          "output_type": "execute_result",
          "data": {
            "text/plain": [
              "True"
            ]
          },
          "metadata": {},
          "execution_count": 9
        }
      ]
    },
    {
      "cell_type": "code",
      "metadata": {
        "id": "cnHDKKi0P7t-"
      },
      "source": [
        "data['Text_tokenised'] = data['final_clean'].apply(word_tokenize)"
      ],
      "execution_count": null,
      "outputs": []
    },
    {
      "cell_type": "code",
      "metadata": {
        "colab": {
          "base_uri": "https://localhost:8080/",
          "height": 206
        },
        "id": "QJJN8SYkP_9e",
        "outputId": "3f2016c3-abed-46f7-8c4d-5ffcdb90e39d"
      },
      "source": [
        "data.head()"
      ],
      "execution_count": null,
      "outputs": [
        {
          "output_type": "execute_result",
          "data": {
            "text/html": [
              "\n",
              "  <div id=\"df-070617f5-60ef-4f3f-b6be-519bfb64411c\">\n",
              "    <div class=\"colab-df-container\">\n",
              "      <div>\n",
              "<style scoped>\n",
              "    .dataframe tbody tr th:only-of-type {\n",
              "        vertical-align: middle;\n",
              "    }\n",
              "\n",
              "    .dataframe tbody tr th {\n",
              "        vertical-align: top;\n",
              "    }\n",
              "\n",
              "    .dataframe thead th {\n",
              "        text-align: right;\n",
              "    }\n",
              "</style>\n",
              "<table border=\"1\" class=\"dataframe\">\n",
              "  <thead>\n",
              "    <tr style=\"text-align: right;\">\n",
              "      <th></th>\n",
              "      <th>Unnamed: 0</th>\n",
              "      <th>Fake</th>\n",
              "      <th>final_clean</th>\n",
              "      <th>Text_tokenised</th>\n",
              "    </tr>\n",
              "  </thead>\n",
              "  <tbody>\n",
              "    <tr>\n",
              "      <th>0</th>\n",
              "      <td>0</td>\n",
              "      <td>0</td>\n",
              "      <td>intentar prender fuego espós ilesa gravemente ...</td>\n",
              "      <td>[intentar, prender, fuego, espós, ilesa, grave...</td>\n",
              "    </tr>\n",
              "    <tr>\n",
              "      <th>1</th>\n",
              "      <td>1</td>\n",
              "      <td>0</td>\n",
              "      <td>ese ser renaud vuelta escenario octubre acción...</td>\n",
              "      <td>[ese, ser, renaud, vuelta, escenario, octubre,...</td>\n",
              "    </tr>\n",
              "    <tr>\n",
              "      <th>2</th>\n",
              "      <td>2</td>\n",
              "      <td>0</td>\n",
              "      <td>traje rojo qué mensaje querer enviar hillary c...</td>\n",
              "      <td>[traje, rojo, qué, mensaje, querer, enviar, hi...</td>\n",
              "    </tr>\n",
              "    <tr>\n",
              "      <th>3</th>\n",
              "      <td>3</td>\n",
              "      <td>0</td>\n",
              "      <td>footligar resultado octava jornada h octubre m...</td>\n",
              "      <td>[footligar, resultado, octava, jornada, h, oct...</td>\n",
              "    </tr>\n",
              "    <tr>\n",
              "      <th>4</th>\n",
              "      <td>4</td>\n",
              "      <td>0</td>\n",
              "      <td>suscríbete podcast poder suscribir él descarga...</td>\n",
              "      <td>[suscríbete, podcast, poder, suscribir, él, de...</td>\n",
              "    </tr>\n",
              "  </tbody>\n",
              "</table>\n",
              "</div>\n",
              "      <button class=\"colab-df-convert\" onclick=\"convertToInteractive('df-070617f5-60ef-4f3f-b6be-519bfb64411c')\"\n",
              "              title=\"Convert this dataframe to an interactive table.\"\n",
              "              style=\"display:none;\">\n",
              "        \n",
              "  <svg xmlns=\"http://www.w3.org/2000/svg\" height=\"24px\"viewBox=\"0 0 24 24\"\n",
              "       width=\"24px\">\n",
              "    <path d=\"M0 0h24v24H0V0z\" fill=\"none\"/>\n",
              "    <path d=\"M18.56 5.44l.94 2.06.94-2.06 2.06-.94-2.06-.94-.94-2.06-.94 2.06-2.06.94zm-11 1L8.5 8.5l.94-2.06 2.06-.94-2.06-.94L8.5 2.5l-.94 2.06-2.06.94zm10 10l.94 2.06.94-2.06 2.06-.94-2.06-.94-.94-2.06-.94 2.06-2.06.94z\"/><path d=\"M17.41 7.96l-1.37-1.37c-.4-.4-.92-.59-1.43-.59-.52 0-1.04.2-1.43.59L10.3 9.45l-7.72 7.72c-.78.78-.78 2.05 0 2.83L4 21.41c.39.39.9.59 1.41.59.51 0 1.02-.2 1.41-.59l7.78-7.78 2.81-2.81c.8-.78.8-2.07 0-2.86zM5.41 20L4 18.59l7.72-7.72 1.47 1.35L5.41 20z\"/>\n",
              "  </svg>\n",
              "      </button>\n",
              "      \n",
              "  <style>\n",
              "    .colab-df-container {\n",
              "      display:flex;\n",
              "      flex-wrap:wrap;\n",
              "      gap: 12px;\n",
              "    }\n",
              "\n",
              "    .colab-df-convert {\n",
              "      background-color: #E8F0FE;\n",
              "      border: none;\n",
              "      border-radius: 50%;\n",
              "      cursor: pointer;\n",
              "      display: none;\n",
              "      fill: #1967D2;\n",
              "      height: 32px;\n",
              "      padding: 0 0 0 0;\n",
              "      width: 32px;\n",
              "    }\n",
              "\n",
              "    .colab-df-convert:hover {\n",
              "      background-color: #E2EBFA;\n",
              "      box-shadow: 0px 1px 2px rgba(60, 64, 67, 0.3), 0px 1px 3px 1px rgba(60, 64, 67, 0.15);\n",
              "      fill: #174EA6;\n",
              "    }\n",
              "\n",
              "    [theme=dark] .colab-df-convert {\n",
              "      background-color: #3B4455;\n",
              "      fill: #D2E3FC;\n",
              "    }\n",
              "\n",
              "    [theme=dark] .colab-df-convert:hover {\n",
              "      background-color: #434B5C;\n",
              "      box-shadow: 0px 1px 3px 1px rgba(0, 0, 0, 0.15);\n",
              "      filter: drop-shadow(0px 1px 2px rgba(0, 0, 0, 0.3));\n",
              "      fill: #FFFFFF;\n",
              "    }\n",
              "  </style>\n",
              "\n",
              "      <script>\n",
              "        const buttonEl =\n",
              "          document.querySelector('#df-070617f5-60ef-4f3f-b6be-519bfb64411c button.colab-df-convert');\n",
              "        buttonEl.style.display =\n",
              "          google.colab.kernel.accessAllowed ? 'block' : 'none';\n",
              "\n",
              "        async function convertToInteractive(key) {\n",
              "          const element = document.querySelector('#df-070617f5-60ef-4f3f-b6be-519bfb64411c');\n",
              "          const dataTable =\n",
              "            await google.colab.kernel.invokeFunction('convertToInteractive',\n",
              "                                                     [key], {});\n",
              "          if (!dataTable) return;\n",
              "\n",
              "          const docLinkHtml = 'Like what you see? Visit the ' +\n",
              "            '<a target=\"_blank\" href=https://colab.research.google.com/notebooks/data_table.ipynb>data table notebook</a>'\n",
              "            + ' to learn more about interactive tables.';\n",
              "          element.innerHTML = '';\n",
              "          dataTable['output_type'] = 'display_data';\n",
              "          await google.colab.output.renderOutput(dataTable, element);\n",
              "          const docLink = document.createElement('div');\n",
              "          docLink.innerHTML = docLinkHtml;\n",
              "          element.appendChild(docLink);\n",
              "        }\n",
              "      </script>\n",
              "    </div>\n",
              "  </div>\n",
              "  "
            ],
            "text/plain": [
              "   Unnamed: 0  ...                                     Text_tokenised\n",
              "0           0  ...  [intentar, prender, fuego, espós, ilesa, grave...\n",
              "1           1  ...  [ese, ser, renaud, vuelta, escenario, octubre,...\n",
              "2           2  ...  [traje, rojo, qué, mensaje, querer, enviar, hi...\n",
              "3           3  ...  [footligar, resultado, octava, jornada, h, oct...\n",
              "4           4  ...  [suscríbete, podcast, poder, suscribir, él, de...\n",
              "\n",
              "[5 rows x 4 columns]"
            ]
          },
          "metadata": {},
          "execution_count": 11
        }
      ]
    },
    {
      "cell_type": "code",
      "metadata": {
        "id": "mu6MfP9qQTfc"
      },
      "source": [
        "data['length'] = data['Text_tokenised'].str.len()"
      ],
      "execution_count": null,
      "outputs": []
    },
    {
      "cell_type": "code",
      "metadata": {
        "id": "y76T6owJQTmd"
      },
      "source": [
        "maxlen = data['length'].max()"
      ],
      "execution_count": null,
      "outputs": []
    },
    {
      "cell_type": "code",
      "source": [
        "maxlen"
      ],
      "metadata": {
        "colab": {
          "base_uri": "https://localhost:8080/"
        },
        "id": "uaAKHg9-4yo-",
        "outputId": "b6e221db-335d-48e6-99f2-044bea4510ae"
      },
      "execution_count": null,
      "outputs": [
        {
          "output_type": "execute_result",
          "data": {
            "text/plain": [
              "2806"
            ]
          },
          "metadata": {},
          "execution_count": 14
        }
      ]
    },
    {
      "cell_type": "markdown",
      "metadata": {
        "id": "PMHploBZ0ia9"
      },
      "source": [
        "**SPLIT DATA INTO TRAIN AND VALIDATE SETS**"
      ]
    },
    {
      "cell_type": "code",
      "metadata": {
        "id": "To4_1-bxMdjY"
      },
      "source": [
        "# divide the data into train/validate\n",
        "\n",
        "from sklearn.model_selection import train_test_split\n",
        "\n",
        "\n",
        "sentences_train, sentences_valid, y_train, y_valid = train_test_split(\n",
        "    docs, labels, test_size=0.2, random_state=1000)"
      ],
      "execution_count": null,
      "outputs": []
    },
    {
      "cell_type": "code",
      "source": [
        "Counter(labels)"
      ],
      "metadata": {
        "colab": {
          "base_uri": "https://localhost:8080/"
        },
        "id": "PUsITknz9tCH",
        "outputId": "2cd3a7fe-fe10-4235-ab47-72ba77d7b46e"
      },
      "execution_count": null,
      "outputs": [
        {
          "output_type": "execute_result",
          "data": {
            "text/plain": [
              "Counter({0: 3000, 1: 3000})"
            ]
          },
          "metadata": {},
          "execution_count": 16
        }
      ]
    },
    {
      "cell_type": "markdown",
      "metadata": {
        "id": "2RemNeir0pr9"
      },
      "source": [
        "**CONVERT TEXTS TO SEQUENCES**"
      ]
    },
    {
      "cell_type": "code",
      "metadata": {
        "colab": {
          "base_uri": "https://localhost:8080/"
        },
        "id": "CeqbMAw5Mdlq",
        "outputId": "0068ef30-3fd3-4c78-cb63-7a31523e3b38"
      },
      "source": [
        "# use keras tokenizer to turn train and valid to sequence\n",
        "\n",
        "\n",
        "X_train = t.texts_to_sequences(sentences_train)\n",
        "X_valid = t.texts_to_sequences(sentences_valid)\n",
        "\n",
        "\n",
        "print(sentences_train[2])\n",
        "print(X_train[2])"
      ],
      "execution_count": null,
      "outputs": [
        {
          "output_type": "stream",
          "name": "stdout",
          "text": [
            "vei ois grito pues ser africo ser coloniaalemania mujer haber ser violar individuo violacion perpetrado manada inmigrante europa contar millon ocultar cifra real ocultar v\n",
            "[53656, 53657, 2093, 446, 1, 14752, 1, 29839, 39, 2, 1, 1631, 2980, 3466, 13804, 9235, 757, 230, 98, 215, 1773, 1225, 223, 1773, 4553]\n"
          ]
        }
      ]
    },
    {
      "cell_type": "markdown",
      "metadata": {
        "id": "EhfWbaHN0r0h"
      },
      "source": [
        "**APPLY POST-PADDING**"
      ]
    },
    {
      "cell_type": "code",
      "metadata": {
        "colab": {
          "base_uri": "https://localhost:8080/"
        },
        "id": "tTe28qgrMQgI",
        "outputId": "5467057f-b193-4b58-f2fd-82765aa230d4"
      },
      "source": [
        "# pad the short sequences\n",
        "X_train = pad_sequences(X_train, padding='post', maxlen=maxlen)\n",
        "X_valid = pad_sequences(X_valid, padding='post', maxlen=maxlen)\n",
        "\n",
        "print(X_train[1, :])"
      ],
      "execution_count": null,
      "outputs": [
        {
          "output_type": "stream",
          "name": "stdout",
          "text": [
            "[ 2153 20089   138 ...     0     0     0]\n"
          ]
        }
      ]
    },
    {
      "cell_type": "markdown",
      "metadata": {
        "id": "5rUf8Fa20ulU"
      },
      "source": [
        "**EMBEDDING MATRIX**"
      ]
    },
    {
      "cell_type": "code",
      "metadata": {
        "id": "4tNTliaJMiR2"
      },
      "source": [
        "def create_embedding_matrix(filepath, word_index, embedding_dim):\n",
        "    vocab_size = len(word_index) + 1  # Adding again 1 because of reserved 0 index\n",
        "    embedding_matrix = np.zeros((vocab_size, embedding_dim))\n",
        "\n",
        "    with open(filepath, encoding='utf-8') as f:\n",
        "        for line in f:\n",
        "            word, *vector = line.split()\n",
        "            if word in word_index:\n",
        "                idx = word_index[word] \n",
        "                embedding_matrix[idx] = np.array(\n",
        "                    vector, dtype=np.float32)[:embedding_dim]\n",
        "\n",
        "    return embedding_matrix"
      ],
      "execution_count": null,
      "outputs": []
    },
    {
      "cell_type": "markdown",
      "metadata": {
        "id": "NYwoB_VU0yIX"
      },
      "source": [
        "**LOAD PRE-TRAINED WORD EMBEDDINGS**"
      ]
    },
    {
      "cell_type": "code",
      "metadata": {
        "id": "Hf0iPuKiMiUI"
      },
      "source": [
        "embedding_dim = 300\n",
        "embedding_matrix = create_embedding_matrix(\n",
        "        '/content/drive/MyDrive/thesiss/embeddings-l-model.vec',\n",
        "        t.word_index, embedding_dim)"
      ],
      "execution_count": null,
      "outputs": []
    },
    {
      "cell_type": "code",
      "source": [
        "# how many of the embedding vectors are nonzero\n",
        "\n",
        "nonzero_elements = np.count_nonzero(np.count_nonzero(embedding_matrix, axis=1))\n",
        "nonzero_elements / vocab_size"
      ],
      "metadata": {
        "colab": {
          "base_uri": "https://localhost:8080/"
        },
        "id": "6H1SHhbDgmfd",
        "outputId": "1fc95681-d4d7-45c4-a7c8-65ffb4a8c650"
      },
      "execution_count": null,
      "outputs": [
        {
          "output_type": "execute_result",
          "data": {
            "text/plain": [
              "0.7302208295477722"
            ]
          },
          "metadata": {},
          "execution_count": 21
        }
      ]
    },
    {
      "cell_type": "markdown",
      "metadata": {
        "id": "qb1ysMWNV4g-"
      },
      "source": [
        "# **MODEL: CNN + BLSTM**"
      ]
    },
    {
      "cell_type": "markdown",
      "source": [
        "**BUILD THE MODEL**"
      ],
      "metadata": {
        "id": "QrcER6_p9dZH"
      }
    },
    {
      "cell_type": "code",
      "source": [
        "import tensorflow as tf\n",
        "from keras.models import Sequential\n",
        "from keras import layers\n",
        "import tensorflow as tf\n",
        "from keras.layers import Conv1D, MaxPooling1D, Embedding, Dropout\n",
        "from tensorflow.keras.optimizers import Adam,SGD\n",
        "\n",
        "def create_model(vocab_size,embedding_dim,maxlen):\n",
        "    model = tf.keras.Sequential([\n",
        "        tf.keras.layers.Embedding(vocab_size, embedding_dim, input_length=maxlen, trainable=True),\n",
        "        tf.keras.layers.Dropout(0.1),\n",
        "        tf.keras.layers.Conv1D(64, 2, activation='relu'),\n",
        "        tf.keras.layers.MaxPooling1D(pool_size=4),\n",
        "        tf.keras.layers.Bidirectional(tf.keras.layers.LSTM(40, return_sequences=True)),\n",
        "        tf.keras.layers.Bidirectional(tf.keras.layers.LSTM(40)),\n",
        "        tf.keras.layers.Dropout(0.1),  \n",
        "        tf.keras.layers.Dense(32, activation='relu'),\n",
        "        tf.keras.layers.Dropout(0.1),  \n",
        "        tf.keras.layers.Dense(16, activation='relu'),\n",
        "        tf.keras.layers.Dense(1, activation='sigmoid')\n",
        "    ])\n",
        " \n",
        "    adam=Adam(learning_rate=0.001) \n",
        "    model.compile(optimizer=adam, \n",
        "                  loss='binary_crossentropy',\n",
        "                  metrics=['accuracy'])\n",
        "    return model"
      ],
      "metadata": {
        "id": "BiasBqaB_Ji9"
      },
      "execution_count": null,
      "outputs": []
    },
    {
      "cell_type": "code",
      "source": [
        "slice_size = [1000, 2000, 3000, 4000, 5000, 6000]\n",
        "\n",
        "accuracies = []\n",
        "\n",
        "for n_samples in slice_size:\n",
        "    \n",
        "    X_train_red=X_train[:n_samples]\n",
        "    y_train_red=y_train[:n_samples]\n",
        "    model=create_model(vocab_size,embedding_dim,maxlen)\n",
        "    print('Number of samples: ',n_samples)\n",
        "    history = model.fit(X_train_red, y_train_red,\n",
        "                    epochs=5,\n",
        "                    verbose=True,\n",
        "                    validation_data=(X_valid, y_valid),\n",
        "                    batch_size=32)\n",
        "\n",
        "   \n",
        "    loss, acc = model.evaluate(X_valid, y_valid)\n",
        "    accuracies.append(round(acc, 3))\n",
        "    \n"
      ],
      "metadata": {
        "colab": {
          "base_uri": "https://localhost:8080/"
        },
        "id": "o3vVTl5e8joM",
        "outputId": "4d2a8a2c-199b-418c-fa69-d830671bef72"
      },
      "execution_count": null,
      "outputs": [
        {
          "output_type": "stream",
          "name": "stdout",
          "text": [
            "Number of samples:  1000\n",
            "Epoch 1/5\n",
            "32/32 [==============================] - 12s 214ms/step - loss: 0.6921 - accuracy: 0.5290 - val_loss: 0.6840 - val_accuracy: 0.6067\n",
            "Epoch 2/5\n",
            "32/32 [==============================] - 6s 179ms/step - loss: 0.5762 - accuracy: 0.7860 - val_loss: 0.4591 - val_accuracy: 0.8058\n",
            "Epoch 3/5\n",
            "32/32 [==============================] - 6s 182ms/step - loss: 0.1504 - accuracy: 0.9690 - val_loss: 0.5210 - val_accuracy: 0.8217\n",
            "Epoch 4/5\n",
            "32/32 [==============================] - 6s 180ms/step - loss: 0.0432 - accuracy: 0.9930 - val_loss: 0.8313 - val_accuracy: 0.7958\n",
            "Epoch 5/5\n",
            "32/32 [==============================] - 6s 182ms/step - loss: 0.0299 - accuracy: 0.9940 - val_loss: 0.7419 - val_accuracy: 0.7942\n",
            "38/38 [==============================] - 2s 51ms/step - loss: 0.7419 - accuracy: 0.7942\n",
            "Number of samples:  2000\n",
            "Epoch 1/5\n",
            "63/63 [==============================] - 16s 178ms/step - loss: 0.6425 - accuracy: 0.5965 - val_loss: 0.4835 - val_accuracy: 0.7700\n",
            "Epoch 2/5\n",
            "63/63 [==============================] - 9s 148ms/step - loss: 0.3258 - accuracy: 0.8630 - val_loss: 0.4447 - val_accuracy: 0.7917\n",
            "Epoch 3/5\n",
            "63/63 [==============================] - 9s 148ms/step - loss: 0.0762 - accuracy: 0.9790 - val_loss: 0.5846 - val_accuracy: 0.8200\n",
            "Epoch 4/5\n",
            "63/63 [==============================] - 9s 148ms/step - loss: 0.0157 - accuracy: 0.9980 - val_loss: 0.7050 - val_accuracy: 0.8225\n",
            "Epoch 5/5\n",
            "63/63 [==============================] - 9s 147ms/step - loss: 0.0020 - accuracy: 0.9995 - val_loss: 0.8937 - val_accuracy: 0.8192\n",
            "38/38 [==============================] - 2s 48ms/step - loss: 0.8937 - accuracy: 0.8192\n",
            "Number of samples:  3000\n",
            "Epoch 1/5\n",
            "94/94 [==============================] - 19s 151ms/step - loss: 0.6267 - accuracy: 0.6090 - val_loss: 0.4554 - val_accuracy: 0.7658\n",
            "Epoch 2/5\n",
            "94/94 [==============================] - 13s 139ms/step - loss: 0.2663 - accuracy: 0.9010 - val_loss: 0.3182 - val_accuracy: 0.8583\n",
            "Epoch 3/5\n",
            "94/94 [==============================] - 13s 139ms/step - loss: 0.0508 - accuracy: 0.9870 - val_loss: 0.4075 - val_accuracy: 0.8467\n",
            "Epoch 4/5\n",
            "94/94 [==============================] - 13s 141ms/step - loss: 0.0093 - accuracy: 0.9983 - val_loss: 0.7232 - val_accuracy: 0.8458\n",
            "Epoch 5/5\n",
            "94/94 [==============================] - 13s 141ms/step - loss: 7.9047e-04 - accuracy: 1.0000 - val_loss: 0.7466 - val_accuracy: 0.8500\n",
            "38/38 [==============================] - 2s 48ms/step - loss: 0.7466 - accuracy: 0.8500\n",
            "Number of samples:  4000\n",
            "Epoch 1/5\n",
            "125/125 [==============================] - 23s 144ms/step - loss: 0.5436 - accuracy: 0.7035 - val_loss: 0.4058 - val_accuracy: 0.7983\n",
            "Epoch 2/5\n",
            "125/125 [==============================] - 17s 133ms/step - loss: 0.2297 - accuracy: 0.9118 - val_loss: 0.3938 - val_accuracy: 0.8392\n",
            "Epoch 3/5\n",
            "125/125 [==============================] - 17s 132ms/step - loss: 0.0456 - accuracy: 0.9883 - val_loss: 0.7488 - val_accuracy: 0.8258\n",
            "Epoch 4/5\n",
            "125/125 [==============================] - 17s 133ms/step - loss: 0.0177 - accuracy: 0.9958 - val_loss: 0.6529 - val_accuracy: 0.8450\n",
            "Epoch 5/5\n",
            "125/125 [==============================] - 17s 133ms/step - loss: 0.0087 - accuracy: 0.9970 - val_loss: 0.7791 - val_accuracy: 0.8375\n",
            "38/38 [==============================] - 2s 48ms/step - loss: 0.7791 - accuracy: 0.8375\n",
            "Number of samples:  5000\n",
            "Epoch 1/5\n",
            "150/150 [==============================] - 26s 141ms/step - loss: 0.5429 - accuracy: 0.6894 - val_loss: 0.3645 - val_accuracy: 0.8250\n",
            "Epoch 2/5\n",
            "150/150 [==============================] - 20s 131ms/step - loss: 0.1919 - accuracy: 0.9290 - val_loss: 0.3417 - val_accuracy: 0.8550\n",
            "Epoch 3/5\n",
            "150/150 [==============================] - 19s 130ms/step - loss: 0.0273 - accuracy: 0.9931 - val_loss: 0.4724 - val_accuracy: 0.8683\n",
            "Epoch 4/5\n",
            "150/150 [==============================] - 20s 130ms/step - loss: 0.0058 - accuracy: 0.9990 - val_loss: 0.7511 - val_accuracy: 0.8633\n",
            "Epoch 5/5\n",
            "150/150 [==============================] - 20s 132ms/step - loss: 0.0019 - accuracy: 0.9996 - val_loss: 0.7605 - val_accuracy: 0.8633\n",
            "38/38 [==============================] - 2s 49ms/step - loss: 0.7605 - accuracy: 0.8633\n",
            "Number of samples:  6000\n",
            "Epoch 1/5\n",
            "150/150 [==============================] - 26s 142ms/step - loss: 0.4897 - accuracy: 0.7406 - val_loss: 0.3109 - val_accuracy: 0.8608\n",
            "Epoch 2/5\n",
            "150/150 [==============================] - 19s 129ms/step - loss: 0.1424 - accuracy: 0.9504 - val_loss: 0.3045 - val_accuracy: 0.8600\n",
            "Epoch 3/5\n",
            "150/150 [==============================] - 20s 132ms/step - loss: 0.0196 - accuracy: 0.9956 - val_loss: 0.5419 - val_accuracy: 0.8683\n",
            "Epoch 4/5\n",
            "150/150 [==============================] - 20s 131ms/step - loss: 0.0064 - accuracy: 0.9983 - val_loss: 0.6568 - val_accuracy: 0.8550\n",
            "Epoch 5/5\n",
            "150/150 [==============================] - 20s 131ms/step - loss: 0.0024 - accuracy: 0.9994 - val_loss: 0.8015 - val_accuracy: 0.8608\n",
            "38/38 [==============================] - 2s 48ms/step - loss: 0.8015 - accuracy: 0.8608\n"
          ]
        }
      ]
    },
    {
      "cell_type": "code",
      "source": [
        "import matplotlib.pyplot as plt\n",
        "plt.plot(slice_size,accuracies)\n",
        "plt.title('Model accuracy')\n",
        "plt.ylabel('Accuracy')\n",
        "plt.xlabel('Number of samples')\n",
        "plt.show()"
      ],
      "metadata": {
        "colab": {
          "base_uri": "https://localhost:8080/",
          "height": 295
        },
        "id": "8ULZutSs__-n",
        "outputId": "f2536cd9-36ea-472c-8da8-e42ad8ea35df"
      },
      "execution_count": null,
      "outputs": [
        {
          "output_type": "display_data",
          "data": {
            "image/png": "[encoded data removed]",
            "text/plain": [
              "<Figure size 432x288 with 1 Axes>"
            ]
          },
          "metadata": {
            "needs_background": "light"
          }
        }
      ]
    },
    {
      "cell_type": "code",
      "source": [
        ""
      ],
      "metadata": {
        "id": "OMceQeFBpF1n"
      },
      "execution_count": null,
      "outputs": []
    }
  ]
}