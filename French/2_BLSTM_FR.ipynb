{
  "nbformat": 4,
  "nbformat_minor": 0,
  "metadata": {
    "accelerator": "GPU",
    "colab": {
      "name": "2_BLSTM_FR.ipynb",
      "provenance": [],
      "collapsed_sections": [],
      "machine_shape": "hm"
    },
    "kernelspec": {
      "display_name": "Python 3",
      "name": "python3"
    },
    "language_info": {
      "name": "python"
    }
  },
  "cells": [
    {
      "cell_type": "markdown",
      "metadata": {
        "id": "Hsg3AJM5755b"
      },
      "source": [
        "# BLSTM~ FRENCH"
      ]
    },
    {
      "cell_type": "markdown",
      "metadata": {
        "id": "b8bmtZpL7_pk"
      },
      "source": [
        "***1. IMPORT LIBRARIES***"
      ]
    },
    {
      "cell_type": "code",
      "metadata": {
        "id": "93pbFgzf6PO4"
      },
      "source": [
        "%matplotlib inline\n",
        "import numpy as np\n",
        "import pandas as pd\n",
        "from nltk import word_tokenize"
      ],
      "execution_count": null,
      "outputs": []
    },
    {
      "cell_type": "markdown",
      "metadata": {
        "id": "zrIqNAv48Dva"
      },
      "source": [
        "***2. LOAD THE FRENCH DATASET***"
      ]
    },
    {
      "cell_type": "code",
      "metadata": {
        "colab": {
          "base_uri": "https://localhost:8080/"
        },
        "id": "QzF_WZad6rTs",
        "outputId": "477832d7-51bc-4f44-ff33-3dc02e4263bc"
      },
      "source": [
        "from google.colab import drive\n",
        "drive.mount('/content/drive')"
      ],
      "execution_count": null,
      "outputs": [
        {
          "output_type": "stream",
          "name": "stdout",
          "text": [
            "Mounted at /content/drive\n"
          ]
        }
      ]
    },
    {
      "cell_type": "code",
      "metadata": {
        "id": "FAAU5k2x6_EK"
      },
      "source": [
        "#LOAD THREE DATASETS\n",
        "data=pd.read_csv('/content/drive/MyDrive/thesiss/French.csv')"
      ],
      "execution_count": null,
      "outputs": []
    },
    {
      "cell_type": "code",
      "metadata": {
        "id": "XF7iuGP1ACDJ"
      },
      "source": [
        "data.drop(['Unnamed: 0','clean_with_stopwords','text'], axis=1, inplace=True) # remove unnecessary columns"
      ],
      "execution_count": null,
      "outputs": []
    },
    {
      "cell_type": "code",
      "metadata": {
        "id": "AfXkTO3mkbwA"
      },
      "source": [
        "data.drop(['Unnamed: 0.1'], axis=1, inplace=True)"
      ],
      "execution_count": null,
      "outputs": []
    },
    {
      "cell_type": "code",
      "metadata": {
        "colab": {
          "base_uri": "https://localhost:8080/",
          "height": 641
        },
        "id": "RRaoZjcpkhVW",
        "outputId": "7092a4dc-9f7f-49c4-b241-0acbd19a2f36"
      },
      "source": [
        "data"
      ],
      "execution_count": null,
      "outputs": [
        {
          "output_type": "execute_result",
          "data": {
            "text/html": [
              "\n",
              "  <div id=\"df-ff8ed47e-25cb-433d-b290-3d51831a0e04\">\n",
              "    <div class=\"colab-df-container\">\n",
              "      <div>\n",
              "<style scoped>\n",
              "    .dataframe tbody tr th:only-of-type {\n",
              "        vertical-align: middle;\n",
              "    }\n",
              "\n",
              "    .dataframe tbody tr th {\n",
              "        vertical-align: top;\n",
              "    }\n",
              "\n",
              "    .dataframe thead th {\n",
              "        text-align: right;\n",
              "    }\n",
              "</style>\n",
              "<table border=\"1\" class=\"dataframe\">\n",
              "  <thead>\n",
              "    <tr style=\"text-align: right;\">\n",
              "      <th></th>\n",
              "      <th>Fake</th>\n",
              "      <th>text</th>\n",
              "      <th>clean_with_stopwords</th>\n",
              "      <th>final_clean</th>\n",
              "    </tr>\n",
              "  </thead>\n",
              "  <tbody>\n",
              "    <tr>\n",
              "      <th>0</th>\n",
              "      <td>0</td>\n",
              "      <td>Il tente d'incendier sa femme : elle est indem...</td>\n",
              "      <td>il tente de incendier son femme lui être indem...</td>\n",
              "      <td>tente incendier femme indemne gravement bruler...</td>\n",
              "    </tr>\n",
              "    <tr>\n",
              "      <th>1</th>\n",
              "      <td>0</td>\n",
              "      <td>Ça y est, Renaud a fait son retour sur scène !...</td>\n",
              "      <td>cela y être renaud avoir faire son retour sur ...</td>\n",
              "      <td>etre renaud avoir faire retour scene octobre a...</td>\n",
              "    </tr>\n",
              "    <tr>\n",
              "      <th>2</th>\n",
              "      <td>0</td>\n",
              "      <td>Avec son tailleur rouge, quel message a voulu ...</td>\n",
              "      <td>avec son tailleur rouge quel message avoir vou...</td>\n",
              "      <td>tailleur rouge message avoir vouloir envoyer h...</td>\n",
              "    </tr>\n",
              "    <tr>\n",
              "      <th>3</th>\n",
              "      <td>0</td>\n",
              "      <td>Foot-Ligue 1 : tous les résultats de la 8ème j...</td>\n",
              "      <td>foot ligue tout le résultat de le èm journée h...</td>\n",
              "      <td>foot ligue tout resultat eme journee octobre m...</td>\n",
              "    </tr>\n",
              "    <tr>\n",
              "      <th>4</th>\n",
              "      <td>0</td>\n",
              "      <td>× S'abonner au podcast \\nVous pouvez vous abon...</td>\n",
              "      <td>se abonner au podcast vous pouvoir vous abonne...</td>\n",
              "      <td>abonner podcast pouvoir abonner telechargement...</td>\n",
              "    </tr>\n",
              "    <tr>\n",
              "      <th>...</th>\n",
              "      <td>...</td>\n",
              "      <td>...</td>\n",
              "      <td>...</td>\n",
              "      <td>...</td>\n",
              "    </tr>\n",
              "    <tr>\n",
              "      <th>27811</th>\n",
              "      <td>1</td>\n",
              "      <td>97% de Libanaises refaites : L’ONU demande au ...</td>\n",
              "      <td>pourcent de libanais refaire l onu demande au ...</td>\n",
              "      <td>pourcent libanais refaire onu demande liban ar...</td>\n",
              "    </tr>\n",
              "    <tr>\n",
              "      <th>27812</th>\n",
              "      <td>1</td>\n",
              "      <td>Un réfugié syrien humilie et empêche une famil...</td>\n",
              "      <td>un réfugié syrien humilier et empêche un famil...</td>\n",
              "      <td>refugier syrien humilier empeche famill rom tr...</td>\n",
              "    </tr>\n",
              "    <tr>\n",
              "      <th>27813</th>\n",
              "      <td>1</td>\n",
              "      <td>Mehdi Meklat lance une banane à Christiane Tau...</td>\n",
              "      <td>mehdi meklat lance un banane à christiane taub...</td>\n",
              "      <td>mehdi meklat lance banane christiane taubira a...</td>\n",
              "    </tr>\n",
              "    <tr>\n",
              "      <th>27814</th>\n",
              "      <td>1</td>\n",
              "      <td>En visite en Afghanistan, Marine Le Pen refuse...</td>\n",
              "      <td>en visite en afghanistan marine le pen refuse ...</td>\n",
              "      <td>visite afghanistan marine pen refuse participe...</td>\n",
              "    </tr>\n",
              "    <tr>\n",
              "      <th>27815</th>\n",
              "      <td>1</td>\n",
              "      <td>Insolite : il supprime 50 000 tweets en une nu...</td>\n",
              "      <td>insolite il supprime tweet en un nuit c être d...</td>\n",
              "      <td>insolite supprime nuit etre nuire vendredi sam...</td>\n",
              "    </tr>\n",
              "  </tbody>\n",
              "</table>\n",
              "<p>27816 rows × 4 columns</p>\n",
              "</div>\n",
              "      <button class=\"colab-df-convert\" onclick=\"convertToInteractive('df-ff8ed47e-25cb-433d-b290-3d51831a0e04')\"\n",
              "              title=\"Convert this dataframe to an interactive table.\"\n",
              "              style=\"display:none;\">\n",
              "        \n",
              "  <svg xmlns=\"http://www.w3.org/2000/svg\" height=\"24px\"viewBox=\"0 0 24 24\"\n",
              "       width=\"24px\">\n",
              "    <path d=\"M0 0h24v24H0V0z\" fill=\"none\"/>\n",
              "    <path d=\"M18.56 5.44l.94 2.06.94-2.06 2.06-.94-2.06-.94-.94-2.06-.94 2.06-2.06.94zm-11 1L8.5 8.5l.94-2.06 2.06-.94-2.06-.94L8.5 2.5l-.94 2.06-2.06.94zm10 10l.94 2.06.94-2.06 2.06-.94-2.06-.94-.94-2.06-.94 2.06-2.06.94z\"/><path d=\"M17.41 7.96l-1.37-1.37c-.4-.4-.92-.59-1.43-.59-.52 0-1.04.2-1.43.59L10.3 9.45l-7.72 7.72c-.78.78-.78 2.05 0 2.83L4 21.41c.39.39.9.59 1.41.59.51 0 1.02-.2 1.41-.59l7.78-7.78 2.81-2.81c.8-.78.8-2.07 0-2.86zM5.41 20L4 18.59l7.72-7.72 1.47 1.35L5.41 20z\"/>\n",
              "  </svg>\n",
              "      </button>\n",
              "      \n",
              "  <style>\n",
              "    .colab-df-container {\n",
              "      display:flex;\n",
              "      flex-wrap:wrap;\n",
              "      gap: 12px;\n",
              "    }\n",
              "\n",
              "    .colab-df-convert {\n",
              "      background-color: #E8F0FE;\n",
              "      border: none;\n",
              "      border-radius: 50%;\n",
              "      cursor: pointer;\n",
              "      display: none;\n",
              "      fill: #1967D2;\n",
              "      height: 32px;\n",
              "      padding: 0 0 0 0;\n",
              "      width: 32px;\n",
              "    }\n",
              "\n",
              "    .colab-df-convert:hover {\n",
              "      background-color: #E2EBFA;\n",
              "      box-shadow: 0px 1px 2px rgba(60, 64, 67, 0.3), 0px 1px 3px 1px rgba(60, 64, 67, 0.15);\n",
              "      fill: #174EA6;\n",
              "    }\n",
              "\n",
              "    [theme=dark] .colab-df-convert {\n",
              "      background-color: #3B4455;\n",
              "      fill: #D2E3FC;\n",
              "    }\n",
              "\n",
              "    [theme=dark] .colab-df-convert:hover {\n",
              "      background-color: #434B5C;\n",
              "      box-shadow: 0px 1px 3px 1px rgba(0, 0, 0, 0.15);\n",
              "      filter: drop-shadow(0px 1px 2px rgba(0, 0, 0, 0.3));\n",
              "      fill: #FFFFFF;\n",
              "    }\n",
              "  </style>\n",
              "\n",
              "      <script>\n",
              "        const buttonEl =\n",
              "          document.querySelector('#df-ff8ed47e-25cb-433d-b290-3d51831a0e04 button.colab-df-convert');\n",
              "        buttonEl.style.display =\n",
              "          google.colab.kernel.accessAllowed ? 'block' : 'none';\n",
              "\n",
              "        async function convertToInteractive(key) {\n",
              "          const element = document.querySelector('#df-ff8ed47e-25cb-433d-b290-3d51831a0e04');\n",
              "          const dataTable =\n",
              "            await google.colab.kernel.invokeFunction('convertToInteractive',\n",
              "                                                     [key], {});\n",
              "          if (!dataTable) return;\n",
              "\n",
              "          const docLinkHtml = 'Like what you see? Visit the ' +\n",
              "            '<a target=\"_blank\" href=https://colab.research.google.com/notebooks/data_table.ipynb>data table notebook</a>'\n",
              "            + ' to learn more about interactive tables.';\n",
              "          element.innerHTML = '';\n",
              "          dataTable['output_type'] = 'display_data';\n",
              "          await google.colab.output.renderOutput(dataTable, element);\n",
              "          const docLink = document.createElement('div');\n",
              "          docLink.innerHTML = docLinkHtml;\n",
              "          element.appendChild(docLink);\n",
              "        }\n",
              "      </script>\n",
              "    </div>\n",
              "  </div>\n",
              "  "
            ],
            "text/plain": [
              "       Fake  ...                                        final_clean\n",
              "0         0  ...  tente incendier femme indemne gravement bruler...\n",
              "1         0  ...  etre renaud avoir faire retour scene octobre a...\n",
              "2         0  ...  tailleur rouge message avoir vouloir envoyer h...\n",
              "3         0  ...  foot ligue tout resultat eme journee octobre m...\n",
              "4         0  ...  abonner podcast pouvoir abonner telechargement...\n",
              "...     ...  ...                                                ...\n",
              "27811     1  ...  pourcent libanais refaire onu demande liban ar...\n",
              "27812     1  ...  refugier syrien humilier empeche famill rom tr...\n",
              "27813     1  ...  mehdi meklat lance banane christiane taubira a...\n",
              "27814     1  ...  visite afghanistan marine pen refuse participe...\n",
              "27815     1  ...  insolite supprime nuit etre nuire vendredi sam...\n",
              "\n",
              "[27816 rows x 4 columns]"
            ]
          },
          "metadata": {},
          "execution_count": 9
        }
      ]
    },
    {
      "cell_type": "code",
      "metadata": {
        "colab": {
          "base_uri": "https://localhost:8080/"
        },
        "id": "To0LYxhl9N6d",
        "outputId": "3e5e45dd-0b58-4bbe-f253-39ff87bc0d4b"
      },
      "source": [
        "data['final_clean'].isnull().sum() # Check any missing entries in each column"
      ],
      "execution_count": null,
      "outputs": [
        {
          "output_type": "execute_result",
          "data": {
            "text/plain": [
              "0"
            ]
          },
          "metadata": {},
          "execution_count": 10
        }
      ]
    },
    {
      "cell_type": "code",
      "metadata": {
        "colab": {
          "base_uri": "https://localhost:8080/",
          "height": 641
        },
        "id": "5g5TFukwykDE",
        "outputId": "264a2d7e-c0b9-4e1a-e0c0-a95d453d659e"
      },
      "source": [
        "data"
      ],
      "execution_count": null,
      "outputs": [
        {
          "output_type": "execute_result",
          "data": {
            "text/html": [
              "\n",
              "  <div id=\"df-a033a4ac-6dbf-47d3-bc64-073ffc28ada7\">\n",
              "    <div class=\"colab-df-container\">\n",
              "      <div>\n",
              "<style scoped>\n",
              "    .dataframe tbody tr th:only-of-type {\n",
              "        vertical-align: middle;\n",
              "    }\n",
              "\n",
              "    .dataframe tbody tr th {\n",
              "        vertical-align: top;\n",
              "    }\n",
              "\n",
              "    .dataframe thead th {\n",
              "        text-align: right;\n",
              "    }\n",
              "</style>\n",
              "<table border=\"1\" class=\"dataframe\">\n",
              "  <thead>\n",
              "    <tr style=\"text-align: right;\">\n",
              "      <th></th>\n",
              "      <th>Fake</th>\n",
              "      <th>text</th>\n",
              "      <th>clean_with_stopwords</th>\n",
              "      <th>final_clean</th>\n",
              "    </tr>\n",
              "  </thead>\n",
              "  <tbody>\n",
              "    <tr>\n",
              "      <th>0</th>\n",
              "      <td>0</td>\n",
              "      <td>Il tente d'incendier sa femme : elle est indem...</td>\n",
              "      <td>il tente de incendier son femme lui être indem...</td>\n",
              "      <td>tente incendier femme indemne gravement bruler...</td>\n",
              "    </tr>\n",
              "    <tr>\n",
              "      <th>1</th>\n",
              "      <td>0</td>\n",
              "      <td>Ça y est, Renaud a fait son retour sur scène !...</td>\n",
              "      <td>cela y être renaud avoir faire son retour sur ...</td>\n",
              "      <td>etre renaud avoir faire retour scene octobre a...</td>\n",
              "    </tr>\n",
              "    <tr>\n",
              "      <th>2</th>\n",
              "      <td>0</td>\n",
              "      <td>Avec son tailleur rouge, quel message a voulu ...</td>\n",
              "      <td>avec son tailleur rouge quel message avoir vou...</td>\n",
              "      <td>tailleur rouge message avoir vouloir envoyer h...</td>\n",
              "    </tr>\n",
              "    <tr>\n",
              "      <th>3</th>\n",
              "      <td>0</td>\n",
              "      <td>Foot-Ligue 1 : tous les résultats de la 8ème j...</td>\n",
              "      <td>foot ligue tout le résultat de le èm journée h...</td>\n",
              "      <td>foot ligue tout resultat eme journee octobre m...</td>\n",
              "    </tr>\n",
              "    <tr>\n",
              "      <th>4</th>\n",
              "      <td>0</td>\n",
              "      <td>× S'abonner au podcast \\nVous pouvez vous abon...</td>\n",
              "      <td>se abonner au podcast vous pouvoir vous abonne...</td>\n",
              "      <td>abonner podcast pouvoir abonner telechargement...</td>\n",
              "    </tr>\n",
              "    <tr>\n",
              "      <th>...</th>\n",
              "      <td>...</td>\n",
              "      <td>...</td>\n",
              "      <td>...</td>\n",
              "      <td>...</td>\n",
              "    </tr>\n",
              "    <tr>\n",
              "      <th>27811</th>\n",
              "      <td>1</td>\n",
              "      <td>97% de Libanaises refaites : L’ONU demande au ...</td>\n",
              "      <td>pourcent de libanais refaire l onu demande au ...</td>\n",
              "      <td>pourcent libanais refaire onu demande liban ar...</td>\n",
              "    </tr>\n",
              "    <tr>\n",
              "      <th>27812</th>\n",
              "      <td>1</td>\n",
              "      <td>Un réfugié syrien humilie et empêche une famil...</td>\n",
              "      <td>un réfugié syrien humilier et empêche un famil...</td>\n",
              "      <td>refugier syrien humilier empeche famill rom tr...</td>\n",
              "    </tr>\n",
              "    <tr>\n",
              "      <th>27813</th>\n",
              "      <td>1</td>\n",
              "      <td>Mehdi Meklat lance une banane à Christiane Tau...</td>\n",
              "      <td>mehdi meklat lance un banane à christiane taub...</td>\n",
              "      <td>mehdi meklat lance banane christiane taubira a...</td>\n",
              "    </tr>\n",
              "    <tr>\n",
              "      <th>27814</th>\n",
              "      <td>1</td>\n",
              "      <td>En visite en Afghanistan, Marine Le Pen refuse...</td>\n",
              "      <td>en visite en afghanistan marine le pen refuse ...</td>\n",
              "      <td>visite afghanistan marine pen refuse participe...</td>\n",
              "    </tr>\n",
              "    <tr>\n",
              "      <th>27815</th>\n",
              "      <td>1</td>\n",
              "      <td>Insolite : il supprime 50 000 tweets en une nu...</td>\n",
              "      <td>insolite il supprime tweet en un nuit c être d...</td>\n",
              "      <td>insolite supprime nuit etre nuire vendredi sam...</td>\n",
              "    </tr>\n",
              "  </tbody>\n",
              "</table>\n",
              "<p>27816 rows × 4 columns</p>\n",
              "</div>\n",
              "      <button class=\"colab-df-convert\" onclick=\"convertToInteractive('df-a033a4ac-6dbf-47d3-bc64-073ffc28ada7')\"\n",
              "              title=\"Convert this dataframe to an interactive table.\"\n",
              "              style=\"display:none;\">\n",
              "        \n",
              "  <svg xmlns=\"http://www.w3.org/2000/svg\" height=\"24px\"viewBox=\"0 0 24 24\"\n",
              "       width=\"24px\">\n",
              "    <path d=\"M0 0h24v24H0V0z\" fill=\"none\"/>\n",
              "    <path d=\"M18.56 5.44l.94 2.06.94-2.06 2.06-.94-2.06-.94-.94-2.06-.94 2.06-2.06.94zm-11 1L8.5 8.5l.94-2.06 2.06-.94-2.06-.94L8.5 2.5l-.94 2.06-2.06.94zm10 10l.94 2.06.94-2.06 2.06-.94-2.06-.94-.94-2.06-.94 2.06-2.06.94z\"/><path d=\"M17.41 7.96l-1.37-1.37c-.4-.4-.92-.59-1.43-.59-.52 0-1.04.2-1.43.59L10.3 9.45l-7.72 7.72c-.78.78-.78 2.05 0 2.83L4 21.41c.39.39.9.59 1.41.59.51 0 1.02-.2 1.41-.59l7.78-7.78 2.81-2.81c.8-.78.8-2.07 0-2.86zM5.41 20L4 18.59l7.72-7.72 1.47 1.35L5.41 20z\"/>\n",
              "  </svg>\n",
              "      </button>\n",
              "      \n",
              "  <style>\n",
              "    .colab-df-container {\n",
              "      display:flex;\n",
              "      flex-wrap:wrap;\n",
              "      gap: 12px;\n",
              "    }\n",
              "\n",
              "    .colab-df-convert {\n",
              "      background-color: #E8F0FE;\n",
              "      border: none;\n",
              "      border-radius: 50%;\n",
              "      cursor: pointer;\n",
              "      display: none;\n",
              "      fill: #1967D2;\n",
              "      height: 32px;\n",
              "      padding: 0 0 0 0;\n",
              "      width: 32px;\n",
              "    }\n",
              "\n",
              "    .colab-df-convert:hover {\n",
              "      background-color: #E2EBFA;\n",
              "      box-shadow: 0px 1px 2px rgba(60, 64, 67, 0.3), 0px 1px 3px 1px rgba(60, 64, 67, 0.15);\n",
              "      fill: #174EA6;\n",
              "    }\n",
              "\n",
              "    [theme=dark] .colab-df-convert {\n",
              "      background-color: #3B4455;\n",
              "      fill: #D2E3FC;\n",
              "    }\n",
              "\n",
              "    [theme=dark] .colab-df-convert:hover {\n",
              "      background-color: #434B5C;\n",
              "      box-shadow: 0px 1px 3px 1px rgba(0, 0, 0, 0.15);\n",
              "      filter: drop-shadow(0px 1px 2px rgba(0, 0, 0, 0.3));\n",
              "      fill: #FFFFFF;\n",
              "    }\n",
              "  </style>\n",
              "\n",
              "      <script>\n",
              "        const buttonEl =\n",
              "          document.querySelector('#df-a033a4ac-6dbf-47d3-bc64-073ffc28ada7 button.colab-df-convert');\n",
              "        buttonEl.style.display =\n",
              "          google.colab.kernel.accessAllowed ? 'block' : 'none';\n",
              "\n",
              "        async function convertToInteractive(key) {\n",
              "          const element = document.querySelector('#df-a033a4ac-6dbf-47d3-bc64-073ffc28ada7');\n",
              "          const dataTable =\n",
              "            await google.colab.kernel.invokeFunction('convertToInteractive',\n",
              "                                                     [key], {});\n",
              "          if (!dataTable) return;\n",
              "\n",
              "          const docLinkHtml = 'Like what you see? Visit the ' +\n",
              "            '<a target=\"_blank\" href=https://colab.research.google.com/notebooks/data_table.ipynb>data table notebook</a>'\n",
              "            + ' to learn more about interactive tables.';\n",
              "          element.innerHTML = '';\n",
              "          dataTable['output_type'] = 'display_data';\n",
              "          await google.colab.output.renderOutput(dataTable, element);\n",
              "          const docLink = document.createElement('div');\n",
              "          docLink.innerHTML = docLinkHtml;\n",
              "          element.appendChild(docLink);\n",
              "        }\n",
              "      </script>\n",
              "    </div>\n",
              "  </div>\n",
              "  "
            ],
            "text/plain": [
              "       Fake  ...                                        final_clean\n",
              "0         0  ...  tente incendier femme indemne gravement bruler...\n",
              "1         0  ...  etre renaud avoir faire retour scene octobre a...\n",
              "2         0  ...  tailleur rouge message avoir vouloir envoyer h...\n",
              "3         0  ...  foot ligue tout resultat eme journee octobre m...\n",
              "4         0  ...  abonner podcast pouvoir abonner telechargement...\n",
              "...     ...  ...                                                ...\n",
              "27811     1  ...  pourcent libanais refaire onu demande liban ar...\n",
              "27812     1  ...  refugier syrien humilier empeche famill rom tr...\n",
              "27813     1  ...  mehdi meklat lance banane christiane taubira a...\n",
              "27814     1  ...  visite afghanistan marine pen refuse participe...\n",
              "27815     1  ...  insolite supprime nuit etre nuire vendredi sam...\n",
              "\n",
              "[27816 rows x 4 columns]"
            ]
          },
          "metadata": {},
          "execution_count": 11
        }
      ]
    },
    {
      "cell_type": "code",
      "metadata": {
        "colab": {
          "base_uri": "https://localhost:8080/"
        },
        "id": "OgggkMeoESf7",
        "outputId": "9ebe8374-cf54-4c04-cdd8-e461cc91c321"
      },
      "source": [
        "data['Fake'].value_counts()"
      ],
      "execution_count": null,
      "outputs": [
        {
          "output_type": "execute_result",
          "data": {
            "text/plain": [
              "1    14487\n",
              "0    13329\n",
              "Name: Fake, dtype: int64"
            ]
          },
          "metadata": {},
          "execution_count": 12
        }
      ]
    },
    {
      "cell_type": "markdown",
      "metadata": {
        "id": "gTrwrC8cBK6E"
      },
      "source": [
        "***3. TOKENIZATION***"
      ]
    },
    {
      "cell_type": "code",
      "metadata": {
        "colab": {
          "base_uri": "https://localhost:8080/"
        },
        "id": "O7-5k1rtDeZj",
        "outputId": "b811ee94-dab8-4cb9-d734-bf3ed957c494"
      },
      "source": [
        "import nltk  # don't forget to do this step everytime in colab\n",
        "nltk.download('punkt')"
      ],
      "execution_count": null,
      "outputs": [
        {
          "output_type": "stream",
          "name": "stdout",
          "text": [
            "[nltk_data] Downloading package punkt to /root/nltk_data...\n",
            "[nltk_data]   Unzipping tokenizers/punkt.zip.\n"
          ]
        },
        {
          "output_type": "execute_result",
          "data": {
            "text/plain": [
              "True"
            ]
          },
          "metadata": {},
          "execution_count": 13
        }
      ]
    },
    {
      "cell_type": "code",
      "metadata": {
        "id": "BECX9z7fDecj"
      },
      "source": [
        "data['Text_tokenised'] = data['final_clean'].apply(word_tokenize)"
      ],
      "execution_count": null,
      "outputs": []
    },
    {
      "cell_type": "markdown",
      "metadata": {
        "id": "t0wTWkuFBO9P"
      },
      "source": [
        "***4. CREATE OWN WORD EMBEDDINGS***"
      ]
    },
    {
      "cell_type": "code",
      "metadata": {
        "id": "7Y8GVKfwDkbN"
      },
      "source": [
        "from gensim.models import Word2Vec"
      ],
      "execution_count": null,
      "outputs": []
    },
    {
      "cell_type": "code",
      "metadata": {
        "id": "CAN-bu8EDkkk"
      },
      "source": [
        "# gensim needs a list of lists\n",
        "\n",
        "source_list= []\n",
        "for row in data['Text_tokenised']:\n",
        "    source_list.append(row)"
      ],
      "execution_count": null,
      "outputs": []
    },
    {
      "cell_type": "markdown",
      "metadata": {
        "id": "yqybZ2MhCDTN"
      },
      "source": [
        "**Set parameters**"
      ]
    },
    {
      "cell_type": "code",
      "metadata": {
        "colab": {
          "base_uri": "https://localhost:8080/"
        },
        "id": "1hXgk8vvD3ye",
        "outputId": "bac235bc-cd55-4bfd-ca47-afa6422794df"
      },
      "source": [
        "model = Word2Vec(source_list, size=300, window=2, sg=0, hs =1, sorted_vocab= 1)\n",
        "# summarize the loaded model\n",
        "print(model)\n",
        "\n",
        "# 300 dimensions\n",
        "\n",
        "# sg = Training algorithm: 1 for skip-gram\n",
        "\n",
        "# hs = 1, hierarchical softmax will be used for model training\n",
        "\n",
        "# sorted_vocab = 1, sort the vocabulary by descending frequency before assigning word indexes\n",
        "\n",
        "# window = 2 Maximum distance between the current and predicted word within a sentence."
      ],
      "execution_count": null,
      "outputs": [
        {
          "output_type": "stream",
          "name": "stdout",
          "text": [
            "Word2Vec(vocab=44308, size=300, alpha=0.025)\n"
          ]
        }
      ]
    },
    {
      "cell_type": "markdown",
      "metadata": {
        "id": "oshne6viCXAu"
      },
      "source": [
        "**Save model to .txt format**"
      ]
    },
    {
      "cell_type": "code",
      "metadata": {
        "id": "tiRJ1YESD30n"
      },
      "source": [
        "model.wv.save_word2vec_format('french_wv.txt', binary=False)  # binary=False turns it to a .bin"
      ],
      "execution_count": null,
      "outputs": []
    },
    {
      "cell_type": "code",
      "metadata": {
        "colab": {
          "base_uri": "https://localhost:8080/"
        },
        "id": "2dvYvUuqD34J",
        "outputId": "204858ac-978b-4a3f-dd8c-9c515772d0dd"
      },
      "source": [
        "# print the first few lines to check it out\n",
        "\n",
        "a_file = open(\"french_wv.txt\")\n",
        "number_of_lines = 4\n",
        "\n",
        "for i in range(number_of_lines):\n",
        "    line = a_file.readline()\n",
        "    print(line)"
      ],
      "execution_count": null,
      "outputs": [
        {
          "output_type": "stream",
          "name": "stdout",
          "text": [
            "44308 300\n",
            "\n",
            "avoir -0.29657978 0.3527891 0.10235209 -0.06194169 0.091226965 -0.021568377 -0.51731986 -0.12269894 0.20755795 -0.17134587 -0.08379506 -0.008982463 0.5698803 -0.16510291 -0.26666975 0.29724705 0.1881022 0.4824888 0.52745444 -0.027654456 0.10833298 0.15087035 0.15873988 -0.09100141 -0.24579485 -0.039367307 -0.04797955 -0.34832877 -0.21790884 0.3966487 0.19578685 0.2056078 0.03560023 -0.38573435 0.85376585 -0.12974508 0.53759915 -0.26735038 -0.2431697 -0.24936228 -0.12813532 -0.051561564 0.5793172 -0.4618812 0.3821239 0.4256923 0.32112616 -0.014457009 -0.13757382 0.15773246 -0.092976786 -0.082414255 -0.22271979 -0.091069825 0.25857195 0.5324056 -0.3514839 -0.40846452 -0.1905479 -0.22297135 -0.15913036 0.121913366 0.13417158 -0.19624214 0.24000806 0.0650748 -0.08067252 0.149424 -0.41498426 0.0030621237 -0.018622436 -0.08901205 -0.2206616 -0.41751733 0.013404987 0.284778 0.23559019 0.16248995 0.43020785 0.03357341 0.1018288 -0.32727978 -0.14606105 0.3832378 0.15149596 0.02576138 0.3063151 0.10715305 0.78691775 -0.029451076 0.28176713 -0.066001445 -0.25483546 -0.016714914 0.39276478 -0.25387642 -0.15545627 -0.27906343 0.028701589 -0.42384708 -0.27652085 0.28503346 -0.15542571 -0.35311818 0.23409708 -0.26218686 0.10148928 0.13845557 0.19526544 0.046027564 -0.22267234 -0.11924712 0.17788176 -0.01586261 0.6629284 0.05067488 -0.10749208 0.07153563 -0.13000704 0.28053105 0.25792474 -0.13284908 -0.4225966 -0.6032068 -0.4581325 -0.07836181 0.24787062 -0.05615189 0.09401122 0.196768 0.032957867 0.5165902 0.06799617 -0.33846566 0.2081935 0.12248888 0.19032568 -0.37459838 0.098779246 0.092752844 0.039978426 0.22554372 0.06500394 0.022645416 -0.21725577 -0.29973832 -0.2913109 -0.28353003 0.49085346 0.08612146 -0.077078134 0.2667491 -0.088760644 0.5040002 -0.42107758 -0.4073039 -0.21656051 -0.50918627 0.31907076 -0.006673231 0.47459728 0.1465013 -0.48763528 -0.36166048 -0.39560246 0.22670484 -0.23675805 0.1768398 0.100829534 -0.045417078 -0.22668095 -0.0011945113 -0.34454632 -0.28631812 -0.38895822 0.06913098 -0.15903266 0.07041854 0.3410877 0.12535761 0.46395078 -0.36566117 -0.41647387 0.17698763 0.07457827 -0.35423452 0.40461135 0.3847519 0.10026217 -0.17745636 0.010132369 0.29387492 0.33645946 -0.029154 -0.39855573 -0.17353964 0.27700567 -0.20728675 0.23936833 0.091145456 0.11192617 0.37009624 0.41668096 0.2925179 0.47415766 0.33213013 0.06431524 0.41098952 0.5133594 0.33505416 -0.029941188 0.06350291 -0.25122193 0.38607803 0.09901749 -0.10617557 -0.07797385 0.28799725 -0.20394209 0.31670457 0.23845501 -0.15703677 0.09084555 0.25130644 0.30671713 -0.16116723 -0.32154223 -0.23104307 0.26465976 -0.2116752 0.2098257 0.06093099 -0.15555549 -0.05321522 -0.15185058 -0.36632743 0.21881008 -0.264829 -0.07733954 0.24796532 0.15149935 0.20480405 -0.41007283 -0.20348386 -0.23868626 0.021494018 -0.08649822 0.26276562 -0.0626781 0.2733909 0.1291019 -0.26329374 0.023077061 0.022857895 0.14099392 -0.27230477 0.044539012 -0.018104544 0.27592036 -0.21993403 0.33090988 -0.23777029 -0.18999301 -0.06273069 0.06030407 -0.12997796 0.07721519 -0.06731728 -0.2931968 -0.40067896 0.11287229 0.16213723 0.19053917 -0.558984 0.46557975 -0.56642526 -0.06788083 -0.09964853 -0.3299432 0.45672882 0.21131721 -0.21617429 0.004579199 0.19173424 -0.25972494 0.099601276 0.06786644 0.42173776 -0.3483291 -0.16401188 -0.14067319 -0.18252835 -0.5375282 -0.039389007 -0.1401226 -0.18288335 -0.6946414 0.4794009 0.33495733 -0.28789946\n",
            "\n",
            "etre -0.40123025 0.071054265 0.17992245 -0.14382675 -0.2939566 0.32156733 -0.42908946 0.19222526 0.25665152 0.25896862 0.35968447 0.11232777 0.40167278 0.035546973 0.302833 0.095893145 0.06343522 0.07873333 0.62646335 -0.14914216 0.1961695 0.14058077 0.051010232 -0.11211059 -0.055332903 0.49559036 -0.07517105 -0.4984833 0.04602852 0.2945951 -0.16612941 -0.21891515 -0.056968022 0.23030399 0.23935197 0.013593477 0.109548114 0.19618501 -0.12139606 -0.45772764 -0.5408208 -0.08539163 0.11419225 -0.28002605 0.6455764 0.2997033 0.08085827 -0.4947976 -0.35745022 0.07500312 -0.13741961 -0.021088492 -0.5731853 0.04208314 0.14363955 0.3777893 -0.13461895 0.069349624 -0.29986107 -0.26478302 0.19592883 -0.016492877 0.062276553 0.17494284 0.3209093 0.7160586 0.27262583 0.00573384 -0.15015674 0.22637908 -0.100116186 -0.40464556 0.09219982 0.14818108 0.07800564 0.17113726 0.09829277 0.3076086 0.52449363 0.20848408 -0.141662 -0.41628397 -0.21541369 0.16523379 0.15236335 0.31486043 0.17807789 0.21837665 -0.08785105 0.132301 -0.28499067 0.11970427 0.034778744 0.42687953 -0.038480844 -0.14098589 -0.08131853 -0.6084682 -0.116107844 -0.24821723 0.014850238 -0.024400683 0.39882112 0.0458754 0.18264604 -0.63073605 0.034766015 -0.057442535 0.2910649 -0.21035747 -0.24809183 -0.22149713 -0.45697376 0.041615773 0.72680736 -0.25148645 -0.43759435 -0.0035069685 0.3275277 0.108915165 -0.059696503 -0.050649475 -0.22156763 -0.363548 -0.05819186 -0.30998647 -0.13644443 0.21698411 0.24364448 0.24983302 0.08143489 0.038196597 -0.012117111 -0.2151573 -0.16162553 0.022322288 -0.35404465 -0.41824916 0.112012416 0.0284036 0.07655767 0.080784835 0.13699175 -0.23265293 0.30453932 0.4197978 0.16221221 -0.23095931 0.3734195 -0.06247099 -0.18245469 -0.34883973 -0.07889804 0.2553755 0.070428185 -0.0813052 0.19333214 0.067078136 0.25549906 0.062418327 0.19472313 0.093786664 -0.37250915 -0.12748088 -0.21793538 0.3513523 -0.17330731 0.61318284 -0.123894356 -0.01812042 -0.17572907 0.19666766 0.043654315 0.19281124 -0.033806317 0.263938 0.010839278 -0.04497497 -0.10261839 0.22037147 -0.07886661 -0.08760452 -0.31209806 0.3000515 -0.21222772 -0.19872743 0.4783326 0.11572644 0.3019436 -0.4696529 0.13552839 0.04528448 -0.037361763 -0.09042563 -0.17813133 -0.11385865 0.11125043 0.028918535 -0.025875302 -0.2691071 0.08861835 0.19473208 0.30337858 0.21646123 0.08233449 0.29005632 -0.46181166 0.43940628 0.3841342 0.27954093 -0.1412038 0.43509397 -0.10653732 -0.070029385 -0.04995731 -0.2665317 0.2888757 0.2676727 -0.47436705 0.08635323 -0.11334306 -0.3040781 0.25373733 -0.036875766 0.48717695 -0.015970591 0.3268922 -0.44295833 0.34282765 -0.11569591 0.004012887 -0.02201834 -0.36508447 -0.07388345 -0.06533636 -0.5177127 0.18226585 -0.4679593 0.1287569 0.4798583 -0.09596148 -0.00825243 0.21952946 -0.13913855 -0.27985114 0.2616473 -0.11007184 0.29998782 -0.007670279 -0.051225193 -0.11936371 0.08974949 0.0033686678 -0.2937057 -0.13204546 0.0044742203 0.22191957 -0.28371045 0.14182073 -0.4453527 0.18793091 -0.29398176 -0.37572455 -0.17165278 -0.07786167 0.33339602 0.36406517 -0.15541159 -0.17930675 0.00806323 0.54486954 -0.031723317 0.3003119 -0.0071339724 0.34832352 -0.04484209 0.045045912 -0.53894013 -0.3291433 0.41036534 0.48022 -0.10100999 -0.10636706 -0.2152967 -0.19720395 -0.45627514 -0.35493913 -0.018225346 -0.057528973 -0.037268043 0.39380383 0.2298265 0.047654603 0.5505026 0.29600027 -0.15065876 -0.5320712 -0.021270458 0.3063533 0.01457013\n",
            "\n",
            "plus 0.054213107 0.18362148 -0.36046645 -0.35884622 -0.22982882 0.2085464 -0.22098844 0.20784596 0.46136367 0.010768186 0.17437811 -0.22312766 -0.122003086 0.25621396 0.33646384 0.0818835 0.05395966 -0.16082181 0.70302796 0.23763978 0.24505681 -0.20495518 0.07434769 -0.21203521 -0.15293461 -0.20563734 0.024901303 -0.0020227607 0.22937442 0.33273008 -0.0055525904 0.38044035 0.121190295 0.34869087 0.09160049 -0.21380256 -0.34224492 -0.114911914 0.005791726 0.20886895 -0.6380064 -0.35441485 0.006001393 -0.3761386 0.5896713 0.6071729 -0.056922223 -0.21562229 0.16407584 -0.17022353 0.001189922 -0.58216316 0.23402365 -0.22335763 -0.6189318 0.23645724 -0.29895073 -0.82559645 -0.22471292 -0.32150936 0.089540526 -0.32040375 0.082957976 -0.017770303 0.07899671 0.60045475 0.22429329 -0.15693375 -0.4162121 0.116142765 -0.11912351 0.07072284 0.13935444 0.44058555 -0.5423252 0.14206222 0.26110342 0.6258111 0.5182336 -0.08878353 -0.68822783 -0.5012458 -0.20658024 0.17748637 -0.22241233 -0.19270036 0.47506794 0.79008996 0.2853617 -0.29185784 -0.39859906 -0.4474654 -0.5410575 0.14495763 -0.06356928 0.143778 0.3812189 -0.018976238 0.14302258 -0.24622667 -0.293511 0.059731413 0.6560538 0.23226248 -0.12015372 -0.24564013 0.0834228 0.20105912 0.1061319 -0.28366208 -0.09083635 0.3409368 -0.27722195 -0.11556745 0.52425313 -0.09114575 -0.30555472 -0.790234 0.4284206 0.1543294 0.002104843 -0.2175243 -0.06154981 0.33248878 -0.12998639 0.558173 -0.052150186 0.1059564 0.15410037 -0.40090352 -0.18322554 -0.28555843 -0.2352839 0.618779 0.4689757 -0.33679676 0.31774184 -0.3853554 0.4341665 0.1276719 0.48052487 -0.24206457 -0.5295176 0.28403902 -0.32884097 -0.29343626 0.8967735 -0.5374638 0.54168683 -0.24861313 -0.23426235 -0.20286481 0.25468516 -0.17629471 0.1466194 -0.3516979 -0.0053702085 -0.4603026 0.09435725 0.13629034 0.07151883 0.09909164 -0.43732986 -0.41657332 -0.4518967 -0.08639879 0.4356631 -0.1391951 -0.4611379 -0.1563088 -0.119418755 0.4450598 -0.36449525 -0.18264632 0.48773748 0.28412205 -0.2267421 0.1372906 0.09955064 -0.43680257 0.11751551 -0.08761839 -0.657491 0.25429755 -0.4664861 -0.26128036 0.66835093 0.0202881 -0.1716977 0.13542432 -0.09334988 -0.059284315 0.049382716 0.35741434 0.0065022307 0.2259439 -0.6014788 0.17167673 -0.24455148 0.0954886 -0.76552844 0.24165353 0.34428757 0.19849056 -0.4834427 0.29786372 -0.14740014 -0.27402854 0.5954047 0.61042345 -0.27148345 0.3799616 0.15634446 -0.41527677 -0.024777489 -0.45455804 0.034935836 0.025610553 0.36687422 -0.24665031 -0.7098362 0.29534385 0.31086028 0.070271626 1.0108107 -0.32024142 0.11970387 0.17534147 -0.021482296 0.8642336 -0.084408216 -0.07270903 -0.28237846 0.18538548 -0.30871862 -0.25372562 0.4284914 -0.40468433 0.06857164 0.09614236 -0.31005844 0.071135916 0.3259469 0.10659649 -0.020957265 -0.3731224 -0.22631665 0.52391934 0.60333985 -0.16602567 -0.100616686 0.21755354 -0.04021722 -0.47368097 -0.33342952 -0.06793765 0.06283465 -0.06609987 0.4692309 -0.44477558 0.6273167 -0.7455175 0.21317862 -0.15187371 -0.13748775 -0.2689224 0.049862906 0.1222475 -0.26266947 -0.54300106 0.28250533 -0.023601726 0.25860438 0.28213015 0.26971474 -0.14280304 0.2336191 -0.18207857 -0.140233 -0.07327676 -0.24632743 -0.36411557 0.1509847 0.005767142 0.085280634 -0.11729237 0.10877034 0.045785274 -0.06796892 0.0751338 0.5879749 0.24118012 0.6476042 0.40378302 0.12030473 -0.17479241 0.13853322 0.8244476 -0.46542153 -0.6128385\n",
            "\n"
          ]
        }
      ]
    },
    {
      "cell_type": "markdown",
      "metadata": {
        "id": "96av-zPbC2Qm"
      },
      "source": [
        "**Create a dictionary**"
      ]
    },
    {
      "cell_type": "code",
      "metadata": {
        "id": "z2sediQZMQd6"
      },
      "source": [
        "docs = data.final_clean.values\n",
        "labels = data.Fake.values"
      ],
      "execution_count": null,
      "outputs": []
    },
    {
      "cell_type": "code",
      "metadata": {
        "id": "f3UbB6b3MdhN"
      },
      "source": [
        "from numpy import array\n",
        "from numpy import asarray\n",
        "from numpy import zeros\n",
        "from keras.preprocessing.text import Tokenizer\n",
        "from keras.preprocessing.sequence import pad_sequences\n",
        "from keras.models import Sequential\n",
        "from keras.layers import Dense\n",
        "from keras.layers import Flatten\n",
        "from keras.layers import Embedding\n",
        "from keras.layers import LSTM, Bidirectional\n",
        "from keras.layers import Activation\n",
        "\n",
        "# prepare tokenizer\n",
        "t = Tokenizer()\n",
        "t.fit_on_texts(docs)\n",
        "vocab_size = len(t.word_index) + 1  # I add one because it starts counting from 0"
      ],
      "execution_count": null,
      "outputs": []
    },
    {
      "cell_type": "code",
      "metadata": {
        "colab": {
          "base_uri": "https://localhost:8080/"
        },
        "id": "yDuUcfLGEZGk",
        "outputId": "34bd5149-7687-4f26-8042-e20c28798749"
      },
      "source": [
        "import itertools\n",
        "# see a slice of our dictionary\n",
        "dict(itertools.islice(t.word_index.items(), 10))"
      ],
      "execution_count": null,
      "outputs": [
        {
          "output_type": "execute_result",
          "data": {
            "text/plain": [
              "{'aller': 10,\n",
              " 'apres': 9,\n",
              " 'avoir': 1,\n",
              " 'comme': 7,\n",
              " 'etre': 2,\n",
              " 'faire': 4,\n",
              " 'plus': 3,\n",
              " 'pouvoir': 6,\n",
              " 'premier': 8,\n",
              " 'tout': 5}"
            ]
          },
          "metadata": {},
          "execution_count": 22
        }
      ]
    },
    {
      "cell_type": "markdown",
      "metadata": {
        "id": "sCxVSZ4HC6h_"
      },
      "source": [
        "***5. SPLIT THE DATA***"
      ]
    },
    {
      "cell_type": "code",
      "metadata": {
        "id": "To4_1-bxMdjY"
      },
      "source": [
        "# divide the data into train/validate\n",
        "\n",
        "from sklearn.model_selection import train_test_split\n",
        "\n",
        "\n",
        "sentences_train, sentences_valid, y_train, y_valid = train_test_split(\n",
        "    docs, labels, test_size=0.20, random_state=1000)"
      ],
      "execution_count": null,
      "outputs": []
    },
    {
      "cell_type": "markdown",
      "source": [
        "***6. USE KERAS TOKENIZER TO CONVERT TRAIN AND VALID TO SEQUENCES***"
      ],
      "metadata": {
        "id": "g6pGlSyW8JTq"
      }
    },
    {
      "cell_type": "code",
      "metadata": {
        "colab": {
          "base_uri": "https://localhost:8080/"
        },
        "id": "CeqbMAw5Mdlq",
        "outputId": "5f6321cc-a4fc-43a7-a06f-26e638e31e22"
      },
      "source": [
        "X_train = t.texts_to_sequences(sentences_train)\n",
        "X_valid = t.texts_to_sequences(sentences_valid)\n",
        "\n",
        "\n",
        "print(sentences_train[2])\n",
        "print(X_train[2])"
      ],
      "execution_count": null,
      "outputs": [
        {
          "output_type": "stream",
          "name": "stdout",
          "text": [
            "jessica leeds ancien femme affaire lieu avion date debut anner accusation comme pieuvr mains partout source new york time rachel crook trentain receptionniste epoque lieu sortie ascenseur trump tower new york date accusation apres avoir simplement faire connaissance echanger poigne main avoir embrasser directement bouche source new york time jill harth travailler concours beaute lieu mar avoir lago domaine trump florid date janvier accusation admirer decoration seul chose souvenir ensuite etre pousse contre mur mettre main partout moi source new york time mindy mcgillivray assistant photograph lieu mar avoir lago domaine trump florid date janvier accusation etre plutot pelotage appuye plus simple attouchement etre tres pres centre fesse etre abasourdir source palm beach post natasha stoynoff collaborer magazine peopl lieu mar avoir lago domaine trump florid date decembre accusation trump avoir fermer porte derriere nous retourner espace quelque seconde train plaquer contre mur enfoncer langue gorge source magazine peopl cassandra searle ancien miss washington lieu concours miss etatsuni date accusation vouloir probablement racont histoire epoque quand peloter continuellement fesse invitait chambre hotel source page rapporter yahoo temple taggart mcdowell ancien miss utah lieu concours miss usa shreveport louisiane date accusation etre moment etre retourner vers moi avoir donner accolade avoir embrasser bouche source nbc news trump enfonce crise avocat magnat immobilier rendre public lettr adressee new york time exiger journal retir articl infonder diffamatoire reproduire allegation malintentionnee malgre dementis formel rapide nouveau accusation nouveau emballer machine mediatique effet devastateur augmenter repetition nombre responsable republicain definitivement perdre espoir voir maison blanc face candidat democrate hillary clinton martel desormais message barrer rout donald trump devoir moral femme pouvoir stopper trump affirme elle avoir egalement recevoir jeudi voler bois vert michell obama parti auquel appartenir democrate republicain independant aucun femme merit etre traiter facon personne merite genre injure assieger tout part donald trump continuer jeudi affirmer attaque orchestrer clinton leur allie chez medier mal faire endredi dernier publication video lequel entendre trublion republicain dire mot machiste misogyne avoir declencher tempet contexte nouveau accusation tourner boucle medias americain risquer peser lourd donald trump sujetaccuser agression sexuel assieger tout part trump tente enrayer chute\n",
            "[6601, 23156, 95, 73, 139, 194, 507, 554, 143, 1517, 2025, 7, 5826, 3262, 947, 256, 433, 798, 1747, 9789, 47547, 11170, 14190, 720, 194, 705, 7035, 149, 10631, 433, 798, 554, 2025, 9, 1, 735, 4, 1667, 1973, 6316, 285, 1, 3895, 756, 1770, 256, 433, 798, 1747, 14958, 108355, 330, 1807, 2365, 194, 5421, 1, 12664, 843, 149, 2578, 554, 429, 2025, 6113, 5536, 92, 136, 993, 312, 2, 10176, 32, 871, 23, 285, 947, 297, 256, 433, 798, 1747, 41076, 55418, 4471, 9249, 194, 5421, 1, 12664, 843, 149, 2578, 554, 429, 2025, 2, 418, 108356, 11324, 3, 398, 11151, 2, 19, 151, 203, 2452, 2, 56488, 256, 6994, 9812, 1105, 28690, 108357, 7028, 1333, 3454, 194, 5421, 1, 12664, 843, 149, 2578, 554, 400, 2025, 149, 1, 1108, 338, 649, 161, 1830, 749, 45, 1475, 323, 11067, 32, 871, 4822, 1217, 4099, 256, 1333, 3454, 19343, 55419, 95, 1645, 1359, 194, 1807, 1645, 489, 554, 2025, 43, 1455, 921, 195, 720, 53, 21845, 18381, 2452, 70143, 944, 874, 256, 572, 1537, 5695, 8345, 55417, 62504, 95, 1645, 14276, 194, 1807, 1645, 1909, 108358, 23614, 554, 2025, 2, 167, 2, 1830, 148, 297, 1, 102, 15471, 1, 3895, 1770, 256, 8964, 3125, 149, 10390, 611, 575, 6328, 1579, 125, 96, 6065, 12334, 433, 798, 1747, 2149, 424, 13020, 5462, 27323, 17783, 2785, 8626, 108359, 336, 38029, 3586, 1358, 11, 2025, 11, 6387, 1222, 1990, 100, 7049, 984, 4838, 232, 333, 475, 1628, 320, 1204, 22, 230, 525, 115, 111, 1140, 763, 547, 7047, 268, 539, 8063, 1468, 274, 149, 12, 1851, 73, 6, 3947, 149, 1099, 693, 1, 74, 202, 365, 842, 2145, 899, 5697, 1295, 807, 2948, 1915, 1140, 475, 1551, 109, 73, 35378, 2, 1054, 359, 46, 2215, 455, 8554, 7538, 5, 168, 274, 149, 405, 365, 472, 657, 6192, 547, 35, 4742, 86, 208, 275, 4, 48179, 27, 1264, 147, 180, 301, 13029, 475, 21, 328, 12281, 11132, 1, 1942, 4604, 1916, 11, 2025, 571, 3383, 2405, 91, 1561, 2598, 1410, 274, 149, 108360, 1092, 733, 7538, 5, 168, 149, 1443, 9345, 1824]\n"
          ]
        }
      ]
    },
    {
      "cell_type": "markdown",
      "metadata": {
        "id": "ptZZD_qfDJg5"
      },
      "source": [
        "***7. POST-PADDING***"
      ]
    },
    {
      "cell_type": "markdown",
      "source": [
        "**Obtain the maximum length of each text**"
      ],
      "metadata": {
        "id": "bJH7TgGJ8ZpJ"
      }
    },
    {
      "cell_type": "code",
      "metadata": {
        "id": "lj_yvhKyDOYv"
      },
      "source": [
        "data['length'] = data['Text_tokenised'].str.len()"
      ],
      "execution_count": null,
      "outputs": []
    },
    {
      "cell_type": "code",
      "metadata": {
        "id": "LsEBHRt9d5Zh"
      },
      "source": [
        "maxlen = data['length'].max()"
      ],
      "execution_count": null,
      "outputs": []
    },
    {
      "cell_type": "code",
      "source": [
        "maxlen"
      ],
      "metadata": {
        "colab": {
          "base_uri": "https://localhost:8080/"
        },
        "id": "7k4oDg02ZH4j",
        "outputId": "80c2f4a7-d1b6-4ed9-dfac-37a9b208f3fd"
      },
      "execution_count": null,
      "outputs": [
        {
          "output_type": "execute_result",
          "data": {
            "text/plain": [
              "3521"
            ]
          },
          "metadata": {},
          "execution_count": 27
        }
      ]
    },
    {
      "cell_type": "markdown",
      "source": [
        "**Pad short sequences**"
      ],
      "metadata": {
        "id": "Q_ghuheY8giK"
      }
    },
    {
      "cell_type": "code",
      "metadata": {
        "colab": {
          "base_uri": "https://localhost:8080/"
        },
        "id": "tTe28qgrMQgI",
        "outputId": "32999f6a-9f19-445d-a746-d873f2d5931d"
      },
      "source": [
        "X_train = pad_sequences(X_train, padding='post', maxlen=maxlen)\n",
        "X_valid = pad_sequences(X_valid, padding='post', maxlen=maxlen)\n",
        "\n",
        "print(X_train[1, :])"
      ],
      "execution_count": null,
      "outputs": [
        {
          "output_type": "stream",
          "name": "stdout",
          "text": [
            "[16082 16244   344 ...     0     0     0]\n"
          ]
        }
      ]
    },
    {
      "cell_type": "markdown",
      "metadata": {
        "id": "pGXR9eBDDPJQ"
      },
      "source": [
        "***8. LOAD THE WHOLE EMBEDDING INTO MEMORY***"
      ]
    },
    {
      "cell_type": "code",
      "metadata": {
        "colab": {
          "base_uri": "https://localhost:8080/"
        },
        "id": "4tNTliaJMiR2",
        "outputId": "6167bc63-b456-4fb9-a9a6-cf2bf0a8fcf8"
      },
      "source": [
        "embeddings_index = dict()\n",
        "f = open('french_wv.txt')\n",
        "for line in f:\n",
        "\tvalues = line.split()\n",
        "\tword = values[0]\n",
        "\tcoefs = asarray(values[1:], dtype='float32')\n",
        "\tembeddings_index[word] = coefs\n",
        "f.close()\n",
        "print('Loaded %s word vectors.' % len(embeddings_index))"
      ],
      "execution_count": null,
      "outputs": [
        {
          "output_type": "stream",
          "name": "stdout",
          "text": [
            "Loaded 44309 word vectors.\n"
          ]
        }
      ]
    },
    {
      "cell_type": "markdown",
      "metadata": {
        "id": "mV0jzeKFDTgB"
      },
      "source": [
        "***9. CREATE A WEIGHT MATRIX FOR WORDS IN TRAINING ARTICLES***"
      ]
    },
    {
      "cell_type": "code",
      "metadata": {
        "id": "M7v_pRnHE4oY"
      },
      "source": [
        "embedding_matrix = zeros((vocab_size, 300))  # create an empty numpy array which will be used as the embedding layer in our model with my dimensions 50 here\n",
        "for word, i in t.word_index.items():  # go through our vocab integers and words\n",
        "\tembedding_vector = embeddings_index.get(word)  # find the word in the pretrained word vectors\n",
        "\tif embedding_vector is not None:  # if it is  not empty put it in our embedding matrix\n",
        "\t\tembedding_matrix[i] = embedding_vector\n"
      ],
      "execution_count": null,
      "outputs": []
    },
    {
      "cell_type": "markdown",
      "source": [
        "***10. BUILD THE MODEL***"
      ],
      "metadata": {
        "id": "aAD1dNQw8xde"
      }
    },
    {
      "cell_type": "code",
      "source": [
        "from keras.layers import Dropout\n",
        "from tensorflow.keras.optimizers import Adam,SGD\n",
        "\n",
        "model=Sequential()\n",
        "model.add(Embedding(vocab_size, 300, weights=[embedding_matrix], input_length=maxlen, trainable=False))\n",
        "model.add(Bidirectional(LSTM(100)))  # one BLSTM Layer with 100 neurons \n",
        "model.add(Dropout(0.3)) # DROPOUT LAYER\n",
        "model.add(Dense(32, activation='relu'))\n",
        "model.add(Dense(1, activation='sigmoid'))\n",
        "adam=Adam(learning_rate=0.001)\n",
        "model.compile(adam, loss='binary_crossentropy',metrics=['accuracy'])\n",
        "print(model.summary())"
      ],
      "metadata": {
        "colab": {
          "base_uri": "https://localhost:8080/"
        },
        "id": "P6Ot8Rs8XuKv",
        "outputId": "1e2565e2-e501-4f9d-c631-4f63633cb59e"
      },
      "execution_count": null,
      "outputs": [
        {
          "output_type": "stream",
          "name": "stdout",
          "text": [
            "Model: \"sequential\"\n",
            "_________________________________________________________________\n",
            " Layer (type)                Output Shape              Param #   \n",
            "=================================================================\n",
            " embedding (Embedding)       (None, 3521, 300)         40375800  \n",
            "                                                                 \n",
            " bidirectional (Bidirectiona  (None, 200)              320800    \n",
            " l)                                                              \n",
            "                                                                 \n",
            " dropout (Dropout)           (None, 200)               0         \n",
            "                                                                 \n",
            " dense (Dense)               (None, 32)                6432      \n",
            "                                                                 \n",
            " dense_1 (Dense)             (None, 1)                 33        \n",
            "                                                                 \n",
            "=================================================================\n",
            "Total params: 40,703,065\n",
            "Trainable params: 327,265\n",
            "Non-trainable params: 40,375,800\n",
            "_________________________________________________________________\n",
            "None\n"
          ]
        }
      ]
    },
    {
      "cell_type": "markdown",
      "source": [
        "***11. TRAIN THE MODEL***"
      ],
      "metadata": {
        "id": "2lyt9r1U82Wm"
      }
    },
    {
      "cell_type": "code",
      "source": [
        "# fit the model on the whole data\n",
        "history = model.fit(X_train, y_train,\n",
        "                    epochs=10,\n",
        "                    verbose=True,\n",
        "                    validation_data=(X_valid, y_valid),\n",
        "                    batch_size=128)"
      ],
      "metadata": {
        "colab": {
          "base_uri": "https://localhost:8080/"
        },
        "id": "-xf3pJJjNJMC",
        "outputId": "78038b8b-e098-4bf3-bf07-aeb8ad8be45d"
      },
      "execution_count": null,
      "outputs": [
        {
          "output_type": "stream",
          "name": "stdout",
          "text": [
            "Epoch 1/10\n",
            "174/174 [==============================] - 96s 517ms/step - loss: 0.3611 - accuracy: 0.8452 - val_loss: 0.2536 - val_accuracy: 0.9047\n",
            "Epoch 2/10\n",
            "174/174 [==============================] - 89s 511ms/step - loss: 0.2274 - accuracy: 0.9143 - val_loss: 0.1861 - val_accuracy: 0.9290\n",
            "Epoch 3/10\n",
            "174/174 [==============================] - 89s 514ms/step - loss: 0.1656 - accuracy: 0.9390 - val_loss: 0.1614 - val_accuracy: 0.9333\n",
            "Epoch 4/10\n",
            "174/174 [==============================] - 89s 514ms/step - loss: 0.1308 - accuracy: 0.9520 - val_loss: 0.1447 - val_accuracy: 0.9441\n",
            "Epoch 5/10\n",
            "174/174 [==============================] - 90s 517ms/step - loss: 0.0995 - accuracy: 0.9652 - val_loss: 0.1318 - val_accuracy: 0.9502\n",
            "Epoch 6/10\n",
            "174/174 [==============================] - 90s 517ms/step - loss: 0.0738 - accuracy: 0.9739 - val_loss: 0.1176 - val_accuracy: 0.9561\n",
            "Epoch 7/10\n",
            "174/174 [==============================] - 90s 517ms/step - loss: 0.0545 - accuracy: 0.9814 - val_loss: 0.1256 - val_accuracy: 0.9585\n",
            "Epoch 8/10\n",
            "174/174 [==============================] - 90s 519ms/step - loss: 0.0371 - accuracy: 0.9876 - val_loss: 0.1651 - val_accuracy: 0.9472\n",
            "Epoch 9/10\n",
            "174/174 [==============================] - 90s 519ms/step - loss: 0.0344 - accuracy: 0.9879 - val_loss: 0.1537 - val_accuracy: 0.9579\n",
            "Epoch 10/10\n",
            "174/174 [==============================] - 91s 521ms/step - loss: 0.0199 - accuracy: 0.9936 - val_loss: 0.1348 - val_accuracy: 0.9637\n"
          ]
        }
      ]
    },
    {
      "cell_type": "markdown",
      "source": [
        "***12. GRAPHIC ILLUSTRATION***"
      ],
      "metadata": {
        "id": "l1xwO9ie86XA"
      }
    },
    {
      "cell_type": "code",
      "source": [
        "import matplotlib.pyplot as plt\n",
        "\n",
        "plt.plot(history.history['accuracy'])\n",
        "plt.plot(history.history['val_accuracy'])\n",
        "plt.title('Model accuracy')\n",
        "plt.ylabel('Accuracy')\n",
        "plt.xlabel('Epoch')\n",
        "plt.legend(['Train', 'Test'], loc='upper left')\n",
        "plt.show()\n",
        "\n",
        "plt.plot(history.history['loss'])\n",
        "plt.plot(history.history['val_loss'])\n",
        "plt.title('Model loss')\n",
        "plt.ylabel('Loss')\n",
        "plt.xlabel('Epoch')\n",
        "plt.legend(['Train', 'Test'], loc='upper right')\n",
        "plt.show()"
      ],
      "metadata": {
        "colab": {
          "base_uri": "https://localhost:8080/",
          "height": 573
        },
        "id": "Z76js6MAPWVB",
        "outputId": "29fab961-5bc1-4663-92b6-d2351ed24bb1"
      },
      "execution_count": null,
      "outputs": [
        {
          "output_type": "display_data",
          "data": {
            "image/png": "[encoded data removed]",
            "text/plain": [
              "<Figure size 432x288 with 1 Axes>"
            ]
          },
          "metadata": {
            "needs_background": "light"
          }
        },
        {
          "output_type": "display_data",
          "data": {
            "image/png": "[encoded data removed]",
            "text/plain": [
              "<Figure size 432x288 with 1 Axes>"
            ]
          },
          "metadata": {
            "needs_background": "light"
          }
        }
      ]
    },
    {
      "cell_type": "markdown",
      "source": [
        "***13. METRICS***"
      ],
      "metadata": {
        "id": "IPGjXp7f9TIq"
      }
    },
    {
      "cell_type": "code",
      "source": [
        "y_pred_valid=(model.predict(X_valid)>0.5).astype(int)"
      ],
      "metadata": {
        "id": "bFXh2j_BcjAK"
      },
      "execution_count": null,
      "outputs": []
    },
    {
      "cell_type": "code",
      "source": [
        "from sklearn.metrics import classification_report, confusion_matrix\n",
        "print(classification_report(y_valid,y_pred_valid))"
      ],
      "metadata": {
        "colab": {
          "base_uri": "https://localhost:8080/"
        },
        "id": "17JknmNZz2CO",
        "outputId": "d06b4473-3230-44ad-ad71-0c6b97c63280"
      },
      "execution_count": null,
      "outputs": [
        {
          "output_type": "stream",
          "name": "stdout",
          "text": [
            "              precision    recall  f1-score   support\n",
            "\n",
            "           0       0.97      0.95      0.96      2637\n",
            "           1       0.96      0.97      0.97      2927\n",
            "\n",
            "    accuracy                           0.96      5564\n",
            "   macro avg       0.96      0.96      0.96      5564\n",
            "weighted avg       0.96      0.96      0.96      5564\n",
            "\n"
          ]
        }
      ]
    },
    {
      "cell_type": "markdown",
      "source": [
        "***14. SAVE THE MODEL***"
      ],
      "metadata": {
        "id": "1OIZkWVX8_0w"
      }
    },
    {
      "cell_type": "code",
      "metadata": {
        "id": "1CUXEM1X6x-n"
      },
      "source": [
        "model.save('model_fr.h5')"
      ],
      "execution_count": null,
      "outputs": []
    },
    {
      "cell_type": "code",
      "metadata": {
        "id": "rTK7Bw6QF15H"
      },
      "source": [
        "model3=load_model('model_fr.h5')"
      ],
      "execution_count": null,
      "outputs": []
    }
  ]
}