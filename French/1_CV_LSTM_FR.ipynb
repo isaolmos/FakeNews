{
  "nbformat": 4,
  "nbformat_minor": 0,
  "metadata": {
    "accelerator": "GPU",
    "colab": {
      "name": "1_CV_LSTM_FR.ipynb",
      "provenance": [],
      "collapsed_sections": [],
      "machine_shape": "hm"
    },
    "kernelspec": {
      "display_name": "Python 3",
      "language": "python",
      "name": "python3"
    },
    "language_info": {
      "codemirror_mode": {
        "name": "ipython",
        "version": 3
      },
      "file_extension": ".py",
      "mimetype": "text/x-python",
      "name": "python",
      "nbconvert_exporter": "python",
      "pygments_lexer": "ipython3",
      "version": "3.8.8"
    }
  },
  "cells": [
    {
      "cell_type": "markdown",
      "source": [
        "# **LSTM+CV**"
      ],
      "metadata": {
        "id": "ZpQgFPYa-6a-"
      }
    },
    {
      "cell_type": "markdown",
      "source": [
        "***1. IMPORT LIBRARIES***"
      ],
      "metadata": {
        "id": "i-fCyjLl-tM7"
      }
    },
    {
      "cell_type": "code",
      "metadata": {
        "id": "93pbFgzf6PO4"
      },
      "source": [
        "import pandas as pd\n",
        "from nltk import word_tokenize\n",
        "from collections import Counter"
      ],
      "execution_count": null,
      "outputs": []
    },
    {
      "cell_type": "markdown",
      "source": [
        "***2. LOAD DATASET***"
      ],
      "metadata": {
        "id": "5cAng_hX--5R"
      }
    },
    {
      "cell_type": "code",
      "source": [
        "from google.colab import drive\n",
        "drive.mount('/content/drive')"
      ],
      "metadata": {
        "id": "qS53ZOmAIMIp",
        "colab": {
          "base_uri": "https://localhost:8080/"
        },
        "outputId": "02da248f-202d-4d3a-b5f0-f0a1e17de55a"
      },
      "execution_count": null,
      "outputs": [
        {
          "output_type": "stream",
          "name": "stdout",
          "text": [
            "Drive already mounted at /content/drive; to attempt to forcibly remount, call drive.mount(\"/content/drive\", force_remount=True).\n"
          ]
        }
      ]
    },
    {
      "cell_type": "code",
      "metadata": {
        "id": "bB1mmnGMIG9k"
      },
      "source": [
        "data=pd.read_csv('/content/drive/MyDrive/thesiss/French_D.csv')"
      ],
      "execution_count": null,
      "outputs": []
    },
    {
      "cell_type": "code",
      "metadata": {
        "id": "IzpwjWTGILww"
      },
      "source": [
        "data.drop(['Unnamed: 0','Unnamed: 0.1','Unnamed: 0.1.1','text','clean_with_stopwords'], axis=1, inplace=True)"
      ],
      "execution_count": null,
      "outputs": []
    },
    {
      "cell_type": "code",
      "metadata": {
        "colab": {
          "base_uri": "https://localhost:8080/"
        },
        "id": "K7QvI00skaZd",
        "outputId": "5cdee700-8bf2-4b59-b75e-3506e7d73601"
      },
      "source": [
        "data['final_clean'].isnull().sum()"
      ],
      "execution_count": null,
      "outputs": [
        {
          "output_type": "execute_result",
          "data": {
            "text/plain": [
              "0"
            ]
          },
          "metadata": {},
          "execution_count": 7
        }
      ]
    },
    {
      "cell_type": "code",
      "source": [
        "data"
      ],
      "metadata": {
        "id": "XG5s2oh4IZ4X",
        "colab": {
          "base_uri": "https://localhost:8080/",
          "height": 423
        },
        "outputId": "22db8511-6386-4a2f-c3dd-4014ad1d37a2"
      },
      "execution_count": null,
      "outputs": [
        {
          "output_type": "execute_result",
          "data": {
            "text/html": [
              "<div>\n",
              "<style scoped>\n",
              "    .dataframe tbody tr th:only-of-type {\n",
              "        vertical-align: middle;\n",
              "    }\n",
              "\n",
              "    .dataframe tbody tr th {\n",
              "        vertical-align: top;\n",
              "    }\n",
              "\n",
              "    .dataframe thead th {\n",
              "        text-align: right;\n",
              "    }\n",
              "</style>\n",
              "<table border=\"1\" class=\"dataframe\">\n",
              "  <thead>\n",
              "    <tr style=\"text-align: right;\">\n",
              "      <th></th>\n",
              "      <th>Fake</th>\n",
              "      <th>final_clean</th>\n",
              "    </tr>\n",
              "  </thead>\n",
              "  <tbody>\n",
              "    <tr>\n",
              "      <th>0</th>\n",
              "      <td>0</td>\n",
              "      <td>tente incendier femme indemne gravement bruler...</td>\n",
              "    </tr>\n",
              "    <tr>\n",
              "      <th>1</th>\n",
              "      <td>0</td>\n",
              "      <td>etre renaud avoir faire retour scene octobre a...</td>\n",
              "    </tr>\n",
              "    <tr>\n",
              "      <th>2</th>\n",
              "      <td>0</td>\n",
              "      <td>tailleur rouge message avoir vouloir envoyer h...</td>\n",
              "    </tr>\n",
              "    <tr>\n",
              "      <th>3</th>\n",
              "      <td>0</td>\n",
              "      <td>foot ligue tout resultat eme journee octobre m...</td>\n",
              "    </tr>\n",
              "    <tr>\n",
              "      <th>4</th>\n",
              "      <td>0</td>\n",
              "      <td>abonner podcast pouvoir abonner telechargement...</td>\n",
              "    </tr>\n",
              "    <tr>\n",
              "      <th>...</th>\n",
              "      <td>...</td>\n",
              "      <td>...</td>\n",
              "    </tr>\n",
              "    <tr>\n",
              "      <th>27811</th>\n",
              "      <td>1</td>\n",
              "      <td>pourcent libanais refaire onu demande liban ar...</td>\n",
              "    </tr>\n",
              "    <tr>\n",
              "      <th>27812</th>\n",
              "      <td>1</td>\n",
              "      <td>refugier syrien humilier empeche famill rom tr...</td>\n",
              "    </tr>\n",
              "    <tr>\n",
              "      <th>27813</th>\n",
              "      <td>1</td>\n",
              "      <td>mehdi meklat lance banane christiane taubira a...</td>\n",
              "    </tr>\n",
              "    <tr>\n",
              "      <th>27814</th>\n",
              "      <td>1</td>\n",
              "      <td>visite afghanistan marine pen refuse participe...</td>\n",
              "    </tr>\n",
              "    <tr>\n",
              "      <th>27815</th>\n",
              "      <td>1</td>\n",
              "      <td>insolite supprime nuit etre nuire vendredi sam...</td>\n",
              "    </tr>\n",
              "  </tbody>\n",
              "</table>\n",
              "<p>27816 rows × 2 columns</p>\n",
              "</div>"
            ],
            "text/plain": [
              "       Fake                                        final_clean\n",
              "0         0  tente incendier femme indemne gravement bruler...\n",
              "1         0  etre renaud avoir faire retour scene octobre a...\n",
              "2         0  tailleur rouge message avoir vouloir envoyer h...\n",
              "3         0  foot ligue tout resultat eme journee octobre m...\n",
              "4         0  abonner podcast pouvoir abonner telechargement...\n",
              "...     ...                                                ...\n",
              "27811     1  pourcent libanais refaire onu demande liban ar...\n",
              "27812     1  refugier syrien humilier empeche famill rom tr...\n",
              "27813     1  mehdi meklat lance banane christiane taubira a...\n",
              "27814     1  visite afghanistan marine pen refuse participe...\n",
              "27815     1  insolite supprime nuit etre nuire vendredi sam...\n",
              "\n",
              "[27816 rows x 2 columns]"
            ]
          },
          "metadata": {},
          "execution_count": 8
        }
      ]
    },
    {
      "cell_type": "markdown",
      "metadata": {
        "id": "S7Wfd_lNd1tZ"
      },
      "source": [
        "***3. CONVERT TO VECTORS***"
      ]
    },
    {
      "cell_type": "code",
      "metadata": {
        "id": "TTcwqXK9IMtw"
      },
      "source": [
        "from sklearn.feature_extraction.text import CountVectorizer\n",
        "vectorizer=CountVectorizer(max_features=3000)\n",
        "output=vectorizer.fit_transform(data['final_clean'])"
      ],
      "execution_count": null,
      "outputs": []
    },
    {
      "cell_type": "code",
      "metadata": {
        "colab": {
          "base_uri": "https://localhost:8080/"
        },
        "id": "ULxW2HVuIxma",
        "outputId": "816e64d0-bfbd-4516-86c4-63d619bd4148"
      },
      "source": [
        "output"
      ],
      "execution_count": null,
      "outputs": [
        {
          "output_type": "execute_result",
          "data": {
            "text/plain": [
              "<27816x3000 sparse matrix of type '<class 'numpy.int64'>'\n",
              "\twith 2863963 stored elements in Compressed Sparse Row format>"
            ]
          },
          "metadata": {},
          "execution_count": 17
        }
      ]
    },
    {
      "cell_type": "markdown",
      "source": [
        "***4. SPLIT DATA***"
      ],
      "metadata": {
        "id": "Acn9bKqh_UJr"
      }
    },
    {
      "cell_type": "code",
      "metadata": {
        "id": "Ei-PmdLaLRxC"
      },
      "source": [
        "from sklearn.model_selection import train_test_split\n",
        "X_train,X_val,y_train,y_val=train_test_split(output.toarray(),data['Fake'].values,test_size=0.2,random_state=0)"
      ],
      "execution_count": null,
      "outputs": []
    },
    {
      "cell_type": "markdown",
      "source": [
        "***5. BUILD THE MODEL***"
      ],
      "metadata": {
        "id": "yFcmwOBl_aZ0"
      }
    },
    {
      "cell_type": "code",
      "metadata": {
        "id": "nypwFnfvLqBi"
      },
      "source": [
        "#Creating the lstm model\n",
        "from keras.models import Sequential\n",
        "from keras.layers import Dense,Embedding, LSTM, RNN\n",
        "import tensorflow as tf\n",
        "model=Sequential()\n",
        "model.add(LSTM(100,input_shape=(1,3000), kernel_regularizer=l2(0.01))) #Adding 100 lstm neurons in the layer\n",
        "model.add(Dense(8, activation='relu'))\n",
        "model.add(Dense(1, activation='sigmoid'))\n",
        "#Compiling the model\n",
        "model.compile(loss='binary_crossentropy',optimizer='adam',metrics=['accuracy'])"
      ],
      "execution_count": null,
      "outputs": []
    },
    {
      "cell_type": "code",
      "metadata": {
        "colab": {
          "base_uri": "https://localhost:8080/"
        },
        "id": "Yc4jKQ-cLpxH",
        "outputId": "0dc0e151-80fd-4737-f0c9-e7b6476bd701"
      },
      "source": [
        "model.summary()"
      ],
      "execution_count": null,
      "outputs": [
        {
          "output_type": "stream",
          "name": "stdout",
          "text": [
            "Model: \"sequential_14\"\n",
            "_________________________________________________________________\n",
            " Layer (type)                Output Shape              Param #   \n",
            "=================================================================\n",
            " lstm_14 (LSTM)              (None, 100)               1240400   \n",
            "                                                                 \n",
            " dense_15 (Dense)            (None, 8)                 808       \n",
            "                                                                 \n",
            " dense_16 (Dense)            (None, 1)                 9         \n",
            "                                                                 \n",
            "=================================================================\n",
            "Total params: 1,241,217\n",
            "Trainable params: 1,241,217\n",
            "Non-trainable params: 0\n",
            "_________________________________________________________________\n"
          ]
        }
      ]
    },
    {
      "cell_type": "markdown",
      "source": [
        "***6. RESHAPE AND TRAIN THE MODEL***"
      ],
      "metadata": {
        "id": "mQm40q4C_fba"
      }
    },
    {
      "cell_type": "code",
      "metadata": {
        "colab": {
          "base_uri": "https://localhost:8080/"
        },
        "id": "mMJWRooIM75o",
        "outputId": "17580a86-8341-414c-8526-c063026f1df3"
      },
      "source": [
        "X_train_new=X_train.reshape(X_train.shape[0],1,X_train.shape[1])\n",
        "X_valid_new=X_val.reshape(X_val.shape[0],1,X_val.shape[1])\n",
        "history = model.fit(X_train_new,y_train,validation_data=(X_valid_new,y_val),epochs=10)"
      ],
      "execution_count": null,
      "outputs": [
        {
          "output_type": "stream",
          "name": "stdout",
          "text": [
            "Epoch 1/10\n",
            "696/696 [==============================] - 3s 4ms/step - loss: 0.2635 - accuracy: 0.9402 - val_loss: 0.2509 - val_accuracy: 0.9450\n",
            "Epoch 2/10\n",
            "696/696 [==============================] - 3s 4ms/step - loss: 0.2369 - accuracy: 0.9490 - val_loss: 0.2430 - val_accuracy: 0.9414\n",
            "Epoch 3/10\n",
            "696/696 [==============================] - 3s 4ms/step - loss: 0.2204 - accuracy: 0.9512 - val_loss: 0.2350 - val_accuracy: 0.9450\n",
            "Epoch 4/10\n",
            "696/696 [==============================] - 3s 4ms/step - loss: 0.2053 - accuracy: 0.9559 - val_loss: 0.2348 - val_accuracy: 0.9473\n",
            "Epoch 5/10\n",
            "696/696 [==============================] - 3s 4ms/step - loss: 0.2013 - accuracy: 0.9547 - val_loss: 0.2301 - val_accuracy: 0.9455\n",
            "Epoch 6/10\n",
            "696/696 [==============================] - 3s 4ms/step - loss: 0.1940 - accuracy: 0.9579 - val_loss: 0.2165 - val_accuracy: 0.9477\n",
            "Epoch 7/10\n",
            "696/696 [==============================] - 3s 4ms/step - loss: 0.1847 - accuracy: 0.9607 - val_loss: 0.2280 - val_accuracy: 0.9473\n",
            "Epoch 8/10\n",
            "696/696 [==============================] - 3s 4ms/step - loss: 0.1877 - accuracy: 0.9607 - val_loss: 0.2169 - val_accuracy: 0.9461\n",
            "Epoch 9/10\n",
            "696/696 [==============================] - 3s 4ms/step - loss: 0.1814 - accuracy: 0.9607 - val_loss: 0.2147 - val_accuracy: 0.9515\n",
            "Epoch 10/10\n",
            "696/696 [==============================] - 3s 4ms/step - loss: 0.1730 - accuracy: 0.9662 - val_loss: 0.2197 - val_accuracy: 0.9482\n"
          ]
        }
      ]
    },
    {
      "cell_type": "markdown",
      "source": [
        "***7. PLOT THE ACCURACY AND LOSS***"
      ],
      "metadata": {
        "id": "o5DtlD-S_kQD"
      }
    },
    {
      "cell_type": "code",
      "metadata": {
        "id": "zFpTkazrM7q8",
        "colab": {
          "base_uri": "https://localhost:8080/",
          "height": 573
        },
        "outputId": "4a689c71-eea2-49a3-9dc4-ccdd8a89666b"
      },
      "source": [
        "import matplotlib.pyplot as plt  # it overfits after epoch 11, but starts to learn again after 14\n",
        "\n",
        "plt.plot(history.history['accuracy'])\n",
        "plt.plot(history.history['val_accuracy'])\n",
        "plt.title('Model accuracy')\n",
        "plt.ylabel('Accuracy')\n",
        "plt.xlabel('Epoch')\n",
        "plt.legend(['Train', 'Test'], loc='upper left')\n",
        "plt.show()\n",
        "\n",
        "plt.plot(history.history['loss'])\n",
        "plt.plot(history.history['val_loss'])\n",
        "plt.title('Model loss')\n",
        "plt.ylabel('Loss')\n",
        "plt.xlabel('Epoch')\n",
        "plt.legend(['Train', 'Test'], loc='upper right')\n",
        "plt.show()"
      ],
      "execution_count": null,
      "outputs": [
        {
          "output_type": "display_data",
          "data": {
            "image/png": "[encoded data removed]",
            "text/plain": [
              "<Figure size 432x288 with 1 Axes>"
            ]
          },
          "metadata": {
            "needs_background": "light"
          }
        },
        {
          "output_type": "display_data",
          "data": {
            "image/png": "[encoded data removed]",
            "text/plain": [
              "<Figure size 432x288 with 1 Axes>"
            ]
          },
          "metadata": {
            "needs_background": "light"
          }
        }
      ]
    }
  ]
}