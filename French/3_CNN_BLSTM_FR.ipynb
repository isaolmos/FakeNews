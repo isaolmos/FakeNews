{
  "nbformat": 4,
  "nbformat_minor": 0,
  "metadata": {
    "accelerator": "GPU",
    "colab": {
      "name": "CNN_BLSTM_FR.ipynb",
      "provenance": [],
      "collapsed_sections": [],
      "machine_shape": "hm"
    },
    "kernelspec": {
      "display_name": "Python 3",
      "name": "python3"
    },
    "language_info": {
      "name": "python"
    }
  },
  "cells": [
    {
      "cell_type": "markdown",
      "metadata": {
        "id": "UUQnPETHEGJZ"
      },
      "source": [
        "# **CNN+BLSTM ~ FRENCH**"
      ]
    },
    {
      "cell_type": "markdown",
      "metadata": {
        "id": "MeKGGQ4SEDrJ"
      },
      "source": [
        "*IMPORT PACKAGES AND LIBRARIES*"
      ]
    },
    {
      "cell_type": "code",
      "metadata": {
        "id": "93pbFgzf6PO4"
      },
      "source": [
        "%matplotlib inline\n",
        "import numpy as np\n",
        "import pandas as pd\n",
        "from nltk import word_tokenize\n",
        "from numpy import zeros\n",
        "from keras.preprocessing.text import Tokenizer\n",
        "from keras.preprocessing.sequence import pad_sequences\n",
        "from keras.models import Sequential\n",
        "from keras.layers import Dense\n",
        "from keras.layers import Flatten\n",
        "from keras.layers import Embedding\n",
        "from keras.layers import Bidirectional"
      ],
      "execution_count": null,
      "outputs": []
    },
    {
      "cell_type": "markdown",
      "metadata": {
        "id": "I-rA6zWkEAkl"
      },
      "source": [
        "*LOAD FRENCH DATASET*"
      ]
    },
    {
      "cell_type": "code",
      "metadata": {
        "id": "FAAU5k2x6_EK"
      },
      "source": [
        "#LOAD THREE DATASETS\n",
        "data=pd.read_csv('/content/drive/MyDrive/thesiss/French.csv')"
      ],
      "execution_count": null,
      "outputs": []
    },
    {
      "cell_type": "markdown",
      "metadata": {
        "id": "91TgPPxYEMnk"
      },
      "source": [
        "*TOTAL NUMBER OF FAKE AND TRUE NEWS*"
      ]
    },
    {
      "cell_type": "code",
      "metadata": {
        "colab": {
          "base_uri": "https://localhost:8080/",
          "height": 641
        },
        "id": "TlwdqYoTst2A",
        "outputId": "7714a4e0-d3b8-46ee-d966-45d7027e8ee6"
      },
      "source": [
        "data"
      ],
      "execution_count": null,
      "outputs": [
        {
          "output_type": "execute_result",
          "data": {
            "text/html": [
              "\n",
              "  <div id=\"df-c9020cbb-00b5-4dd8-8402-f82767a4b62e\">\n",
              "    <div class=\"colab-df-container\">\n",
              "      <div>\n",
              "<style scoped>\n",
              "    .dataframe tbody tr th:only-of-type {\n",
              "        vertical-align: middle;\n",
              "    }\n",
              "\n",
              "    .dataframe tbody tr th {\n",
              "        vertical-align: top;\n",
              "    }\n",
              "\n",
              "    .dataframe thead th {\n",
              "        text-align: right;\n",
              "    }\n",
              "</style>\n",
              "<table border=\"1\" class=\"dataframe\">\n",
              "  <thead>\n",
              "    <tr style=\"text-align: right;\">\n",
              "      <th></th>\n",
              "      <th>Fake</th>\n",
              "      <th>text</th>\n",
              "      <th>clean_with_stopwords</th>\n",
              "      <th>final_clean</th>\n",
              "    </tr>\n",
              "  </thead>\n",
              "  <tbody>\n",
              "    <tr>\n",
              "      <th>0</th>\n",
              "      <td>0</td>\n",
              "      <td>Il tente d'incendier sa femme : elle est indem...</td>\n",
              "      <td>il tente de incendier son femme lui être indem...</td>\n",
              "      <td>tente incendier femme indemne gravement bruler...</td>\n",
              "    </tr>\n",
              "    <tr>\n",
              "      <th>1</th>\n",
              "      <td>0</td>\n",
              "      <td>Ça y est, Renaud a fait son retour sur scène !...</td>\n",
              "      <td>cela y être renaud avoir faire son retour sur ...</td>\n",
              "      <td>etre renaud avoir faire retour scene octobre a...</td>\n",
              "    </tr>\n",
              "    <tr>\n",
              "      <th>2</th>\n",
              "      <td>0</td>\n",
              "      <td>Avec son tailleur rouge, quel message a voulu ...</td>\n",
              "      <td>avec son tailleur rouge quel message avoir vou...</td>\n",
              "      <td>tailleur rouge message avoir vouloir envoyer h...</td>\n",
              "    </tr>\n",
              "    <tr>\n",
              "      <th>3</th>\n",
              "      <td>0</td>\n",
              "      <td>Foot-Ligue 1 : tous les résultats de la 8ème j...</td>\n",
              "      <td>foot ligue tout le résultat de le èm journée h...</td>\n",
              "      <td>foot ligue tout resultat eme journee octobre m...</td>\n",
              "    </tr>\n",
              "    <tr>\n",
              "      <th>4</th>\n",
              "      <td>0</td>\n",
              "      <td>× S'abonner au podcast \\nVous pouvez vous abon...</td>\n",
              "      <td>se abonner au podcast vous pouvoir vous abonne...</td>\n",
              "      <td>abonner podcast pouvoir abonner telechargement...</td>\n",
              "    </tr>\n",
              "    <tr>\n",
              "      <th>...</th>\n",
              "      <td>...</td>\n",
              "      <td>...</td>\n",
              "      <td>...</td>\n",
              "      <td>...</td>\n",
              "    </tr>\n",
              "    <tr>\n",
              "      <th>27811</th>\n",
              "      <td>1</td>\n",
              "      <td>97% de Libanaises refaites : L’ONU demande au ...</td>\n",
              "      <td>pourcent de libanais refaire l onu demande au ...</td>\n",
              "      <td>pourcent libanais refaire onu demande liban ar...</td>\n",
              "    </tr>\n",
              "    <tr>\n",
              "      <th>27812</th>\n",
              "      <td>1</td>\n",
              "      <td>Un réfugié syrien humilie et empêche une famil...</td>\n",
              "      <td>un réfugié syrien humilier et empêche un famil...</td>\n",
              "      <td>refugier syrien humilier empeche famill rom tr...</td>\n",
              "    </tr>\n",
              "    <tr>\n",
              "      <th>27813</th>\n",
              "      <td>1</td>\n",
              "      <td>Mehdi Meklat lance une banane à Christiane Tau...</td>\n",
              "      <td>mehdi meklat lance un banane à christiane taub...</td>\n",
              "      <td>mehdi meklat lance banane christiane taubira a...</td>\n",
              "    </tr>\n",
              "    <tr>\n",
              "      <th>27814</th>\n",
              "      <td>1</td>\n",
              "      <td>En visite en Afghanistan, Marine Le Pen refuse...</td>\n",
              "      <td>en visite en afghanistan marine le pen refuse ...</td>\n",
              "      <td>visite afghanistan marine pen refuse participe...</td>\n",
              "    </tr>\n",
              "    <tr>\n",
              "      <th>27815</th>\n",
              "      <td>1</td>\n",
              "      <td>Insolite : il supprime 50 000 tweets en une nu...</td>\n",
              "      <td>insolite il supprime tweet en un nuit c être d...</td>\n",
              "      <td>insolite supprime nuit etre nuire vendredi sam...</td>\n",
              "    </tr>\n",
              "  </tbody>\n",
              "</table>\n",
              "<p>27816 rows × 4 columns</p>\n",
              "</div>\n",
              "      <button class=\"colab-df-convert\" onclick=\"convertToInteractive('df-c9020cbb-00b5-4dd8-8402-f82767a4b62e')\"\n",
              "              title=\"Convert this dataframe to an interactive table.\"\n",
              "              style=\"display:none;\">\n",
              "        \n",
              "  <svg xmlns=\"http://www.w3.org/2000/svg\" height=\"24px\"viewBox=\"0 0 24 24\"\n",
              "       width=\"24px\">\n",
              "    <path d=\"M0 0h24v24H0V0z\" fill=\"none\"/>\n",
              "    <path d=\"M18.56 5.44l.94 2.06.94-2.06 2.06-.94-2.06-.94-.94-2.06-.94 2.06-2.06.94zm-11 1L8.5 8.5l.94-2.06 2.06-.94-2.06-.94L8.5 2.5l-.94 2.06-2.06.94zm10 10l.94 2.06.94-2.06 2.06-.94-2.06-.94-.94-2.06-.94 2.06-2.06.94z\"/><path d=\"M17.41 7.96l-1.37-1.37c-.4-.4-.92-.59-1.43-.59-.52 0-1.04.2-1.43.59L10.3 9.45l-7.72 7.72c-.78.78-.78 2.05 0 2.83L4 21.41c.39.39.9.59 1.41.59.51 0 1.02-.2 1.41-.59l7.78-7.78 2.81-2.81c.8-.78.8-2.07 0-2.86zM5.41 20L4 18.59l7.72-7.72 1.47 1.35L5.41 20z\"/>\n",
              "  </svg>\n",
              "      </button>\n",
              "      \n",
              "  <style>\n",
              "    .colab-df-container {\n",
              "      display:flex;\n",
              "      flex-wrap:wrap;\n",
              "      gap: 12px;\n",
              "    }\n",
              "\n",
              "    .colab-df-convert {\n",
              "      background-color: #E8F0FE;\n",
              "      border: none;\n",
              "      border-radius: 50%;\n",
              "      cursor: pointer;\n",
              "      display: none;\n",
              "      fill: #1967D2;\n",
              "      height: 32px;\n",
              "      padding: 0 0 0 0;\n",
              "      width: 32px;\n",
              "    }\n",
              "\n",
              "    .colab-df-convert:hover {\n",
              "      background-color: #E2EBFA;\n",
              "      box-shadow: 0px 1px 2px rgba(60, 64, 67, 0.3), 0px 1px 3px 1px rgba(60, 64, 67, 0.15);\n",
              "      fill: #174EA6;\n",
              "    }\n",
              "\n",
              "    [theme=dark] .colab-df-convert {\n",
              "      background-color: #3B4455;\n",
              "      fill: #D2E3FC;\n",
              "    }\n",
              "\n",
              "    [theme=dark] .colab-df-convert:hover {\n",
              "      background-color: #434B5C;\n",
              "      box-shadow: 0px 1px 3px 1px rgba(0, 0, 0, 0.15);\n",
              "      filter: drop-shadow(0px 1px 2px rgba(0, 0, 0, 0.3));\n",
              "      fill: #FFFFFF;\n",
              "    }\n",
              "  </style>\n",
              "\n",
              "      <script>\n",
              "        const buttonEl =\n",
              "          document.querySelector('#df-c9020cbb-00b5-4dd8-8402-f82767a4b62e button.colab-df-convert');\n",
              "        buttonEl.style.display =\n",
              "          google.colab.kernel.accessAllowed ? 'block' : 'none';\n",
              "\n",
              "        async function convertToInteractive(key) {\n",
              "          const element = document.querySelector('#df-c9020cbb-00b5-4dd8-8402-f82767a4b62e');\n",
              "          const dataTable =\n",
              "            await google.colab.kernel.invokeFunction('convertToInteractive',\n",
              "                                                     [key], {});\n",
              "          if (!dataTable) return;\n",
              "\n",
              "          const docLinkHtml = 'Like what you see? Visit the ' +\n",
              "            '<a target=\"_blank\" href=https://colab.research.google.com/notebooks/data_table.ipynb>data table notebook</a>'\n",
              "            + ' to learn more about interactive tables.';\n",
              "          element.innerHTML = '';\n",
              "          dataTable['output_type'] = 'display_data';\n",
              "          await google.colab.output.renderOutput(dataTable, element);\n",
              "          const docLink = document.createElement('div');\n",
              "          docLink.innerHTML = docLinkHtml;\n",
              "          element.appendChild(docLink);\n",
              "        }\n",
              "      </script>\n",
              "    </div>\n",
              "  </div>\n",
              "  "
            ],
            "text/plain": [
              "       Fake  ...                                        final_clean\n",
              "0         0  ...  tente incendier femme indemne gravement bruler...\n",
              "1         0  ...  etre renaud avoir faire retour scene octobre a...\n",
              "2         0  ...  tailleur rouge message avoir vouloir envoyer h...\n",
              "3         0  ...  foot ligue tout resultat eme journee octobre m...\n",
              "4         0  ...  abonner podcast pouvoir abonner telechargement...\n",
              "...     ...  ...                                                ...\n",
              "27811     1  ...  pourcent libanais refaire onu demande liban ar...\n",
              "27812     1  ...  refugier syrien humilier empeche famill rom tr...\n",
              "27813     1  ...  mehdi meklat lance banane christiane taubira a...\n",
              "27814     1  ...  visite afghanistan marine pen refuse participe...\n",
              "27815     1  ...  insolite supprime nuit etre nuire vendredi sam...\n",
              "\n",
              "[27816 rows x 4 columns]"
            ]
          },
          "metadata": {},
          "execution_count": 3
        }
      ]
    },
    {
      "cell_type": "code",
      "metadata": {
        "colab": {
          "base_uri": "https://localhost:8080/"
        },
        "id": "xZOe7u-A7f78",
        "outputId": "33af1395-4d7f-4088-9647-6472710adfca"
      },
      "source": [
        "data['Fake'].value_counts()"
      ],
      "execution_count": null,
      "outputs": [
        {
          "output_type": "execute_result",
          "data": {
            "text/plain": [
              "1    14487\n",
              "0    13329\n",
              "Name: Fake, dtype: int64"
            ]
          },
          "metadata": {},
          "execution_count": 9
        }
      ]
    },
    {
      "cell_type": "code",
      "metadata": {
        "id": "z2sediQZMQd6"
      },
      "source": [
        "docs = data.clean_with_stopwords.values\n",
        "labels = data.Fake.values"
      ],
      "execution_count": null,
      "outputs": []
    },
    {
      "cell_type": "markdown",
      "metadata": {
        "id": "Uk2Egc2KEWOZ"
      },
      "source": [
        "*TOKENIZATION*"
      ]
    },
    {
      "cell_type": "code",
      "metadata": {
        "id": "wTwJ2eDeEWYl"
      },
      "source": [
        "t = Tokenizer()\n",
        "t.fit_on_texts(docs)\n",
        "vocab_size = len(t.word_index) + 1  # I add one because it starts counting from 0"
      ],
      "execution_count": null,
      "outputs": []
    },
    {
      "cell_type": "markdown",
      "metadata": {
        "id": "LihzzDpoEZw6"
      },
      "source": [
        "*DIVIDE DATA INTO TRAIN/VALIDATE/TEST*"
      ]
    },
    {
      "cell_type": "code",
      "metadata": {
        "id": "To4_1-bxMdjY"
      },
      "source": [
        "# divide the data into train/validate\n",
        "\n",
        "from sklearn.model_selection import train_test_split\n",
        "\n",
        "\n",
        "sentences_train, sentences_valid, y_train, y_valid = train_test_split(\n",
        "    docs, labels, test_size=0.20, random_state=1000)"
      ],
      "execution_count": null,
      "outputs": []
    },
    {
      "cell_type": "markdown",
      "metadata": {
        "id": "aoVcYqJMEdwq"
      },
      "source": [
        "*PADDING: USE KERAS TOKENIZER TO TURN TRAIN AND VALID DOCS TO SEQUENCES*"
      ]
    },
    {
      "cell_type": "code",
      "metadata": {
        "colab": {
          "base_uri": "https://localhost:8080/"
        },
        "id": "CeqbMAw5Mdlq",
        "outputId": "93af6ce7-1b6d-4da8-b1ff-48bbcf10e8d8"
      },
      "source": [
        "X_train = t.texts_to_sequences(sentences_train)\n",
        "X_valid = t.texts_to_sequences(sentences_valid)\n",
        "\n",
        "\n",
        "print(sentences_train[2])\n",
        "print(X_train[2])"
      ],
      "execution_count": null,
      "outputs": [
        {
          "output_type": "stream",
          "name": "stdout",
          "text": [
            "jessica leeds an ancien femme de affaire lieu dans un avion date au début de année accusation il être comme un pieuvre son main être partout source le new york time rachel crook le trentaine réceptionniste à le époque lieu à le sortie de un ascenseur de le trump tower à new york date accusation après avoir simplement faire connaissance et échanger un poignée de main il me avoir embrasser directement sur le bouche source le new york time jill harth travailler pour un concours de beauté lieu à mar avoir lago le domaine de trump en floride date janvier accusation je admirer le décoration et le seul chose dont je me souvenir ensuite ce être que il me pousse contre un mur et mettre son main partout sur moi source le new york time mindy mcgillivray an qui être assister photographe lieu à mar avoir lago le domaine de trump en floride date janvier accusation ce être plutôt un pelotage appuyé plus que un simple attouchement ce être très près de centre de mon fesse je être abasourdir source le palm beach post natasha stoynoff qui collaborer au magazine peopl lieu à mar avoir lago le domaine de trump en floride date décembre accusation trump avoir fermer le porte derrière nous je me être retourner et en le espace de quelque seconde il être en train de me plaquer contre le mur et de enfoncer son langue dans mon gorge source magazine peopl cassandra searle ancien miss washington lieu concours de miss etatsuni date accusation il ne vouloir probablement pas que je raconte le histoire de ce époque quand il me peloter continuellement le fesse et me inviter dans son chambre de hôtel source son page rapporter par yahoo temple taggart mcdowell ancien miss utah lieu concours miss user à shreveport en louisiane date accusation ce être à ce moment là que il se être retourner vers moi me avoir donner un accolade et me avoir embrasser sur le bouche source nbc news trump se enfoncer dans le crise le avocat de magnat de le immobilier avoir rendre public un lettre adressée au new york time exiger que le journal retir son article infondé et diffamatoire reproduire un allégation malintentionnée mais malgré le démenti formel et rapide ce nouveau accusation avoir à nouveau emballer le machine médiatique avec un effet dévastateur augmenter par le répétition et nombre de responsable républicain avoir définitivement perdre le espoir de le voir à le maison blanc en face le candidat démocrate hillary clinton martèl désormais le message que barrer le route à donald trump être un devoir moral le femme avoir le pouvoir de stopper trump affirme t elle il avoir également recevoir jeudi un volée de bois vert de michelle obama quel que être le parti auquel on appartenir démocrate républicain ou indépendant aucun femme ne mérite de être traiter de ce façon personne ne mérite ce genre de injure assiéger de tout part donald trump continuer jeudi à affirmer ce attaque être orchestrer par le clinton et leur allié chez le média s mais le mal être faire v endredi dernier le publication de un vidéo de dans lequel on entendre le trublion républicain dire un mot machiste et misogyne avoir déclencher un tempête dans ce contexte le nouveau accusation tourner en boucle sur le média américain risquer de peser lourd pour donald trump sur le même sujetaccuser de agression sexuel assiéger de tout part trump tente de enrayer son chute\n",
            "[6520, 20171, 46, 146, 121, 2, 193, 214, 15, 3, 415, 610, 20, 199, 2, 75, 1826, 11, 4, 42, 3, 21517, 16, 319, 4, 1058, 321, 1, 494, 895, 1862, 9585, 53175, 1, 3258, 13800, 5, 1, 789, 214, 5, 1, 583, 2, 3, 6942, 2, 1, 205, 10409, 5, 494, 895, 610, 1826, 48, 6, 827, 24, 1784, 7, 2537, 3, 4797, 2, 319, 11, 104, 6, 3909, 852, 18, 1, 1939, 321, 1, 494, 895, 1862, 14501, 105865, 372, 12, 3, 1882, 2, 2100, 214, 5, 7889, 6, 14112, 1, 892, 2, 205, 8, 2618, 610, 511, 1826, 34, 5841, 1, 5660, 7, 1, 142, 189, 115, 34, 104, 944, 371, 10, 4, 14, 11, 104, 4752, 76, 3, 1086, 7, 65, 16, 319, 1058, 18, 186, 321, 1, 494, 895, 1862, 39434, 53177, 46, 17, 4, 1203, 2674, 214, 5, 7889, 6, 14112, 1, 892, 2, 205, 8, 2618, 610, 511, 1826, 10, 4, 499, 3, 105866, 16473, 23, 14, 3, 477, 9972, 10, 4, 61, 210, 2, 248, 2, 60, 2471, 34, 4, 29656, 321, 1, 16702, 9603, 2646, 27604, 105867, 17, 5652, 20, 1370, 3848, 214, 5, 7889, 6, 14112, 1, 892, 2, 205, 8, 2618, 610, 479, 1826, 205, 6, 1031, 1, 385, 756, 30, 34, 104, 4, 1833, 7, 8, 1, 820, 2, 91, 1626, 11, 4, 8, 381, 2, 104, 10668, 76, 1, 1086, 7, 2, 4598, 16, 1257, 15, 60, 4125, 321, 1370, 3848, 19329, 53178, 146, 1676, 1482, 214, 1882, 2, 1676, 7325, 610, 1826, 11, 25, 78, 1571, 19, 14, 34, 1724, 1, 259, 2, 10, 789, 99, 11, 104, 21101, 16447, 1, 2471, 7, 104, 1252, 15, 16, 997, 2, 1010, 321, 16, 653, 1613, 21, 5711, 6445, 53176, 60014, 146, 1676, 13883, 214, 1882, 1676, 3680, 5, 105868, 8, 21188, 610, 1826, 10, 4, 5, 10, 224, 131, 14, 11, 22, 4, 1833, 206, 186, 104, 6, 153, 3, 14384, 7, 104, 6, 3909, 18, 1, 1939, 321, 8818, 3815, 205, 22, 4598, 15, 1, 629, 1, 646, 2, 6317, 2, 1, 1694, 6, 170, 147, 3, 781, 16349, 20, 494, 895, 1862, 1993, 14, 1, 504, 18247, 16, 122, 8336, 7, 17206, 2393, 3, 7865, 105869, 31, 396, 1, 15612, 3935, 7, 1485, 10, 51, 1826, 6, 5, 51, 6116, 1, 1311, 2108, 29, 3, 154, 6959, 1055, 21, 1, 4808, 7, 295, 2, 391, 558, 6, 1746, 305, 1, 1275, 2, 1, 64, 5, 1, 290, 568, 8, 167, 1, 158, 1263, 863, 633, 10138, 335, 1, 616, 14, 6991, 1, 611, 5, 339, 205, 4, 3, 50, 2199, 1, 121, 6, 1, 36, 2, 3876, 205, 840, 88, 786, 11, 6, 124, 254, 430, 3, 9679, 2, 1423, 1005, 2, 30810, 1430, 346, 14, 4, 1, 247, 3077, 32, 1992, 1263, 558, 39, 1641, 161, 121, 25, 2558, 2, 4, 1395, 2, 10, 428, 84, 25, 2558, 10, 522, 2, 8421, 6509, 2, 26, 228, 339, 205, 458, 430, 5, 532, 10, 623, 4, 6171, 21, 1, 633, 7, 37, 2850, 136, 1, 162, 38, 31, 1, 340, 4, 24, 2332, 46186, 68, 1, 1381, 2, 3, 203, 2, 15, 235, 32, 350, 1, 12669, 558, 59, 3, 362, 12305, 7, 10884, 6, 2038, 3, 2368, 15, 10, 1771, 1, 51, 1826, 811, 8, 3450, 18, 1, 162, 140, 1644, 2, 2164, 1575, 12, 339, 205, 18, 1, 41, 105870, 2, 1178, 828, 6509, 2, 26, 228, 205, 1633, 2, 9080, 16, 1709]\n"
          ]
        }
      ]
    },
    {
      "cell_type": "code",
      "metadata": {
        "colab": {
          "base_uri": "https://localhost:8080/"
        },
        "id": "tTe28qgrMQgI",
        "outputId": "80c27799-4a63-4ef3-da95-6dd5ba5ad7d2"
      },
      "source": [
        "maxlen = 3527\n",
        "\n",
        "X_train = pad_sequences(X_train, padding='post', maxlen=maxlen)\n",
        "X_valid = pad_sequences(X_valid, padding='post', maxlen=maxlen)\n",
        "\n",
        "print(X_train[1, :])"
      ],
      "execution_count": null,
      "outputs": [
        {
          "output_type": "stream",
          "name": "stdout",
          "text": [
            "[15564 11988     2 ...     0     0     0]\n"
          ]
        }
      ]
    },
    {
      "cell_type": "markdown",
      "metadata": {
        "id": "kXAFjPH1ErDV"
      },
      "source": [
        "*CREATE A MATRIX OF EMBEDDINGS*"
      ]
    },
    {
      "cell_type": "code",
      "metadata": {
        "colab": {
          "base_uri": "https://localhost:8080/",
          "height": 488
        },
        "id": "NlFs3gYMN0Mq",
        "outputId": "45a28f26-7e37-48be-d1b4-84b636f874dc"
      },
      "source": [
        "!pip install -U pip setuptools wheel"
      ],
      "execution_count": null,
      "outputs": [
        {
          "output_type": "stream",
          "name": "stdout",
          "text": [
            "Requirement already satisfied: pip in /usr/local/lib/python3.7/dist-packages (21.1.3)\n",
            "Collecting pip\n",
            "  Downloading pip-21.3.1-py3-none-any.whl (1.7 MB)\n",
            "\u001b[K     |████████████████████████████████| 1.7 MB 5.1 MB/s \n",
            "\u001b[?25hRequirement already satisfied: setuptools in /usr/local/lib/python3.7/dist-packages (57.4.0)\n",
            "Collecting setuptools\n",
            "  Downloading setuptools-60.0.3-py3-none-any.whl (952 kB)\n",
            "\u001b[K     |████████████████████████████████| 952 kB 49.8 MB/s \n",
            "\u001b[?25hRequirement already satisfied: wheel in /usr/local/lib/python3.7/dist-packages (0.37.0)\n",
            "Installing collected packages: setuptools, pip\n",
            "  Attempting uninstall: setuptools\n",
            "    Found existing installation: setuptools 57.4.0\n",
            "    Uninstalling setuptools-57.4.0:\n",
            "      Successfully uninstalled setuptools-57.4.0\n",
            "  Attempting uninstall: pip\n",
            "    Found existing installation: pip 21.1.3\n",
            "    Uninstalling pip-21.1.3:\n",
            "      Successfully uninstalled pip-21.1.3\n",
            "\u001b[31mERROR: pip's dependency resolver does not currently take into account all the packages that are installed. This behaviour is the source of the following dependency conflicts.\n",
            "datascience 0.10.6 requires folium==0.2.1, but you have folium 0.8.3 which is incompatible.\u001b[0m\n",
            "Successfully installed pip-21.3.1 setuptools-60.0.3\n"
          ]
        },
        {
          "output_type": "display_data",
          "data": {
            "application/vnd.colab-display-data+json": {
              "pip_warning": {
                "packages": [
                  "pkg_resources"
                ]
              }
            }
          },
          "metadata": {}
        }
      ]
    },
    {
      "cell_type": "code",
      "metadata": {
        "colab": {
          "base_uri": "https://localhost:8080/"
        },
        "id": "N4ypMR3wN0Mq",
        "outputId": "0ef73e1f-b08b-4497-ad8f-2f2cbfbbf708"
      },
      "source": [
        "!pip install -U spacy"
      ],
      "execution_count": null,
      "outputs": [
        {
          "output_type": "stream",
          "name": "stdout",
          "text": [
            "Requirement already satisfied: spacy in /usr/local/lib/python3.7/dist-packages (2.2.4)\n",
            "Collecting spacy\n",
            "  Downloading spacy-3.2.1-cp37-cp37m-manylinux_2_17_x86_64.manylinux2014_x86_64.whl (6.0 MB)\n",
            "     |████████████████████████████████| 6.0 MB 4.8 MB/s            \n",
            "\u001b[?25hRequirement already satisfied: cymem<2.1.0,>=2.0.2 in /usr/local/lib/python3.7/dist-packages (from spacy) (2.0.6)\n",
            "Collecting pathy>=0.3.5\n",
            "  Downloading pathy-0.6.1-py3-none-any.whl (42 kB)\n",
            "     |████████████████████████████████| 42 kB 1.3 MB/s             \n",
            "\u001b[?25hRequirement already satisfied: murmurhash<1.1.0,>=0.28.0 in /usr/local/lib/python3.7/dist-packages (from spacy) (1.0.6)\n",
            "Requirement already satisfied: wasabi<1.1.0,>=0.8.1 in /usr/local/lib/python3.7/dist-packages (from spacy) (0.8.2)\n",
            "Requirement already satisfied: jinja2 in /usr/local/lib/python3.7/dist-packages (from spacy) (2.11.3)\n",
            "Requirement already satisfied: setuptools in /usr/local/lib/python3.7/dist-packages (from spacy) (60.0.3)\n",
            "Collecting pydantic!=1.8,!=1.8.1,<1.9.0,>=1.7.4\n",
            "  Downloading pydantic-1.8.2-cp37-cp37m-manylinux2014_x86_64.whl (10.1 MB)\n",
            "     |████████████████████████████████| 10.1 MB 52.9 MB/s            \n",
            "\u001b[?25hRequirement already satisfied: requests<3.0.0,>=2.13.0 in /usr/local/lib/python3.7/dist-packages (from spacy) (2.23.0)\n",
            "Requirement already satisfied: numpy>=1.15.0 in /usr/local/lib/python3.7/dist-packages (from spacy) (1.19.5)\n",
            "Collecting langcodes<4.0.0,>=3.2.0\n",
            "  Downloading langcodes-3.3.0-py3-none-any.whl (181 kB)\n",
            "     |████████████████████████████████| 181 kB 67.2 MB/s            \n",
            "\u001b[?25hRequirement already satisfied: blis<0.8.0,>=0.4.0 in /usr/local/lib/python3.7/dist-packages (from spacy) (0.4.1)\n",
            "Collecting spacy-loggers<2.0.0,>=1.0.0\n",
            "  Downloading spacy_loggers-1.0.1-py3-none-any.whl (7.0 kB)\n",
            "Requirement already satisfied: tqdm<5.0.0,>=4.38.0 in /usr/local/lib/python3.7/dist-packages (from spacy) (4.62.3)\n",
            "Requirement already satisfied: packaging>=20.0 in /usr/local/lib/python3.7/dist-packages (from spacy) (21.3)\n",
            "Collecting thinc<8.1.0,>=8.0.12\n",
            "  Downloading thinc-8.0.13-cp37-cp37m-manylinux_2_17_x86_64.manylinux2014_x86_64.whl (628 kB)\n",
            "     |████████████████████████████████| 628 kB 54.8 MB/s            \n",
            "\u001b[?25hRequirement already satisfied: typing-extensions<4.0.0.0,>=3.7.4 in /usr/local/lib/python3.7/dist-packages (from spacy) (3.10.0.2)\n",
            "Collecting spacy-legacy<3.1.0,>=3.0.8\n",
            "  Downloading spacy_legacy-3.0.8-py2.py3-none-any.whl (14 kB)\n",
            "Requirement already satisfied: preshed<3.1.0,>=3.0.2 in /usr/local/lib/python3.7/dist-packages (from spacy) (3.0.6)\n",
            "Collecting srsly<3.0.0,>=2.4.1\n",
            "  Downloading srsly-2.4.2-cp37-cp37m-manylinux_2_17_x86_64.manylinux2014_x86_64.whl (451 kB)\n",
            "     |████████████████████████████████| 451 kB 60.7 MB/s            \n",
            "\u001b[?25hCollecting typer<0.5.0,>=0.3.0\n",
            "  Downloading typer-0.4.0-py3-none-any.whl (27 kB)\n",
            "Collecting catalogue<2.1.0,>=2.0.6\n",
            "  Downloading catalogue-2.0.6-py3-none-any.whl (17 kB)\n",
            "Requirement already satisfied: zipp>=0.5 in /usr/local/lib/python3.7/dist-packages (from catalogue<2.1.0,>=2.0.6->spacy) (3.6.0)\n",
            "Requirement already satisfied: pyparsing!=3.0.5,>=2.0.2 in /usr/local/lib/python3.7/dist-packages (from packaging>=20.0->spacy) (3.0.6)\n",
            "Requirement already satisfied: smart-open<6.0.0,>=5.0.0 in /usr/local/lib/python3.7/dist-packages (from pathy>=0.3.5->spacy) (5.2.1)\n",
            "Requirement already satisfied: idna<3,>=2.5 in /usr/local/lib/python3.7/dist-packages (from requests<3.0.0,>=2.13.0->spacy) (2.10)\n",
            "Requirement already satisfied: chardet<4,>=3.0.2 in /usr/local/lib/python3.7/dist-packages (from requests<3.0.0,>=2.13.0->spacy) (3.0.4)\n",
            "Requirement already satisfied: certifi>=2017.4.17 in /usr/local/lib/python3.7/dist-packages (from requests<3.0.0,>=2.13.0->spacy) (2021.10.8)\n",
            "Requirement already satisfied: urllib3!=1.25.0,!=1.25.1,<1.26,>=1.21.1 in /usr/local/lib/python3.7/dist-packages (from requests<3.0.0,>=2.13.0->spacy) (1.24.3)\n",
            "Requirement already satisfied: click<9.0.0,>=7.1.1 in /usr/local/lib/python3.7/dist-packages (from typer<0.5.0,>=0.3.0->spacy) (7.1.2)\n",
            "Requirement already satisfied: MarkupSafe>=0.23 in /usr/local/lib/python3.7/dist-packages (from jinja2->spacy) (2.0.1)\n",
            "Installing collected packages: catalogue, typer, srsly, pydantic, thinc, spacy-loggers, spacy-legacy, pathy, langcodes, spacy\n",
            "  Attempting uninstall: catalogue\n",
            "    Found existing installation: catalogue 1.0.0\n",
            "    Uninstalling catalogue-1.0.0:\n",
            "      Successfully uninstalled catalogue-1.0.0\n",
            "  Attempting uninstall: srsly\n",
            "    Found existing installation: srsly 1.0.5\n",
            "    Uninstalling srsly-1.0.5:\n",
            "      Successfully uninstalled srsly-1.0.5\n",
            "  Attempting uninstall: thinc\n",
            "    Found existing installation: thinc 7.4.0\n",
            "    Uninstalling thinc-7.4.0:\n",
            "      Successfully uninstalled thinc-7.4.0\n",
            "  Attempting uninstall: spacy\n",
            "    Found existing installation: spacy 2.2.4\n",
            "    Uninstalling spacy-2.2.4:\n",
            "      Successfully uninstalled spacy-2.2.4\n",
            "Successfully installed catalogue-2.0.6 langcodes-3.3.0 pathy-0.6.1 pydantic-1.8.2 spacy-3.2.1 spacy-legacy-3.0.8 spacy-loggers-1.0.1 srsly-2.4.2 thinc-8.0.13 typer-0.4.0\n",
            "\u001b[33mWARNING: Running pip as the 'root' user can result in broken permissions and conflicting behaviour with the system package manager. It is recommended to use a virtual environment instead: https://pip.pypa.io/warnings/venv\u001b[0m\n"
          ]
        }
      ]
    },
    {
      "cell_type": "code",
      "metadata": {
        "colab": {
          "base_uri": "https://localhost:8080/"
        },
        "id": "CdhVkHg5N0Mr",
        "outputId": "93707d62-ba76-4831-9291-1fac417dfabc"
      },
      "source": [
        "!python -m spacy download fr_core_news_sm"
      ],
      "execution_count": null,
      "outputs": [
        {
          "output_type": "stream",
          "name": "stdout",
          "text": [
            "Collecting fr-core-news-sm==3.2.0\n",
            "  Downloading https://github.com/explosion/spacy-models/releases/download/fr_core_news_sm-3.2.0/fr_core_news_sm-3.2.0-py3-none-any.whl (17.4 MB)\n",
            "     |████████████████████████████████| 17.4 MB 392 kB/s            \n",
            "\u001b[?25hRequirement already satisfied: spacy<3.3.0,>=3.2.0 in /usr/local/lib/python3.7/dist-packages (from fr-core-news-sm==3.2.0) (3.2.1)\n",
            "Requirement already satisfied: typing-extensions<4.0.0.0,>=3.7.4 in /usr/local/lib/python3.7/dist-packages (from spacy<3.3.0,>=3.2.0->fr-core-news-sm==3.2.0) (3.10.0.2)\n",
            "Requirement already satisfied: murmurhash<1.1.0,>=0.28.0 in /usr/local/lib/python3.7/dist-packages (from spacy<3.3.0,>=3.2.0->fr-core-news-sm==3.2.0) (1.0.6)\n",
            "Requirement already satisfied: pathy>=0.3.5 in /usr/local/lib/python3.7/dist-packages (from spacy<3.3.0,>=3.2.0->fr-core-news-sm==3.2.0) (0.6.1)\n",
            "Requirement already satisfied: preshed<3.1.0,>=3.0.2 in /usr/local/lib/python3.7/dist-packages (from spacy<3.3.0,>=3.2.0->fr-core-news-sm==3.2.0) (3.0.6)\n",
            "Requirement already satisfied: spacy-loggers<2.0.0,>=1.0.0 in /usr/local/lib/python3.7/dist-packages (from spacy<3.3.0,>=3.2.0->fr-core-news-sm==3.2.0) (1.0.1)\n",
            "Requirement already satisfied: jinja2 in /usr/local/lib/python3.7/dist-packages (from spacy<3.3.0,>=3.2.0->fr-core-news-sm==3.2.0) (2.11.3)\n",
            "Requirement already satisfied: numpy>=1.15.0 in /usr/local/lib/python3.7/dist-packages (from spacy<3.3.0,>=3.2.0->fr-core-news-sm==3.2.0) (1.19.5)\n",
            "Requirement already satisfied: pydantic!=1.8,!=1.8.1,<1.9.0,>=1.7.4 in /usr/local/lib/python3.7/dist-packages (from spacy<3.3.0,>=3.2.0->fr-core-news-sm==3.2.0) (1.8.2)\n",
            "Requirement already satisfied: typer<0.5.0,>=0.3.0 in /usr/local/lib/python3.7/dist-packages (from spacy<3.3.0,>=3.2.0->fr-core-news-sm==3.2.0) (0.4.0)\n",
            "Requirement already satisfied: packaging>=20.0 in /usr/local/lib/python3.7/dist-packages (from spacy<3.3.0,>=3.2.0->fr-core-news-sm==3.2.0) (21.3)\n",
            "Requirement already satisfied: catalogue<2.1.0,>=2.0.6 in /usr/local/lib/python3.7/dist-packages (from spacy<3.3.0,>=3.2.0->fr-core-news-sm==3.2.0) (2.0.6)\n",
            "Requirement already satisfied: tqdm<5.0.0,>=4.38.0 in /usr/local/lib/python3.7/dist-packages (from spacy<3.3.0,>=3.2.0->fr-core-news-sm==3.2.0) (4.62.3)\n",
            "Requirement already satisfied: setuptools in /usr/local/lib/python3.7/dist-packages (from spacy<3.3.0,>=3.2.0->fr-core-news-sm==3.2.0) (60.0.3)\n",
            "Requirement already satisfied: spacy-legacy<3.1.0,>=3.0.8 in /usr/local/lib/python3.7/dist-packages (from spacy<3.3.0,>=3.2.0->fr-core-news-sm==3.2.0) (3.0.8)\n",
            "Requirement already satisfied: requests<3.0.0,>=2.13.0 in /usr/local/lib/python3.7/dist-packages (from spacy<3.3.0,>=3.2.0->fr-core-news-sm==3.2.0) (2.23.0)\n",
            "Requirement already satisfied: thinc<8.1.0,>=8.0.12 in /usr/local/lib/python3.7/dist-packages (from spacy<3.3.0,>=3.2.0->fr-core-news-sm==3.2.0) (8.0.13)\n",
            "Requirement already satisfied: cymem<2.1.0,>=2.0.2 in /usr/local/lib/python3.7/dist-packages (from spacy<3.3.0,>=3.2.0->fr-core-news-sm==3.2.0) (2.0.6)\n",
            "Requirement already satisfied: blis<0.8.0,>=0.4.0 in /usr/local/lib/python3.7/dist-packages (from spacy<3.3.0,>=3.2.0->fr-core-news-sm==3.2.0) (0.4.1)\n",
            "Requirement already satisfied: langcodes<4.0.0,>=3.2.0 in /usr/local/lib/python3.7/dist-packages (from spacy<3.3.0,>=3.2.0->fr-core-news-sm==3.2.0) (3.3.0)\n",
            "Requirement already satisfied: wasabi<1.1.0,>=0.8.1 in /usr/local/lib/python3.7/dist-packages (from spacy<3.3.0,>=3.2.0->fr-core-news-sm==3.2.0) (0.8.2)\n",
            "Requirement already satisfied: srsly<3.0.0,>=2.4.1 in /usr/local/lib/python3.7/dist-packages (from spacy<3.3.0,>=3.2.0->fr-core-news-sm==3.2.0) (2.4.2)\n",
            "Requirement already satisfied: zipp>=0.5 in /usr/local/lib/python3.7/dist-packages (from catalogue<2.1.0,>=2.0.6->spacy<3.3.0,>=3.2.0->fr-core-news-sm==3.2.0) (3.6.0)\n",
            "Requirement already satisfied: pyparsing!=3.0.5,>=2.0.2 in /usr/local/lib/python3.7/dist-packages (from packaging>=20.0->spacy<3.3.0,>=3.2.0->fr-core-news-sm==3.2.0) (3.0.6)\n",
            "Requirement already satisfied: smart-open<6.0.0,>=5.0.0 in /usr/local/lib/python3.7/dist-packages (from pathy>=0.3.5->spacy<3.3.0,>=3.2.0->fr-core-news-sm==3.2.0) (5.2.1)\n",
            "Requirement already satisfied: chardet<4,>=3.0.2 in /usr/local/lib/python3.7/dist-packages (from requests<3.0.0,>=2.13.0->spacy<3.3.0,>=3.2.0->fr-core-news-sm==3.2.0) (3.0.4)\n",
            "Requirement already satisfied: urllib3!=1.25.0,!=1.25.1,<1.26,>=1.21.1 in /usr/local/lib/python3.7/dist-packages (from requests<3.0.0,>=2.13.0->spacy<3.3.0,>=3.2.0->fr-core-news-sm==3.2.0) (1.24.3)\n",
            "Requirement already satisfied: certifi>=2017.4.17 in /usr/local/lib/python3.7/dist-packages (from requests<3.0.0,>=2.13.0->spacy<3.3.0,>=3.2.0->fr-core-news-sm==3.2.0) (2021.10.8)\n",
            "Requirement already satisfied: idna<3,>=2.5 in /usr/local/lib/python3.7/dist-packages (from requests<3.0.0,>=2.13.0->spacy<3.3.0,>=3.2.0->fr-core-news-sm==3.2.0) (2.10)\n",
            "Requirement already satisfied: click<9.0.0,>=7.1.1 in /usr/local/lib/python3.7/dist-packages (from typer<0.5.0,>=0.3.0->spacy<3.3.0,>=3.2.0->fr-core-news-sm==3.2.0) (7.1.2)\n",
            "Requirement already satisfied: MarkupSafe>=0.23 in /usr/local/lib/python3.7/dist-packages (from jinja2->spacy<3.3.0,>=3.2.0->fr-core-news-sm==3.2.0) (2.0.1)\n",
            "Installing collected packages: fr-core-news-sm\n",
            "Successfully installed fr-core-news-sm-3.2.0\n",
            "\u001b[33mWARNING: Running pip as the 'root' user can result in broken permissions and conflicting behaviour with the system package manager. It is recommended to use a virtual environment instead: https://pip.pypa.io/warnings/venv\u001b[0m\n",
            "\u001b[38;5;2m✔ Download and installation successful\u001b[0m\n",
            "You can now load the package via spacy.load('fr_core_news_sm')\n"
          ]
        }
      ]
    },
    {
      "cell_type": "code",
      "metadata": {
        "id": "Z_cmTzOfjTF3"
      },
      "source": [
        "import spacy\n",
        "from spacy import displacy"
      ],
      "execution_count": null,
      "outputs": []
    },
    {
      "cell_type": "code",
      "metadata": {
        "id": "Rin7leYlkFIC"
      },
      "source": [
        "nlp = spacy.load('fr_core_news_sm')"
      ],
      "execution_count": null,
      "outputs": []
    },
    {
      "cell_type": "code",
      "metadata": {
        "colab": {
          "base_uri": "https://localhost:8080/",
          "height": 35
        },
        "id": "CKCTtlmHbE9n",
        "outputId": "7e94e2fa-b8a2-4d7a-b259-e5ab759f6e11"
      },
      "source": [
        "nlp('2000 suis')[1].lemma_"
      ],
      "execution_count": null,
      "outputs": [
        {
          "output_type": "execute_result",
          "data": {
            "application/vnd.google.colaboratory.intrinsic+json": {
              "type": "string"
            },
            "text/plain": [
              "'être'"
            ]
          },
          "metadata": {},
          "execution_count": 21
        }
      ]
    },
    {
      "cell_type": "code",
      "metadata": {
        "id": "fhAUIZRXZxlR"
      },
      "source": [
        "import re \n",
        "\n",
        "def clean_data(text):\n",
        "    text = text.lower()\n",
        "    text = re.sub(r'<br />', ' ', text) #Removes Html tag\n",
        "    text = re.sub(r'[^\\ a-zá-úà-ùä-üâ-ûã-õ]+', '', text)  #Removes non-alphabetic characters\n",
        "    text = re.sub('http[s]?://(?:[a-zA-Z]|[0-9]|[$-_@.&+]|[!*\\(\\),]|(?:%[0-9a-fA-F][0-9a-fA-F]))+', ' ',text)\n",
        " \n",
        "    text = re.sub(r'^\\s*|\\s\\s*', ' ', text).strip() #Removes extra whitespace, tabs\n",
        "   \n",
        "    if len(text)>1:\n",
        "    #print(text,nlp(text))\n",
        "      text=nlp(str(text))[0].lemma_\n",
        "\n",
        "    return text"
      ],
      "execution_count": null,
      "outputs": []
    },
    {
      "cell_type": "code",
      "metadata": {
        "id": "4tNTliaJMiR2"
      },
      "source": [
        "def create_embedding_matrix(filepath, word_index, embedding_dim):\n",
        "    vocab_size = len(word_index) + 1  # Adding again 1 because of reserved 0 index\n",
        "    embedding_matrix = np.zeros((vocab_size, embedding_dim))\n",
        "\n",
        "    with open(filepath) as f:\n",
        "        for line in f:\n",
        "            word, *vector = line.split()\n",
        "            word=clean_data(word)\n",
        "        \n",
        "            if word in word_index:\n",
        "                idx = word_index[word] \n",
        "                embedding_matrix[idx] = np.array(\n",
        "                    vector, dtype=np.float32)[:embedding_dim]\n",
        "            # else:\n",
        "            #   print(word)\n",
        "\n",
        "    return embedding_matrix"
      ],
      "execution_count": null,
      "outputs": []
    },
    {
      "cell_type": "markdown",
      "metadata": {
        "id": "9bad9liMEutt"
      },
      "source": [
        "*LOAD PRE-TRAINED WORD EMBEDDINGS ~ 300 DIMENSIONS*"
      ]
    },
    {
      "cell_type": "code",
      "metadata": {
        "id": "Hf0iPuKiMiUI"
      },
      "source": [
        "embedding_dim = 300\n",
        "embedding_matrix = create_embedding_matrix(\n",
        "        '/content/drive/MyDrive/thesiss/cc.fr.300.vec',\n",
        "        t.word_index, embedding_dim)"
      ],
      "execution_count": null,
      "outputs": []
    },
    {
      "cell_type": "markdown",
      "metadata": {
        "id": "2Yvhhv-IE3YN"
      },
      "source": [
        "*HOW MANY OF THE EMBEDDING VECTORS ARE NON-ZERO*"
      ]
    },
    {
      "cell_type": "code",
      "source": [
        "# how many of the embedding vectors are nonzero\n",
        "\n",
        "nonzero_elements = np.count_nonzero(np.count_nonzero(embedding_matrix, axis=1))\n",
        "nonzero_elements / vocab_size"
      ],
      "metadata": {
        "colab": {
          "base_uri": "https://localhost:8080/"
        },
        "id": "6H1SHhbDgmfd",
        "outputId": "b50c0854-888f-4ba7-a9b3-d35b05042648"
      },
      "execution_count": null,
      "outputs": [
        {
          "output_type": "execute_result",
          "data": {
            "text/plain": [
              "0.7747782491322792"
            ]
          },
          "metadata": {},
          "execution_count": 21
        }
      ]
    },
    {
      "cell_type": "markdown",
      "metadata": {
        "id": "Yf3n9mg7E8yT"
      },
      "source": [
        "*NEURAL NETWORK*"
      ]
    },
    {
      "cell_type": "code",
      "metadata": {
        "id": "i2PPBfE7sJEQ"
      },
      "source": [
        "from keras.models import Sequential\n",
        "from keras import layers\n",
        "model = Sequential()\n",
        "import tensorflow as tf"
      ],
      "execution_count": null,
      "outputs": []
    },
    {
      "cell_type": "code",
      "metadata": {
        "colab": {
          "base_uri": "https://localhost:8080/"
        },
        "id": "kZwMWrjRzQDU",
        "outputId": "1a0c810b-9df1-47dd-a751-a8499badd6d8"
      },
      "source": [
        "import tensorflow as tf\n",
        "from keras.layers import Conv1D, MaxPooling1D, Embedding, Dropout\n",
        "from tensorflow.keras.optimizers import Adam,SGD\n",
        "\n",
        "model = tf.keras.Sequential([\n",
        "    tf.keras.layers.Embedding(vocab_size, embedding_dim, input_length=maxlen, trainable=True),\n",
        "    tf.keras.layers.Dropout(0.1),\n",
        "    tf.keras.layers.Conv1D(64, 2, activation='relu'),\n",
        "    tf.keras.layers.MaxPooling1D(pool_size=4),\n",
        "    tf.keras.layers.Bidirectional(tf.keras.layers.LSTM(40, return_sequences=True)),\n",
        "    tf.keras.layers.Bidirectional(tf.keras.layers.LSTM(40)),\n",
        "    tf.keras.layers.Dropout(0.1),  \n",
        "    tf.keras.layers.Dense(32, activation='relu'),\n",
        "    tf.keras.layers.Dropout(0.1),  \n",
        "    tf.keras.layers.Dense(16, activation='relu'),\n",
        "    tf.keras.layers.Dense(1, activation='sigmoid')\n",
        "])\n",
        "\n",
        "adam=Adam(learning_rate=0.0001)\n",
        "model.compile(optimizer=adam,\n",
        "               loss='binary_crossentropy',\n",
        "               metrics=['accuracy'])\n",
        "model.summary()"
      ],
      "execution_count": null,
      "outputs": [
        {
          "output_type": "stream",
          "name": "stdout",
          "text": [
            "Model: \"sequential_3\"\n",
            "_________________________________________________________________\n",
            " Layer (type)                Output Shape              Param #   \n",
            "=================================================================\n",
            " embedding_2 (Embedding)     (None, 3527, 300)         39554100  \n",
            "                                                                 \n",
            " dropout_6 (Dropout)         (None, 3527, 300)         0         \n",
            "                                                                 \n",
            " conv1d_2 (Conv1D)           (None, 3526, 64)          38464     \n",
            "                                                                 \n",
            " max_pooling1d_2 (MaxPooling  (None, 881, 64)          0         \n",
            " 1D)                                                             \n",
            "                                                                 \n",
            " bidirectional_4 (Bidirectio  (None, 881, 80)          33600     \n",
            " nal)                                                            \n",
            "                                                                 \n",
            " bidirectional_5 (Bidirectio  (None, 80)               38720     \n",
            " nal)                                                            \n",
            "                                                                 \n",
            " dropout_7 (Dropout)         (None, 80)                0         \n",
            "                                                                 \n",
            " dense_6 (Dense)             (None, 32)                2592      \n",
            "                                                                 \n",
            " dropout_8 (Dropout)         (None, 32)                0         \n",
            "                                                                 \n",
            " dense_7 (Dense)             (None, 16)                528       \n",
            "                                                                 \n",
            " dense_8 (Dense)             (None, 1)                 17        \n",
            "                                                                 \n",
            "=================================================================\n",
            "Total params: 39,668,021\n",
            "Trainable params: 39,668,021\n",
            "Non-trainable params: 0\n",
            "_________________________________________________________________\n"
          ]
        }
      ]
    },
    {
      "cell_type": "markdown",
      "metadata": {
        "id": "3F6Qw0u_FCGM"
      },
      "source": [
        "*TRAIN THE MODEL*"
      ]
    },
    {
      "cell_type": "code",
      "metadata": {
        "colab": {
          "base_uri": "https://localhost:8080/"
        },
        "id": "yI9e7fOxMia9",
        "outputId": "eb9a3c54-1c5a-4ad1-f86c-e98eff5bbdec"
      },
      "source": [
        "history = model.fit(X_train, y_train,\n",
        "                    epochs=4,\n",
        "                    verbose=True,\n",
        "                    validation_data=(X_valid, y_valid),\n",
        "                    batch_size=128)"
      ],
      "execution_count": null,
      "outputs": [
        {
          "output_type": "stream",
          "name": "stdout",
          "text": [
            "Epoch 1/7\n",
            "174/174 [==============================] - 64s 322ms/step - loss: 0.5747 - accuracy: 0.7164 - val_loss: 0.2523 - val_accuracy: 0.9136\n",
            "Epoch 2/7\n",
            "174/174 [==============================] - 55s 315ms/step - loss: 0.1571 - accuracy: 0.9513 - val_loss: 0.0937 - val_accuracy: 0.9693\n",
            "Epoch 3/7\n",
            "174/174 [==============================] - 55s 315ms/step - loss: 0.0561 - accuracy: 0.9856 - val_loss: 0.0706 - val_accuracy: 0.9790\n",
            "Epoch 4/7\n",
            "174/174 [==============================] - 55s 316ms/step - loss: 0.0265 - accuracy: 0.9938 - val_loss: 0.0622 - val_accuracy: 0.9829\n",
            "Epoch 5/7\n",
            "174/174 [==============================] - 55s 316ms/step - loss: 0.0160 - accuracy: 0.9968 - val_loss: 0.0895 - val_accuracy: 0.9727\n",
            "Epoch 6/7\n",
            "174/174 [==============================] - 55s 317ms/step - loss: 0.0093 - accuracy: 0.9982 - val_loss: 0.0715 - val_accuracy: 0.9822\n",
            "Epoch 7/7\n",
            "174/174 [==============================] - 55s 317ms/step - loss: 0.0069 - accuracy: 0.9987 - val_loss: 0.0678 - val_accuracy: 0.9863\n"
          ]
        }
      ]
    },
    {
      "cell_type": "code",
      "source": [
        "import matplotlib.pyplot as plt\n",
        "\n",
        "plt.plot(history.history['accuracy'])\n",
        "plt.plot(history.history['val_accuracy'])\n",
        "plt.title('Model accuracy')\n",
        "plt.ylabel('Accuracy')\n",
        "plt.xlabel('Epoch')\n",
        "plt.legend(['Train', 'Test'], loc='upper left')\n",
        "plt.show()\n",
        "\n",
        "plt.plot(history.history['loss'])\n",
        "plt.plot(history.history['val_loss'])\n",
        "plt.title('Model loss')\n",
        "plt.ylabel('Loss')\n",
        "plt.xlabel('Epoch')\n",
        "plt.legend(['Train', 'Test'], loc='upper right')\n",
        "plt.show()"
      ],
      "metadata": {
        "colab": {
          "base_uri": "https://localhost:8080/",
          "height": 573
        },
        "id": "CQEmaTwEWj_m",
        "outputId": "4f3cb210-a1d1-4736-9298-b8a1bad34392"
      },
      "execution_count": null,
      "outputs": [
        {
          "output_type": "display_data",
          "data": {
            "image/png": "[encoded data removed]",
            "text/plain": [
              "<Figure size 432x288 with 1 Axes>"
            ]
          },
          "metadata": {
            "needs_background": "light"
          }
        },
        {
          "output_type": "display_data",
          "data": {
            "image/png": "[encoded data removed]",
            "text/plain": [
              "<Figure size 432x288 with 1 Axes>"
            ]
          },
          "metadata": {
            "needs_background": "light"
          }
        }
      ]
    },
    {
      "cell_type": "code",
      "source": [
        "y_pred_valid=(model.predict(X_valid)>0.5).astype(int)"
      ],
      "metadata": {
        "id": "sWEyoIJO-sNi"
      },
      "execution_count": null,
      "outputs": []
    },
    {
      "cell_type": "code",
      "source": [
        "from sklearn.metrics import classification_report, confusion_matrix\n",
        "print(classification_report(y_valid,y_pred_valid))"
      ],
      "metadata": {
        "colab": {
          "base_uri": "https://localhost:8080/"
        },
        "outputId": "6a5fe51e-f46b-41e9-8c8a-9c1886e44822",
        "id": "aW6mfZCE-sNk"
      },
      "execution_count": null,
      "outputs": [
        {
          "output_type": "stream",
          "name": "stdout",
          "text": [
            "              precision    recall  f1-score   support\n",
            "\n",
            "           0       0.99      0.99      0.99      2637\n",
            "           1       0.99      0.99      0.99      2927\n",
            "\n",
            "    accuracy                           0.99      5564\n",
            "   macro avg       0.99      0.99      0.99      5564\n",
            "weighted avg       0.99      0.99      0.99      5564\n",
            "\n"
          ]
        }
      ]
    },
    {
      "cell_type": "code",
      "source": [
        "confusion_matrix(y_valid,y_pred_valid)"
      ],
      "metadata": {
        "colab": {
          "base_uri": "https://localhost:8080/"
        },
        "outputId": "3e60029b-c7a9-4a1a-d576-4c7bfe43b5f2",
        "id": "CNYwBMMC-sNl"
      },
      "execution_count": null,
      "outputs": [
        {
          "output_type": "execute_result",
          "data": {
            "text/plain": [
              "array([[2600,   37],\n",
              "       [  39, 2888]])"
            ]
          },
          "metadata": {},
          "execution_count": 45
        }
      ]
    },
    {
      "cell_type": "code",
      "metadata": {
        "colab": {
          "base_uri": "https://localhost:8080/"
        },
        "id": "iMr77wIlUgQy",
        "outputId": "c8ff7b30-11a2-4bd8-d049-8d31850a046c"
      },
      "source": [
        "model.save('model1')\n",
        "loaded_model=tf.keras.models.load_model('model1')"
      ],
      "execution_count": null,
      "outputs": [
        {
          "output_type": "stream",
          "name": "stderr",
          "text": [
            "WARNING:absl:Found untraced functions such as lstm_cell_19_layer_call_fn, lstm_cell_19_layer_call_and_return_conditional_losses, lstm_cell_20_layer_call_fn, lstm_cell_20_layer_call_and_return_conditional_losses, lstm_cell_22_layer_call_fn while saving (showing 5 of 20). These functions will not be directly callable after loading.\n"
          ]
        },
        {
          "output_type": "stream",
          "name": "stdout",
          "text": [
            "INFO:tensorflow:Assets written to: model1/assets\n"
          ]
        },
        {
          "output_type": "stream",
          "name": "stderr",
          "text": [
            "INFO:tensorflow:Assets written to: model1/assets\n",
            "WARNING:absl:<keras.layers.recurrent.LSTMCell object at 0x7f55063bef50> has the same name 'LSTMCell' as a built-in Keras object. Consider renaming <class 'keras.layers.recurrent.LSTMCell'> to avoid naming conflicts when loading with `tf.keras.models.load_model`. If renaming is not possible, pass the object in the `custom_objects` parameter of the load function.\n",
            "WARNING:absl:<keras.layers.recurrent.LSTMCell object at 0x7f56182bb310> has the same name 'LSTMCell' as a built-in Keras object. Consider renaming <class 'keras.layers.recurrent.LSTMCell'> to avoid naming conflicts when loading with `tf.keras.models.load_model`. If renaming is not possible, pass the object in the `custom_objects` parameter of the load function.\n",
            "WARNING:absl:<keras.layers.recurrent.LSTMCell object at 0x7f5746a14f10> has the same name 'LSTMCell' as a built-in Keras object. Consider renaming <class 'keras.layers.recurrent.LSTMCell'> to avoid naming conflicts when loading with `tf.keras.models.load_model`. If renaming is not possible, pass the object in the `custom_objects` parameter of the load function.\n",
            "WARNING:absl:<keras.layers.recurrent.LSTMCell object at 0x7f57469fba10> has the same name 'LSTMCell' as a built-in Keras object. Consider renaming <class 'keras.layers.recurrent.LSTMCell'> to avoid naming conflicts when loading with `tf.keras.models.load_model`. If renaming is not possible, pass the object in the `custom_objects` parameter of the load function.\n"
          ]
        }
      ]
    }
  ]
}