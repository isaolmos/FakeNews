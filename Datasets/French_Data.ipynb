{
  "nbformat": 4,
  "nbformat_minor": 0,
  "metadata": {
    "accelerator": "GPU",
    "colab": {
      "name": "french_datasets.ipynb",
      "provenance": [],
      "collapsed_sections": [],
      "machine_shape": "hm"
    },
    "kernelspec": {
      "display_name": "Python 3",
      "language": "python",
      "name": "python3"
    },
    "language_info": {
      "codemirror_mode": {
        "name": "ipython",
        "version": 3
      },
      "file_extension": ".py",
      "mimetype": "text/x-python",
      "name": "python",
      "nbconvert_exporter": "python",
      "pygments_lexer": "ipython3",
      "version": "3.7.6"
    }
  },
  "cells": [
    {
      "cell_type": "markdown",
      "metadata": {
        "id": "azsAsIEe2WcP"
      },
      "source": [
        "# **LOGISTIC REGRESSION MODEL**"
      ]
    },
    {
      "cell_type": "markdown",
      "metadata": {
        "id": "PPji8ZADN0MU"
      },
      "source": [
        "**IMPORT PACKAGES AND LIBRARIES**"
      ]
    },
    {
      "cell_type": "code",
      "metadata": {
        "id": "DNdyr2tG2WcS"
      },
      "source": [
        "import numpy as np\n",
        "import pandas as pd\n",
        "from nltk.corpus import stopwords\n",
        "from sklearn import preprocessing"
      ],
      "execution_count": null,
      "outputs": []
    },
    {
      "cell_type": "markdown",
      "metadata": {
        "id": "ALAGhnRCN0MX"
      },
      "source": [
        "**1. LOAD THE DATA**"
      ]
    },
    {
      "cell_type": "code",
      "metadata": {
        "id": "MXLQaMwH2WcU"
      },
      "source": [
        "#LOAD THREE DATASETS\n",
        "real=pd.read_csv('/content/drive/MyDrive/thesiss/real.csv')\n",
        "fake=pd.read_csv('/content/drive/MyDrive/thesiss/fake.csv')\n",
        "second_dataset=pd.read_csv('/content/drive/MyDrive/thesiss/df_news.csv')"
      ],
      "execution_count": null,
      "outputs": []
    },
    {
      "cell_type": "code",
      "metadata": {
        "colab": {
          "base_uri": "https://localhost:8080/",
          "height": 1000
        },
        "id": "vo3vCUOWbzWI",
        "outputId": "3480d7b8-f0e5-4954-d589-4d6892adca5c"
      },
      "source": [
        "real"
      ],
      "execution_count": null,
      "outputs": [
        {
          "output_type": "execute_result",
          "data": {
            "text/html": [
              "<div>\n",
              "<style scoped>\n",
              "    .dataframe tbody tr th:only-of-type {\n",
              "        vertical-align: middle;\n",
              "    }\n",
              "\n",
              "    .dataframe tbody tr th {\n",
              "        vertical-align: top;\n",
              "    }\n",
              "\n",
              "    .dataframe thead th {\n",
              "        text-align: right;\n",
              "    }\n",
              "</style>\n",
              "<table border=\"1\" class=\"dataframe\">\n",
              "  <thead>\n",
              "    <tr style=\"text-align: right;\">\n",
              "      <th></th>\n",
              "      <th>uuid</th>\n",
              "      <th>url</th>\n",
              "      <th>site</th>\n",
              "      <th>site_type</th>\n",
              "      <th>section_title</th>\n",
              "      <th>author</th>\n",
              "      <th>title</th>\n",
              "      <th>text</th>\n",
              "      <th>language</th>\n",
              "      <th>domain_rank</th>\n",
              "      <th>published</th>\n",
              "      <th>crawled</th>\n",
              "    </tr>\n",
              "  </thead>\n",
              "  <tbody>\n",
              "    <tr>\n",
              "      <th>0</th>\n",
              "      <td>0a4de1a5cbde83c0e0f6679a664fe9f98aefd7cc</td>\n",
              "      <td>http://www.europe1.fr/faits-divers/il-tente-di...</td>\n",
              "      <td>europe1.fr</td>\n",
              "      <td>news</td>\n",
              "      <td>Europe 1: Actus</td>\n",
              "      <td>Rédaction Europe1.fr avec AFP</td>\n",
              "      <td>Il tente d'incendier sa femme : elle est indem...</td>\n",
              "      <td>Il tente d'incendier sa femme : elle est indem...</td>\n",
              "      <td>french</td>\n",
              "      <td>9784</td>\n",
              "      <td>2016-10-02T00:31:00.000+03:00</td>\n",
              "      <td>2016-10-02T00:59:33.959+03:00</td>\n",
              "    </tr>\n",
              "    <tr>\n",
              "      <th>1</th>\n",
              "      <td>c4f9244cfdb3e7d6c9ebc8069a0dcb38918b9326</td>\n",
              "      <td>http://www.europe1.fr/culture/ca-y-est-renaud-...</td>\n",
              "      <td>europe1.fr</td>\n",
              "      <td>news</td>\n",
              "      <td>Europe 1: Culture</td>\n",
              "      <td>Jean-Jacques Hery et B.B</td>\n",
              "      <td>Ça y est, Renaud a fait son retour sur scène !</td>\n",
              "      <td>Ça y est, Renaud a fait son retour sur scène !...</td>\n",
              "      <td>french</td>\n",
              "      <td>9784</td>\n",
              "      <td>2016-10-02T14:43:00.000+03:00</td>\n",
              "      <td>2016-10-02T10:15:55.986+03:00</td>\n",
              "    </tr>\n",
              "    <tr>\n",
              "      <th>2</th>\n",
              "      <td>0c03148fa5dfe7e8b83f176886273055f3d25cde</td>\n",
              "      <td>http://www.europe1.fr/international/avec-son-t...</td>\n",
              "      <td>europe1.fr</td>\n",
              "      <td>news</td>\n",
              "      <td>Europe 1: Actus</td>\n",
              "      <td>Rédaction Europe1.fr</td>\n",
              "      <td>Avec son tailleur rouge, quel message a voulu ...</td>\n",
              "      <td>Avec son tailleur rouge, quel message a voulu ...</td>\n",
              "      <td>french</td>\n",
              "      <td>9784</td>\n",
              "      <td>2016-10-02T22:34:00.000+03:00</td>\n",
              "      <td>2016-10-02T20:22:33.601+03:00</td>\n",
              "    </tr>\n",
              "    <tr>\n",
              "      <th>3</th>\n",
              "      <td>4a04dfb10a76f772cd105f3d1984203f6700e40d</td>\n",
              "      <td>http://www.europe1.fr/sport/foot-ligue-1-tous-...</td>\n",
              "      <td>europe1.fr</td>\n",
              "      <td>news</td>\n",
              "      <td>Europe 1: Actus</td>\n",
              "      <td>B.V</td>\n",
              "      <td>Foot-Ligue 1 : tous les résultats de la 8ème j...</td>\n",
              "      <td>Foot-Ligue 1 : tous les résultats de la 8ème j...</td>\n",
              "      <td>french</td>\n",
              "      <td>9784</td>\n",
              "      <td>2016-10-02T03:52:00.000+03:00</td>\n",
              "      <td>2016-10-02T00:59:33.917+03:00</td>\n",
              "    </tr>\n",
              "    <tr>\n",
              "      <th>4</th>\n",
              "      <td>47a1880b501c9827453c9b0ccec0b64668990dc7</td>\n",
              "      <td>http://www.europe1.fr/emissions/tout-roule/lin...</td>\n",
              "      <td>europe1.fr</td>\n",
              "      <td>news</td>\n",
              "      <td>Europe 1: Actus</td>\n",
              "      <td>Europe 1</td>\n",
              "      <td>Linda Jackson \"Il n'y aura pas de retour de la...</td>\n",
              "      <td>× S'abonner au podcast \\nVous pouvez vous abon...</td>\n",
              "      <td>french</td>\n",
              "      <td>9784</td>\n",
              "      <td>2016-10-02T01:08:00.000+03:00</td>\n",
              "      <td>2016-10-02T00:59:33.942+03:00</td>\n",
              "    </tr>\n",
              "    <tr>\n",
              "      <th>...</th>\n",
              "      <td>...</td>\n",
              "      <td>...</td>\n",
              "      <td>...</td>\n",
              "      <td>...</td>\n",
              "      <td>...</td>\n",
              "      <td>...</td>\n",
              "      <td>...</td>\n",
              "      <td>...</td>\n",
              "      <td>...</td>\n",
              "      <td>...</td>\n",
              "      <td>...</td>\n",
              "      <td>...</td>\n",
              "    </tr>\n",
              "    <tr>\n",
              "      <th>11963</th>\n",
              "      <td>3af83bef80cf28dbcdaadbe5af86cb654c7c98ef</td>\n",
              "      <td>https://www.rtbf.be/info/societe/detail_300-mi...</td>\n",
              "      <td>rtbf.be</td>\n",
              "      <td>news</td>\n",
              "      <td>À la une - Google Actualités</td>\n",
              "      <td>NaN</td>\n",
              "      <td>\"300 millions d'enfants respirent dans un envi...</td>\n",
              "      <td>\"300 millions d'enfants respirent dans un envi...</td>\n",
              "      <td>french</td>\n",
              "      <td>4630</td>\n",
              "      <td>2016-10-31T07:55:00.000+02:00</td>\n",
              "      <td>2016-10-31T04:09:33.990+02:00</td>\n",
              "    </tr>\n",
              "    <tr>\n",
              "      <th>11964</th>\n",
              "      <td>3ee61686e029b4a098414dac25ddb45450f6bda2</td>\n",
              "      <td>http://www.rtl.be/info/belgique/societe/revolu...</td>\n",
              "      <td>rtl.be</td>\n",
              "      <td>news</td>\n",
              "      <td>écoles, Bruxelles - Google Actualités</td>\n",
              "      <td>NaN</td>\n",
              "      <td>Révolution dans nos écoles secondaires: les co...</td>\n",
              "      <td>Révolution dans nos écoles secondaires: les co...</td>\n",
              "      <td>french</td>\n",
              "      <td>7420</td>\n",
              "      <td>2016-10-04T12:56:00.000+03:00</td>\n",
              "      <td>2016-10-04T12:58:35.712+03:00</td>\n",
              "    </tr>\n",
              "    <tr>\n",
              "      <th>11965</th>\n",
              "      <td>cfef00fee2e16269283472fe30976ca82dd51bdc</td>\n",
              "      <td>http://www.rtl.be/info/vous/temoignages/-cette...</td>\n",
              "      <td>rtl.be</td>\n",
              "      <td>news</td>\n",
              "      <td>écoles, Bruxelles - Google Actualités</td>\n",
              "      <td>NaN</td>\n",
              "      <td>\"Cette élève a raté dans quasi tous les cours ...</td>\n",
              "      <td>Témoignages \"Cette élève a raté dans quasi tou...</td>\n",
              "      <td>french</td>\n",
              "      <td>7420</td>\n",
              "      <td>2016-10-10T12:08:00.000+03:00</td>\n",
              "      <td>2016-10-10T12:58:49.896+03:00</td>\n",
              "    </tr>\n",
              "    <tr>\n",
              "      <th>11966</th>\n",
              "      <td>4ca57fee4454d0089084d5898bfeb0eabbfa6605</td>\n",
              "      <td>http://www.rtl.be/clubrtl/live/fc-bruges-porto...</td>\n",
              "      <td>rtl.be</td>\n",
              "      <td>news</td>\n",
              "      <td>CoveritLive - Live Event Listing</td>\n",
              "      <td>NaN</td>\n",
              "      <td>FC Bruges - Porto</td>\n",
              "      <td>C'est pas tous les jours dimanche Tous les dim...</td>\n",
              "      <td>french</td>\n",
              "      <td>7420</td>\n",
              "      <td>2016-10-19T00:34:00.000+03:00</td>\n",
              "      <td>2016-10-18T23:22:58.082+03:00</td>\n",
              "    </tr>\n",
              "    <tr>\n",
              "      <th>11967</th>\n",
              "      <td>0745f97e479e085ddc6c1aaade97b5b51fbbe828</td>\n",
              "      <td>http://www.rtl.be/info/vous/temoignages/penuri...</td>\n",
              "      <td>rtl.be</td>\n",
              "      <td>news</td>\n",
              "      <td>écoles, Bruxelles - Google Actualités</td>\n",
              "      <td>NaN</td>\n",
              "      <td>Pénurie de prof de math &amp; mère en colère: son ...</td>\n",
              "      <td>Témoignages Pénurie de prof de math &amp; mère en ...</td>\n",
              "      <td>french</td>\n",
              "      <td>7420</td>\n",
              "      <td>2016-10-26T12:19:00.000+03:00</td>\n",
              "      <td>2016-10-26T09:17:37.682+03:00</td>\n",
              "    </tr>\n",
              "  </tbody>\n",
              "</table>\n",
              "<p>11968 rows × 12 columns</p>\n",
              "</div>"
            ],
            "text/plain": [
              "                                           uuid  ...                        crawled\n",
              "0      0a4de1a5cbde83c0e0f6679a664fe9f98aefd7cc  ...  2016-10-02T00:59:33.959+03:00\n",
              "1      c4f9244cfdb3e7d6c9ebc8069a0dcb38918b9326  ...  2016-10-02T10:15:55.986+03:00\n",
              "2      0c03148fa5dfe7e8b83f176886273055f3d25cde  ...  2016-10-02T20:22:33.601+03:00\n",
              "3      4a04dfb10a76f772cd105f3d1984203f6700e40d  ...  2016-10-02T00:59:33.917+03:00\n",
              "4      47a1880b501c9827453c9b0ccec0b64668990dc7  ...  2016-10-02T00:59:33.942+03:00\n",
              "...                                         ...  ...                            ...\n",
              "11963  3af83bef80cf28dbcdaadbe5af86cb654c7c98ef  ...  2016-10-31T04:09:33.990+02:00\n",
              "11964  3ee61686e029b4a098414dac25ddb45450f6bda2  ...  2016-10-04T12:58:35.712+03:00\n",
              "11965  cfef00fee2e16269283472fe30976ca82dd51bdc  ...  2016-10-10T12:58:49.896+03:00\n",
              "11966  4ca57fee4454d0089084d5898bfeb0eabbfa6605  ...  2016-10-18T23:22:58.082+03:00\n",
              "11967  0745f97e479e085ddc6c1aaade97b5b51fbbe828  ...  2016-10-26T09:17:37.682+03:00\n",
              "\n",
              "[11968 rows x 12 columns]"
            ]
          },
          "metadata": {},
          "execution_count": 70
        }
      ]
    },
    {
      "cell_type": "code",
      "metadata": {
        "id": "If5rW5GD_HEp"
      },
      "source": [
        "real.insert(0, 'Fake', '0')"
      ],
      "execution_count": null,
      "outputs": []
    },
    {
      "cell_type": "code",
      "metadata": {
        "id": "fhGo47O4ZMHE"
      },
      "source": [
        "real.drop(['uuid', 'url',\t'site',\t'site_type', 'section_title',\t'author', 'language',\t'domain_rank',\t'published', 'crawled'], axis=1, inplace=True)"
      ],
      "execution_count": null,
      "outputs": []
    },
    {
      "cell_type": "code",
      "metadata": {
        "colab": {
          "base_uri": "https://localhost:8080/",
          "height": 423
        },
        "id": "f-nfnQXeZv4Z",
        "outputId": "280e4ba6-d1ae-4ba2-a358-74296cdceac4"
      },
      "source": [
        "real"
      ],
      "execution_count": null,
      "outputs": [
        {
          "output_type": "execute_result",
          "data": {
            "text/html": [
              "<div>\n",
              "<style scoped>\n",
              "    .dataframe tbody tr th:only-of-type {\n",
              "        vertical-align: middle;\n",
              "    }\n",
              "\n",
              "    .dataframe tbody tr th {\n",
              "        vertical-align: top;\n",
              "    }\n",
              "\n",
              "    .dataframe thead th {\n",
              "        text-align: right;\n",
              "    }\n",
              "</style>\n",
              "<table border=\"1\" class=\"dataframe\">\n",
              "  <thead>\n",
              "    <tr style=\"text-align: right;\">\n",
              "      <th></th>\n",
              "      <th>Fake</th>\n",
              "      <th>title</th>\n",
              "      <th>text</th>\n",
              "    </tr>\n",
              "  </thead>\n",
              "  <tbody>\n",
              "    <tr>\n",
              "      <th>0</th>\n",
              "      <td>0</td>\n",
              "      <td>Il tente d'incendier sa femme : elle est indem...</td>\n",
              "      <td>Il tente d'incendier sa femme : elle est indem...</td>\n",
              "    </tr>\n",
              "    <tr>\n",
              "      <th>1</th>\n",
              "      <td>0</td>\n",
              "      <td>Ça y est, Renaud a fait son retour sur scène !</td>\n",
              "      <td>Ça y est, Renaud a fait son retour sur scène !...</td>\n",
              "    </tr>\n",
              "    <tr>\n",
              "      <th>2</th>\n",
              "      <td>0</td>\n",
              "      <td>Avec son tailleur rouge, quel message a voulu ...</td>\n",
              "      <td>Avec son tailleur rouge, quel message a voulu ...</td>\n",
              "    </tr>\n",
              "    <tr>\n",
              "      <th>3</th>\n",
              "      <td>0</td>\n",
              "      <td>Foot-Ligue 1 : tous les résultats de la 8ème j...</td>\n",
              "      <td>Foot-Ligue 1 : tous les résultats de la 8ème j...</td>\n",
              "    </tr>\n",
              "    <tr>\n",
              "      <th>4</th>\n",
              "      <td>0</td>\n",
              "      <td>Linda Jackson \"Il n'y aura pas de retour de la...</td>\n",
              "      <td>× S'abonner au podcast \\nVous pouvez vous abon...</td>\n",
              "    </tr>\n",
              "    <tr>\n",
              "      <th>...</th>\n",
              "      <td>...</td>\n",
              "      <td>...</td>\n",
              "      <td>...</td>\n",
              "    </tr>\n",
              "    <tr>\n",
              "      <th>11963</th>\n",
              "      <td>0</td>\n",
              "      <td>\"300 millions d'enfants respirent dans un envi...</td>\n",
              "      <td>\"300 millions d'enfants respirent dans un envi...</td>\n",
              "    </tr>\n",
              "    <tr>\n",
              "      <th>11964</th>\n",
              "      <td>0</td>\n",
              "      <td>Révolution dans nos écoles secondaires: les co...</td>\n",
              "      <td>Révolution dans nos écoles secondaires: les co...</td>\n",
              "    </tr>\n",
              "    <tr>\n",
              "      <th>11965</th>\n",
              "      <td>0</td>\n",
              "      <td>\"Cette élève a raté dans quasi tous les cours ...</td>\n",
              "      <td>Témoignages \"Cette élève a raté dans quasi tou...</td>\n",
              "    </tr>\n",
              "    <tr>\n",
              "      <th>11966</th>\n",
              "      <td>0</td>\n",
              "      <td>FC Bruges - Porto</td>\n",
              "      <td>C'est pas tous les jours dimanche Tous les dim...</td>\n",
              "    </tr>\n",
              "    <tr>\n",
              "      <th>11967</th>\n",
              "      <td>0</td>\n",
              "      <td>Pénurie de prof de math &amp; mère en colère: son ...</td>\n",
              "      <td>Témoignages Pénurie de prof de math &amp; mère en ...</td>\n",
              "    </tr>\n",
              "  </tbody>\n",
              "</table>\n",
              "<p>11968 rows × 3 columns</p>\n",
              "</div>"
            ],
            "text/plain": [
              "      Fake  ...                                               text\n",
              "0        0  ...  Il tente d'incendier sa femme : elle est indem...\n",
              "1        0  ...  Ça y est, Renaud a fait son retour sur scène !...\n",
              "2        0  ...  Avec son tailleur rouge, quel message a voulu ...\n",
              "3        0  ...  Foot-Ligue 1 : tous les résultats de la 8ème j...\n",
              "4        0  ...  × S'abonner au podcast \\nVous pouvez vous abon...\n",
              "...    ...  ...                                                ...\n",
              "11963    0  ...  \"300 millions d'enfants respirent dans un envi...\n",
              "11964    0  ...  Révolution dans nos écoles secondaires: les co...\n",
              "11965    0  ...  Témoignages \"Cette élève a raté dans quasi tou...\n",
              "11966    0  ...  C'est pas tous les jours dimanche Tous les dim...\n",
              "11967    0  ...  Témoignages Pénurie de prof de math & mère en ...\n",
              "\n",
              "[11968 rows x 3 columns]"
            ]
          },
          "metadata": {},
          "execution_count": 73
        }
      ]
    },
    {
      "cell_type": "code",
      "metadata": {
        "id": "bJXY-p_FarSk"
      },
      "source": [
        "real['text'] = real['text'] + real['title'].fillna(\"\")"
      ],
      "execution_count": null,
      "outputs": []
    },
    {
      "cell_type": "code",
      "metadata": {
        "id": "bO6BUK0rbTSE"
      },
      "source": [
        "real.drop(['title'], axis=1, inplace=True)"
      ],
      "execution_count": null,
      "outputs": []
    },
    {
      "cell_type": "code",
      "metadata": {
        "id": "tBm1iWcj_-gS"
      },
      "source": [
        "fake.insert(0, 'Fake', '1')"
      ],
      "execution_count": null,
      "outputs": []
    },
    {
      "cell_type": "code",
      "metadata": {
        "colab": {
          "base_uri": "https://localhost:8080/",
          "height": 423
        },
        "id": "TqTsL2lYZ2zQ",
        "outputId": "f5547530-b33d-4117-d0dc-9bf2ec9ba77b"
      },
      "source": [
        "fake"
      ],
      "execution_count": null,
      "outputs": [
        {
          "output_type": "execute_result",
          "data": {
            "text/html": [
              "<div>\n",
              "<style scoped>\n",
              "    .dataframe tbody tr th:only-of-type {\n",
              "        vertical-align: middle;\n",
              "    }\n",
              "\n",
              "    .dataframe tbody tr th {\n",
              "        vertical-align: top;\n",
              "    }\n",
              "\n",
              "    .dataframe thead th {\n",
              "        text-align: right;\n",
              "    }\n",
              "</style>\n",
              "<table border=\"1\" class=\"dataframe\">\n",
              "  <thead>\n",
              "    <tr style=\"text-align: right;\">\n",
              "      <th></th>\n",
              "      <th>Fake</th>\n",
              "      <th>content</th>\n",
              "      <th>title</th>\n",
              "    </tr>\n",
              "  </thead>\n",
              "  <tbody>\n",
              "    <tr>\n",
              "      <th>0</th>\n",
              "      <td>1</td>\n",
              "      <td>L’étau semble se resserrer autour du président...</td>\n",
              "      <td>« Est-ce vous avez tous bien compris que notre...</td>\n",
              "    </tr>\n",
              "    <tr>\n",
              "      <th>1</th>\n",
              "      <td>1</td>\n",
              "      <td>Mettons les choses au clair.\\n\\nMes chers comp...</td>\n",
              "      <td>Malgré un charnier de 18 corps, 200 000 euros ...</td>\n",
              "    </tr>\n",
              "    <tr>\n",
              "      <th>2</th>\n",
              "      <td>1</td>\n",
              "      <td>L’étau semble se resserrer autour du président...</td>\n",
              "      <td>« Est-ce vous avez tous bien compris que notre...</td>\n",
              "    </tr>\n",
              "    <tr>\n",
              "      <th>3</th>\n",
              "      <td>1</td>\n",
              "      <td>Dans un message vidéo, le président de la fédé...</td>\n",
              "      <td>Malgré un charnier de 18 corps, 200 000 euros ...</td>\n",
              "    </tr>\n",
              "    <tr>\n",
              "      <th>4</th>\n",
              "      <td>1</td>\n",
              "      <td>Après des modifications hebdomadaires puis quo...</td>\n",
              "      <td>Pour protéger la biodiversité, le président de...</td>\n",
              "    </tr>\n",
              "    <tr>\n",
              "      <th>...</th>\n",
              "      <td>...</td>\n",
              "      <td>...</td>\n",
              "      <td>...</td>\n",
              "    </tr>\n",
              "    <tr>\n",
              "      <th>16369</th>\n",
              "      <td>1</td>\n",
              "      <td>On ne connaissait pas le sélectionneur des Dia...</td>\n",
              "      <td>Minneapolis: Énorme succès pour le concert de ...</td>\n",
              "    </tr>\n",
              "    <tr>\n",
              "      <th>16370</th>\n",
              "      <td>1</td>\n",
              "      <td>Patrick Balkany, le Parrain de Levallois, est ...</td>\n",
              "      <td>Marc Wilmots s’auto-sélectionne pour l’Euro à ...</td>\n",
              "    </tr>\n",
              "    <tr>\n",
              "      <th>16371</th>\n",
              "      <td>1</td>\n",
              "      <td>La course aux municipales de Corse accueillera...</td>\n",
              "      <td>C’est vrai, la France ne tiendra pas le coup s...</td>\n",
              "    </tr>\n",
              "    <tr>\n",
              "      <th>16372</th>\n",
              "      <td>1</td>\n",
              "      <td>Après sa dépression, l’incarcération de son ma...</td>\n",
              "      <td>Marlène Schiappa a trouvé une ville où se para...</td>\n",
              "    </tr>\n",
              "    <tr>\n",
              "      <th>16373</th>\n",
              "      <td>1</td>\n",
              "      <td>NaN</td>\n",
              "      <td>Après sa dépression, Isabelle BALKANY inaugure...</td>\n",
              "    </tr>\n",
              "  </tbody>\n",
              "</table>\n",
              "<p>16374 rows × 3 columns</p>\n",
              "</div>"
            ],
            "text/plain": [
              "      Fake  ...                                              title\n",
              "0        1  ...  « Est-ce vous avez tous bien compris que notre...\n",
              "1        1  ...  Malgré un charnier de 18 corps, 200 000 euros ...\n",
              "2        1  ...  « Est-ce vous avez tous bien compris que notre...\n",
              "3        1  ...  Malgré un charnier de 18 corps, 200 000 euros ...\n",
              "4        1  ...  Pour protéger la biodiversité, le président de...\n",
              "...    ...  ...                                                ...\n",
              "16369    1  ...  Minneapolis: Énorme succès pour le concert de ...\n",
              "16370    1  ...  Marc Wilmots s’auto-sélectionne pour l’Euro à ...\n",
              "16371    1  ...  C’est vrai, la France ne tiendra pas le coup s...\n",
              "16372    1  ...  Marlène Schiappa a trouvé une ville où se para...\n",
              "16373    1  ...  Après sa dépression, Isabelle BALKANY inaugure...\n",
              "\n",
              "[16374 rows x 3 columns]"
            ]
          },
          "metadata": {},
          "execution_count": 77
        }
      ]
    },
    {
      "cell_type": "code",
      "metadata": {
        "id": "r99JEGsFbGIp"
      },
      "source": [
        "fake['text'] = fake['content'] + fake['title'].fillna(\"\")"
      ],
      "execution_count": null,
      "outputs": []
    },
    {
      "cell_type": "code",
      "metadata": {
        "id": "KScx9YH3bQfT"
      },
      "source": [
        "fake.drop(['content','title'], axis=1, inplace=True)"
      ],
      "execution_count": null,
      "outputs": []
    },
    {
      "cell_type": "code",
      "metadata": {
        "colab": {
          "base_uri": "https://localhost:8080/",
          "height": 423
        },
        "id": "M5DXKdSKbLG8",
        "outputId": "b4eae147-28ad-47b3-c7fa-d29dd9b5ad61"
      },
      "source": [
        "fake"
      ],
      "execution_count": null,
      "outputs": [
        {
          "output_type": "execute_result",
          "data": {
            "text/html": [
              "<div>\n",
              "<style scoped>\n",
              "    .dataframe tbody tr th:only-of-type {\n",
              "        vertical-align: middle;\n",
              "    }\n",
              "\n",
              "    .dataframe tbody tr th {\n",
              "        vertical-align: top;\n",
              "    }\n",
              "\n",
              "    .dataframe thead th {\n",
              "        text-align: right;\n",
              "    }\n",
              "</style>\n",
              "<table border=\"1\" class=\"dataframe\">\n",
              "  <thead>\n",
              "    <tr style=\"text-align: right;\">\n",
              "      <th></th>\n",
              "      <th>Fake</th>\n",
              "      <th>text</th>\n",
              "    </tr>\n",
              "  </thead>\n",
              "  <tbody>\n",
              "    <tr>\n",
              "      <th>0</th>\n",
              "      <td>1</td>\n",
              "      <td>L’étau semble se resserrer autour du président...</td>\n",
              "    </tr>\n",
              "    <tr>\n",
              "      <th>1</th>\n",
              "      <td>1</td>\n",
              "      <td>Mettons les choses au clair.\\n\\nMes chers comp...</td>\n",
              "    </tr>\n",
              "    <tr>\n",
              "      <th>2</th>\n",
              "      <td>1</td>\n",
              "      <td>L’étau semble se resserrer autour du président...</td>\n",
              "    </tr>\n",
              "    <tr>\n",
              "      <th>3</th>\n",
              "      <td>1</td>\n",
              "      <td>Dans un message vidéo, le président de la fédé...</td>\n",
              "    </tr>\n",
              "    <tr>\n",
              "      <th>4</th>\n",
              "      <td>1</td>\n",
              "      <td>Après des modifications hebdomadaires puis quo...</td>\n",
              "    </tr>\n",
              "    <tr>\n",
              "      <th>...</th>\n",
              "      <td>...</td>\n",
              "      <td>...</td>\n",
              "    </tr>\n",
              "    <tr>\n",
              "      <th>16369</th>\n",
              "      <td>1</td>\n",
              "      <td>On ne connaissait pas le sélectionneur des Dia...</td>\n",
              "    </tr>\n",
              "    <tr>\n",
              "      <th>16370</th>\n",
              "      <td>1</td>\n",
              "      <td>Patrick Balkany, le Parrain de Levallois, est ...</td>\n",
              "    </tr>\n",
              "    <tr>\n",
              "      <th>16371</th>\n",
              "      <td>1</td>\n",
              "      <td>La course aux municipales de Corse accueillera...</td>\n",
              "    </tr>\n",
              "    <tr>\n",
              "      <th>16372</th>\n",
              "      <td>1</td>\n",
              "      <td>Après sa dépression, l’incarcération de son ma...</td>\n",
              "    </tr>\n",
              "    <tr>\n",
              "      <th>16373</th>\n",
              "      <td>1</td>\n",
              "      <td>NaN</td>\n",
              "    </tr>\n",
              "  </tbody>\n",
              "</table>\n",
              "<p>16374 rows × 2 columns</p>\n",
              "</div>"
            ],
            "text/plain": [
              "      Fake                                               text\n",
              "0        1  L’étau semble se resserrer autour du président...\n",
              "1        1  Mettons les choses au clair.\\n\\nMes chers comp...\n",
              "2        1  L’étau semble se resserrer autour du président...\n",
              "3        1  Dans un message vidéo, le président de la fédé...\n",
              "4        1  Après des modifications hebdomadaires puis quo...\n",
              "...    ...                                                ...\n",
              "16369    1  On ne connaissait pas le sélectionneur des Dia...\n",
              "16370    1  Patrick Balkany, le Parrain de Levallois, est ...\n",
              "16371    1  La course aux municipales de Corse accueillera...\n",
              "16372    1  Après sa dépression, l’incarcération de son ma...\n",
              "16373    1                                                NaN\n",
              "\n",
              "[16374 rows x 2 columns]"
            ]
          },
          "metadata": {},
          "execution_count": 80
        }
      ]
    },
    {
      "cell_type": "code",
      "metadata": {
        "colab": {
          "base_uri": "https://localhost:8080/",
          "height": 1000
        },
        "id": "AeuTRqn-KgUM",
        "outputId": "4d43d2cf-cc46-4659-bc45-929cdeab0803"
      },
      "source": [
        "second_dataset"
      ],
      "execution_count": null,
      "outputs": [
        {
          "output_type": "execute_result",
          "data": {
            "text/html": [
              "<div>\n",
              "<style scoped>\n",
              "    .dataframe tbody tr th:only-of-type {\n",
              "        vertical-align: middle;\n",
              "    }\n",
              "\n",
              "    .dataframe tbody tr th {\n",
              "        vertical-align: top;\n",
              "    }\n",
              "\n",
              "    .dataframe thead th {\n",
              "        text-align: right;\n",
              "    }\n",
              "</style>\n",
              "<table border=\"1\" class=\"dataframe\">\n",
              "  <thead>\n",
              "    <tr style=\"text-align: right;\">\n",
              "      <th></th>\n",
              "      <th>news</th>\n",
              "      <th>url</th>\n",
              "      <th>source</th>\n",
              "      <th>author</th>\n",
              "      <th>title</th>\n",
              "      <th>theme</th>\n",
              "      <th>description</th>\n",
              "      <th>date_published</th>\n",
              "      <th>body</th>\n",
              "      <th>fake</th>\n",
              "      <th>text</th>\n",
              "      <th>train</th>\n",
              "      <th>nb_words</th>\n",
              "      <th>fake_pred</th>\n",
              "      <th>fp</th>\n",
              "      <th>fn</th>\n",
              "      <th>fake_pred_logreg</th>\n",
              "      <th>fp_logreg</th>\n",
              "      <th>fn_logreg</th>\n",
              "    </tr>\n",
              "  </thead>\n",
              "  <tbody>\n",
              "    <tr>\n",
              "      <th>0</th>\n",
              "      <td>1</td>\n",
              "      <td>https://www.liberation.fr/france/2019/12/15/le...</td>\n",
              "      <td>Liberation</td>\n",
              "      <td>Nathalie Raulin</td>\n",
              "      <td>Les chefs de service hospitaliers en appellent...</td>\n",
              "      <td>france</td>\n",
              "      <td>Jugeant très insuffisante la réponse du gouver...</td>\n",
              "      <td>15/12/2019</td>\n",
              "      <td>C’est une menace d’une démission collective qu...</td>\n",
              "      <td>0</td>\n",
              "      <td>Les chefs de service hospitaliers en appellent...</td>\n",
              "      <td>False</td>\n",
              "      <td>789</td>\n",
              "      <td>0</td>\n",
              "      <td>False</td>\n",
              "      <td>False</td>\n",
              "      <td>0</td>\n",
              "      <td>False</td>\n",
              "      <td>False</td>\n",
              "    </tr>\n",
              "    <tr>\n",
              "      <th>1</th>\n",
              "      <td>2</td>\n",
              "      <td>https://www.futura-sciences.com/sante/actualit...</td>\n",
              "      <td>Futura Sciences</td>\n",
              "      <td>Futura avec Relaxnews</td>\n",
              "      <td>L'origine des comportements alimentaires ident...</td>\n",
              "      <td>sante</td>\n",
              "      <td>D'après une étude publiée dans la revue</td>\n",
              "      <td>16/12/2019</td>\n",
              "      <td>D'après une étude publiée dans la revue  Natur...</td>\n",
              "      <td>0</td>\n",
              "      <td>L'origine des comportements alimentaires ident...</td>\n",
              "      <td>True</td>\n",
              "      <td>499</td>\n",
              "      <td>0</td>\n",
              "      <td>False</td>\n",
              "      <td>False</td>\n",
              "      <td>0</td>\n",
              "      <td>False</td>\n",
              "      <td>False</td>\n",
              "    </tr>\n",
              "    <tr>\n",
              "      <th>2</th>\n",
              "      <td>3</td>\n",
              "      <td>https://www.futura-sciences.com/tech/actualite...</td>\n",
              "      <td>Futura Sciences</td>\n",
              "      <td>Louis Neveu</td>\n",
              "      <td>Microsoft alerte sur de nouvelles techniques d...</td>\n",
              "      <td>tech</td>\n",
              "      <td>Le géant de l'informatique Microsoft vient de ...</td>\n",
              "      <td>16/12/2019</td>\n",
              "      <td>Le géant de l'informatique Microsoft vient de ...</td>\n",
              "      <td>0</td>\n",
              "      <td>Microsoft alerte sur de nouvelles techniques d...</td>\n",
              "      <td>True</td>\n",
              "      <td>412</td>\n",
              "      <td>0</td>\n",
              "      <td>False</td>\n",
              "      <td>False</td>\n",
              "      <td>0</td>\n",
              "      <td>False</td>\n",
              "      <td>False</td>\n",
              "    </tr>\n",
              "    <tr>\n",
              "      <th>3</th>\n",
              "      <td>4</td>\n",
              "      <td>https://www.futura-sciences.com/sciences/actua...</td>\n",
              "      <td>Futura Sciences</td>\n",
              "      <td>Rémy Decourt</td>\n",
              "      <td>L'Europe se dote d'une infrastructure de téléc...</td>\n",
              "      <td>sciences</td>\n",
              "      <td>Pour garantir la sécurité de la libre circulat...</td>\n",
              "      <td>16/12/2019</td>\n",
              "      <td>Pour garantir la sécurité de la libre circulat...</td>\n",
              "      <td>0</td>\n",
              "      <td>L'Europe se dote d'une infrastructure de téléc...</td>\n",
              "      <td>False</td>\n",
              "      <td>1269</td>\n",
              "      <td>0</td>\n",
              "      <td>False</td>\n",
              "      <td>False</td>\n",
              "      <td>0</td>\n",
              "      <td>False</td>\n",
              "      <td>False</td>\n",
              "    </tr>\n",
              "    <tr>\n",
              "      <th>4</th>\n",
              "      <td>6</td>\n",
              "      <td>https://www.futura-sciences.com/sciences/actua...</td>\n",
              "      <td>Futura Sciences</td>\n",
              "      <td>Nathalie Mayer</td>\n",
              "      <td>Science décalée : la créature la plus rapide s...</td>\n",
              "      <td>sciences</td>\n",
              "      <td>Le guépard est l'animal le plus rapide... sur ...</td>\n",
              "      <td>15/12/2019</td>\n",
              "      <td>Le guépard est l'animal le plus rapide... sur ...</td>\n",
              "      <td>0</td>\n",
              "      <td>Science décalée : la créature la plus rapide s...</td>\n",
              "      <td>True</td>\n",
              "      <td>557</td>\n",
              "      <td>0</td>\n",
              "      <td>False</td>\n",
              "      <td>False</td>\n",
              "      <td>0</td>\n",
              "      <td>False</td>\n",
              "      <td>False</td>\n",
              "    </tr>\n",
              "    <tr>\n",
              "      <th>...</th>\n",
              "      <td>...</td>\n",
              "      <td>...</td>\n",
              "      <td>...</td>\n",
              "      <td>...</td>\n",
              "      <td>...</td>\n",
              "      <td>...</td>\n",
              "      <td>...</td>\n",
              "      <td>...</td>\n",
              "      <td>...</td>\n",
              "      <td>...</td>\n",
              "      <td>...</td>\n",
              "      <td>...</td>\n",
              "      <td>...</td>\n",
              "      <td>...</td>\n",
              "      <td>...</td>\n",
              "      <td>...</td>\n",
              "      <td>...</td>\n",
              "      <td>...</td>\n",
              "      <td>...</td>\n",
              "    </tr>\n",
              "    <tr>\n",
              "      <th>2427</th>\n",
              "      <td>2529</td>\n",
              "      <td>https://www.buzzbeed.com/97-de-libanaises-refa...</td>\n",
              "      <td>Buzzbeed</td>\n",
              "      <td>Francis Lépante</td>\n",
              "      <td>97% de Libanaises refaites : L’ONU demande au ...</td>\n",
              "      <td>monde</td>\n",
              "      <td>NaN</td>\n",
              "      <td>2017-02-23</td>\n",
              "      <td>Le Liban a dépassé l’Egypte au classement des...</td>\n",
              "      <td>1</td>\n",
              "      <td>97% de Libanaises refaites : L’ONU demande au ...</td>\n",
              "      <td>True</td>\n",
              "      <td>246</td>\n",
              "      <td>1</td>\n",
              "      <td>False</td>\n",
              "      <td>False</td>\n",
              "      <td>1</td>\n",
              "      <td>False</td>\n",
              "      <td>False</td>\n",
              "    </tr>\n",
              "    <tr>\n",
              "      <th>2428</th>\n",
              "      <td>2530</td>\n",
              "      <td>https://www.buzzbeed.com/refugie-syrien-humili...</td>\n",
              "      <td>Buzzbeed</td>\n",
              "      <td>Francis Lépante</td>\n",
              "      <td>Un réfugié syrien humilie et empêche une famil...</td>\n",
              "      <td>Fait divers</td>\n",
              "      <td>NaN</td>\n",
              "      <td>2017-02-20</td>\n",
              "      <td>“C’est pas une Syrienne, c’est une Rom !” di...</td>\n",
              "      <td>1</td>\n",
              "      <td>Un réfugié syrien humilie et empêche une famil...</td>\n",
              "      <td>False</td>\n",
              "      <td>104</td>\n",
              "      <td>1</td>\n",
              "      <td>False</td>\n",
              "      <td>False</td>\n",
              "      <td>1</td>\n",
              "      <td>False</td>\n",
              "      <td>False</td>\n",
              "    </tr>\n",
              "    <tr>\n",
              "      <th>2429</th>\n",
              "      <td>2531</td>\n",
              "      <td>https://www.buzzbeed.com/mehdi-meklat-lance-un...</td>\n",
              "      <td>Buzzbeed</td>\n",
              "      <td>Gertrude Choufflard</td>\n",
              "      <td>Mehdi Meklat lance une banane à Christiane Tau...</td>\n",
              "      <td>Insolite</td>\n",
              "      <td>NaN</td>\n",
              "      <td>2017-02-20</td>\n",
              "      <td>Ce matin, lors de l’ouverture de la séance à ...</td>\n",
              "      <td>1</td>\n",
              "      <td>Mehdi Meklat lance une banane à Christiane Tau...</td>\n",
              "      <td>True</td>\n",
              "      <td>158</td>\n",
              "      <td>1</td>\n",
              "      <td>False</td>\n",
              "      <td>False</td>\n",
              "      <td>1</td>\n",
              "      <td>False</td>\n",
              "      <td>False</td>\n",
              "    </tr>\n",
              "    <tr>\n",
              "      <th>2430</th>\n",
              "      <td>2532</td>\n",
              "      <td>https://www.buzzbeed.com/visite-afghanistan-ma...</td>\n",
              "      <td>Buzzbeed</td>\n",
              "      <td>Francis Tamboule</td>\n",
              "      <td>En visite en Afghanistan, Marine Le Pen refuse...</td>\n",
              "      <td>monde</td>\n",
              "      <td>NaN</td>\n",
              "      <td>2017-02-22</td>\n",
              "      <td>Lors d’une visite internationale en Afghanist...</td>\n",
              "      <td>1</td>\n",
              "      <td>En visite en Afghanistan, Marine Le Pen refuse...</td>\n",
              "      <td>True</td>\n",
              "      <td>165</td>\n",
              "      <td>1</td>\n",
              "      <td>False</td>\n",
              "      <td>False</td>\n",
              "      <td>1</td>\n",
              "      <td>False</td>\n",
              "      <td>False</td>\n",
              "    </tr>\n",
              "    <tr>\n",
              "      <th>2431</th>\n",
              "      <td>2533</td>\n",
              "      <td>https://www.buzzbeed.com/insolite-supprime-50-...</td>\n",
              "      <td>Buzzbeed</td>\n",
              "      <td>Francis Tamboule</td>\n",
              "      <td>Insolite : il supprime 50 000 tweets en une nu...</td>\n",
              "      <td>Insolite</td>\n",
              "      <td>NaN</td>\n",
              "      <td>2017-02-20</td>\n",
              "      <td>C’est dans la nuit de vendredi à samedi derni...</td>\n",
              "      <td>1</td>\n",
              "      <td>Insolite : il supprime 50 000 tweets en une nu...</td>\n",
              "      <td>True</td>\n",
              "      <td>144</td>\n",
              "      <td>1</td>\n",
              "      <td>False</td>\n",
              "      <td>False</td>\n",
              "      <td>1</td>\n",
              "      <td>False</td>\n",
              "      <td>False</td>\n",
              "    </tr>\n",
              "  </tbody>\n",
              "</table>\n",
              "<p>2432 rows × 19 columns</p>\n",
              "</div>"
            ],
            "text/plain": [
              "      news  ... fn_logreg\n",
              "0        1  ...     False\n",
              "1        2  ...     False\n",
              "2        3  ...     False\n",
              "3        4  ...     False\n",
              "4        6  ...     False\n",
              "...    ...  ...       ...\n",
              "2427  2529  ...     False\n",
              "2428  2530  ...     False\n",
              "2429  2531  ...     False\n",
              "2430  2532  ...     False\n",
              "2431  2533  ...     False\n",
              "\n",
              "[2432 rows x 19 columns]"
            ]
          },
          "metadata": {},
          "execution_count": 81
        }
      ]
    },
    {
      "cell_type": "code",
      "metadata": {
        "id": "KX5st349Kmj8"
      },
      "source": [
        "second_dataset.drop(['news',\t'url',\t'source',\t'author',\t'theme',\t'description',\t'date_published',\t'body',\t'train', 'nb_words',\t'fake_pred',\t'fp',\t'fn',\t'fake_pred_logreg',\t'fp_logreg',\t'fn_logreg'], axis=1, inplace=True)"
      ],
      "execution_count": null,
      "outputs": []
    },
    {
      "cell_type": "code",
      "metadata": {
        "id": "kEtXpjXCLKlV"
      },
      "source": [
        "second_dataset['text'] = second_dataset['text'] + second_dataset['title'].fillna(\"\")"
      ],
      "execution_count": null,
      "outputs": []
    },
    {
      "cell_type": "code",
      "metadata": {
        "id": "herI8KVlLTrq"
      },
      "source": [
        "second_dataset.drop(['title'],axis=1, inplace=True)"
      ],
      "execution_count": null,
      "outputs": []
    },
    {
      "cell_type": "code",
      "metadata": {
        "id": "W3KcL8AjLvwB"
      },
      "source": [
        "second_dataset.rename(columns = {'fake':'Fake'}, inplace = True)"
      ],
      "execution_count": null,
      "outputs": []
    },
    {
      "cell_type": "code",
      "metadata": {
        "id": "i4Un1AzmNEk5"
      },
      "source": [
        "second_dataset['Fake']=second_dataset['Fake'].astype(str)"
      ],
      "execution_count": null,
      "outputs": []
    },
    {
      "cell_type": "code",
      "metadata": {
        "colab": {
          "base_uri": "https://localhost:8080/",
          "height": 423
        },
        "id": "alu5jAHfLp7A",
        "outputId": "2a2845c7-bab7-459d-ecef-18689a58d253"
      },
      "source": [
        "second_dataset"
      ],
      "execution_count": null,
      "outputs": [
        {
          "output_type": "execute_result",
          "data": {
            "text/html": [
              "<div>\n",
              "<style scoped>\n",
              "    .dataframe tbody tr th:only-of-type {\n",
              "        vertical-align: middle;\n",
              "    }\n",
              "\n",
              "    .dataframe tbody tr th {\n",
              "        vertical-align: top;\n",
              "    }\n",
              "\n",
              "    .dataframe thead th {\n",
              "        text-align: right;\n",
              "    }\n",
              "</style>\n",
              "<table border=\"1\" class=\"dataframe\">\n",
              "  <thead>\n",
              "    <tr style=\"text-align: right;\">\n",
              "      <th></th>\n",
              "      <th>Fake</th>\n",
              "      <th>text</th>\n",
              "    </tr>\n",
              "  </thead>\n",
              "  <tbody>\n",
              "    <tr>\n",
              "      <th>0</th>\n",
              "      <td>0</td>\n",
              "      <td>Les chefs de service hospitaliers en appellent...</td>\n",
              "    </tr>\n",
              "    <tr>\n",
              "      <th>1</th>\n",
              "      <td>0</td>\n",
              "      <td>L'origine des comportements alimentaires ident...</td>\n",
              "    </tr>\n",
              "    <tr>\n",
              "      <th>2</th>\n",
              "      <td>0</td>\n",
              "      <td>Microsoft alerte sur de nouvelles techniques d...</td>\n",
              "    </tr>\n",
              "    <tr>\n",
              "      <th>3</th>\n",
              "      <td>0</td>\n",
              "      <td>L'Europe se dote d'une infrastructure de téléc...</td>\n",
              "    </tr>\n",
              "    <tr>\n",
              "      <th>4</th>\n",
              "      <td>0</td>\n",
              "      <td>Science décalée : la créature la plus rapide s...</td>\n",
              "    </tr>\n",
              "    <tr>\n",
              "      <th>...</th>\n",
              "      <td>...</td>\n",
              "      <td>...</td>\n",
              "    </tr>\n",
              "    <tr>\n",
              "      <th>2427</th>\n",
              "      <td>1</td>\n",
              "      <td>97% de Libanaises refaites : L’ONU demande au ...</td>\n",
              "    </tr>\n",
              "    <tr>\n",
              "      <th>2428</th>\n",
              "      <td>1</td>\n",
              "      <td>Un réfugié syrien humilie et empêche une famil...</td>\n",
              "    </tr>\n",
              "    <tr>\n",
              "      <th>2429</th>\n",
              "      <td>1</td>\n",
              "      <td>Mehdi Meklat lance une banane à Christiane Tau...</td>\n",
              "    </tr>\n",
              "    <tr>\n",
              "      <th>2430</th>\n",
              "      <td>1</td>\n",
              "      <td>En visite en Afghanistan, Marine Le Pen refuse...</td>\n",
              "    </tr>\n",
              "    <tr>\n",
              "      <th>2431</th>\n",
              "      <td>1</td>\n",
              "      <td>Insolite : il supprime 50 000 tweets en une nu...</td>\n",
              "    </tr>\n",
              "  </tbody>\n",
              "</table>\n",
              "<p>2432 rows × 2 columns</p>\n",
              "</div>"
            ],
            "text/plain": [
              "     Fake                                               text\n",
              "0       0  Les chefs de service hospitaliers en appellent...\n",
              "1       0  L'origine des comportements alimentaires ident...\n",
              "2       0  Microsoft alerte sur de nouvelles techniques d...\n",
              "3       0  L'Europe se dote d'une infrastructure de téléc...\n",
              "4       0  Science décalée : la créature la plus rapide s...\n",
              "...   ...                                                ...\n",
              "2427    1  97% de Libanaises refaites : L’ONU demande au ...\n",
              "2428    1  Un réfugié syrien humilie et empêche une famil...\n",
              "2429    1  Mehdi Meklat lance une banane à Christiane Tau...\n",
              "2430    1  En visite en Afghanistan, Marine Le Pen refuse...\n",
              "2431    1  Insolite : il supprime 50 000 tweets en une nu...\n",
              "\n",
              "[2432 rows x 2 columns]"
            ]
          },
          "metadata": {},
          "execution_count": 87
        }
      ]
    },
    {
      "cell_type": "code",
      "metadata": {
        "id": "2kawVTXVaPT4"
      },
      "source": [
        "data=pd.concat((real,fake),axis=0)\n",
        "data=pd.concat((real,fake,second_dataset),axis=0)"
      ],
      "execution_count": null,
      "outputs": []
    },
    {
      "cell_type": "code",
      "metadata": {
        "id": "VA7oiIaACTEf"
      },
      "source": [
        "data = data.dropna()"
      ],
      "execution_count": null,
      "outputs": []
    },
    {
      "cell_type": "code",
      "metadata": {
        "id": "SfO4ocK8LeQO"
      },
      "source": [
        "# data"
      ],
      "execution_count": null,
      "outputs": []
    },
    {
      "cell_type": "code",
      "metadata": {
        "colab": {
          "base_uri": "https://localhost:8080/"
        },
        "id": "u3UG6w_eN0Me",
        "outputId": "43d8e28b-a5e9-4a8f-fc05-68575094f4f4"
      },
      "source": [
        "data.info()"
      ],
      "execution_count": null,
      "outputs": [
        {
          "output_type": "stream",
          "name": "stdout",
          "text": [
            "<class 'pandas.core.frame.DataFrame'>\n",
            "Int64Index: 27816 entries, 0 to 2431\n",
            "Data columns (total 2 columns):\n",
            " #   Column  Non-Null Count  Dtype \n",
            "---  ------  --------------  ----- \n",
            " 0   Fake    27816 non-null  object\n",
            " 1   text    27816 non-null  object\n",
            "dtypes: object(2)\n",
            "memory usage: 651.9+ KB\n"
          ]
        }
      ]
    },
    {
      "cell_type": "code",
      "metadata": {
        "colab": {
          "base_uri": "https://localhost:8080/"
        },
        "id": "WU5QXFuBCZ2i",
        "outputId": "5021dfb0-2eec-4d3a-a7e0-3be64908b6cc"
      },
      "source": [
        "len(data)"
      ],
      "execution_count": null,
      "outputs": [
        {
          "output_type": "execute_result",
          "data": {
            "text/plain": [
              "27816"
            ]
          },
          "metadata": {},
          "execution_count": 92
        }
      ]
    },
    {
      "cell_type": "code",
      "metadata": {
        "colab": {
          "base_uri": "https://localhost:8080/"
        },
        "id": "19oj2H1sN0Mg",
        "outputId": "cd5f81de-23b3-49b3-a6c3-43bdc0bea31e"
      },
      "source": [
        "data['Fake'].value_counts() #DISPLAY NUMBER OF FAKE AND TRUE NEWS"
      ],
      "execution_count": null,
      "outputs": [
        {
          "output_type": "execute_result",
          "data": {
            "text/plain": [
              "1    14487\n",
              "0    13329\n",
              "Name: Fake, dtype: int64"
            ]
          },
          "metadata": {},
          "execution_count": 93
        }
      ]
    },
    {
      "cell_type": "code",
      "metadata": {
        "id": "bG9_cjyj0Cmj"
      },
      "source": [
        "#data['Fake'].value_counts().len().mean()"
      ],
      "execution_count": null,
      "outputs": []
    },
    {
      "cell_type": "code",
      "metadata": {
        "colab": {
          "base_uri": "https://localhost:8080/"
        },
        "id": "9iciKM5_2Wcc",
        "outputId": "2818ad2b-2d37-4694-991b-b367c438b1e8"
      },
      "source": [
        "data.shape"
      ],
      "execution_count": null,
      "outputs": [
        {
          "output_type": "execute_result",
          "data": {
            "text/plain": [
              "(27816, 2)"
            ]
          },
          "metadata": {},
          "execution_count": 95
        }
      ]
    },
    {
      "cell_type": "code",
      "metadata": {
        "id": "NmkiWci_dMPW"
      },
      "source": [
        "#data.to_csv('french_corpora.csv')"
      ],
      "execution_count": null,
      "outputs": []
    },
    {
      "cell_type": "code",
      "metadata": {
        "id": "11RvVfrJv-zF"
      },
      "source": [
        "#data=pd.read_csv('french_corpora.csv')"
      ],
      "execution_count": null,
      "outputs": []
    },
    {
      "cell_type": "code",
      "metadata": {
        "id": "4LurgF17wFFg"
      },
      "source": [
        "#data"
      ],
      "execution_count": null,
      "outputs": []
    },
    {
      "cell_type": "code",
      "metadata": {
        "id": "KLtLXpBgNqEl"
      },
      "source": [
        "#data.drop(['Unnamed: 0'], axis=1, inplace=True)"
      ],
      "execution_count": null,
      "outputs": []
    },
    {
      "cell_type": "markdown",
      "metadata": {
        "id": "KuEtE7XwL8e7"
      },
      "source": [
        "## **1. PRE-PROCESSING AND DATA CLEANING**"
      ]
    },
    {
      "cell_type": "code",
      "metadata": {
        "id": "rXE4SaekN6hp"
      },
      "source": [
        "#data.drop(['Unnamed: 0'],axis=1, inplace=True)"
      ],
      "execution_count": null,
      "outputs": []
    },
    {
      "cell_type": "markdown",
      "metadata": {
        "id": "KB_AU-2N-dV9"
      },
      "source": [
        "**1.1 CONVERT TEXT TO LOWERCASE**"
      ]
    },
    {
      "cell_type": "code",
      "metadata": {
        "id": "X96PFL5I-raR"
      },
      "source": [
        "data['clean_with_stopwords'] = data['text'].str.lower()  # CONVERT TEXT TO LOWERCASE"
      ],
      "execution_count": null,
      "outputs": []
    },
    {
      "cell_type": "markdown",
      "metadata": {
        "id": "vokI5NyrN0Ml"
      },
      "source": [
        "**1.2 REMOVE FRENCH STOPWORDS**"
      ]
    },
    {
      "cell_type": "code",
      "metadata": {
        "colab": {
          "base_uri": "https://localhost:8080/"
        },
        "id": "2o1IeHpYs1px",
        "outputId": "ef38c26e-efd2-439f-8c5a-0d77adbc2cf2"
      },
      "source": [
        "!pip install stop-words"
      ],
      "execution_count": null,
      "outputs": [
        {
          "output_type": "stream",
          "name": "stdout",
          "text": [
            "Requirement already satisfied: stop-words in /usr/local/lib/python3.7/dist-packages (2018.7.23)\n",
            "\u001b[33mWARNING: Running pip as the 'root' user can result in broken permissions and conflicting behaviour with the system package manager. It is recommended to use a virtual environment instead: https://pip.pypa.io/warnings/venv\u001b[0m\n"
          ]
        }
      ]
    },
    {
      "cell_type": "code",
      "metadata": {
        "colab": {
          "base_uri": "https://localhost:8080/"
        },
        "id": "NhASIkYAs1sH",
        "outputId": "4e1b9b82-faaa-47fe-c2ab-6c489a64e3d0"
      },
      "source": [
        "import nltk\n",
        "nltk.download('stopwords')"
      ],
      "execution_count": null,
      "outputs": [
        {
          "output_type": "stream",
          "name": "stdout",
          "text": [
            "[nltk_data] Downloading package stopwords to /root/nltk_data...\n",
            "[nltk_data]   Package stopwords is already up-to-date!\n"
          ]
        },
        {
          "output_type": "execute_result",
          "data": {
            "text/plain": [
              "True"
            ]
          },
          "metadata": {},
          "execution_count": 103
        }
      ]
    },
    {
      "cell_type": "code",
      "metadata": {
        "id": "25AFkyins1vP"
      },
      "source": [
        "stop_words = set(stopwords.words('french'))"
      ],
      "execution_count": null,
      "outputs": []
    },
    {
      "cell_type": "code",
      "metadata": {
        "id": "lOjZxFijtNBH"
      },
      "source": [
        "def remove_stop_words(sentence):   #REMOVE FRENCH STOPWORDS\n",
        "    stop_words  = set(stopwords.words('french'))\n",
        "    word_list=sentence.split()\n",
        "    clean_sentence=' '.join([w for w in word_list if w not in stop_words])\n",
        "    return(clean_sentence)"
      ],
      "execution_count": null,
      "outputs": []
    },
    {
      "cell_type": "code",
      "metadata": {
        "id": "iaa9gOpqtNDt"
      },
      "source": [
        "data['final_clean'] = data['clean_with_stopwords'].apply(remove_stop_words)  "
      ],
      "execution_count": null,
      "outputs": []
    },
    {
      "cell_type": "markdown",
      "metadata": {
        "id": "UcrSBpiiN0Mp"
      },
      "source": [
        "**1.3 APPLY LEMMATIZATION**"
      ]
    },
    {
      "cell_type": "code",
      "metadata": {
        "colab": {
          "base_uri": "https://localhost:8080/"
        },
        "id": "NlFs3gYMN0Mq",
        "outputId": "165f95ea-b082-470e-dfaf-5c82b3b57948"
      },
      "source": [
        "!pip install -U pip setuptools wheel"
      ],
      "execution_count": null,
      "outputs": [
        {
          "output_type": "stream",
          "name": "stdout",
          "text": [
            "Requirement already satisfied: pip in /usr/local/lib/python3.7/dist-packages (21.3.1)\n",
            "Requirement already satisfied: setuptools in /usr/local/lib/python3.7/dist-packages (59.2.0)\n",
            "Requirement already satisfied: wheel in /usr/local/lib/python3.7/dist-packages (0.37.0)\n",
            "\u001b[33mWARNING: Running pip as the 'root' user can result in broken permissions and conflicting behaviour with the system package manager. It is recommended to use a virtual environment instead: https://pip.pypa.io/warnings/venv\u001b[0m\n"
          ]
        }
      ]
    },
    {
      "cell_type": "code",
      "metadata": {
        "colab": {
          "base_uri": "https://localhost:8080/"
        },
        "id": "N4ypMR3wN0Mq",
        "outputId": "0a7cf5f9-c371-4745-cbfb-1703a2870462"
      },
      "source": [
        "!pip install -U spacy"
      ],
      "execution_count": null,
      "outputs": [
        {
          "output_type": "stream",
          "name": "stdout",
          "text": [
            "Requirement already satisfied: spacy in /usr/local/lib/python3.7/dist-packages (3.2.0)\n",
            "Requirement already satisfied: jinja2 in /usr/local/lib/python3.7/dist-packages (from spacy) (2.11.3)\n",
            "Requirement already satisfied: wasabi<1.1.0,>=0.8.1 in /usr/local/lib/python3.7/dist-packages (from spacy) (0.8.2)\n",
            "Requirement already satisfied: setuptools in /usr/local/lib/python3.7/dist-packages (from spacy) (59.2.0)\n",
            "Requirement already satisfied: tqdm<5.0.0,>=4.38.0 in /usr/local/lib/python3.7/dist-packages (from spacy) (4.62.3)\n",
            "Requirement already satisfied: numpy>=1.15.0 in /usr/local/lib/python3.7/dist-packages (from spacy) (1.19.5)\n",
            "Requirement already satisfied: typing-extensions<4.0.0.0,>=3.7.4 in /usr/local/lib/python3.7/dist-packages (from spacy) (3.10.0.2)\n",
            "Requirement already satisfied: cymem<2.1.0,>=2.0.2 in /usr/local/lib/python3.7/dist-packages (from spacy) (2.0.6)\n",
            "Requirement already satisfied: srsly<3.0.0,>=2.4.1 in /usr/local/lib/python3.7/dist-packages (from spacy) (2.4.2)\n",
            "Requirement already satisfied: pydantic!=1.8,!=1.8.1,<1.9.0,>=1.7.4 in /usr/local/lib/python3.7/dist-packages (from spacy) (1.8.2)\n",
            "Requirement already satisfied: spacy-loggers<2.0.0,>=1.0.0 in /usr/local/lib/python3.7/dist-packages (from spacy) (1.0.1)\n",
            "Requirement already satisfied: catalogue<2.1.0,>=2.0.6 in /usr/local/lib/python3.7/dist-packages (from spacy) (2.0.6)\n",
            "Requirement already satisfied: thinc<8.1.0,>=8.0.12 in /usr/local/lib/python3.7/dist-packages (from spacy) (8.0.13)\n",
            "Requirement already satisfied: blis<0.8.0,>=0.4.0 in /usr/local/lib/python3.7/dist-packages (from spacy) (0.4.1)\n",
            "Requirement already satisfied: murmurhash<1.1.0,>=0.28.0 in /usr/local/lib/python3.7/dist-packages (from spacy) (1.0.6)\n",
            "Requirement already satisfied: packaging>=20.0 in /usr/local/lib/python3.7/dist-packages (from spacy) (21.3)\n",
            "Requirement already satisfied: spacy-legacy<3.1.0,>=3.0.8 in /usr/local/lib/python3.7/dist-packages (from spacy) (3.0.8)\n",
            "Requirement already satisfied: langcodes<4.0.0,>=3.2.0 in /usr/local/lib/python3.7/dist-packages (from spacy) (3.3.0)\n",
            "Requirement already satisfied: pathy>=0.3.5 in /usr/local/lib/python3.7/dist-packages (from spacy) (0.6.1)\n",
            "Requirement already satisfied: requests<3.0.0,>=2.13.0 in /usr/local/lib/python3.7/dist-packages (from spacy) (2.23.0)\n",
            "Requirement already satisfied: preshed<3.1.0,>=3.0.2 in /usr/local/lib/python3.7/dist-packages (from spacy) (3.0.6)\n",
            "Requirement already satisfied: typer<0.5.0,>=0.3.0 in /usr/local/lib/python3.7/dist-packages (from spacy) (0.4.0)\n",
            "Requirement already satisfied: zipp>=0.5 in /usr/local/lib/python3.7/dist-packages (from catalogue<2.1.0,>=2.0.6->spacy) (3.6.0)\n",
            "Requirement already satisfied: pyparsing!=3.0.5,>=2.0.2 in /usr/local/lib/python3.7/dist-packages (from packaging>=20.0->spacy) (3.0.6)\n",
            "Requirement already satisfied: smart-open<6.0.0,>=5.0.0 in /usr/local/lib/python3.7/dist-packages (from pathy>=0.3.5->spacy) (5.2.1)\n",
            "Requirement already satisfied: chardet<4,>=3.0.2 in /usr/local/lib/python3.7/dist-packages (from requests<3.0.0,>=2.13.0->spacy) (3.0.4)\n",
            "Requirement already satisfied: certifi>=2017.4.17 in /usr/local/lib/python3.7/dist-packages (from requests<3.0.0,>=2.13.0->spacy) (2021.10.8)\n",
            "Requirement already satisfied: urllib3!=1.25.0,!=1.25.1,<1.26,>=1.21.1 in /usr/local/lib/python3.7/dist-packages (from requests<3.0.0,>=2.13.0->spacy) (1.24.3)\n",
            "Requirement already satisfied: idna<3,>=2.5 in /usr/local/lib/python3.7/dist-packages (from requests<3.0.0,>=2.13.0->spacy) (2.10)\n",
            "Requirement already satisfied: click<9.0.0,>=7.1.1 in /usr/local/lib/python3.7/dist-packages (from typer<0.5.0,>=0.3.0->spacy) (7.1.2)\n",
            "Requirement already satisfied: MarkupSafe>=0.23 in /usr/local/lib/python3.7/dist-packages (from jinja2->spacy) (2.0.1)\n",
            "\u001b[33mWARNING: Running pip as the 'root' user can result in broken permissions and conflicting behaviour with the system package manager. It is recommended to use a virtual environment instead: https://pip.pypa.io/warnings/venv\u001b[0m\n"
          ]
        }
      ]
    },
    {
      "cell_type": "code",
      "metadata": {
        "colab": {
          "base_uri": "https://localhost:8080/"
        },
        "id": "CdhVkHg5N0Mr",
        "outputId": "6a33a004-a3b3-473e-91c4-56ef2c5c87f4"
      },
      "source": [
        "!python -m spacy download fr_core_news_sm"
      ],
      "execution_count": null,
      "outputs": [
        {
          "output_type": "stream",
          "name": "stdout",
          "text": [
            "Collecting fr-core-news-sm==3.2.0\n",
            "  Downloading https://github.com/explosion/spacy-models/releases/download/fr_core_news_sm-3.2.0/fr_core_news_sm-3.2.0-py3-none-any.whl (17.4 MB)\n",
            "     |████████████████████████████████| 17.4 MB 2.3 MB/s            \n",
            "\u001b[?25hRequirement already satisfied: spacy<3.3.0,>=3.2.0 in /usr/local/lib/python3.7/dist-packages (from fr-core-news-sm==3.2.0) (3.2.0)\n",
            "Requirement already satisfied: jinja2 in /usr/local/lib/python3.7/dist-packages (from spacy<3.3.0,>=3.2.0->fr-core-news-sm==3.2.0) (2.11.3)\n",
            "Requirement already satisfied: srsly<3.0.0,>=2.4.1 in /usr/local/lib/python3.7/dist-packages (from spacy<3.3.0,>=3.2.0->fr-core-news-sm==3.2.0) (2.4.2)\n",
            "Requirement already satisfied: requests<3.0.0,>=2.13.0 in /usr/local/lib/python3.7/dist-packages (from spacy<3.3.0,>=3.2.0->fr-core-news-sm==3.2.0) (2.23.0)\n",
            "Requirement already satisfied: tqdm<5.0.0,>=4.38.0 in /usr/local/lib/python3.7/dist-packages (from spacy<3.3.0,>=3.2.0->fr-core-news-sm==3.2.0) (4.62.3)\n",
            "Requirement already satisfied: spacy-loggers<2.0.0,>=1.0.0 in /usr/local/lib/python3.7/dist-packages (from spacy<3.3.0,>=3.2.0->fr-core-news-sm==3.2.0) (1.0.1)\n",
            "Requirement already satisfied: pathy>=0.3.5 in /usr/local/lib/python3.7/dist-packages (from spacy<3.3.0,>=3.2.0->fr-core-news-sm==3.2.0) (0.6.1)\n",
            "Requirement already satisfied: blis<0.8.0,>=0.4.0 in /usr/local/lib/python3.7/dist-packages (from spacy<3.3.0,>=3.2.0->fr-core-news-sm==3.2.0) (0.4.1)\n",
            "Requirement already satisfied: setuptools in /usr/local/lib/python3.7/dist-packages (from spacy<3.3.0,>=3.2.0->fr-core-news-sm==3.2.0) (59.2.0)\n",
            "Requirement already satisfied: murmurhash<1.1.0,>=0.28.0 in /usr/local/lib/python3.7/dist-packages (from spacy<3.3.0,>=3.2.0->fr-core-news-sm==3.2.0) (1.0.6)\n",
            "Requirement already satisfied: spacy-legacy<3.1.0,>=3.0.8 in /usr/local/lib/python3.7/dist-packages (from spacy<3.3.0,>=3.2.0->fr-core-news-sm==3.2.0) (3.0.8)\n",
            "Requirement already satisfied: numpy>=1.15.0 in /usr/local/lib/python3.7/dist-packages (from spacy<3.3.0,>=3.2.0->fr-core-news-sm==3.2.0) (1.19.5)\n",
            "Requirement already satisfied: preshed<3.1.0,>=3.0.2 in /usr/local/lib/python3.7/dist-packages (from spacy<3.3.0,>=3.2.0->fr-core-news-sm==3.2.0) (3.0.6)\n",
            "Requirement already satisfied: catalogue<2.1.0,>=2.0.6 in /usr/local/lib/python3.7/dist-packages (from spacy<3.3.0,>=3.2.0->fr-core-news-sm==3.2.0) (2.0.6)\n",
            "Requirement already satisfied: typer<0.5.0,>=0.3.0 in /usr/local/lib/python3.7/dist-packages (from spacy<3.3.0,>=3.2.0->fr-core-news-sm==3.2.0) (0.4.0)\n",
            "Requirement already satisfied: packaging>=20.0 in /usr/local/lib/python3.7/dist-packages (from spacy<3.3.0,>=3.2.0->fr-core-news-sm==3.2.0) (21.3)\n",
            "Requirement already satisfied: typing-extensions<4.0.0.0,>=3.7.4 in /usr/local/lib/python3.7/dist-packages (from spacy<3.3.0,>=3.2.0->fr-core-news-sm==3.2.0) (3.10.0.2)\n",
            "Requirement already satisfied: pydantic!=1.8,!=1.8.1,<1.9.0,>=1.7.4 in /usr/local/lib/python3.7/dist-packages (from spacy<3.3.0,>=3.2.0->fr-core-news-sm==3.2.0) (1.8.2)\n",
            "Requirement already satisfied: thinc<8.1.0,>=8.0.12 in /usr/local/lib/python3.7/dist-packages (from spacy<3.3.0,>=3.2.0->fr-core-news-sm==3.2.0) (8.0.13)\n",
            "Requirement already satisfied: langcodes<4.0.0,>=3.2.0 in /usr/local/lib/python3.7/dist-packages (from spacy<3.3.0,>=3.2.0->fr-core-news-sm==3.2.0) (3.3.0)\n",
            "Requirement already satisfied: cymem<2.1.0,>=2.0.2 in /usr/local/lib/python3.7/dist-packages (from spacy<3.3.0,>=3.2.0->fr-core-news-sm==3.2.0) (2.0.6)\n",
            "Requirement already satisfied: wasabi<1.1.0,>=0.8.1 in /usr/local/lib/python3.7/dist-packages (from spacy<3.3.0,>=3.2.0->fr-core-news-sm==3.2.0) (0.8.2)\n",
            "Requirement already satisfied: zipp>=0.5 in /usr/local/lib/python3.7/dist-packages (from catalogue<2.1.0,>=2.0.6->spacy<3.3.0,>=3.2.0->fr-core-news-sm==3.2.0) (3.6.0)\n",
            "Requirement already satisfied: pyparsing!=3.0.5,>=2.0.2 in /usr/local/lib/python3.7/dist-packages (from packaging>=20.0->spacy<3.3.0,>=3.2.0->fr-core-news-sm==3.2.0) (3.0.6)\n",
            "Requirement already satisfied: smart-open<6.0.0,>=5.0.0 in /usr/local/lib/python3.7/dist-packages (from pathy>=0.3.5->spacy<3.3.0,>=3.2.0->fr-core-news-sm==3.2.0) (5.2.1)\n",
            "Requirement already satisfied: idna<3,>=2.5 in /usr/local/lib/python3.7/dist-packages (from requests<3.0.0,>=2.13.0->spacy<3.3.0,>=3.2.0->fr-core-news-sm==3.2.0) (2.10)\n",
            "Requirement already satisfied: urllib3!=1.25.0,!=1.25.1,<1.26,>=1.21.1 in /usr/local/lib/python3.7/dist-packages (from requests<3.0.0,>=2.13.0->spacy<3.3.0,>=3.2.0->fr-core-news-sm==3.2.0) (1.24.3)\n",
            "Requirement already satisfied: certifi>=2017.4.17 in /usr/local/lib/python3.7/dist-packages (from requests<3.0.0,>=2.13.0->spacy<3.3.0,>=3.2.0->fr-core-news-sm==3.2.0) (2021.10.8)\n",
            "Requirement already satisfied: chardet<4,>=3.0.2 in /usr/local/lib/python3.7/dist-packages (from requests<3.0.0,>=2.13.0->spacy<3.3.0,>=3.2.0->fr-core-news-sm==3.2.0) (3.0.4)\n",
            "Requirement already satisfied: click<9.0.0,>=7.1.1 in /usr/local/lib/python3.7/dist-packages (from typer<0.5.0,>=0.3.0->spacy<3.3.0,>=3.2.0->fr-core-news-sm==3.2.0) (7.1.2)\n",
            "Requirement already satisfied: MarkupSafe>=0.23 in /usr/local/lib/python3.7/dist-packages (from jinja2->spacy<3.3.0,>=3.2.0->fr-core-news-sm==3.2.0) (2.0.1)\n",
            "\u001b[33mWARNING: Running pip as the 'root' user can result in broken permissions and conflicting behaviour with the system package manager. It is recommended to use a virtual environment instead: https://pip.pypa.io/warnings/venv\u001b[0m\n",
            "\u001b[38;5;2m✔ Download and installation successful\u001b[0m\n",
            "You can now load the package via spacy.load('fr_core_news_sm')\n"
          ]
        }
      ]
    },
    {
      "cell_type": "code",
      "metadata": {
        "id": "Z_cmTzOfjTF3"
      },
      "source": [
        "import spacy\n",
        "from spacy import displacy"
      ],
      "execution_count": null,
      "outputs": []
    },
    {
      "cell_type": "code",
      "metadata": {
        "id": "Rin7leYlkFIC"
      },
      "source": [
        "nlp = spacy.load('fr_core_news_sm')"
      ],
      "execution_count": null,
      "outputs": []
    },
    {
      "cell_type": "code",
      "metadata": {
        "id": "fUSXf077ks4w"
      },
      "source": [
        "data['final_clean'] = data['final_clean'].apply(lambda x: \" \".join([y.lemma_ for y in nlp(x)]))"
      ],
      "execution_count": null,
      "outputs": []
    },
    {
      "cell_type": "code",
      "metadata": {
        "id": "RiUZE7wNAHSZ"
      },
      "source": [
        "data['clean_with_stopwords'] = data['clean_with_stopwords'].apply(lambda x: \" \".join([y.lemma_ for y in nlp(x)]))"
      ],
      "execution_count": null,
      "outputs": []
    },
    {
      "cell_type": "code",
      "metadata": {
        "id": "MWK7FJ-LlEe-",
        "colab": {
          "base_uri": "https://localhost:8080/",
          "height": 423
        },
        "outputId": "d827c5f4-a8f6-4616-a947-9df306e60bf3"
      },
      "source": [
        "data"
      ],
      "execution_count": null,
      "outputs": [
        {
          "output_type": "execute_result",
          "data": {
            "text/html": [
              "<div>\n",
              "<style scoped>\n",
              "    .dataframe tbody tr th:only-of-type {\n",
              "        vertical-align: middle;\n",
              "    }\n",
              "\n",
              "    .dataframe tbody tr th {\n",
              "        vertical-align: top;\n",
              "    }\n",
              "\n",
              "    .dataframe thead th {\n",
              "        text-align: right;\n",
              "    }\n",
              "</style>\n",
              "<table border=\"1\" class=\"dataframe\">\n",
              "  <thead>\n",
              "    <tr style=\"text-align: right;\">\n",
              "      <th></th>\n",
              "      <th>Fake</th>\n",
              "      <th>text</th>\n",
              "      <th>clean_with_stopwords</th>\n",
              "      <th>final_clean</th>\n",
              "    </tr>\n",
              "  </thead>\n",
              "  <tbody>\n",
              "    <tr>\n",
              "      <th>0</th>\n",
              "      <td>0</td>\n",
              "      <td>Il tente d'incendier sa femme : elle est indem...</td>\n",
              "      <td>il tente de incendier son femme : lui être ind...</td>\n",
              "      <td>tente de incendier femme : indemne , gravement...</td>\n",
              "    </tr>\n",
              "    <tr>\n",
              "      <th>1</th>\n",
              "      <td>0</td>\n",
              "      <td>Ça y est, Renaud a fait son retour sur scène !...</td>\n",
              "      <td>cela y être , renaud avoir faire son retour su...</td>\n",
              "      <td>cela être , renaud avoir faire retour scène ! ...</td>\n",
              "    </tr>\n",
              "    <tr>\n",
              "      <th>2</th>\n",
              "      <td>0</td>\n",
              "      <td>Avec son tailleur rouge, quel message a voulu ...</td>\n",
              "      <td>avec son tailleur rouge , quel message avoir v...</td>\n",
              "      <td>tailleur rouge , quel message avoir vouloir en...</td>\n",
              "    </tr>\n",
              "    <tr>\n",
              "      <th>3</th>\n",
              "      <td>0</td>\n",
              "      <td>Foot-Ligue 1 : tous les résultats de la 8ème j...</td>\n",
              "      <td>foot - ligue 1 : tout le résultat de le 8èm jo...</td>\n",
              "      <td>foot - ligue 1 : tout résultat 8ème journée 21...</td>\n",
              "    </tr>\n",
              "    <tr>\n",
              "      <th>4</th>\n",
              "      <td>0</td>\n",
              "      <td>× S'abonner au podcast \\nVous pouvez vous abon...</td>\n",
              "      <td>× se abonner au podcast \\n vous pouvoir vous a...</td>\n",
              "      <td>× se abonner podcast pouvoir abonner télécharg...</td>\n",
              "    </tr>\n",
              "    <tr>\n",
              "      <th>...</th>\n",
              "      <td>...</td>\n",
              "      <td>...</td>\n",
              "      <td>...</td>\n",
              "      <td>...</td>\n",
              "    </tr>\n",
              "    <tr>\n",
              "      <th>2427</th>\n",
              "      <td>1</td>\n",
              "      <td>97% de Libanaises refaites : L’ONU demande au ...</td>\n",
              "      <td>97 pourcent de libanais refaire : l’ onu deman...</td>\n",
              "      <td>97 pourcent libanais refaire : l’ onu demande ...</td>\n",
              "    </tr>\n",
              "    <tr>\n",
              "      <th>2428</th>\n",
              "      <td>1</td>\n",
              "      <td>Un réfugié syrien humilie et empêche une famil...</td>\n",
              "      <td>un réfugié syrien humilier et empêche un famil...</td>\n",
              "      <td>réfugier syrien humilier empêche famill rom tr...</td>\n",
              "    </tr>\n",
              "    <tr>\n",
              "      <th>2429</th>\n",
              "      <td>1</td>\n",
              "      <td>Mehdi Meklat lance une banane à Christiane Tau...</td>\n",
              "      <td>mehdi meklat lance un banane à christiane taub...</td>\n",
              "      <td>mehdi meklat lance banane christiane taubira a...</td>\n",
              "    </tr>\n",
              "    <tr>\n",
              "      <th>2430</th>\n",
              "      <td>1</td>\n",
              "      <td>En visite en Afghanistan, Marine Le Pen refuse...</td>\n",
              "      <td>en visite en afghanistan , marine le pen refus...</td>\n",
              "      <td>visite afghanistan , marine pen refuse partici...</td>\n",
              "    </tr>\n",
              "    <tr>\n",
              "      <th>2431</th>\n",
              "      <td>1</td>\n",
              "      <td>Insolite : il supprime 50 000 tweets en une nu...</td>\n",
              "      <td>insolite : il supprime 50 000 tweet en un nuit...</td>\n",
              "      <td>insolite : supprime 50 000 tweet nuit ! c’ êtr...</td>\n",
              "    </tr>\n",
              "  </tbody>\n",
              "</table>\n",
              "<p>27816 rows × 4 columns</p>\n",
              "</div>"
            ],
            "text/plain": [
              "     Fake  ...                                        final_clean\n",
              "0       0  ...  tente de incendier femme : indemne , gravement...\n",
              "1       0  ...  cela être , renaud avoir faire retour scène ! ...\n",
              "2       0  ...  tailleur rouge , quel message avoir vouloir en...\n",
              "3       0  ...  foot - ligue 1 : tout résultat 8ème journée 21...\n",
              "4       0  ...  × se abonner podcast pouvoir abonner télécharg...\n",
              "...   ...  ...                                                ...\n",
              "2427    1  ...  97 pourcent libanais refaire : l’ onu demande ...\n",
              "2428    1  ...  réfugier syrien humilier empêche famill rom tr...\n",
              "2429    1  ...  mehdi meklat lance banane christiane taubira a...\n",
              "2430    1  ...  visite afghanistan , marine pen refuse partici...\n",
              "2431    1  ...  insolite : supprime 50 000 tweet nuit ! c’ êtr...\n",
              "\n",
              "[27816 rows x 4 columns]"
            ]
          },
          "metadata": {},
          "execution_count": 114
        }
      ]
    },
    {
      "cell_type": "markdown",
      "metadata": {
        "id": "moHkFpXcN0Mz"
      },
      "source": [
        "**1.4 DATA CLEANING**"
      ]
    },
    {
      "cell_type": "markdown",
      "metadata": {
        "id": "8LnPHGJ6Mc6C"
      },
      "source": [
        "*APPLY DATA CLEANING TO THE TEXT WITH AND WITHOUT STOPWORDS*"
      ]
    },
    {
      "cell_type": "markdown",
      "metadata": {
        "id": "mnPeR8rmMeCV"
      },
      "source": [
        "*WITHOUT STOPWORDS*"
      ]
    },
    {
      "cell_type": "code",
      "metadata": {
        "id": "pgrHSuSbpMZS"
      },
      "source": [
        "import re \n",
        "\n",
        "def clean_data(text):\n",
        "    text = text.lower()\n",
        "    text = re.sub(r'<br />', ' ', text) #Removes Html tag\n",
        "    text = re.sub(r'[^\\ a-zà-ùä-üâ-ûë-ü]+', '', text)  #Removes non-alphabetic characters ???????????????????????\n",
        "    text = re.sub('http[s]?://(?:[a-zA-Z]|[0-9]|[$-_@.&+]|[!*\\(\\),]|(?:%[0-9a-fA-F][0-9a-fA-F]))+', ' ',text)\n",
        "    text = re.sub('http+', '', text)\n",
        "    text = re.sub(r'^\\s*|\\s\\s*', ' ', text).strip() #Removes extra whitespace, tabs\n",
        "    text = re.sub(r'à|ä|â', 'a', text)  #Converts accented vowels to their non-accented form\n",
        "    text = re.sub(r'é|è|ë|ê', 'e', text)\n",
        "    text = re.sub(r'ï|î,', 'i', text)\n",
        "    text = re.sub(r'ô', 'o', text)\n",
        "    text = re.sub(r'œ', 'oe', text)S\n",
        "    text = re.sub(r'ù|û|ü','u', text)\n",
        "    text = re.sub(r'ÿ','y', text)\n",
        "    text = re.sub(r'ç','c', text) # c o s???????\n",
        "    text = re.sub(r'*facebook*', ' ', text)\n",
        "    text = re.sub(r'*twitter*', ' ', text)\n",
        "\n",
        "    return text"
      ],
      "execution_count": null,
      "outputs": []
    },
    {
      "cell_type": "markdown",
      "metadata": {
        "id": "QFnixbgbMhNu"
      },
      "source": [
        "*WITH STOPWORDS*"
      ]
    },
    {
      "cell_type": "code",
      "metadata": {
        "id": "hMdu-Au8QpeH"
      },
      "source": [
        "import re \n",
        "\n",
        "def clean_data_stopwords(text):\n",
        "    text = text.lower()\n",
        "    text = re.sub(r'<br />', ' ', text) #Removes Html tag\n",
        "    text = re.sub(r'[^\\ a-zá-úà-ùä-üâ-ûã-ũ]+', '', text)  #Removes non-alphabetic characters\n",
        "    text = re.sub('http[s]?://(?:[a-zA-Z]|[0-9]|[$-_@.&+]|[!*\\(\\),]|(?:%[0-9a-fA-F][0-9a-fA-F]))+', ' ',text)\n",
        "    text = re.sub('http+', '', text)\n",
        "    text = re.sub(r'^\\s*|\\s\\s*', ' ', text).strip() #Removes extra whitespace, tabs\n",
        "    text = re.sub(r'facebook', ' ', text)\n",
        "    text = re.sub(r'twitter', ' ', text)\n",
        "    #œ \n",
        "\n",
        "    return text"
      ],
      "execution_count": null,
      "outputs": []
    },
    {
      "cell_type": "code",
      "metadata": {
        "id": "t2DDBSm4pOYl"
      },
      "source": [
        "data['final_clean'] = data['final_clean'].apply(lambda x: clean_data(x))"
      ],
      "execution_count": null,
      "outputs": []
    },
    {
      "cell_type": "code",
      "metadata": {
        "colab": {
          "base_uri": "https://localhost:8080/"
        },
        "id": "OOM7vzzR3f8P",
        "outputId": "cd93cfe5-bc34-427e-e94e-d8056d5b8e2d"
      },
      "source": [
        "data['clean_with_stopwords'].head()"
      ],
      "execution_count": null,
      "outputs": [
        {
          "output_type": "execute_result",
          "data": {
            "text/plain": [
              "0    il tente de incendier son femme lui être indem...\n",
              "1    cela y être renaud avoir faire son retour sur ...\n",
              "2    avec son tailleur rouge quel message avoir vou...\n",
              "3    foot ligue tout le résultat de le èm journée h...\n",
              "4    se abonner au podcast vous pouvoir vous abonne...\n",
              "Name: clean_with_stopwords, dtype: object"
            ]
          },
          "metadata": {},
          "execution_count": 144
        }
      ]
    },
    {
      "cell_type": "code",
      "metadata": {
        "id": "g48q-w5Y3RSP"
      },
      "source": [
        "data['clean_with_stopwords'] = data['clean_with_stopwords'].apply(lambda x: clean_data_stopwords(x))"
      ],
      "execution_count": null,
      "outputs": []
    },
    {
      "cell_type": "code",
      "metadata": {
        "id": "wvc3tnLCq016",
        "colab": {
          "base_uri": "https://localhost:8080/",
          "height": 441
        },
        "outputId": "2be04516-7be0-43d6-f25a-fffe4fa4a12e"
      },
      "source": [
        "data"
      ],
      "execution_count": null,
      "outputs": [
        {
          "output_type": "execute_result",
          "data": {
            "text/html": [
              "<div>\n",
              "<style scoped>\n",
              "    .dataframe tbody tr th:only-of-type {\n",
              "        vertical-align: middle;\n",
              "    }\n",
              "\n",
              "    .dataframe tbody tr th {\n",
              "        vertical-align: top;\n",
              "    }\n",
              "\n",
              "    .dataframe thead th {\n",
              "        text-align: right;\n",
              "    }\n",
              "</style>\n",
              "<table border=\"1\" class=\"dataframe\">\n",
              "  <thead>\n",
              "    <tr style=\"text-align: right;\">\n",
              "      <th></th>\n",
              "      <th>Fake</th>\n",
              "      <th>text</th>\n",
              "      <th>clean_with_stopwords</th>\n",
              "      <th>final_clean</th>\n",
              "    </tr>\n",
              "  </thead>\n",
              "  <tbody>\n",
              "    <tr>\n",
              "      <th>0</th>\n",
              "      <td>0</td>\n",
              "      <td>Il tente d'incendier sa femme : elle est indem...</td>\n",
              "      <td>il tente de incendier son femme lui être indem...</td>\n",
              "      <td>tente incendier femme indemne gravement bruler...</td>\n",
              "    </tr>\n",
              "    <tr>\n",
              "      <th>1</th>\n",
              "      <td>0</td>\n",
              "      <td>Ça y est, Renaud a fait son retour sur scène !...</td>\n",
              "      <td>cela y être renaud avoir faire son retour sur ...</td>\n",
              "      <td>etre renaud avoir faire retour scene octobre a...</td>\n",
              "    </tr>\n",
              "    <tr>\n",
              "      <th>2</th>\n",
              "      <td>0</td>\n",
              "      <td>Avec son tailleur rouge, quel message a voulu ...</td>\n",
              "      <td>avec son tailleur rouge quel message avoir vou...</td>\n",
              "      <td>tailleur rouge message avoir vouloir envoyer h...</td>\n",
              "    </tr>\n",
              "    <tr>\n",
              "      <th>3</th>\n",
              "      <td>0</td>\n",
              "      <td>Foot-Ligue 1 : tous les résultats de la 8ème j...</td>\n",
              "      <td>foot ligue tout le résultat de le èm journée h...</td>\n",
              "      <td>foot ligue tout resultat eme journee octobre m...</td>\n",
              "    </tr>\n",
              "    <tr>\n",
              "      <th>4</th>\n",
              "      <td>0</td>\n",
              "      <td>× S'abonner au podcast \\nVous pouvez vous abon...</td>\n",
              "      <td>se abonner au podcast vous pouvoir vous abonne...</td>\n",
              "      <td>abonner podcast pouvoir abonner telechargement...</td>\n",
              "    </tr>\n",
              "    <tr>\n",
              "      <th>...</th>\n",
              "      <td>...</td>\n",
              "      <td>...</td>\n",
              "      <td>...</td>\n",
              "      <td>...</td>\n",
              "    </tr>\n",
              "    <tr>\n",
              "      <th>2427</th>\n",
              "      <td>1</td>\n",
              "      <td>97% de Libanaises refaites : L’ONU demande au ...</td>\n",
              "      <td>pourcent de libanais refaire l onu demande au ...</td>\n",
              "      <td>pourcent libanais refaire onu demande liban ar...</td>\n",
              "    </tr>\n",
              "    <tr>\n",
              "      <th>2428</th>\n",
              "      <td>1</td>\n",
              "      <td>Un réfugié syrien humilie et empêche une famil...</td>\n",
              "      <td>un réfugié syrien humilier et empêche un famil...</td>\n",
              "      <td>refugier syrien humilier empeche famill rom tr...</td>\n",
              "    </tr>\n",
              "    <tr>\n",
              "      <th>2429</th>\n",
              "      <td>1</td>\n",
              "      <td>Mehdi Meklat lance une banane à Christiane Tau...</td>\n",
              "      <td>mehdi meklat lance un banane à christiane taub...</td>\n",
              "      <td>mehdi meklat lance banane christiane taubira a...</td>\n",
              "    </tr>\n",
              "    <tr>\n",
              "      <th>2430</th>\n",
              "      <td>1</td>\n",
              "      <td>En visite en Afghanistan, Marine Le Pen refuse...</td>\n",
              "      <td>en visite en afghanistan marine le pen refuse ...</td>\n",
              "      <td>visite afghanistan marine pen refuse participe...</td>\n",
              "    </tr>\n",
              "    <tr>\n",
              "      <th>2431</th>\n",
              "      <td>1</td>\n",
              "      <td>Insolite : il supprime 50 000 tweets en une nu...</td>\n",
              "      <td>insolite il supprime tweet en un nuit c être d...</td>\n",
              "      <td>insolite supprime tweet nuit etre nuire vendre...</td>\n",
              "    </tr>\n",
              "  </tbody>\n",
              "</table>\n",
              "<p>27816 rows × 4 columns</p>\n",
              "</div>"
            ],
            "text/plain": [
              "     Fake  ...                                        final_clean\n",
              "0       0  ...  tente incendier femme indemne gravement bruler...\n",
              "1       0  ...  etre renaud avoir faire retour scene octobre a...\n",
              "2       0  ...  tailleur rouge message avoir vouloir envoyer h...\n",
              "3       0  ...  foot ligue tout resultat eme journee octobre m...\n",
              "4       0  ...  abonner podcast pouvoir abonner telechargement...\n",
              "...   ...  ...                                                ...\n",
              "2427    1  ...  pourcent libanais refaire onu demande liban ar...\n",
              "2428    1  ...  refugier syrien humilier empeche famill rom tr...\n",
              "2429    1  ...  mehdi meklat lance banane christiane taubira a...\n",
              "2430    1  ...  visite afghanistan marine pen refuse participe...\n",
              "2431    1  ...  insolite supprime tweet nuit etre nuire vendre...\n",
              "\n",
              "[27816 rows x 4 columns]"
            ]
          },
          "metadata": {},
          "execution_count": 148
        }
      ]
    },
    {
      "cell_type": "code",
      "metadata": {
        "id": "rw8clxOyOVp9"
      },
      "source": [
        "extra_stopwords = ['cela', 'info','secretnewsfr','secretnewsinfo', 'groupesecretnews', 'factsecretnewscheckingcodex', 'secretnewsarreter', 'secretnews', 'facebook', 'facebookla', 'facebookle', 'genereuxfacebook', 'cddmanuel', 'nouvellezelandefacebook', 'facebookligu', 'httpstcokmipdllcq', 'amienssc', 'aussifacebook', 'afpfacebook', 'kbc', 'afpvalls', 'wwwfacebookcomvinsalsace', 'dambach', 'facebooknante', 'facebookvender', 'facebookpictwittercomhfgqwljh', 'fatidiquesfacebook', 'indisposeesfacebook', 'facebookerreur', 'donotfeedtroll', 'wdartmouthedunyhanfakenewspdf', 'tagger','httpwwwlibreactufrquisecachederrierelacensuresurfacebook', 'facebookdown','instagramdown', 'facebookbranvill', 'facebooknormandie', 'facebookisrael', 'facebooksablesursarthe', 'facebookhonfleur', 'facebookillumination', 'httpswwwfacebookcomkevinbetton','facebook','etc','rer','celui','an','quel','lui','dont','adsbygoogl','secretnew','secretnews','push','celuici', 'plus info','e','un', 'ce','il','n','qu','elu','s','j','l','m','afp','se','le', 'de', 'h', 'adsbygoogle','windowsbygoogle','s','c','l','d','e','tz','of','k','ceci','october','fr','px','st','tir','to','windowadsbygoogle','jt','ing','se','de','que','ob','sept','ete','rfi','cc','gmt','u', 'lesoirbe', 'ladepechefr','motcle','sipa','confinemer','gorafi','besancon','tweet', 'nordpress','ndlr', 'ladepechefr','infos']\n",
        "\n",
        "def remove_extra_stop_words(sentence):   \n",
        "    word_list=sentence.split()\n",
        "    clean_sentence=' '.join([w for w in word_list if w not in extra_stopwords])\n",
        "    return(clean_sentence)"
      ],
      "execution_count": null,
      "outputs": []
    },
    {
      "cell_type": "code",
      "metadata": {
        "id": "eqqjbeDNOVp-"
      },
      "source": [
        "data['final_clean'] = data['final_clean'].apply(remove_extra_stop_words)  "
      ],
      "execution_count": null,
      "outputs": []
    },
    {
      "cell_type": "code",
      "metadata": {
        "id": "13f1N0_Ii7es",
        "colab": {
          "base_uri": "https://localhost:8080/",
          "height": 441
        },
        "outputId": "c0fe0bf9-6443-4a8d-ce03-03e9e66bbfdd"
      },
      "source": [
        "data"
      ],
      "execution_count": null,
      "outputs": [
        {
          "output_type": "execute_result",
          "data": {
            "text/html": [
              "<div>\n",
              "<style scoped>\n",
              "    .dataframe tbody tr th:only-of-type {\n",
              "        vertical-align: middle;\n",
              "    }\n",
              "\n",
              "    .dataframe tbody tr th {\n",
              "        vertical-align: top;\n",
              "    }\n",
              "\n",
              "    .dataframe thead th {\n",
              "        text-align: right;\n",
              "    }\n",
              "</style>\n",
              "<table border=\"1\" class=\"dataframe\">\n",
              "  <thead>\n",
              "    <tr style=\"text-align: right;\">\n",
              "      <th></th>\n",
              "      <th>Fake</th>\n",
              "      <th>text</th>\n",
              "      <th>clean_with_stopwords</th>\n",
              "      <th>final_clean</th>\n",
              "    </tr>\n",
              "  </thead>\n",
              "  <tbody>\n",
              "    <tr>\n",
              "      <th>0</th>\n",
              "      <td>0</td>\n",
              "      <td>Il tente d'incendier sa femme : elle est indem...</td>\n",
              "      <td>il tente de incendier son femme lui être indem...</td>\n",
              "      <td>tente incendier femme indemne gravement bruler...</td>\n",
              "    </tr>\n",
              "    <tr>\n",
              "      <th>1</th>\n",
              "      <td>0</td>\n",
              "      <td>Ça y est, Renaud a fait son retour sur scène !...</td>\n",
              "      <td>cela y être renaud avoir faire son retour sur ...</td>\n",
              "      <td>etre renaud avoir faire retour scene octobre a...</td>\n",
              "    </tr>\n",
              "    <tr>\n",
              "      <th>2</th>\n",
              "      <td>0</td>\n",
              "      <td>Avec son tailleur rouge, quel message a voulu ...</td>\n",
              "      <td>avec son tailleur rouge quel message avoir vou...</td>\n",
              "      <td>tailleur rouge message avoir vouloir envoyer h...</td>\n",
              "    </tr>\n",
              "    <tr>\n",
              "      <th>3</th>\n",
              "      <td>0</td>\n",
              "      <td>Foot-Ligue 1 : tous les résultats de la 8ème j...</td>\n",
              "      <td>foot ligue tout le résultat de le èm journée h...</td>\n",
              "      <td>foot ligue tout resultat eme journee octobre m...</td>\n",
              "    </tr>\n",
              "    <tr>\n",
              "      <th>4</th>\n",
              "      <td>0</td>\n",
              "      <td>× S'abonner au podcast \\nVous pouvez vous abon...</td>\n",
              "      <td>se abonner au podcast vous pouvoir vous abonne...</td>\n",
              "      <td>abonner podcast pouvoir abonner telechargement...</td>\n",
              "    </tr>\n",
              "    <tr>\n",
              "      <th>...</th>\n",
              "      <td>...</td>\n",
              "      <td>...</td>\n",
              "      <td>...</td>\n",
              "      <td>...</td>\n",
              "    </tr>\n",
              "    <tr>\n",
              "      <th>2427</th>\n",
              "      <td>1</td>\n",
              "      <td>97% de Libanaises refaites : L’ONU demande au ...</td>\n",
              "      <td>pourcent de libanais refaire l onu demande au ...</td>\n",
              "      <td>pourcent libanais refaire onu demande liban ar...</td>\n",
              "    </tr>\n",
              "    <tr>\n",
              "      <th>2428</th>\n",
              "      <td>1</td>\n",
              "      <td>Un réfugié syrien humilie et empêche une famil...</td>\n",
              "      <td>un réfugié syrien humilier et empêche un famil...</td>\n",
              "      <td>refugier syrien humilier empeche famill rom tr...</td>\n",
              "    </tr>\n",
              "    <tr>\n",
              "      <th>2429</th>\n",
              "      <td>1</td>\n",
              "      <td>Mehdi Meklat lance une banane à Christiane Tau...</td>\n",
              "      <td>mehdi meklat lance un banane à christiane taub...</td>\n",
              "      <td>mehdi meklat lance banane christiane taubira a...</td>\n",
              "    </tr>\n",
              "    <tr>\n",
              "      <th>2430</th>\n",
              "      <td>1</td>\n",
              "      <td>En visite en Afghanistan, Marine Le Pen refuse...</td>\n",
              "      <td>en visite en afghanistan marine le pen refuse ...</td>\n",
              "      <td>visite afghanistan marine pen refuse participe...</td>\n",
              "    </tr>\n",
              "    <tr>\n",
              "      <th>2431</th>\n",
              "      <td>1</td>\n",
              "      <td>Insolite : il supprime 50 000 tweets en une nu...</td>\n",
              "      <td>insolite il supprime tweet en un nuit c être d...</td>\n",
              "      <td>insolite supprime tweet nuit etre nuire vendre...</td>\n",
              "    </tr>\n",
              "  </tbody>\n",
              "</table>\n",
              "<p>27816 rows × 4 columns</p>\n",
              "</div>"
            ],
            "text/plain": [
              "     Fake  ...                                        final_clean\n",
              "0       0  ...  tente incendier femme indemne gravement bruler...\n",
              "1       0  ...  etre renaud avoir faire retour scene octobre a...\n",
              "2       0  ...  tailleur rouge message avoir vouloir envoyer h...\n",
              "3       0  ...  foot ligue tout resultat eme journee octobre m...\n",
              "4       0  ...  abonner podcast pouvoir abonner telechargement...\n",
              "...   ...  ...                                                ...\n",
              "2427    1  ...  pourcent libanais refaire onu demande liban ar...\n",
              "2428    1  ...  refugier syrien humilier empeche famill rom tr...\n",
              "2429    1  ...  mehdi meklat lance banane christiane taubira a...\n",
              "2430    1  ...  visite afghanistan marine pen refuse participe...\n",
              "2431    1  ...  insolite supprime tweet nuit etre nuire vendre...\n",
              "\n",
              "[27816 rows x 4 columns]"
            ]
          },
          "metadata": {},
          "execution_count": 152
        }
      ]
    },
    {
      "cell_type": "markdown",
      "source": [
        "*SAVE TO .CSV*"
      ],
      "metadata": {
        "id": "J0XrPKLWxma8"
      }
    },
    {
      "cell_type": "code",
      "metadata": {
        "id": "WduRLSzJp-fK"
      },
      "source": [
        "data.to_csv('French_D.csv')"
      ],
      "execution_count": null,
      "outputs": []
    },
    {
      "cell_type": "markdown",
      "source": [
        "*TOTAL NUMBER OF WORDS*"
      ],
      "metadata": {
        "id": "ZB9ghwImxoPD"
      }
    },
    {
      "cell_type": "code",
      "metadata": {
        "id": "Tw3AGBAkbmUY",
        "colab": {
          "base_uri": "https://localhost:8080/"
        },
        "outputId": "174b7c8b-a872-4490-dc9c-2b46b98e8f8d"
      },
      "source": [
        "import nltk\n",
        "nltk.download('punkt')"
      ],
      "execution_count": null,
      "outputs": [
        {
          "output_type": "stream",
          "name": "stdout",
          "text": [
            "[nltk_data] Downloading package punkt to /root/nltk_data...\n",
            "[nltk_data]   Unzipping tokenizers/punkt.zip.\n"
          ]
        },
        {
          "output_type": "execute_result",
          "data": {
            "text/plain": [
              "True"
            ]
          },
          "metadata": {},
          "execution_count": 5
        }
      ]
    },
    {
      "cell_type": "code",
      "metadata": {
        "id": "-Il0_PH7N0NG",
        "colab": {
          "base_uri": "https://localhost:8080/"
        },
        "outputId": "d298399e-7317-450f-ea28-880e658392c8"
      },
      "source": [
        "total_words=len(nltk.word_tokenize(complete_corpus))\n",
        "total_words"
      ],
      "execution_count": null,
      "outputs": [
        {
          "output_type": "execute_result",
          "data": {
            "text/plain": [
              "5956087"
            ]
          },
          "metadata": {},
          "execution_count": 6
        }
      ]
    },
    {
      "cell_type": "markdown",
      "source": [
        "*NUMBER OF CHARACTERS PER ARTICLE*"
      ],
      "metadata": {
        "id": "I2hdWU-vxtYR"
      }
    },
    {
      "cell_type": "code",
      "source": [
        "data['final_clean'].str.len()"
      ],
      "metadata": {
        "colab": {
          "base_uri": "https://localhost:8080/"
        },
        "id": "Sul2Hdm8g2Xk",
        "outputId": "6e13df99-578d-4b04-f264-1f60e9fff9f3"
      },
      "execution_count": null,
      "outputs": [
        {
          "output_type": "execute_result",
          "data": {
            "text/plain": [
              "0         993\n",
              "1        1624\n",
              "2        1696\n",
              "3        1267\n",
              "4         437\n",
              "         ... \n",
              "27811    1263\n",
              "27812     573\n",
              "27813     886\n",
              "27814     863\n",
              "27815     569\n",
              "Name: final_clean, Length: 27816, dtype: int64"
            ]
          },
          "metadata": {},
          "execution_count": 7
        }
      ]
    },
    {
      "cell_type": "markdown",
      "source": [
        "*MEAN OF WORDS PER ARTICLE*"
      ],
      "metadata": {
        "id": "VtWWxaGwxxTQ"
      }
    },
    {
      "cell_type": "code",
      "metadata": {
        "colab": {
          "base_uri": "https://localhost:8080/"
        },
        "id": "TdGmaoceP7rE",
        "outputId": "219aadd1-3386-4fed-84c8-afdd01751055"
      },
      "source": [
        "import nltk  # don't forget to do this step everytime in colab\n",
        "nltk.download('punkt')"
      ],
      "execution_count": null,
      "outputs": [
        {
          "output_type": "stream",
          "name": "stdout",
          "text": [
            "[nltk_data] Downloading package punkt to /root/nltk_data...\n",
            "[nltk_data]   Package punkt is already up-to-date!\n"
          ]
        },
        {
          "output_type": "execute_result",
          "data": {
            "text/plain": [
              "True"
            ]
          },
          "metadata": {},
          "execution_count": 12
        }
      ]
    },
    {
      "cell_type": "code",
      "metadata": {
        "id": "cnHDKKi0P7t-"
      },
      "source": [
        "from nltk import word_tokenize\n",
        "data['Text_tokenised'] = data['final_clean'].apply(word_tokenize)"
      ],
      "execution_count": null,
      "outputs": []
    },
    {
      "cell_type": "code",
      "metadata": {
        "id": "mu6MfP9qQTfc"
      },
      "source": [
        "data['length'] = data['Text_tokenised'].str.len()"
      ],
      "execution_count": null,
      "outputs": []
    },
    {
      "cell_type": "code",
      "metadata": {
        "id": "y76T6owJQTmd"
      },
      "source": [
        "mean = data['length'].mean()"
      ],
      "execution_count": null,
      "outputs": []
    },
    {
      "cell_type": "code",
      "source": [
        "mean"
      ],
      "metadata": {
        "colab": {
          "base_uri": "https://localhost:8080/"
        },
        "id": "5fPXQc7ymUiP",
        "outputId": "dae8ee1c-7ea0-46fa-b239-34a94c5cbf6a"
      },
      "execution_count": null,
      "outputs": [
        {
          "output_type": "execute_result",
          "data": {
            "text/plain": [
              "214.12449669255105"
            ]
          },
          "metadata": {},
          "execution_count": 18
        }
      ]
    }
  ]
}