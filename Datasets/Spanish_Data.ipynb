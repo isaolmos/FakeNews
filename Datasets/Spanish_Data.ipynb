{
  "nbformat": 4,
  "nbformat_minor": 0,
  "metadata": {
    "colab": {
      "name": "spanish_datasets.ipynb",
      "provenance": [],
      "collapsed_sections": []
    },
    "kernelspec": {
      "name": "python3",
      "display_name": "Python 3"
    },
    "language_info": {
      "name": "python"
    }
  },
  "cells": [
    {
      "cell_type": "markdown",
      "metadata": {
        "id": "azsAsIEe2WcP"
      },
      "source": [
        "# **PRE-PROCESSING AND CLEANING: SPANISH DATASET**"
      ]
    },
    {
      "cell_type": "markdown",
      "metadata": {
        "id": "_W3c21KapvLU"
      },
      "source": [
        "**IMPORT PACKAGES AND LIBRARIES**"
      ]
    },
    {
      "cell_type": "code",
      "metadata": {
        "id": "DNdyr2tG2WcS"
      },
      "source": [
        "import numpy as np\n",
        "import pandas as pd\n",
        "from nltk.corpus import stopwords\n",
        "from sklearn import preprocessing"
      ],
      "execution_count": null,
      "outputs": []
    },
    {
      "cell_type": "code",
      "metadata": {
        "colab": {
          "base_uri": "https://localhost:8080/"
        },
        "id": "L1enpxjhdtWr",
        "outputId": "f9974a43-4007-4d94-81b6-5f333da09c82"
      },
      "source": [
        "from google.colab import drive\n",
        "drive.mount('/content/drive')"
      ],
      "execution_count": null,
      "outputs": [
        {
          "output_type": "stream",
          "name": "stdout",
          "text": [
            "Drive already mounted at /content/drive; to attempt to forcibly remount, call drive.mount(\"/content/drive\", force_remount=True).\n"
          ]
        }
      ]
    },
    {
      "cell_type": "markdown",
      "metadata": {
        "id": "b6vXCz8qpvLY"
      },
      "source": [
        "**LOAD THE DATA**"
      ]
    },
    {
      "cell_type": "code",
      "metadata": {
        "id": "MXLQaMwH2WcU"
      },
      "source": [
        "#LOAD THREE DATASETS\n",
        "data_test=pd.read_csv('/content/drive/MyDrive/thesiss/sp_test.csv',encoding = \"ISO-8859-1\")\n",
        "data_git=pd.read_csv('/content/drive/MyDrive/thesiss/sp_git.csv')\n",
        "data_train=pd.read_csv('/content/drive/MyDrive/thesiss/sp_train.csv',encoding = \"ISO-8859-1\")\n"
      ],
      "execution_count": null,
      "outputs": []
    },
    {
      "cell_type": "code",
      "metadata": {
        "colab": {
          "base_uri": "https://localhost:8080/"
        },
        "id": "2Ezr5aC1ZSLy",
        "outputId": "a9773542-24ff-459f-f400-12232537828f"
      },
      "source": [
        "import nltk\n",
        "nltk.download('punkt')\n",
        "tokens = []\n",
        "for row in data_train['Text']:\n",
        "  for word in row:\n",
        "      tokens.append(nltk.tokenize.word_tokenize(word))"
      ],
      "execution_count": null,
      "outputs": [
        {
          "output_type": "stream",
          "name": "stdout",
          "text": [
            "[nltk_data] Downloading package punkt to /root/nltk_data...\n",
            "[nltk_data]   Package punkt is already up-to-date!\n"
          ]
        }
      ]
    },
    {
      "cell_type": "code",
      "metadata": {
        "colab": {
          "base_uri": "https://localhost:8080/"
        },
        "id": "wEogJldeZp5W",
        "outputId": "1f47b670-9a1d-41a3-90c9-c92ccc9e6aa8"
      },
      "source": [
        "print(len(tokens))"
      ],
      "execution_count": null,
      "outputs": [
        {
          "output_type": "stream",
          "name": "stdout",
          "text": [
            "1544741\n"
          ]
        }
      ]
    },
    {
      "cell_type": "code",
      "metadata": {
        "id": "lCuT6IbK2WcV"
      },
      "source": [
        "data=pd.concat((data_train,data_test),axis=0) #CONCATENATE SPANISHFAKENEWS CORPUS"
      ],
      "execution_count": null,
      "outputs": []
    },
    {
      "cell_type": "code",
      "metadata": {
        "id": "rEPpQDC-2WcW"
      },
      "source": [
        "data.drop(['Id','Topic','Source','Headline','Link'], axis=1, inplace=True) #DROP COLUMNS THAT WILL NOT BE USED"
      ],
      "execution_count": null,
      "outputs": []
    },
    {
      "cell_type": "code",
      "metadata": {
        "colab": {
          "base_uri": "https://localhost:8080/",
          "height": 423
        },
        "id": "g02kGCMC2WcW",
        "outputId": "e5b25158-c5a2-458b-e7a2-c93678dbde6a"
      },
      "source": [
        "data"
      ],
      "execution_count": null,
      "outputs": [
        {
          "output_type": "execute_result",
          "data": {
            "text/html": [
              "<div>\n",
              "<style scoped>\n",
              "    .dataframe tbody tr th:only-of-type {\n",
              "        vertical-align: middle;\n",
              "    }\n",
              "\n",
              "    .dataframe tbody tr th {\n",
              "        vertical-align: top;\n",
              "    }\n",
              "\n",
              "    .dataframe thead th {\n",
              "        text-align: right;\n",
              "    }\n",
              "</style>\n",
              "<table border=\"1\" class=\"dataframe\">\n",
              "  <thead>\n",
              "    <tr style=\"text-align: right;\">\n",
              "      <th></th>\n",
              "      <th>Category</th>\n",
              "      <th>Text</th>\n",
              "    </tr>\n",
              "  </thead>\n",
              "  <tbody>\n",
              "    <tr>\n",
              "      <th>0</th>\n",
              "      <td>Fake</td>\n",
              "      <td>RAE INCLUIRÁ LA PALABRA \"LADY\" EN EL DICCIONAR...</td>\n",
              "    </tr>\n",
              "    <tr>\n",
              "      <th>1</th>\n",
              "      <td>Fake</td>\n",
              "      <td>La palabra \"haiga\", aceptada por la RAE La Rea...</td>\n",
              "    </tr>\n",
              "    <tr>\n",
              "      <th>2</th>\n",
              "      <td>Fake</td>\n",
              "      <td>YORDI ROSADO ESCRIBIRÁ Y DISEÑARÁ LOS NUEVOS L...</td>\n",
              "    </tr>\n",
              "    <tr>\n",
              "      <th>3</th>\n",
              "      <td>True</td>\n",
              "      <td>UNAM capacitará a maestros para aprobar prueba...</td>\n",
              "    </tr>\n",
              "    <tr>\n",
              "      <th>4</th>\n",
              "      <td>Fake</td>\n",
              "      <td>Alerta: pretenden aprobar libros escolares con...</td>\n",
              "    </tr>\n",
              "    <tr>\n",
              "      <th>...</th>\n",
              "      <td>...</td>\n",
              "      <td>...</td>\n",
              "    </tr>\n",
              "    <tr>\n",
              "      <th>290</th>\n",
              "      <td>True</td>\n",
              "      <td>Meryl Streep disfrutó unos premios Oscar tan m...</td>\n",
              "    </tr>\n",
              "    <tr>\n",
              "      <th>291</th>\n",
              "      <td>Fake</td>\n",
              "      <td>EL PLAGIO DE LANA DEL REY A RADIOHEAD FUE ACOR...</td>\n",
              "    </tr>\n",
              "    <tr>\n",
              "      <th>292</th>\n",
              "      <td>True</td>\n",
              "      <td>Ricardo Arjona lanza una serie documental por ...</td>\n",
              "    </tr>\n",
              "    <tr>\n",
              "      <th>293</th>\n",
              "      <td>True</td>\n",
              "      <td>Raúl Araiza sorprende a Andrea Legarreta con b...</td>\n",
              "    </tr>\n",
              "    <tr>\n",
              "      <th>294</th>\n",
              "      <td>Fake</td>\n",
              "      <td>Adal Ramones protagonizará el remake de El Cha...</td>\n",
              "    </tr>\n",
              "  </tbody>\n",
              "</table>\n",
              "<p>971 rows × 2 columns</p>\n",
              "</div>"
            ],
            "text/plain": [
              "    Category                                               Text\n",
              "0       Fake  RAE INCLUIRÁ LA PALABRA \"LADY\" EN EL DICCIONAR...\n",
              "1       Fake  La palabra \"haiga\", aceptada por la RAE La Rea...\n",
              "2       Fake  YORDI ROSADO ESCRIBIRÁ Y DISEÑARÁ LOS NUEVOS L...\n",
              "3       True  UNAM capacitará a maestros para aprobar prueba...\n",
              "4       Fake  Alerta: pretenden aprobar libros escolares con...\n",
              "..       ...                                                ...\n",
              "290     True  Meryl Streep disfrutó unos premios Oscar tan m...\n",
              "291     Fake  EL PLAGIO DE LANA DEL REY A RADIOHEAD FUE ACOR...\n",
              "292     True  Ricardo Arjona lanza una serie documental por ...\n",
              "293     True  Raúl Araiza sorprende a Andrea Legarreta con b...\n",
              "294     Fake  Adal Ramones protagonizará el remake de El Cha...\n",
              "\n",
              "[971 rows x 2 columns]"
            ]
          },
          "metadata": {},
          "execution_count": 129
        }
      ]
    },
    {
      "cell_type": "code",
      "metadata": {
        "colab": {
          "base_uri": "https://localhost:8080/"
        },
        "id": "_EoQF52Ydppu",
        "outputId": "e0618b76-43fa-4f12-d153-bb40f3bd9d11"
      },
      "source": [
        "data['Category'].value_counts() "
      ],
      "execution_count": null,
      "outputs": [
        {
          "output_type": "execute_result",
          "data": {
            "text/plain": [
              "True    491\n",
              "Fake    480\n",
              "Name: Category, dtype: int64"
            ]
          },
          "metadata": {},
          "execution_count": 130
        }
      ]
    },
    {
      "cell_type": "code",
      "source": [
        "data['Category']=data['Category'].replace('Fake', '1')\n",
        "data['Category']=data['Category'].replace('True', '0')"
      ],
      "metadata": {
        "id": "NfhrX9LvYxjd"
      },
      "execution_count": null,
      "outputs": []
    },
    {
      "cell_type": "code",
      "source": [
        "data"
      ],
      "metadata": {
        "colab": {
          "base_uri": "https://localhost:8080/",
          "height": 423
        },
        "id": "lLG6UpcvZA_S",
        "outputId": "7adcd49b-270a-4f4c-de20-91d7658ebf7a"
      },
      "execution_count": null,
      "outputs": [
        {
          "output_type": "execute_result",
          "data": {
            "text/html": [
              "<div>\n",
              "<style scoped>\n",
              "    .dataframe tbody tr th:only-of-type {\n",
              "        vertical-align: middle;\n",
              "    }\n",
              "\n",
              "    .dataframe tbody tr th {\n",
              "        vertical-align: top;\n",
              "    }\n",
              "\n",
              "    .dataframe thead th {\n",
              "        text-align: right;\n",
              "    }\n",
              "</style>\n",
              "<table border=\"1\" class=\"dataframe\">\n",
              "  <thead>\n",
              "    <tr style=\"text-align: right;\">\n",
              "      <th></th>\n",
              "      <th>Category</th>\n",
              "      <th>Text</th>\n",
              "    </tr>\n",
              "  </thead>\n",
              "  <tbody>\n",
              "    <tr>\n",
              "      <th>0</th>\n",
              "      <td>1</td>\n",
              "      <td>RAE INCLUIRÁ LA PALABRA \"LADY\" EN EL DICCIONAR...</td>\n",
              "    </tr>\n",
              "    <tr>\n",
              "      <th>1</th>\n",
              "      <td>1</td>\n",
              "      <td>La palabra \"haiga\", aceptada por la RAE La Rea...</td>\n",
              "    </tr>\n",
              "    <tr>\n",
              "      <th>2</th>\n",
              "      <td>1</td>\n",
              "      <td>YORDI ROSADO ESCRIBIRÁ Y DISEÑARÁ LOS NUEVOS L...</td>\n",
              "    </tr>\n",
              "    <tr>\n",
              "      <th>3</th>\n",
              "      <td>0</td>\n",
              "      <td>UNAM capacitará a maestros para aprobar prueba...</td>\n",
              "    </tr>\n",
              "    <tr>\n",
              "      <th>4</th>\n",
              "      <td>1</td>\n",
              "      <td>Alerta: pretenden aprobar libros escolares con...</td>\n",
              "    </tr>\n",
              "    <tr>\n",
              "      <th>...</th>\n",
              "      <td>...</td>\n",
              "      <td>...</td>\n",
              "    </tr>\n",
              "    <tr>\n",
              "      <th>290</th>\n",
              "      <td>0</td>\n",
              "      <td>Meryl Streep disfrutó unos premios Oscar tan m...</td>\n",
              "    </tr>\n",
              "    <tr>\n",
              "      <th>291</th>\n",
              "      <td>1</td>\n",
              "      <td>EL PLAGIO DE LANA DEL REY A RADIOHEAD FUE ACOR...</td>\n",
              "    </tr>\n",
              "    <tr>\n",
              "      <th>292</th>\n",
              "      <td>0</td>\n",
              "      <td>Ricardo Arjona lanza una serie documental por ...</td>\n",
              "    </tr>\n",
              "    <tr>\n",
              "      <th>293</th>\n",
              "      <td>0</td>\n",
              "      <td>Raúl Araiza sorprende a Andrea Legarreta con b...</td>\n",
              "    </tr>\n",
              "    <tr>\n",
              "      <th>294</th>\n",
              "      <td>1</td>\n",
              "      <td>Adal Ramones protagonizará el remake de El Cha...</td>\n",
              "    </tr>\n",
              "  </tbody>\n",
              "</table>\n",
              "<p>971 rows × 2 columns</p>\n",
              "</div>"
            ],
            "text/plain": [
              "    Category                                               Text\n",
              "0          1  RAE INCLUIRÁ LA PALABRA \"LADY\" EN EL DICCIONAR...\n",
              "1          1  La palabra \"haiga\", aceptada por la RAE La Rea...\n",
              "2          1  YORDI ROSADO ESCRIBIRÁ Y DISEÑARÁ LOS NUEVOS L...\n",
              "3          0  UNAM capacitará a maestros para aprobar prueba...\n",
              "4          1  Alerta: pretenden aprobar libros escolares con...\n",
              "..       ...                                                ...\n",
              "290        0  Meryl Streep disfrutó unos premios Oscar tan m...\n",
              "291        1  EL PLAGIO DE LANA DEL REY A RADIOHEAD FUE ACOR...\n",
              "292        0  Ricardo Arjona lanza una serie documental por ...\n",
              "293        0  Raúl Araiza sorprende a Andrea Legarreta con b...\n",
              "294        1  Adal Ramones protagonizará el remake de El Cha...\n",
              "\n",
              "[971 rows x 2 columns]"
            ]
          },
          "metadata": {},
          "execution_count": 132
        }
      ]
    },
    {
      "cell_type": "code",
      "metadata": {
        "id": "G76u5jzJ2Wca",
        "colab": {
          "base_uri": "https://localhost:8080/",
          "height": 237
        },
        "outputId": "db543dc5-418e-4dab-9b76-1addb91102a5"
      },
      "source": [
        "data_git[30:36]"
      ],
      "execution_count": null,
      "outputs": [
        {
          "output_type": "execute_result",
          "data": {
            "text/html": [
              "<div>\n",
              "<style scoped>\n",
              "    .dataframe tbody tr th:only-of-type {\n",
              "        vertical-align: middle;\n",
              "    }\n",
              "\n",
              "    .dataframe tbody tr th {\n",
              "        vertical-align: top;\n",
              "    }\n",
              "\n",
              "    .dataframe thead th {\n",
              "        text-align: right;\n",
              "    }\n",
              "</style>\n",
              "<table border=\"1\" class=\"dataframe\">\n",
              "  <thead>\n",
              "    <tr style=\"text-align: right;\">\n",
              "      <th></th>\n",
              "      <th>Category</th>\n",
              "      <th>Text</th>\n",
              "    </tr>\n",
              "  </thead>\n",
              "  <tbody>\n",
              "    <tr>\n",
              "      <th>30</th>\n",
              "      <td>True</td>\n",
              "      <td>Unas 300 personas han sido desalojadas de un ...</td>\n",
              "    </tr>\n",
              "    <tr>\n",
              "      <th>31</th>\n",
              "      <td>False</td>\n",
              "      <td>Vaya manera de morir. Angelito. Intenta compl...</td>\n",
              "    </tr>\n",
              "    <tr>\n",
              "      <th>32</th>\n",
              "      <td>True</td>\n",
              "      <td>Vox evitará la foto con sus homólogos de la e...</td>\n",
              "    </tr>\n",
              "    <tr>\n",
              "      <th>33</th>\n",
              "      <td>True</td>\n",
              "      <td>Vox ha presentado este viernes una querella c...</td>\n",
              "    </tr>\n",
              "    <tr>\n",
              "      <th>34</th>\n",
              "      <td>True</td>\n",
              "      <td>Vox ya no quiere cerrar los canales autonómic...</td>\n",
              "    </tr>\n",
              "    <tr>\n",
              "      <th>35</th>\n",
              "      <td>False</td>\n",
              "      <td>¿Canciones de amor o títulos que promueven el...</td>\n",
              "    </tr>\n",
              "  </tbody>\n",
              "</table>\n",
              "</div>"
            ],
            "text/plain": [
              "    Category                                               Text\n",
              "30      True   Unas 300 personas han sido desalojadas de un ...\n",
              "31     False   Vaya manera de morir. Angelito. Intenta compl...\n",
              "32      True   Vox evitará la foto con sus homólogos de la e...\n",
              "33      True   Vox ha presentado este viernes una querella c...\n",
              "34      True   Vox ya no quiere cerrar los canales autonómic...\n",
              "35     False   ¿Canciones de amor o títulos que promueven el..."
            ]
          },
          "metadata": {},
          "execution_count": 133
        }
      ]
    },
    {
      "cell_type": "code",
      "metadata": {
        "id": "JZM-_wdKpvLj"
      },
      "source": [
        "# data_git['Category']=data_git['Category'].astype('object').replace('False','1')  #CHANGE BOOL TO OBJECT TYPE"
      ],
      "execution_count": null,
      "outputs": []
    },
    {
      "cell_type": "code",
      "metadata": {
        "id": "Sz3BvCqZpvLl",
        "colab": {
          "base_uri": "https://localhost:8080/"
        },
        "outputId": "9d3b4de9-f2cd-4727-f3ca-d2e342401ae9"
      },
      "source": [
        "data_git.info()"
      ],
      "execution_count": null,
      "outputs": [
        {
          "output_type": "stream",
          "name": "stdout",
          "text": [
            "<class 'pandas.core.frame.DataFrame'>\n",
            "RangeIndex: 2000 entries, 0 to 1999\n",
            "Data columns (total 2 columns):\n",
            " #   Column    Non-Null Count  Dtype \n",
            "---  ------    --------------  ----- \n",
            " 0   Category  2000 non-null   bool  \n",
            " 1   Text      2000 non-null   object\n",
            "dtypes: bool(1), object(1)\n",
            "memory usage: 17.7+ KB\n"
          ]
        }
      ]
    },
    {
      "cell_type": "code",
      "metadata": {
        "id": "cOdTFzXEpvLm"
      },
      "source": [
        "replace_vals={False:'1',True:'0'}   #CONVERT 'FALSE' LABEL TO 'FAKE LABEL' IN THE SECOND DATASET\n",
        "data_git['Category']=data_git['Category'].map(replace_vals)"
      ],
      "execution_count": null,
      "outputs": []
    },
    {
      "cell_type": "code",
      "metadata": {
        "id": "wpe8YQ4FpvLo",
        "colab": {
          "base_uri": "https://localhost:8080/"
        },
        "outputId": "6be0ca38-f829-4a69-aea3-a6e943b9edd9"
      },
      "source": [
        "data_git['Category'].value_counts() #DISPLAY NUMBER OF FAKE AND TRUE NEWS"
      ],
      "execution_count": null,
      "outputs": [
        {
          "output_type": "execute_result",
          "data": {
            "text/plain": [
              "0    1000\n",
              "1    1000\n",
              "Name: Category, dtype: int64"
            ]
          },
          "metadata": {},
          "execution_count": 137
        }
      ]
    },
    {
      "cell_type": "code",
      "source": [
        "data_git[30:40]"
      ],
      "metadata": {
        "colab": {
          "base_uri": "https://localhost:8080/",
          "height": 363
        },
        "id": "9d7ERpLjadhP",
        "outputId": "3d070ba3-987a-4ca9-eaa7-027f5f97d93e"
      },
      "execution_count": null,
      "outputs": [
        {
          "output_type": "execute_result",
          "data": {
            "text/html": [
              "<div>\n",
              "<style scoped>\n",
              "    .dataframe tbody tr th:only-of-type {\n",
              "        vertical-align: middle;\n",
              "    }\n",
              "\n",
              "    .dataframe tbody tr th {\n",
              "        vertical-align: top;\n",
              "    }\n",
              "\n",
              "    .dataframe thead th {\n",
              "        text-align: right;\n",
              "    }\n",
              "</style>\n",
              "<table border=\"1\" class=\"dataframe\">\n",
              "  <thead>\n",
              "    <tr style=\"text-align: right;\">\n",
              "      <th></th>\n",
              "      <th>Category</th>\n",
              "      <th>Text</th>\n",
              "    </tr>\n",
              "  </thead>\n",
              "  <tbody>\n",
              "    <tr>\n",
              "      <th>30</th>\n",
              "      <td>0</td>\n",
              "      <td>Unas 300 personas han sido desalojadas de un ...</td>\n",
              "    </tr>\n",
              "    <tr>\n",
              "      <th>31</th>\n",
              "      <td>1</td>\n",
              "      <td>Vaya manera de morir. Angelito. Intenta compl...</td>\n",
              "    </tr>\n",
              "    <tr>\n",
              "      <th>32</th>\n",
              "      <td>0</td>\n",
              "      <td>Vox evitará la foto con sus homólogos de la e...</td>\n",
              "    </tr>\n",
              "    <tr>\n",
              "      <th>33</th>\n",
              "      <td>0</td>\n",
              "      <td>Vox ha presentado este viernes una querella c...</td>\n",
              "    </tr>\n",
              "    <tr>\n",
              "      <th>34</th>\n",
              "      <td>0</td>\n",
              "      <td>Vox ya no quiere cerrar los canales autonómic...</td>\n",
              "    </tr>\n",
              "    <tr>\n",
              "      <th>35</th>\n",
              "      <td>1</td>\n",
              "      <td>¿Canciones de amor o títulos que promueven el...</td>\n",
              "    </tr>\n",
              "    <tr>\n",
              "      <th>36</th>\n",
              "      <td>0</td>\n",
              "      <td>\"Alfredo, gracias por tanto. Tú, como nadie d...</td>\n",
              "    </tr>\n",
              "    <tr>\n",
              "      <th>37</th>\n",
              "      <td>0</td>\n",
              "      <td>\"Nos sentimos muy orgullosos de haber salvado...</td>\n",
              "    </tr>\n",
              "    <tr>\n",
              "      <th>38</th>\n",
              "      <td>1</td>\n",
              "      <td>\"Pensar que el reggaeton es el tipo de música...</td>\n",
              "    </tr>\n",
              "    <tr>\n",
              "      <th>39</th>\n",
              "      <td>1</td>\n",
              "      <td>\"Sin ti no soy nada, una gota de lluvia mojan...</td>\n",
              "    </tr>\n",
              "  </tbody>\n",
              "</table>\n",
              "</div>"
            ],
            "text/plain": [
              "   Category                                               Text\n",
              "30        0   Unas 300 personas han sido desalojadas de un ...\n",
              "31        1   Vaya manera de morir. Angelito. Intenta compl...\n",
              "32        0   Vox evitará la foto con sus homólogos de la e...\n",
              "33        0   Vox ha presentado este viernes una querella c...\n",
              "34        0   Vox ya no quiere cerrar los canales autonómic...\n",
              "35        1   ¿Canciones de amor o títulos que promueven el...\n",
              "36        0   \"Alfredo, gracias por tanto. Tú, como nadie d...\n",
              "37        0   \"Nos sentimos muy orgullosos de haber salvado...\n",
              "38        1   \"Pensar que el reggaeton es el tipo de música...\n",
              "39        1   \"Sin ti no soy nada, una gota de lluvia mojan..."
            ]
          },
          "metadata": {},
          "execution_count": 138
        }
      ]
    },
    {
      "cell_type": "code",
      "metadata": {
        "id": "N2kBraAo2Wcb"
      },
      "source": [
        "datasets=pd.concat((data, data_git),axis=0)  #CONCATENATE BOTH CORPORA INTO A SINGLE ONE"
      ],
      "execution_count": null,
      "outputs": []
    },
    {
      "cell_type": "code",
      "metadata": {
        "id": "dLu0gOX-1Z2Y",
        "colab": {
          "base_uri": "https://localhost:8080/",
          "height": 423
        },
        "outputId": "e3468d55-4016-4faf-9072-32e7140ac5b1"
      },
      "source": [
        "datasets  #borrar"
      ],
      "execution_count": null,
      "outputs": [
        {
          "output_type": "execute_result",
          "data": {
            "text/html": [
              "<div>\n",
              "<style scoped>\n",
              "    .dataframe tbody tr th:only-of-type {\n",
              "        vertical-align: middle;\n",
              "    }\n",
              "\n",
              "    .dataframe tbody tr th {\n",
              "        vertical-align: top;\n",
              "    }\n",
              "\n",
              "    .dataframe thead th {\n",
              "        text-align: right;\n",
              "    }\n",
              "</style>\n",
              "<table border=\"1\" class=\"dataframe\">\n",
              "  <thead>\n",
              "    <tr style=\"text-align: right;\">\n",
              "      <th></th>\n",
              "      <th>Category</th>\n",
              "      <th>Text</th>\n",
              "    </tr>\n",
              "  </thead>\n",
              "  <tbody>\n",
              "    <tr>\n",
              "      <th>0</th>\n",
              "      <td>1</td>\n",
              "      <td>RAE INCLUIRÁ LA PALABRA \"LADY\" EN EL DICCIONAR...</td>\n",
              "    </tr>\n",
              "    <tr>\n",
              "      <th>1</th>\n",
              "      <td>1</td>\n",
              "      <td>La palabra \"haiga\", aceptada por la RAE La Rea...</td>\n",
              "    </tr>\n",
              "    <tr>\n",
              "      <th>2</th>\n",
              "      <td>1</td>\n",
              "      <td>YORDI ROSADO ESCRIBIRÁ Y DISEÑARÁ LOS NUEVOS L...</td>\n",
              "    </tr>\n",
              "    <tr>\n",
              "      <th>3</th>\n",
              "      <td>0</td>\n",
              "      <td>UNAM capacitará a maestros para aprobar prueba...</td>\n",
              "    </tr>\n",
              "    <tr>\n",
              "      <th>4</th>\n",
              "      <td>1</td>\n",
              "      <td>Alerta: pretenden aprobar libros escolares con...</td>\n",
              "    </tr>\n",
              "    <tr>\n",
              "      <th>...</th>\n",
              "      <td>...</td>\n",
              "      <td>...</td>\n",
              "    </tr>\n",
              "    <tr>\n",
              "      <th>1995</th>\n",
              "      <td>0</td>\n",
              "      <td>El Consejo de Gobierno ha dado su visto bueno...</td>\n",
              "    </tr>\n",
              "    <tr>\n",
              "      <th>1996</th>\n",
              "      <td>0</td>\n",
              "      <td>Investigadores valencianos han desarrollado u...</td>\n",
              "    </tr>\n",
              "    <tr>\n",
              "      <th>1997</th>\n",
              "      <td>0</td>\n",
              "      <td>Los arrestados actuaban en coches y en establ...</td>\n",
              "    </tr>\n",
              "    <tr>\n",
              "      <th>1998</th>\n",
              "      <td>0</td>\n",
              "      <td>El Rey ha encargado este miércoles a Pedro Sá...</td>\n",
              "    </tr>\n",
              "    <tr>\n",
              "      <th>1999</th>\n",
              "      <td>0</td>\n",
              "      <td>Las pruebas realizadas en el Centro Nacional ...</td>\n",
              "    </tr>\n",
              "  </tbody>\n",
              "</table>\n",
              "<p>2971 rows × 2 columns</p>\n",
              "</div>"
            ],
            "text/plain": [
              "     Category                                               Text\n",
              "0           1  RAE INCLUIRÁ LA PALABRA \"LADY\" EN EL DICCIONAR...\n",
              "1           1  La palabra \"haiga\", aceptada por la RAE La Rea...\n",
              "2           1  YORDI ROSADO ESCRIBIRÁ Y DISEÑARÁ LOS NUEVOS L...\n",
              "3           0  UNAM capacitará a maestros para aprobar prueba...\n",
              "4           1  Alerta: pretenden aprobar libros escolares con...\n",
              "...       ...                                                ...\n",
              "1995        0   El Consejo de Gobierno ha dado su visto bueno...\n",
              "1996        0   Investigadores valencianos han desarrollado u...\n",
              "1997        0   Los arrestados actuaban en coches y en establ...\n",
              "1998        0   El Rey ha encargado este miércoles a Pedro Sá...\n",
              "1999        0   Las pruebas realizadas en el Centro Nacional ...\n",
              "\n",
              "[2971 rows x 2 columns]"
            ]
          },
          "metadata": {},
          "execution_count": 140
        }
      ]
    },
    {
      "cell_type": "code",
      "metadata": {
        "colab": {
          "base_uri": "https://localhost:8080/"
        },
        "id": "pRxD3ts51aIY",
        "outputId": "30ab5957-2e0d-431c-ecd7-b79a380dd3b8"
      },
      "source": [
        "datasets['Text'].str.len().max()   ##???"
      ],
      "execution_count": null,
      "outputs": [
        {
          "output_type": "execute_result",
          "data": {
            "text/plain": [
              "15344"
            ]
          },
          "metadata": {},
          "execution_count": 141
        }
      ]
    },
    {
      "cell_type": "code",
      "metadata": {
        "colab": {
          "base_uri": "https://localhost:8080/"
        },
        "id": "I60JPd9a1aIZ",
        "outputId": "0e05ef55-eed2-4feb-ae31-e38697c60494"
      },
      "source": [
        "datasets['Text'].str.len().mean() "
      ],
      "execution_count": null,
      "outputs": [
        {
          "output_type": "execute_result",
          "data": {
            "text/plain": [
              "926.9522046449007"
            ]
          },
          "metadata": {},
          "execution_count": 142
        }
      ]
    },
    {
      "cell_type": "code",
      "metadata": {
        "colab": {
          "base_uri": "https://localhost:8080/"
        },
        "id": "4rLfA4Uo12lx",
        "outputId": "2db27c72-e816-4a98-dec0-3193027857c3"
      },
      "source": [
        "datasets['Text'].str.len().min() "
      ],
      "execution_count": null,
      "outputs": [
        {
          "output_type": "execute_result",
          "data": {
            "text/plain": [
              "36"
            ]
          },
          "metadata": {},
          "execution_count": 143
        }
      ]
    },
    {
      "cell_type": "code",
      "metadata": {
        "colab": {
          "base_uri": "https://localhost:8080/"
        },
        "id": "sH9ttFCQa06V",
        "outputId": "a71f5f7e-4b37-498b-de72-8f7b53dc4a3c"
      },
      "source": [
        "datasets['Category'].value_counts()"
      ],
      "execution_count": null,
      "outputs": [
        {
          "output_type": "execute_result",
          "data": {
            "text/plain": [
              "0    1491\n",
              "1    1480\n",
              "Name: Category, dtype: int64"
            ]
          },
          "metadata": {},
          "execution_count": 144
        }
      ]
    },
    {
      "cell_type": "markdown",
      "metadata": {
        "id": "aNNYMCeZqERV"
      },
      "source": [
        "## **1. PRE-PROCESSING AND DATA CLEANING**"
      ]
    },
    {
      "cell_type": "markdown",
      "metadata": {
        "id": "CBoGV3SOqG_B"
      },
      "source": [
        "**1.1 CONVERT TEXT TO LOWERCASE**"
      ]
    },
    {
      "cell_type": "code",
      "metadata": {
        "id": "Yv1ws5dGnmS2"
      },
      "source": [
        "datasets['clean_with_stopwords'] = datasets['Text'].str.lower()  # CONVERT TEXT TO LOWERCASE\n",
        "#datasets"
      ],
      "execution_count": null,
      "outputs": []
    },
    {
      "cell_type": "code",
      "metadata": {
        "colab": {
          "base_uri": "https://localhost:8080/",
          "height": 423
        },
        "id": "o6IRjbN14mT0",
        "outputId": "56cbb9f4-4456-40ee-a0aa-1dcf42c204ed"
      },
      "source": [
        "datasets"
      ],
      "execution_count": null,
      "outputs": [
        {
          "output_type": "execute_result",
          "data": {
            "text/html": [
              "<div>\n",
              "<style scoped>\n",
              "    .dataframe tbody tr th:only-of-type {\n",
              "        vertical-align: middle;\n",
              "    }\n",
              "\n",
              "    .dataframe tbody tr th {\n",
              "        vertical-align: top;\n",
              "    }\n",
              "\n",
              "    .dataframe thead th {\n",
              "        text-align: right;\n",
              "    }\n",
              "</style>\n",
              "<table border=\"1\" class=\"dataframe\">\n",
              "  <thead>\n",
              "    <tr style=\"text-align: right;\">\n",
              "      <th></th>\n",
              "      <th>Category</th>\n",
              "      <th>Text</th>\n",
              "      <th>clean_with_stopwords</th>\n",
              "    </tr>\n",
              "  </thead>\n",
              "  <tbody>\n",
              "    <tr>\n",
              "      <th>0</th>\n",
              "      <td>1</td>\n",
              "      <td>RAE INCLUIRÁ LA PALABRA \"LADY\" EN EL DICCIONAR...</td>\n",
              "      <td>rae incluirá la palabra \"lady\" en el diccionar...</td>\n",
              "    </tr>\n",
              "    <tr>\n",
              "      <th>1</th>\n",
              "      <td>1</td>\n",
              "      <td>La palabra \"haiga\", aceptada por la RAE La Rea...</td>\n",
              "      <td>la palabra \"haiga\", aceptada por la rae la rea...</td>\n",
              "    </tr>\n",
              "    <tr>\n",
              "      <th>2</th>\n",
              "      <td>1</td>\n",
              "      <td>YORDI ROSADO ESCRIBIRÁ Y DISEÑARÁ LOS NUEVOS L...</td>\n",
              "      <td>yordi rosado escribirá y diseñará los nuevos l...</td>\n",
              "    </tr>\n",
              "    <tr>\n",
              "      <th>3</th>\n",
              "      <td>0</td>\n",
              "      <td>UNAM capacitará a maestros para aprobar prueba...</td>\n",
              "      <td>unam capacitará a maestros para aprobar prueba...</td>\n",
              "    </tr>\n",
              "    <tr>\n",
              "      <th>4</th>\n",
              "      <td>1</td>\n",
              "      <td>Alerta: pretenden aprobar libros escolares con...</td>\n",
              "      <td>alerta: pretenden aprobar libros escolares con...</td>\n",
              "    </tr>\n",
              "    <tr>\n",
              "      <th>...</th>\n",
              "      <td>...</td>\n",
              "      <td>...</td>\n",
              "      <td>...</td>\n",
              "    </tr>\n",
              "    <tr>\n",
              "      <th>1995</th>\n",
              "      <td>0</td>\n",
              "      <td>El Consejo de Gobierno ha dado su visto bueno...</td>\n",
              "      <td>el consejo de gobierno ha dado su visto bueno...</td>\n",
              "    </tr>\n",
              "    <tr>\n",
              "      <th>1996</th>\n",
              "      <td>0</td>\n",
              "      <td>Investigadores valencianos han desarrollado u...</td>\n",
              "      <td>investigadores valencianos han desarrollado u...</td>\n",
              "    </tr>\n",
              "    <tr>\n",
              "      <th>1997</th>\n",
              "      <td>0</td>\n",
              "      <td>Los arrestados actuaban en coches y en establ...</td>\n",
              "      <td>los arrestados actuaban en coches y en establ...</td>\n",
              "    </tr>\n",
              "    <tr>\n",
              "      <th>1998</th>\n",
              "      <td>0</td>\n",
              "      <td>El Rey ha encargado este miércoles a Pedro Sá...</td>\n",
              "      <td>el rey ha encargado este miércoles a pedro sá...</td>\n",
              "    </tr>\n",
              "    <tr>\n",
              "      <th>1999</th>\n",
              "      <td>0</td>\n",
              "      <td>Las pruebas realizadas en el Centro Nacional ...</td>\n",
              "      <td>las pruebas realizadas en el centro nacional ...</td>\n",
              "    </tr>\n",
              "  </tbody>\n",
              "</table>\n",
              "<p>2971 rows × 3 columns</p>\n",
              "</div>"
            ],
            "text/plain": [
              "     Category  ...                               clean_with_stopwords\n",
              "0           1  ...  rae incluirá la palabra \"lady\" en el diccionar...\n",
              "1           1  ...  la palabra \"haiga\", aceptada por la rae la rea...\n",
              "2           1  ...  yordi rosado escribirá y diseñará los nuevos l...\n",
              "3           0  ...  unam capacitará a maestros para aprobar prueba...\n",
              "4           1  ...  alerta: pretenden aprobar libros escolares con...\n",
              "...       ...  ...                                                ...\n",
              "1995        0  ...   el consejo de gobierno ha dado su visto bueno...\n",
              "1996        0  ...   investigadores valencianos han desarrollado u...\n",
              "1997        0  ...   los arrestados actuaban en coches y en establ...\n",
              "1998        0  ...   el rey ha encargado este miércoles a pedro sá...\n",
              "1999        0  ...   las pruebas realizadas en el centro nacional ...\n",
              "\n",
              "[2971 rows x 3 columns]"
            ]
          },
          "metadata": {},
          "execution_count": 146
        }
      ]
    },
    {
      "cell_type": "code",
      "metadata": {
        "colab": {
          "base_uri": "https://localhost:8080/"
        },
        "id": "9iciKM5_2Wcc",
        "outputId": "b6a2b84a-81d5-43b6-83fb-51ba7231e311"
      },
      "source": [
        "datasets.shape"
      ],
      "execution_count": null,
      "outputs": [
        {
          "output_type": "execute_result",
          "data": {
            "text/plain": [
              "(2971, 3)"
            ]
          },
          "metadata": {},
          "execution_count": 147
        }
      ]
    },
    {
      "cell_type": "code",
      "metadata": {
        "colab": {
          "base_uri": "https://localhost:8080/"
        },
        "id": "ALyYgifnpvLs",
        "outputId": "d53d87b3-28b0-4554-d444-ed99948468a0"
      },
      "source": [
        "datasets['Category'].value_counts()  #TOTAL NUMBER OF FAKE AND TRUE NEWS"
      ],
      "execution_count": null,
      "outputs": [
        {
          "output_type": "execute_result",
          "data": {
            "text/plain": [
              "0    1491\n",
              "1    1480\n",
              "Name: Category, dtype: int64"
            ]
          },
          "metadata": {},
          "execution_count": 148
        }
      ]
    },
    {
      "cell_type": "markdown",
      "metadata": {
        "id": "za15-XgvpvLt"
      },
      "source": [
        "**1.2 REMOVE SPANISH STOPWORDS**"
      ]
    },
    {
      "cell_type": "code",
      "metadata": {
        "colab": {
          "base_uri": "https://localhost:8080/"
        },
        "id": "2o1IeHpYs1px",
        "outputId": "a2051500-767d-4cb4-e1ae-dbeb5faba94f"
      },
      "source": [
        "!pip install stop-words"
      ],
      "execution_count": null,
      "outputs": [
        {
          "output_type": "stream",
          "name": "stdout",
          "text": [
            "Requirement already satisfied: stop-words in /usr/local/lib/python3.7/dist-packages (2018.7.23)\n",
            "\u001b[33mWARNING: Running pip as the 'root' user can result in broken permissions and conflicting behaviour with the system package manager. It is recommended to use a virtual environment instead: https://pip.pypa.io/warnings/venv\u001b[0m\n"
          ]
        }
      ]
    },
    {
      "cell_type": "code",
      "metadata": {
        "colab": {
          "base_uri": "https://localhost:8080/"
        },
        "id": "NhASIkYAs1sH",
        "outputId": "bd0edf2c-ab18-4ecf-9c18-54bdd296698e"
      },
      "source": [
        "import nltk\n",
        "nltk.download('stopwords')"
      ],
      "execution_count": null,
      "outputs": [
        {
          "output_type": "stream",
          "name": "stdout",
          "text": [
            "[nltk_data] Downloading package stopwords to /root/nltk_data...\n",
            "[nltk_data]   Package stopwords is already up-to-date!\n"
          ]
        },
        {
          "output_type": "execute_result",
          "data": {
            "text/plain": [
              "True"
            ]
          },
          "metadata": {},
          "execution_count": 150
        }
      ]
    },
    {
      "cell_type": "code",
      "metadata": {
        "id": "25AFkyins1vP"
      },
      "source": [
        "stop_words = set(stopwords.words('spanish'))   #IMPORT SPANISH STOPWORDS"
      ],
      "execution_count": null,
      "outputs": []
    },
    {
      "cell_type": "code",
      "metadata": {
        "id": "lOjZxFijtNBH"
      },
      "source": [
        "def remove_stop_words(sentence):   #REMOVE SPANISH STOPWORDS\n",
        "    stop_words  = set(stopwords.words('spanish'))\n",
        "    word_list=sentence.split()\n",
        "    clean_sentence=' '.join([w for w in word_list if w not in stop_words])\n",
        "    return(clean_sentence) "
      ],
      "execution_count": null,
      "outputs": []
    },
    {
      "cell_type": "code",
      "source": [
        "extra_stop_words= ['él','si','la','los','las','lo','el','dc','mx','mc','ls','nlf','ay','ar','efe']\n",
        "def remove_extra_stop_words(sentence):   #REMOVE SPANISH STOPWORDS\n",
        "    word_list=sentence.split()\n",
        "    clean_sentence=' '.join([w for w in word_list if w not in extra_stop_words])\n",
        "    return(clean_sentence) "
      ],
      "metadata": {
        "id": "7JZq0WPajPdK"
      },
      "execution_count": null,
      "outputs": []
    },
    {
      "cell_type": "code",
      "metadata": {
        "id": "iaa9gOpqtNDt"
      },
      "source": [
        "datasets['final_clean'] = datasets['clean_with_stopwords'].apply(remove_stop_words)\n",
        "datasets['final_clean'] = datasets['final_clean'].apply(remove_stop_words)"
      ],
      "execution_count": null,
      "outputs": []
    },
    {
      "cell_type": "code",
      "source": [
        "datasets"
      ],
      "metadata": {
        "colab": {
          "base_uri": "https://localhost:8080/",
          "height": 596
        },
        "id": "tlWZFcxqgRV2",
        "outputId": "2bf291d1-7e82-4eb7-809a-c6c7fc6dcbea"
      },
      "execution_count": null,
      "outputs": [
        {
          "output_type": "execute_result",
          "data": {
            "text/html": [
              "<div>\n",
              "<style scoped>\n",
              "    .dataframe tbody tr th:only-of-type {\n",
              "        vertical-align: middle;\n",
              "    }\n",
              "\n",
              "    .dataframe tbody tr th {\n",
              "        vertical-align: top;\n",
              "    }\n",
              "\n",
              "    .dataframe thead th {\n",
              "        text-align: right;\n",
              "    }\n",
              "</style>\n",
              "<table border=\"1\" class=\"dataframe\">\n",
              "  <thead>\n",
              "    <tr style=\"text-align: right;\">\n",
              "      <th></th>\n",
              "      <th>Category</th>\n",
              "      <th>Text</th>\n",
              "      <th>clean_with_stopwords</th>\n",
              "      <th>final_clean</th>\n",
              "    </tr>\n",
              "  </thead>\n",
              "  <tbody>\n",
              "    <tr>\n",
              "      <th>0</th>\n",
              "      <td>1</td>\n",
              "      <td>RAE INCLUIRÁ LA PALABRA \"LADY\" EN EL DICCIONAR...</td>\n",
              "      <td>rae incluir el palabra lady en el diccionario ...</td>\n",
              "      <td>rae incluir palabra lady diccionario idioma es...</td>\n",
              "    </tr>\n",
              "    <tr>\n",
              "      <th>1</th>\n",
              "      <td>1</td>\n",
              "      <td>La palabra \"haiga\", aceptada por la RAE La Rea...</td>\n",
              "      <td>el palabra haigar aceptado por el rae el real ...</td>\n",
              "      <td>palabra haigar aceptado rae real academia leng...</td>\n",
              "    </tr>\n",
              "    <tr>\n",
              "      <th>2</th>\n",
              "      <td>1</td>\n",
              "      <td>YORDI ROSADO ESCRIBIRÁ Y DISEÑARÁ LOS NUEVOS L...</td>\n",
              "      <td>yordi rosado escribir y diseñar el nuevo libro...</td>\n",
              "      <td>yordi rosado escribir diseñar nuevo libro text...</td>\n",
              "    </tr>\n",
              "    <tr>\n",
              "      <th>3</th>\n",
              "      <td>0</td>\n",
              "      <td>UNAM capacitará a maestros para aprobar prueba...</td>\n",
              "      <td>unam capacitar a maestro para aprobar prueba p...</td>\n",
              "      <td>unam capacitar maestro aprobar prueba pis maxi...</td>\n",
              "    </tr>\n",
              "    <tr>\n",
              "      <th>4</th>\n",
              "      <td>1</td>\n",
              "      <td>Alerta: pretenden aprobar libros escolares con...</td>\n",
              "      <td>alerta pretender aprobar libro escolar con con...</td>\n",
              "      <td>alerta pretender aprobar libro escolar conteni...</td>\n",
              "    </tr>\n",
              "    <tr>\n",
              "      <th>...</th>\n",
              "      <td>...</td>\n",
              "      <td>...</td>\n",
              "      <td>...</td>\n",
              "      <td>...</td>\n",
              "    </tr>\n",
              "    <tr>\n",
              "      <th>1995</th>\n",
              "      <td>0</td>\n",
              "      <td>El Consejo de Gobierno ha dado su visto bueno...</td>\n",
              "      <td>el consejo de gobierno haber dar su visto buen...</td>\n",
              "      <td>consejo gobierno haber dar visto bueno convoca...</td>\n",
              "    </tr>\n",
              "    <tr>\n",
              "      <th>1996</th>\n",
              "      <td>0</td>\n",
              "      <td>Investigadores valencianos han desarrollado u...</td>\n",
              "      <td>investigador valenciano haber desarrollar uno ...</td>\n",
              "      <td>investigador valenciano haber desarrollar inno...</td>\n",
              "    </tr>\n",
              "    <tr>\n",
              "      <th>1997</th>\n",
              "      <td>0</td>\n",
              "      <td>Los arrestados actuaban en coches y en establ...</td>\n",
              "      <td>el arrestado actuar en coche y en establecimie...</td>\n",
              "      <td>arrestado actuar coche establecimiento policia...</td>\n",
              "    </tr>\n",
              "    <tr>\n",
              "      <th>1998</th>\n",
              "      <td>0</td>\n",
              "      <td>El Rey ha encargado este miércoles a Pedro Sá...</td>\n",
              "      <td>el rey haber encargar este miercoles a pedro s...</td>\n",
              "      <td>rey haber encargar miercoles pedro sanchez pre...</td>\n",
              "    </tr>\n",
              "    <tr>\n",
              "      <th>1999</th>\n",
              "      <td>0</td>\n",
              "      <td>Las pruebas realizadas en el Centro Nacional ...</td>\n",
              "      <td>el prueba realizado en el centro nacional de m...</td>\n",
              "      <td>prueba realizado centro nacional microbiologia...</td>\n",
              "    </tr>\n",
              "  </tbody>\n",
              "</table>\n",
              "<p>2971 rows × 4 columns</p>\n",
              "</div>"
            ],
            "text/plain": [
              "     Category  ...                                        final_clean\n",
              "0           1  ...  rae incluir palabra lady diccionario idioma es...\n",
              "1           1  ...  palabra haigar aceptado rae real academia leng...\n",
              "2           1  ...  yordi rosado escribir diseñar nuevo libro text...\n",
              "3           0  ...  unam capacitar maestro aprobar prueba pis maxi...\n",
              "4           1  ...  alerta pretender aprobar libro escolar conteni...\n",
              "...       ...  ...                                                ...\n",
              "1995        0  ...  consejo gobierno haber dar visto bueno convoca...\n",
              "1996        0  ...  investigador valenciano haber desarrollar inno...\n",
              "1997        0  ...  arrestado actuar coche establecimiento policia...\n",
              "1998        0  ...  rey haber encargar miercoles pedro sanchez pre...\n",
              "1999        0  ...  prueba realizado centro nacional microbiologia...\n",
              "\n",
              "[2971 rows x 4 columns]"
            ]
          },
          "metadata": {},
          "execution_count": 175
        }
      ]
    },
    {
      "cell_type": "markdown",
      "metadata": {
        "id": "y2znX7GfpvLx"
      },
      "source": [
        "**1.3 APPLY LEMMATIZATION**"
      ]
    },
    {
      "cell_type": "code",
      "metadata": {
        "colab": {
          "base_uri": "https://localhost:8080/"
        },
        "id": "iIivO4o2pvLx",
        "outputId": "5f95cda5-7e1a-4e29-87fd-2fff6b97357e"
      },
      "source": [
        "!pip install -U pip setuptools wheel"
      ],
      "execution_count": null,
      "outputs": [
        {
          "output_type": "stream",
          "name": "stdout",
          "text": [
            "Requirement already satisfied: pip in /usr/local/lib/python3.7/dist-packages (21.3.1)\n",
            "Requirement already satisfied: setuptools in /usr/local/lib/python3.7/dist-packages (59.6.0)\n",
            "Requirement already satisfied: wheel in /usr/local/lib/python3.7/dist-packages (0.37.0)\n",
            "\u001b[33mWARNING: Running pip as the 'root' user can result in broken permissions and conflicting behaviour with the system package manager. It is recommended to use a virtual environment instead: https://pip.pypa.io/warnings/venv\u001b[0m\n"
          ]
        }
      ]
    },
    {
      "cell_type": "code",
      "metadata": {
        "colab": {
          "base_uri": "https://localhost:8080/"
        },
        "id": "wNBqoGS0pvLy",
        "outputId": "cee7ccc4-4135-457d-c455-6051caf5f3b0"
      },
      "source": [
        "!pip install -U spacy"
      ],
      "execution_count": null,
      "outputs": [
        {
          "output_type": "stream",
          "name": "stdout",
          "text": [
            "Requirement already satisfied: spacy in /usr/local/lib/python3.7/dist-packages (3.2.1)\n",
            "Requirement already satisfied: murmurhash<1.1.0,>=0.28.0 in /usr/local/lib/python3.7/dist-packages (from spacy) (1.0.6)\n",
            "Requirement already satisfied: thinc<8.1.0,>=8.0.12 in /usr/local/lib/python3.7/dist-packages (from spacy) (8.0.13)\n",
            "Requirement already satisfied: pydantic!=1.8,!=1.8.1,<1.9.0,>=1.7.4 in /usr/local/lib/python3.7/dist-packages (from spacy) (1.8.2)\n",
            "Requirement already satisfied: langcodes<4.0.0,>=3.2.0 in /usr/local/lib/python3.7/dist-packages (from spacy) (3.3.0)\n",
            "Requirement already satisfied: requests<3.0.0,>=2.13.0 in /usr/local/lib/python3.7/dist-packages (from spacy) (2.23.0)\n",
            "Requirement already satisfied: wasabi<1.1.0,>=0.8.1 in /usr/local/lib/python3.7/dist-packages (from spacy) (0.8.2)\n",
            "Requirement already satisfied: tqdm<5.0.0,>=4.38.0 in /usr/local/lib/python3.7/dist-packages (from spacy) (4.62.3)\n",
            "Requirement already satisfied: cymem<2.1.0,>=2.0.2 in /usr/local/lib/python3.7/dist-packages (from spacy) (2.0.6)\n",
            "Requirement already satisfied: pathy>=0.3.5 in /usr/local/lib/python3.7/dist-packages (from spacy) (0.6.1)\n",
            "Requirement already satisfied: srsly<3.0.0,>=2.4.1 in /usr/local/lib/python3.7/dist-packages (from spacy) (2.4.2)\n",
            "Requirement already satisfied: typer<0.5.0,>=0.3.0 in /usr/local/lib/python3.7/dist-packages (from spacy) (0.4.0)\n",
            "Requirement already satisfied: blis<0.8.0,>=0.4.0 in /usr/local/lib/python3.7/dist-packages (from spacy) (0.4.1)\n",
            "Requirement already satisfied: preshed<3.1.0,>=3.0.2 in /usr/local/lib/python3.7/dist-packages (from spacy) (3.0.6)\n",
            "Requirement already satisfied: typing-extensions<4.0.0.0,>=3.7.4 in /usr/local/lib/python3.7/dist-packages (from spacy) (3.10.0.2)\n",
            "Requirement already satisfied: spacy-legacy<3.1.0,>=3.0.8 in /usr/local/lib/python3.7/dist-packages (from spacy) (3.0.8)\n",
            "Requirement already satisfied: catalogue<2.1.0,>=2.0.6 in /usr/local/lib/python3.7/dist-packages (from spacy) (2.0.6)\n",
            "Requirement already satisfied: packaging>=20.0 in /usr/local/lib/python3.7/dist-packages (from spacy) (21.3)\n",
            "Requirement already satisfied: spacy-loggers<2.0.0,>=1.0.0 in /usr/local/lib/python3.7/dist-packages (from spacy) (1.0.1)\n",
            "Requirement already satisfied: numpy>=1.15.0 in /usr/local/lib/python3.7/dist-packages (from spacy) (1.19.5)\n",
            "Requirement already satisfied: setuptools in /usr/local/lib/python3.7/dist-packages (from spacy) (59.6.0)\n",
            "Requirement already satisfied: jinja2 in /usr/local/lib/python3.7/dist-packages (from spacy) (2.11.3)\n",
            "Requirement already satisfied: zipp>=0.5 in /usr/local/lib/python3.7/dist-packages (from catalogue<2.1.0,>=2.0.6->spacy) (3.6.0)\n",
            "Requirement already satisfied: pyparsing!=3.0.5,>=2.0.2 in /usr/local/lib/python3.7/dist-packages (from packaging>=20.0->spacy) (3.0.6)\n",
            "Requirement already satisfied: smart-open<6.0.0,>=5.0.0 in /usr/local/lib/python3.7/dist-packages (from pathy>=0.3.5->spacy) (5.2.1)\n",
            "Requirement already satisfied: certifi>=2017.4.17 in /usr/local/lib/python3.7/dist-packages (from requests<3.0.0,>=2.13.0->spacy) (2021.10.8)\n",
            "Requirement already satisfied: chardet<4,>=3.0.2 in /usr/local/lib/python3.7/dist-packages (from requests<3.0.0,>=2.13.0->spacy) (3.0.4)\n",
            "Requirement already satisfied: idna<3,>=2.5 in /usr/local/lib/python3.7/dist-packages (from requests<3.0.0,>=2.13.0->spacy) (2.10)\n",
            "Requirement already satisfied: urllib3!=1.25.0,!=1.25.1,<1.26,>=1.21.1 in /usr/local/lib/python3.7/dist-packages (from requests<3.0.0,>=2.13.0->spacy) (1.24.3)\n",
            "Requirement already satisfied: click<9.0.0,>=7.1.1 in /usr/local/lib/python3.7/dist-packages (from typer<0.5.0,>=0.3.0->spacy) (7.1.2)\n",
            "Requirement already satisfied: MarkupSafe>=0.23 in /usr/local/lib/python3.7/dist-packages (from jinja2->spacy) (2.0.1)\n",
            "\u001b[33mWARNING: Running pip as the 'root' user can result in broken permissions and conflicting behaviour with the system package manager. It is recommended to use a virtual environment instead: https://pip.pypa.io/warnings/venv\u001b[0m\n"
          ]
        }
      ]
    },
    {
      "cell_type": "code",
      "metadata": {
        "colab": {
          "base_uri": "https://localhost:8080/"
        },
        "id": "yEajfVkBpvLy",
        "outputId": "c7ff4c49-86fa-4126-d8ba-55e7ada9600e"
      },
      "source": [
        "!python -m spacy download es_core_news_sm"
      ],
      "execution_count": null,
      "outputs": [
        {
          "output_type": "stream",
          "name": "stdout",
          "text": [
            "Collecting es-core-news-sm==3.2.0\n",
            "  Downloading https://github.com/explosion/spacy-models/releases/download/es_core_news_sm-3.2.0/es_core_news_sm-3.2.0-py3-none-any.whl (14.0 MB)\n",
            "     |████████████████████████████████| 14.0 MB 17.8 MB/s            \n",
            "\u001b[?25hRequirement already satisfied: spacy<3.3.0,>=3.2.0 in /usr/local/lib/python3.7/dist-packages (from es-core-news-sm==3.2.0) (3.2.1)\n",
            "Requirement already satisfied: blis<0.8.0,>=0.4.0 in /usr/local/lib/python3.7/dist-packages (from spacy<3.3.0,>=3.2.0->es-core-news-sm==3.2.0) (0.4.1)\n",
            "Requirement already satisfied: preshed<3.1.0,>=3.0.2 in /usr/local/lib/python3.7/dist-packages (from spacy<3.3.0,>=3.2.0->es-core-news-sm==3.2.0) (3.0.6)\n",
            "Requirement already satisfied: wasabi<1.1.0,>=0.8.1 in /usr/local/lib/python3.7/dist-packages (from spacy<3.3.0,>=3.2.0->es-core-news-sm==3.2.0) (0.8.2)\n",
            "Requirement already satisfied: pathy>=0.3.5 in /usr/local/lib/python3.7/dist-packages (from spacy<3.3.0,>=3.2.0->es-core-news-sm==3.2.0) (0.6.1)\n",
            "Requirement already satisfied: tqdm<5.0.0,>=4.38.0 in /usr/local/lib/python3.7/dist-packages (from spacy<3.3.0,>=3.2.0->es-core-news-sm==3.2.0) (4.62.3)\n",
            "Requirement already satisfied: requests<3.0.0,>=2.13.0 in /usr/local/lib/python3.7/dist-packages (from spacy<3.3.0,>=3.2.0->es-core-news-sm==3.2.0) (2.23.0)\n",
            "Requirement already satisfied: pydantic!=1.8,!=1.8.1,<1.9.0,>=1.7.4 in /usr/local/lib/python3.7/dist-packages (from spacy<3.3.0,>=3.2.0->es-core-news-sm==3.2.0) (1.8.2)\n",
            "Requirement already satisfied: spacy-legacy<3.1.0,>=3.0.8 in /usr/local/lib/python3.7/dist-packages (from spacy<3.3.0,>=3.2.0->es-core-news-sm==3.2.0) (3.0.8)\n",
            "Requirement already satisfied: thinc<8.1.0,>=8.0.12 in /usr/local/lib/python3.7/dist-packages (from spacy<3.3.0,>=3.2.0->es-core-news-sm==3.2.0) (8.0.13)\n",
            "Requirement already satisfied: srsly<3.0.0,>=2.4.1 in /usr/local/lib/python3.7/dist-packages (from spacy<3.3.0,>=3.2.0->es-core-news-sm==3.2.0) (2.4.2)\n",
            "Requirement already satisfied: spacy-loggers<2.0.0,>=1.0.0 in /usr/local/lib/python3.7/dist-packages (from spacy<3.3.0,>=3.2.0->es-core-news-sm==3.2.0) (1.0.1)\n",
            "Requirement already satisfied: cymem<2.1.0,>=2.0.2 in /usr/local/lib/python3.7/dist-packages (from spacy<3.3.0,>=3.2.0->es-core-news-sm==3.2.0) (2.0.6)\n",
            "Requirement already satisfied: typing-extensions<4.0.0.0,>=3.7.4 in /usr/local/lib/python3.7/dist-packages (from spacy<3.3.0,>=3.2.0->es-core-news-sm==3.2.0) (3.10.0.2)\n",
            "Requirement already satisfied: catalogue<2.1.0,>=2.0.6 in /usr/local/lib/python3.7/dist-packages (from spacy<3.3.0,>=3.2.0->es-core-news-sm==3.2.0) (2.0.6)\n",
            "Requirement already satisfied: numpy>=1.15.0 in /usr/local/lib/python3.7/dist-packages (from spacy<3.3.0,>=3.2.0->es-core-news-sm==3.2.0) (1.19.5)\n",
            "Requirement already satisfied: setuptools in /usr/local/lib/python3.7/dist-packages (from spacy<3.3.0,>=3.2.0->es-core-news-sm==3.2.0) (59.6.0)\n",
            "Requirement already satisfied: typer<0.5.0,>=0.3.0 in /usr/local/lib/python3.7/dist-packages (from spacy<3.3.0,>=3.2.0->es-core-news-sm==3.2.0) (0.4.0)\n",
            "Requirement already satisfied: packaging>=20.0 in /usr/local/lib/python3.7/dist-packages (from spacy<3.3.0,>=3.2.0->es-core-news-sm==3.2.0) (21.3)\n",
            "Requirement already satisfied: langcodes<4.0.0,>=3.2.0 in /usr/local/lib/python3.7/dist-packages (from spacy<3.3.0,>=3.2.0->es-core-news-sm==3.2.0) (3.3.0)\n",
            "Requirement already satisfied: murmurhash<1.1.0,>=0.28.0 in /usr/local/lib/python3.7/dist-packages (from spacy<3.3.0,>=3.2.0->es-core-news-sm==3.2.0) (1.0.6)\n",
            "Requirement already satisfied: jinja2 in /usr/local/lib/python3.7/dist-packages (from spacy<3.3.0,>=3.2.0->es-core-news-sm==3.2.0) (2.11.3)\n",
            "Requirement already satisfied: zipp>=0.5 in /usr/local/lib/python3.7/dist-packages (from catalogue<2.1.0,>=2.0.6->spacy<3.3.0,>=3.2.0->es-core-news-sm==3.2.0) (3.6.0)\n",
            "Requirement already satisfied: pyparsing!=3.0.5,>=2.0.2 in /usr/local/lib/python3.7/dist-packages (from packaging>=20.0->spacy<3.3.0,>=3.2.0->es-core-news-sm==3.2.0) (3.0.6)\n",
            "Requirement already satisfied: smart-open<6.0.0,>=5.0.0 in /usr/local/lib/python3.7/dist-packages (from pathy>=0.3.5->spacy<3.3.0,>=3.2.0->es-core-news-sm==3.2.0) (5.2.1)\n",
            "Requirement already satisfied: idna<3,>=2.5 in /usr/local/lib/python3.7/dist-packages (from requests<3.0.0,>=2.13.0->spacy<3.3.0,>=3.2.0->es-core-news-sm==3.2.0) (2.10)\n",
            "Requirement already satisfied: certifi>=2017.4.17 in /usr/local/lib/python3.7/dist-packages (from requests<3.0.0,>=2.13.0->spacy<3.3.0,>=3.2.0->es-core-news-sm==3.2.0) (2021.10.8)\n",
            "Requirement already satisfied: urllib3!=1.25.0,!=1.25.1,<1.26,>=1.21.1 in /usr/local/lib/python3.7/dist-packages (from requests<3.0.0,>=2.13.0->spacy<3.3.0,>=3.2.0->es-core-news-sm==3.2.0) (1.24.3)\n",
            "Requirement already satisfied: chardet<4,>=3.0.2 in /usr/local/lib/python3.7/dist-packages (from requests<3.0.0,>=2.13.0->spacy<3.3.0,>=3.2.0->es-core-news-sm==3.2.0) (3.0.4)\n",
            "Requirement already satisfied: click<9.0.0,>=7.1.1 in /usr/local/lib/python3.7/dist-packages (from typer<0.5.0,>=0.3.0->spacy<3.3.0,>=3.2.0->es-core-news-sm==3.2.0) (7.1.2)\n",
            "Requirement already satisfied: MarkupSafe>=0.23 in /usr/local/lib/python3.7/dist-packages (from jinja2->spacy<3.3.0,>=3.2.0->es-core-news-sm==3.2.0) (2.0.1)\n",
            "\u001b[33mWARNING: Running pip as the 'root' user can result in broken permissions and conflicting behaviour with the system package manager. It is recommended to use a virtual environment instead: https://pip.pypa.io/warnings/venv\u001b[0m\n",
            "\u001b[38;5;2m✔ Download and installation successful\u001b[0m\n",
            "You can now load the package via spacy.load('es_core_news_sm')\n"
          ]
        }
      ]
    },
    {
      "cell_type": "code",
      "metadata": {
        "id": "Z_cmTzOfjTF3"
      },
      "source": [
        "import spacy\n",
        "from spacy import displacy"
      ],
      "execution_count": null,
      "outputs": []
    },
    {
      "cell_type": "markdown",
      "metadata": {
        "id": "5C_zgWNxLVRe"
      },
      "source": [
        "*LOAD MODEL FOR SPANISH LEMMATIZATION*"
      ]
    },
    {
      "cell_type": "code",
      "metadata": {
        "id": "Rin7leYlkFIC"
      },
      "source": [
        "nlp = spacy.load('es_core_news_sm')  "
      ],
      "execution_count": null,
      "outputs": []
    },
    {
      "cell_type": "markdown",
      "metadata": {
        "id": "7M43x4_XLK4E"
      },
      "source": [
        "*LEMMATIZING TEXT WITH AND WITHOUT STOPWORDS*"
      ]
    },
    {
      "cell_type": "code",
      "metadata": {
        "id": "fUSXf077ks4w"
      },
      "source": [
        "datasets['final_clean'] = datasets['final_clean'].apply(lambda x: \" \".join([y.lemma_ for y in nlp(x)])) #LEMMATIZE TEXT"
      ],
      "execution_count": null,
      "outputs": []
    },
    {
      "cell_type": "code",
      "metadata": {
        "id": "USQQNpE4ktX2"
      },
      "source": [
        "datasets['clean_with_stopwords'] = datasets['clean_with_stopwords'].apply(lambda x: \" \".join([y.lemma_ for y in nlp(x)])) #LEMMATIZE TEXT"
      ],
      "execution_count": null,
      "outputs": []
    },
    {
      "cell_type": "markdown",
      "metadata": {
        "id": "_1uI-Ir-pvL1"
      },
      "source": [
        "**1.4 DATA CLEANING**"
      ]
    },
    {
      "cell_type": "code",
      "metadata": {
        "id": "pgrHSuSbpMZS"
      },
      "source": [
        "import re \n",
        "\n",
        "def clean_data(text):\n",
        "    \n",
        "    text = re.sub(r'<br />', ' ', text) #Removes Html tag\n",
        "    text = re.sub('http[s]?://(?:[a-zA-Z]|[0-9]|[$-_@.&+]|[!*\\(\\),]|(?:%[0-9a-fA-F][0-9a-fA-F]))+', ' ',text)\n",
        "    text = text.replace('number', ' ')\n",
        "    text = text.replace('email', ' ')\n",
        "    text = text.replace('urls', ' ')\n",
        "    text = text.replace('phone', ' ')\n",
        "    text = text.replace('*dol*', ' ')\n",
        "    text = text.replace('*eur*', ' ')\n",
        "    text = re.sub(r'[^\\ a-zá-ú]+', '', text)  #Removes non-alphabetic characters\n",
        "    text = re.sub(r'^\\s*|\\s\\s*', ' ', text).strip() #Removes extra whitespace, tabs\n",
        "    text = re.sub(r'á', 'a', text)  #Converts accented vowels to their non-accented form\n",
        "    text = re.sub(r'é', 'e', text)\n",
        "    text = re.sub(r'í', 'i', text)\n",
        "    text = re.sub(r'ó', 'o', text)\n",
        "    text = re.sub(r'ú','u', text)\n",
        "   # text = re.sub(r'ñ','n', text) #Converts consonant 'ñ' to 'n'\n",
        "\n",
        "    return text"
      ],
      "execution_count": null,
      "outputs": []
    },
    {
      "cell_type": "markdown",
      "metadata": {
        "id": "ag1pGWedLcN0"
      },
      "source": [
        "*APPLY DATA CLEANING TO THE TEXT WITH AND WITHOUT STOPWORDS*"
      ]
    },
    {
      "cell_type": "code",
      "metadata": {
        "id": "t2DDBSm4pOYl"
      },
      "source": [
        "datasets['final_clean'] = datasets['final_clean'].apply(lambda x: clean_data(x))\n",
        "datasets['clean_with_stopwords'] = datasets['clean_with_stopwords'].apply(lambda x: clean_data(x))"
      ],
      "execution_count": null,
      "outputs": []
    },
    {
      "cell_type": "code",
      "metadata": {
        "colab": {
          "base_uri": "https://localhost:8080/",
          "height": 596
        },
        "id": "wvc3tnLCq016",
        "outputId": "cd3ea8cf-f087-481e-e3b1-597b9c1738e8"
      },
      "source": [
        "datasets"
      ],
      "execution_count": null,
      "outputs": [
        {
          "output_type": "execute_result",
          "data": {
            "text/html": [
              "<div>\n",
              "<style scoped>\n",
              "    .dataframe tbody tr th:only-of-type {\n",
              "        vertical-align: middle;\n",
              "    }\n",
              "\n",
              "    .dataframe tbody tr th {\n",
              "        vertical-align: top;\n",
              "    }\n",
              "\n",
              "    .dataframe thead th {\n",
              "        text-align: right;\n",
              "    }\n",
              "</style>\n",
              "<table border=\"1\" class=\"dataframe\">\n",
              "  <thead>\n",
              "    <tr style=\"text-align: right;\">\n",
              "      <th></th>\n",
              "      <th>Category</th>\n",
              "      <th>Text</th>\n",
              "      <th>clean_with_stopwords</th>\n",
              "      <th>final_clean</th>\n",
              "    </tr>\n",
              "  </thead>\n",
              "  <tbody>\n",
              "    <tr>\n",
              "      <th>0</th>\n",
              "      <td>1</td>\n",
              "      <td>RAE INCLUIRÁ LA PALABRA \"LADY\" EN EL DICCIONAR...</td>\n",
              "      <td>rae incluir el palabra lady en el diccionario ...</td>\n",
              "      <td>rae incluir palabra lady diccionario idioma es...</td>\n",
              "    </tr>\n",
              "    <tr>\n",
              "      <th>1</th>\n",
              "      <td>1</td>\n",
              "      <td>La palabra \"haiga\", aceptada por la RAE La Rea...</td>\n",
              "      <td>el palabra haigar aceptado por el rae el real ...</td>\n",
              "      <td>palabra haigar aceptado rae real academia leng...</td>\n",
              "    </tr>\n",
              "    <tr>\n",
              "      <th>2</th>\n",
              "      <td>1</td>\n",
              "      <td>YORDI ROSADO ESCRIBIRÁ Y DISEÑARÁ LOS NUEVOS L...</td>\n",
              "      <td>yordi rosado escribir y diseñar el nuevo libro...</td>\n",
              "      <td>yordi rosado escribir diseñar nuevo libro text...</td>\n",
              "    </tr>\n",
              "    <tr>\n",
              "      <th>3</th>\n",
              "      <td>0</td>\n",
              "      <td>UNAM capacitará a maestros para aprobar prueba...</td>\n",
              "      <td>unam capacitar a maestro para aprobar prueba p...</td>\n",
              "      <td>unam capacitar maestro aprobar prueba pis maxi...</td>\n",
              "    </tr>\n",
              "    <tr>\n",
              "      <th>4</th>\n",
              "      <td>1</td>\n",
              "      <td>Alerta: pretenden aprobar libros escolares con...</td>\n",
              "      <td>alerta pretender aprobar libro escolar con con...</td>\n",
              "      <td>alerta pretender aprobar libro escolar conteni...</td>\n",
              "    </tr>\n",
              "    <tr>\n",
              "      <th>...</th>\n",
              "      <td>...</td>\n",
              "      <td>...</td>\n",
              "      <td>...</td>\n",
              "      <td>...</td>\n",
              "    </tr>\n",
              "    <tr>\n",
              "      <th>1995</th>\n",
              "      <td>0</td>\n",
              "      <td>El Consejo de Gobierno ha dado su visto bueno...</td>\n",
              "      <td>el consejo de gobierno haber dar su visto buen...</td>\n",
              "      <td>consejo gobierno dado visto bueno convocatoria...</td>\n",
              "    </tr>\n",
              "    <tr>\n",
              "      <th>1996</th>\n",
              "      <td>0</td>\n",
              "      <td>Investigadores valencianos han desarrollado u...</td>\n",
              "      <td>investigador valenciano haber desarrollar uno ...</td>\n",
              "      <td>investigador valenciano desarrollado innovador...</td>\n",
              "    </tr>\n",
              "    <tr>\n",
              "      <th>1997</th>\n",
              "      <td>0</td>\n",
              "      <td>Los arrestados actuaban en coches y en establ...</td>\n",
              "      <td>el arrestado actuar en coche y en establecimie...</td>\n",
              "      <td>arrestado actuar coche establecimiento policia...</td>\n",
              "    </tr>\n",
              "    <tr>\n",
              "      <th>1998</th>\n",
              "      <td>0</td>\n",
              "      <td>El Rey ha encargado este miércoles a Pedro Sá...</td>\n",
              "      <td>el rey haber encargar este miercoles a pedro s...</td>\n",
              "      <td>rey encargado miercoles pedro sanchez presente...</td>\n",
              "    </tr>\n",
              "    <tr>\n",
              "      <th>1999</th>\n",
              "      <td>0</td>\n",
              "      <td>Las pruebas realizadas en el Centro Nacional ...</td>\n",
              "      <td>el prueba realizado en el centro nacional de m...</td>\n",
              "      <td>prueba realizado centro nacional microbiologia...</td>\n",
              "    </tr>\n",
              "  </tbody>\n",
              "</table>\n",
              "<p>2971 rows × 4 columns</p>\n",
              "</div>"
            ],
            "text/plain": [
              "     Category  ...                                        final_clean\n",
              "0           1  ...  rae incluir palabra lady diccionario idioma es...\n",
              "1           1  ...  palabra haigar aceptado rae real academia leng...\n",
              "2           1  ...  yordi rosado escribir diseñar nuevo libro text...\n",
              "3           0  ...  unam capacitar maestro aprobar prueba pis maxi...\n",
              "4           1  ...  alerta pretender aprobar libro escolar conteni...\n",
              "...       ...  ...                                                ...\n",
              "1995        0  ...  consejo gobierno dado visto bueno convocatoria...\n",
              "1996        0  ...  investigador valenciano desarrollado innovador...\n",
              "1997        0  ...  arrestado actuar coche establecimiento policia...\n",
              "1998        0  ...  rey encargado miercoles pedro sanchez presente...\n",
              "1999        0  ...  prueba realizado centro nacional microbiologia...\n",
              "\n",
              "[2971 rows x 4 columns]"
            ]
          },
          "metadata": {},
          "execution_count": 169
        }
      ]
    },
    {
      "cell_type": "markdown",
      "source": [
        "*SAVE .CSV*"
      ],
      "metadata": {
        "id": "MfZD9VJ3wo49"
      }
    },
    {
      "cell_type": "code",
      "metadata": {
        "id": "PYUGifJ0GzdO"
      },
      "source": [
        "datasets.to_csv('Spanish_merged_dataa.csv')"
      ],
      "execution_count": null,
      "outputs": []
    },
    {
      "cell_type": "code",
      "metadata": {
        "id": "-wQrQXnl5rTv",
        "colab": {
          "base_uri": "https://localhost:8080/",
          "height": 596
        },
        "outputId": "ced7282a-3ebc-48b0-f1d8-7656797c40a0"
      },
      "source": [
        "datasets"
      ],
      "execution_count": null,
      "outputs": [
        {
          "output_type": "execute_result",
          "data": {
            "text/html": [
              "<div>\n",
              "<style scoped>\n",
              "    .dataframe tbody tr th:only-of-type {\n",
              "        vertical-align: middle;\n",
              "    }\n",
              "\n",
              "    .dataframe tbody tr th {\n",
              "        vertical-align: top;\n",
              "    }\n",
              "\n",
              "    .dataframe thead th {\n",
              "        text-align: right;\n",
              "    }\n",
              "</style>\n",
              "<table border=\"1\" class=\"dataframe\">\n",
              "  <thead>\n",
              "    <tr style=\"text-align: right;\">\n",
              "      <th></th>\n",
              "      <th>Category</th>\n",
              "      <th>Text</th>\n",
              "      <th>clean_with_stopwords</th>\n",
              "      <th>final_clean</th>\n",
              "    </tr>\n",
              "  </thead>\n",
              "  <tbody>\n",
              "    <tr>\n",
              "      <th>0</th>\n",
              "      <td>1</td>\n",
              "      <td>RAE INCLUIRÁ LA PALABRA \"LADY\" EN EL DICCIONAR...</td>\n",
              "      <td>rae incluir el palabra lady en el diccionario ...</td>\n",
              "      <td>rae incluir palabra lady diccionario idioma es...</td>\n",
              "    </tr>\n",
              "    <tr>\n",
              "      <th>1</th>\n",
              "      <td>1</td>\n",
              "      <td>La palabra \"haiga\", aceptada por la RAE La Rea...</td>\n",
              "      <td>el palabra haigar aceptado por el rae el real ...</td>\n",
              "      <td>palabra haigar aceptado rae real academia leng...</td>\n",
              "    </tr>\n",
              "    <tr>\n",
              "      <th>2</th>\n",
              "      <td>1</td>\n",
              "      <td>YORDI ROSADO ESCRIBIRÁ Y DISEÑARÁ LOS NUEVOS L...</td>\n",
              "      <td>yordi rosado escribir y diseñar el nuevo libro...</td>\n",
              "      <td>yordi rosado escribir diseñar nuevo libro text...</td>\n",
              "    </tr>\n",
              "    <tr>\n",
              "      <th>3</th>\n",
              "      <td>0</td>\n",
              "      <td>UNAM capacitará a maestros para aprobar prueba...</td>\n",
              "      <td>unam capacitar a maestro para aprobar prueba p...</td>\n",
              "      <td>unam capacitar maestro aprobar prueba pis maxi...</td>\n",
              "    </tr>\n",
              "    <tr>\n",
              "      <th>4</th>\n",
              "      <td>1</td>\n",
              "      <td>Alerta: pretenden aprobar libros escolares con...</td>\n",
              "      <td>alerta pretender aprobar libro escolar con con...</td>\n",
              "      <td>alerta pretender aprobar libro escolar conteni...</td>\n",
              "    </tr>\n",
              "    <tr>\n",
              "      <th>...</th>\n",
              "      <td>...</td>\n",
              "      <td>...</td>\n",
              "      <td>...</td>\n",
              "      <td>...</td>\n",
              "    </tr>\n",
              "    <tr>\n",
              "      <th>1995</th>\n",
              "      <td>0</td>\n",
              "      <td>El Consejo de Gobierno ha dado su visto bueno...</td>\n",
              "      <td>el consejo de gobierno haber dar su visto buen...</td>\n",
              "      <td>consejo gobierno haber dar visto bueno convoca...</td>\n",
              "    </tr>\n",
              "    <tr>\n",
              "      <th>1996</th>\n",
              "      <td>0</td>\n",
              "      <td>Investigadores valencianos han desarrollado u...</td>\n",
              "      <td>investigador valenciano haber desarrollar uno ...</td>\n",
              "      <td>investigador valenciano haber desarrollar inno...</td>\n",
              "    </tr>\n",
              "    <tr>\n",
              "      <th>1997</th>\n",
              "      <td>0</td>\n",
              "      <td>Los arrestados actuaban en coches y en establ...</td>\n",
              "      <td>el arrestado actuar en coche y en establecimie...</td>\n",
              "      <td>arrestado actuar coche establecimiento policia...</td>\n",
              "    </tr>\n",
              "    <tr>\n",
              "      <th>1998</th>\n",
              "      <td>0</td>\n",
              "      <td>El Rey ha encargado este miércoles a Pedro Sá...</td>\n",
              "      <td>el rey haber encargar este miercoles a pedro s...</td>\n",
              "      <td>rey haber encargar miercoles pedro sanchez pre...</td>\n",
              "    </tr>\n",
              "    <tr>\n",
              "      <th>1999</th>\n",
              "      <td>0</td>\n",
              "      <td>Las pruebas realizadas en el Centro Nacional ...</td>\n",
              "      <td>el prueba realizado en el centro nacional de m...</td>\n",
              "      <td>prueba realizado centro nacional microbiologia...</td>\n",
              "    </tr>\n",
              "  </tbody>\n",
              "</table>\n",
              "<p>2971 rows × 4 columns</p>\n",
              "</div>"
            ],
            "text/plain": [
              "     Category  ...                                        final_clean\n",
              "0           1  ...  rae incluir palabra lady diccionario idioma es...\n",
              "1           1  ...  palabra haigar aceptado rae real academia leng...\n",
              "2           1  ...  yordi rosado escribir diseñar nuevo libro text...\n",
              "3           0  ...  unam capacitar maestro aprobar prueba pis maxi...\n",
              "4           1  ...  alerta pretender aprobar libro escolar conteni...\n",
              "...       ...  ...                                                ...\n",
              "1995        0  ...  consejo gobierno haber dar visto bueno convoca...\n",
              "1996        0  ...  investigador valenciano haber desarrollar inno...\n",
              "1997        0  ...  arrestado actuar coche establecimiento policia...\n",
              "1998        0  ...  rey haber encargar miercoles pedro sanchez pre...\n",
              "1999        0  ...  prueba realizado centro nacional microbiologia...\n",
              "\n",
              "[2971 rows x 4 columns]"
            ]
          },
          "metadata": {},
          "execution_count": 177
        }
      ]
    },
    {
      "cell_type": "markdown",
      "source": [
        "*NUMBER OF FAKE AND TRUE ARTICLES IN THE DATASET*"
      ],
      "metadata": {
        "id": "2sleDRQQwuYm"
      }
    },
    {
      "cell_type": "code",
      "metadata": {
        "colab": {
          "base_uri": "https://localhost:8080/"
        },
        "id": "aLT--21kaoVB",
        "outputId": "76fdbca8-6940-4d78-ad16-01e51a123eab"
      },
      "source": [
        "datasets['Category'].value_counts()"
      ],
      "execution_count": null,
      "outputs": [
        {
          "output_type": "execute_result",
          "data": {
            "text/plain": [
              "0    1491\n",
              "1    1480\n",
              "Name: Category, dtype: int64"
            ]
          },
          "metadata": {},
          "execution_count": 172
        }
      ]
    },
    {
      "cell_type": "code",
      "metadata": {
        "id": "AGluwUXGN0NF"
      },
      "source": [
        "complete_corpus=\" \".join(list(data['final_clean'].values)) "
      ],
      "execution_count": null,
      "outputs": []
    },
    {
      "cell_type": "code",
      "metadata": {
        "id": "Tw3AGBAkbmUY",
        "colab": {
          "base_uri": "https://localhost:8080/"
        },
        "outputId": "1dd8b838-bf8e-4644-8b41-b9d9a2b6fa66"
      },
      "source": [
        "import nltk\n",
        "nltk.download('punkt')"
      ],
      "execution_count": null,
      "outputs": [
        {
          "output_type": "stream",
          "name": "stdout",
          "text": [
            "[nltk_data] Downloading package punkt to /root/nltk_data...\n",
            "[nltk_data]   Package punkt is already up-to-date!\n"
          ]
        },
        {
          "output_type": "execute_result",
          "data": {
            "text/plain": [
              "True"
            ]
          },
          "metadata": {},
          "execution_count": 39
        }
      ]
    },
    {
      "cell_type": "markdown",
      "source": [
        "*TOTAL NUMBER OF WORDS*"
      ],
      "metadata": {
        "id": "2KsgSQPcwxlL"
      }
    },
    {
      "cell_type": "code",
      "metadata": {
        "id": "-Il0_PH7N0NG",
        "colab": {
          "base_uri": "https://localhost:8080/"
        },
        "outputId": "d3e3779d-c1b8-4515-c905-69258854c1c8"
      },
      "source": [
        "total_words=len(nltk.word_tokenize(complete_corpus))\n",
        "total_words"
      ],
      "execution_count": null,
      "outputs": [
        {
          "output_type": "execute_result",
          "data": {
            "text/plain": [
              "239951"
            ]
          },
          "metadata": {},
          "execution_count": 40
        }
      ]
    },
    {
      "cell_type": "markdown",
      "source": [
        "*TOTAL NUMBER OFCHARACTERS PER ARTICLE*"
      ],
      "metadata": {
        "id": "q_MiAGq8w0Ts"
      }
    },
    {
      "cell_type": "code",
      "source": [
        "data['final_clean'].str.len()"
      ],
      "metadata": {
        "colab": {
          "base_uri": "https://localhost:8080/"
        },
        "id": "Sul2Hdm8g2Xk",
        "outputId": "618085f2-4c0d-4268-a5a9-7f8b8810d242"
      },
      "execution_count": null,
      "outputs": [
        {
          "output_type": "execute_result",
          "data": {
            "text/plain": [
              "0       1759\n",
              "1        705\n",
              "2       1672\n",
              "3        766\n",
              "4       3674\n",
              "        ... \n",
              "2966     160\n",
              "2967     182\n",
              "2968     155\n",
              "2969     188\n",
              "2970     189\n",
              "Name: final_clean, Length: 2971, dtype: int64"
            ]
          },
          "metadata": {},
          "execution_count": 47
        }
      ]
    },
    {
      "cell_type": "markdown",
      "source": [
        "*MEAN OF WORDS PER ARTICLE*"
      ],
      "metadata": {
        "id": "BqWBkTbQw5QA"
      }
    },
    {
      "cell_type": "code",
      "metadata": {
        "id": "cnHDKKi0P7t-"
      },
      "source": [
        "from nltk import word_tokenize\n",
        "data['Text_tokenised'] = data['final_clean'].apply(word_tokenize)"
      ],
      "execution_count": null,
      "outputs": []
    },
    {
      "cell_type": "code",
      "metadata": {
        "id": "mu6MfP9qQTfc"
      },
      "source": [
        "data['length'] = data['Text_tokenised'].str.len()"
      ],
      "execution_count": null,
      "outputs": []
    },
    {
      "cell_type": "code",
      "metadata": {
        "id": "y76T6owJQTmd"
      },
      "source": [
        "maxlen = data['length'].mean()"
      ],
      "execution_count": null,
      "outputs": []
    },
    {
      "cell_type": "code",
      "source": [
        "maxlen"
      ],
      "metadata": {
        "colab": {
          "base_uri": "https://localhost:8080/"
        },
        "id": "5fPXQc7ymUiP",
        "outputId": "5c87162f-a36e-4816-f9e9-b777bc370c33"
      },
      "execution_count": null,
      "outputs": [
        {
          "output_type": "execute_result",
          "data": {
            "text/plain": [
              "80.76438909458095"
            ]
          },
          "metadata": {},
          "execution_count": 51
        }
      ]
    }
  ]
}